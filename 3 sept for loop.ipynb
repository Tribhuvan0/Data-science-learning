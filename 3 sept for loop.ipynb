{
 "cells": [
  {
   "cell_type": "markdown",
   "id": "40f71ff2-2516-44a6-8f75-e71f182cec78",
   "metadata": {},
   "source": [
    "Basic Level:\n",
    "1. Write a Python program to print the numbers from 1 to 10 using a `for` loop.\n"
   ]
  },
  {
   "cell_type": "code",
   "execution_count": 2,
   "id": "891bcbb6-d077-47c5-be38-fd7b506b2cad",
   "metadata": {},
   "outputs": [
    {
     "name": "stdin",
     "output_type": "stream",
     "text": [
      "Enter the number till you want number 10\n"
     ]
    },
    {
     "name": "stdout",
     "output_type": "stream",
     "text": [
      "The numbers are: [1, 2, 3, 4, 5, 6, 7, 8, 9, 10]\n"
     ]
    }
   ],
   "source": [
    "#function takes n as input and returns a list with numbers from 1 to n\n",
    "def nums(n):\n",
    "    l = [] # creating an empty list to store number\n",
    "    for i in range(1,n+1):\n",
    "        l.append(i)\n",
    "    return l\n",
    "\n",
    "#Taking n as input\n",
    "n = int(input(\"Enter the number till you want number\"))\n",
    "\n",
    "#print the output\n",
    "print(\"The numbers are: {}\".format(nums(n)))"
   ]
  },
  {
   "cell_type": "markdown",
   "id": "810783e2-79c8-4ffc-9453-a755f804b980",
   "metadata": {},
   "source": [
    "2. Create a program that calculates the sum of all numbers in a list using a `for` loop.\n"
   ]
  },
  {
   "cell_type": "code",
   "execution_count": 4,
   "id": "91ecb1c6-e130-471d-b524-b2921f276adc",
   "metadata": {},
   "outputs": [
    {
     "name": "stdout",
     "output_type": "stream",
     "text": [
      "The sum is: 118\n"
     ]
    }
   ],
   "source": [
    "#function takes list as input and returns a sum of numbers \n",
    "def sums(n):\n",
    "    addition = 0\n",
    "    for i in n:\n",
    "        addition += i\n",
    "    return addition\n",
    "\n",
    "#Taking list as input\n",
    "n = [1,2,3,4,5,6,7,90]\n",
    "\n",
    "#print the output\n",
    "print(\"The sum is: {}\".format(sums(n)))"
   ]
  },
  {
   "cell_type": "markdown",
   "id": "b57e499f-ff01-4171-915d-b05eb84b83e9",
   "metadata": {},
   "source": [
    "3. Write a program to print the characters of a string in reverse order using a `for` loop.\n"
   ]
  },
  {
   "cell_type": "code",
   "execution_count": 6,
   "id": "5654d626-f375-4b7b-add9-cbf96c7e4704",
   "metadata": {},
   "outputs": [
    {
     "name": "stdin",
     "output_type": "stream",
     "text": [
      "Enter the string you want to reverse Hi how are you\n"
     ]
    },
    {
     "name": "stdout",
     "output_type": "stream",
     "text": [
      "The reversed string is: uoy era woh iH\n"
     ]
    }
   ],
   "source": [
    "#function takes string as in put and returns its reverse\n",
    "def rev_string(string):\n",
    "    s = ''\n",
    "    for i in string:\n",
    "        s = i + s\n",
    "    return s\n",
    "\n",
    "#taking input form user\n",
    "string = input(\"Enter the string you want to reverse\")\n",
    "\n",
    "#printing the result\n",
    "print(\"The reversed string is: {}\".format(rev_string(string)))"
   ]
  },
  {
   "cell_type": "markdown",
   "id": "75f427df-bac9-4237-a2c5-c87d12a90dfd",
   "metadata": {},
   "source": [
    "4. Develop a program that finds the factorial of a given number using a `for` loop.\n"
   ]
  },
  {
   "cell_type": "code",
   "execution_count": 9,
   "id": "1753a17f-c820-4aa8-b04b-b7e647d55f61",
   "metadata": {},
   "outputs": [
    {
     "name": "stdin",
     "output_type": "stream",
     "text": [
      "Enter the number till which you want factorial: 5\n"
     ]
    },
    {
     "name": "stdout",
     "output_type": "stream",
     "text": [
      "The factorial is: 120\n"
     ]
    }
   ],
   "source": [
    "#function takes num as input and returns factorial of that number\n",
    "def fact(num):\n",
    "    fac = 1\n",
    "    for i in range(1,num+1):\n",
    "        fac = fac*i\n",
    "    return fac\n",
    "\n",
    "#taking input form user\n",
    "num = int(input(\"Enter the number till which you want factorial:\"))\n",
    "\n",
    "#printing the result\n",
    "print(\"The factorial is: {}\".format(fact(num)))"
   ]
  },
  {
   "cell_type": "markdown",
   "id": "df64425c-5432-41fe-b0b2-aa8c7ceae185",
   "metadata": {},
   "source": [
    "5. Create a program to print the multiplication table of a given number using a `for` loop.\n"
   ]
  },
  {
   "cell_type": "code",
   "execution_count": 17,
   "id": "41752ff3-e6e3-4e5f-9a4e-17a7bba516fd",
   "metadata": {},
   "outputs": [
    {
     "name": "stdin",
     "output_type": "stream",
     "text": [
      "Enter the number whose table you want: 9\n"
     ]
    },
    {
     "name": "stdout",
     "output_type": "stream",
     "text": [
      "The table is: [9, 18, 27, 36, 45, 54, 63, 72, 81, 90]\n"
     ]
    }
   ],
   "source": [
    "#function takes num as input and returns table of that number\n",
    "def mult(num):\n",
    "    l = []\n",
    "    for i in range(1,11):\n",
    "        a = num*i\n",
    "        l.append(a)\n",
    "    return l\n",
    "\n",
    "#taking input form user\n",
    "num = int(input(\"Enter the number whose table you want:\"))\n",
    "\n",
    "#printing the result\n",
    "print(\"The table is: {}\".format(mult(num)))"
   ]
  },
  {
   "cell_type": "markdown",
   "id": "b7cb2015-43a1-4476-9cd6-01ff63030c91",
   "metadata": {},
   "source": [
    "6. Write a program that counts the number of even and odd numbers in a list using a `for` loop.\n"
   ]
  },
  {
   "cell_type": "code",
   "execution_count": 19,
   "id": "a25e672a-57b9-4cc5-8b6c-471de0259304",
   "metadata": {},
   "outputs": [
    {
     "name": "stdout",
     "output_type": "stream",
     "text": [
      "The number of even numbers is : 5 and number of odd numbers is: 4\n"
     ]
    }
   ],
   "source": [
    "#function takes list as input and returns the number of even and odd numbers\n",
    "def even_odd(n):\n",
    "    even = 0\n",
    "    odd = 0\n",
    "    for i in n:\n",
    "        if i%2==0:\n",
    "            even += 1\n",
    "        else:\n",
    "            odd += 1\n",
    "    return even,odd\n",
    "\n",
    "#Taking list as input\n",
    "n = [1,2,3,4,5,6,7,90,100]\n",
    "\n",
    "#print the output\n",
    "print(\"The number of even numbers is : {} and number of odd numbers is: {}\".format(even_odd(n)[0], even_odd(n)[1]))"
   ]
  },
  {
   "cell_type": "markdown",
   "id": "df4c4c13-a874-4b57-becd-b7ed06ce2ab2",
   "metadata": {},
   "source": [
    "7. Develop a program that prints the squares of numbers from 1 to 5 using a `for` loop.\n"
   ]
  },
  {
   "cell_type": "code",
   "execution_count": 26,
   "id": "db95147e-1129-4733-b809-7cb1d5a5c0b0",
   "metadata": {},
   "outputs": [
    {
     "name": "stdin",
     "output_type": "stream",
     "text": [
      "Enter the number till you want squares 5\n"
     ]
    },
    {
     "name": "stdout",
     "output_type": "stream",
     "text": [
      "The list with squares is: [1, 4, 9, 16, 25]\n"
     ]
    }
   ],
   "source": [
    "# a function takes a number n and squares them and appends them to a list\n",
    "def squares(n):\n",
    "    l = []\n",
    "    for i in range(1,n+1):\n",
    "        l.append(i**2)\n",
    "    return l\n",
    "\n",
    "#taking input from user\n",
    "n = int(input(\"Enter the number till you want squares\"))\n",
    "\n",
    "#priniting the output\n",
    "print(\"The list with squares is:\",squares(n))"
   ]
  },
  {
   "cell_type": "markdown",
   "id": "23f34109-c769-4380-b72b-3b1735c1c75e",
   "metadata": {},
   "source": [
    "8. Create a program to find the length of a string without using the `len()` function.\n"
   ]
  },
  {
   "cell_type": "code",
   "execution_count": 28,
   "id": "dab708c7-e1f4-44d7-b68b-05e8dbecd111",
   "metadata": {},
   "outputs": [
    {
     "name": "stdin",
     "output_type": "stream",
     "text": [
      "Enter the string whose length you want Hi, how are you\n"
     ]
    },
    {
     "name": "stdout",
     "output_type": "stream",
     "text": [
      "The length of string is 15\n"
     ]
    }
   ],
   "source": [
    "#function takes string as input and counts its charactes and return sthe number\n",
    "def length(string):\n",
    "    l = 0\n",
    "    for i in range(len(string)):\n",
    "        l += 1\n",
    "    return l\n",
    "\n",
    "#taking input form user\n",
    "string = input(\"Enter the string whose length you want\")\n",
    "\n",
    "#printing the result\n",
    "print(\"The length of string is\",length(string))"
   ]
  },
  {
   "cell_type": "markdown",
   "id": "59a02095-be18-4e5c-8709-0e75ed1421c8",
   "metadata": {},
   "source": [
    "9. Write a program that calculates the average of a list of numbers using a `for` loop.\n"
   ]
  },
  {
   "cell_type": "code",
   "execution_count": 30,
   "id": "146383d9-9063-44ee-9d2b-d9314ac63bba",
   "metadata": {},
   "outputs": [
    {
     "name": "stdout",
     "output_type": "stream",
     "text": [
      "The average of list is: 4.5\n"
     ]
    }
   ],
   "source": [
    "#function takes a list as input and returns its avergae\n",
    "def average(n):\n",
    "    sums = 0\n",
    "    for i in n:\n",
    "        sums += i\n",
    "    return sums/len(n)\n",
    "\n",
    "#taking input as list\n",
    "n = [1,2,3,4,5,6,7,8]\n",
    "\n",
    "#printing the output\n",
    "print(\"The average of list is:\", average(n))"
   ]
  },
  {
   "cell_type": "markdown",
   "id": "a0ed60a8-def5-46ea-a9d0-4966f2445f2c",
   "metadata": {},
   "source": [
    "10. Develop a program that prints the first `n` Fibonacci numbers using a `for` loop."
   ]
  },
  {
   "cell_type": "code",
   "execution_count": 39,
   "id": "7af1775d-ab02-4517-a585-a937a881712f",
   "metadata": {},
   "outputs": [
    {
     "name": "stdin",
     "output_type": "stream",
     "text": [
      "Enter the number till which you want fibo series 10\n"
     ]
    },
    {
     "name": "stdout",
     "output_type": "stream",
     "text": [
      "The series is:  [0, 1, 1, 2, 3, 5, 8, 13, 21, 34]\n"
     ]
    }
   ],
   "source": [
    "#function takes n as input and prints fibonacci number till the number\n",
    "def fibo(n):\n",
    "    a = 0\n",
    "    b = 1\n",
    "    l = [0,1]\n",
    "    for i in range(0,n-2):\n",
    "        a,b = b,a+b\n",
    "        l.append(b)\n",
    "    return l\n",
    "\n",
    "#taking input form user\n",
    "n = int(input(\"Enter the number till which you want fibo series\"))\n",
    "\n",
    "#prinitng the output\n",
    "print(\"The series is: \", fibo(n))"
   ]
  },
  {
   "cell_type": "markdown",
   "id": "89a64a22-12df-44fe-86d0-bb6f3d5a42dd",
   "metadata": {},
   "source": [
    "Intermediate Level:\n"
   ]
  },
  {
   "cell_type": "markdown",
   "id": "39819384-810b-44f1-ab03-4d2d04855abc",
   "metadata": {},
   "source": [
    "11. Write a program to check if a given list contains any duplicates using a `for` loop.\n"
   ]
  },
  {
   "cell_type": "code",
   "execution_count": 51,
   "id": "e123190e-2f21-4702-942d-4d084cf25828",
   "metadata": {},
   "outputs": [
    {
     "name": "stdout",
     "output_type": "stream",
     "text": [
      "List contains duplicates: True\n"
     ]
    }
   ],
   "source": [
    "#function takes list as input and returns True is duplicate is found\n",
    "def check_duplicates(lst):\n",
    "    c = 0\n",
    "    for i in range(len(lst)):\n",
    "        for j in range(i+1,len(lst)):\n",
    "            if lst[i] == lst[j]:\n",
    "                c +=1\n",
    "            else:\n",
    "                continue\n",
    "    return c\n",
    "\n",
    "lst = [1,2,3,4,5,6,7,7]\n",
    "\n",
    "print(\"List contains duplicates:\", bool(check_duplicates(lst)))"
   ]
  },
  {
   "cell_type": "markdown",
   "id": "28b179ba-c6a9-4bee-8f31-84c06f316245",
   "metadata": {},
   "source": [
    "12. Create a program that prints the prime numbers in a given range using a `for` loop.\n"
   ]
  },
  {
   "cell_type": "code",
   "execution_count": 65,
   "id": "87199eae-cda7-4d84-accf-e0b4ca79b3e0",
   "metadata": {},
   "outputs": [
    {
     "name": "stdin",
     "output_type": "stream",
     "text": [
      "Enter the number till which you want prime numbers 80\n"
     ]
    },
    {
     "name": "stdout",
     "output_type": "stream",
     "text": [
      "[2, 3, 5, 7, 11, 13, 17, 19, 23, 29, 31, 37, 41, 43, 47, 53, 59, 61, 67, 71, 73, 79]\n"
     ]
    }
   ],
   "source": [
    "#function that takes n as input and prints prime umbers in 0 to n \n",
    "def prime_num(n):\n",
    "    l = []\n",
    "    for i in range(2,n):\n",
    "        for j in range(2, i):\n",
    "            if i % j == 0:\n",
    "                break\n",
    "        else:\n",
    "            l.append(i)\n",
    "    return l\n",
    "\n",
    "#taking n from user\n",
    "n = int(input(\"Enter the number till which you want prime numbers\"))\n",
    "\n",
    "#output is\n",
    "print(prime_num(n))"
   ]
  },
  {
   "cell_type": "markdown",
   "id": "8b972e73-4f27-4465-a4f4-b47f9d0a6c97",
   "metadata": {},
   "source": [
    "13. Develop a program that counts the number of vowels in a string using a `for` loop.\n"
   ]
  },
  {
   "cell_type": "code",
   "execution_count": 67,
   "id": "777c4cf0-0689-4bbd-8605-dfcb775b674f",
   "metadata": {},
   "outputs": [
    {
     "name": "stdin",
     "output_type": "stream",
     "text": [
      "Enter the string you want to check for:  Hi, how are you\n"
     ]
    },
    {
     "name": "stdout",
     "output_type": "stream",
     "text": [
      "Number of vowels is:  6\n"
     ]
    }
   ],
   "source": [
    "#function takes string as input and returns the number of vowels\n",
    "def count_vowel(string):\n",
    "    c = 0\n",
    "    string = string.lower()\n",
    "    vowels = ['a','e','i','o','u']\n",
    "    for i in string:\n",
    "        if i in vowels:\n",
    "            c += 1\n",
    "    return c\n",
    "\n",
    "#taking input as string from user\n",
    "string = input(\"Enter the string you want to check for: \")\n",
    "\n",
    "#print the result\n",
    "print(\"Number of vowels is: \",count_vowel(string))"
   ]
  },
  {
   "cell_type": "markdown",
   "id": "71c68b05-f1ab-4cab-a361-b482d1812286",
   "metadata": {},
   "source": [
    "14. Write a program to find the maximum element in a 2D list using a nested `for` loop.\n"
   ]
  },
  {
   "cell_type": "code",
   "execution_count": 70,
   "id": "273788e8-370b-455e-a316-d71bf527f5f6",
   "metadata": {},
   "outputs": [
    {
     "name": "stdout",
     "output_type": "stream",
     "text": [
      "Maximum element is:  15\n"
     ]
    }
   ],
   "source": [
    "# function takes 2d list as input and by using nested for loop returns the largest element\n",
    "def max_element(lst):\n",
    "    maxi = 0\n",
    "    for i in range(len(lst)):\n",
    "        for j in range(len(lst[i])):\n",
    "            if lst[i][j] > maxi:\n",
    "                maxi = lst[i][j]\n",
    "    return maxi\n",
    "\n",
    "#taking 2d list\n",
    "lst = [[1,2,3],[4,15,6],[7,8,9]]\n",
    "\n",
    "#printing the output\n",
    "print(\"Maximum element is: \", max_element(lst))"
   ]
  },
  {
   "cell_type": "markdown",
   "id": "2ee76583-3152-404a-a8fd-6531c2924898",
   "metadata": {},
   "source": [
    "15. Create a program that removes all occurrences of a specific element from a list using a `for` loop.\n"
   ]
  },
  {
   "cell_type": "code",
   "execution_count": 73,
   "id": "e376327d-b9f3-4d7b-8aa1-0945e81f28a3",
   "metadata": {},
   "outputs": [
    {
     "name": "stdout",
     "output_type": "stream",
     "text": [
      "Updates list is: ['a', 'b', 'c', 'd', 'f', 'g', 'h', 't']\n"
     ]
    }
   ],
   "source": [
    "#function tales list and element as input and returns the new list\n",
    "def rem_occu(lst, element):\n",
    "    l = []\n",
    "    for i in lst:\n",
    "        if i!= element:\n",
    "            l.append(i)\n",
    "    return l\n",
    "\n",
    "#taking list as input\n",
    "lst = ['a','b','c','d','e','f','g','h','e','t','e']\n",
    "\n",
    "#returning the result\n",
    "print(\"Updates list is:\", rem_occu(lst,'e'))"
   ]
  },
  {
   "cell_type": "markdown",
   "id": "01e75688-6831-4cf2-9078-f0e14335a09f",
   "metadata": {},
   "source": [
    "16. Develop a program that generates a multiplication table for numbers from 1 to 5 using a nested `for` loop.\n"
   ]
  },
  {
   "cell_type": "code",
   "execution_count": 6,
   "id": "b9d1924e-60b9-4108-bef9-55d06d11984e",
   "metadata": {},
   "outputs": [
    {
     "data": {
      "text/plain": [
       "[[1, 2, 3, 4, 5, 6, 7, 8, 9, 10],\n",
       " [2, 4, 6, 8, 10, 12, 14, 16, 18, 20],\n",
       " [3, 6, 9, 12, 15, 18, 21, 24, 27, 30],\n",
       " [4, 8, 12, 16, 20, 24, 28, 32, 36, 40],\n",
       " [5, 10, 15, 20, 25, 30, 35, 40, 45, 50]]"
      ]
     },
     "execution_count": 6,
     "metadata": {},
     "output_type": "execute_result"
    }
   ],
   "source": [
    "#function takes two numbers and append tables of the numbers between them to the list\n",
    "def multi_table(first_num, last_num):\n",
    "    lst = []\n",
    "    for i in range(first_num, last_num+1):\n",
    "        l = []\n",
    "        for j in range(1,11):\n",
    "            l.append(i*j)\n",
    "        lst.append(l)\n",
    "    return lst\n",
    "\n",
    "#taking input\n",
    "first_num = 1\n",
    "last_num = 5\n",
    "\n",
    "#printing the output\n",
    "multi_table(1,5)"
   ]
  },
  {
   "cell_type": "markdown",
   "id": "ec34280b-9eb8-4077-a15f-e7c6f8356203",
   "metadata": {},
   "source": [
    "17. Write a program that converts a list of Fahrenheit temperatures to Celsius using a `for` loop.\n"
   ]
  },
  {
   "cell_type": "code",
   "execution_count": 7,
   "id": "dbc9ef9f-5018-4b9a-911f-8f5f06d94a3b",
   "metadata": {},
   "outputs": [
    {
     "name": "stdout",
     "output_type": "stream",
     "text": [
      "The tempreature in fahrenheit is: ['37.78', '37.22', '36.67', '36.11']\n"
     ]
    }
   ],
   "source": [
    "#function takes list as input and returns a list with tempratures in celcius\n",
    "def fahren_to_celcius(lst):\n",
    "    celcius = []\n",
    "    for i in lst:\n",
    "        celcius.append(\"%.2f\" %((i - 32)*5/9)) #formatting the float values\n",
    "    return celcius\n",
    "\n",
    "#taking input\n",
    "lst = [100,99,98,97]\n",
    "\n",
    "#printing the output\n",
    "print(\"The tempreature in fahrenheit is:\", fahren_to_celcius(lst))"
   ]
  },
  {
   "cell_type": "markdown",
   "id": "89a459cb-3ad1-4b60-a1de-5af45b9ae260",
   "metadata": {},
   "source": [
    "18. Create a program to print the common elements from two lists using a `for` loop.\n"
   ]
  },
  {
   "cell_type": "code",
   "execution_count": 8,
   "id": "c0fdf7bb-63f5-4767-9b54-b2a4a888b393",
   "metadata": {},
   "outputs": [
    {
     "name": "stdout",
     "output_type": "stream",
     "text": [
      "The common elements are: [3, 4]\n"
     ]
    }
   ],
   "source": [
    "#function takes two lists as input and returns a list with common values\n",
    "def common_vals(lst1, lst2):\n",
    "    l = []\n",
    "    for i in lst1:\n",
    "        if i in lst2:\n",
    "            l.append(i)\n",
    "    return l\n",
    "\n",
    "#taking two lists as input\n",
    "lst1 = [1,2,3,4,5,6]\n",
    "lst2 = [11,12,3,4,15]\n",
    "\n",
    "#printing the result\n",
    "print(\"The common elements are:\", common_vals(lst1, lst2))"
   ]
  },
  {
   "cell_type": "markdown",
   "id": "aa4deced-5ef8-4db2-9d86-39612a442bc5",
   "metadata": {},
   "source": [
    "19. Develop a program that prints the pattern of right-angled triangles using a `for` loop. Use ‘*’ to draw the\n",
    "pattern\n"
   ]
  },
  {
   "cell_type": "code",
   "execution_count": 9,
   "id": "bba17574-0c44-4e35-9d0a-4fc098a68d9d",
   "metadata": {},
   "outputs": [
    {
     "name": "stdin",
     "output_type": "stream",
     "text": [
      "Enter row number=\n",
      " 5\n"
     ]
    },
    {
     "name": "stdout",
     "output_type": "stream",
     "text": [
      "*\n",
      "**\n",
      "***\n",
      "****\n",
      "*****\n"
     ]
    }
   ],
   "source": [
    "#taking input from user for number of rows\n",
    "x=int(input(\"Enter row number=\\n\"))\n",
    "\n",
    "#printing the right angled triangle\n",
    "for i in range(x):\n",
    "    for j in range(i+1):\n",
    "        print(\"*\",end='')\n",
    "    print(\"\")"
   ]
  },
  {
   "cell_type": "markdown",
   "id": "cffc2d09-7280-4705-a173-994d0158d9cb",
   "metadata": {},
   "source": [
    "20. Write a program to find the greatest common divisor (GCD) of two numbers using a `for` loop."
   ]
  },
  {
   "cell_type": "code",
   "execution_count": 12,
   "id": "2a8a4ad7-9c54-43a1-9a8c-ba66dd2f5370",
   "metadata": {},
   "outputs": [
    {
     "name": "stdin",
     "output_type": "stream",
     "text": [
      "Enter num 1 36\n",
      "Enter num 2 60\n"
     ]
    },
    {
     "name": "stdout",
     "output_type": "stream",
     "text": [
      "The gcd of 36 and 60 is: 12\n"
     ]
    }
   ],
   "source": [
    "#function takes num1 and num2 as input and calculates their gcd\n",
    "def gcd_of(num1,num2):\n",
    "    gcd = 0\n",
    "    for i in range(1, min(num1, num2)):\n",
    "        if num1 % i == 0 and num2 % i == 0:\n",
    "            gcd = i\n",
    "    return gcd\n",
    "\n",
    "#taking input from user\n",
    "num1 = int(input(\"Enter num 1\"))\n",
    "num2 = int(input(\"Enter num 2\"))\n",
    "\n",
    "#printing the gcd\n",
    "print(\"The gcd of {} and {} is: {}\".format(num1, num2,gcd_of(num1, num2)))"
   ]
  },
  {
   "cell_type": "markdown",
   "id": "04253401-f1c5-4d30-9800-074afdf7d0cc",
   "metadata": {},
   "source": [
    "Advanced Level:\n",
    "21. Create a program that calculates the sum of the digits of numbers in a list using a list comprehension.\n"
   ]
  },
  {
   "cell_type": "code",
   "execution_count": 30,
   "id": "f8aeddee-97d7-4333-a344-08070ac469a1",
   "metadata": {},
   "outputs": [
    {
     "data": {
      "text/plain": [
       "19"
      ]
     },
     "execution_count": 30,
     "metadata": {},
     "output_type": "execute_result"
    }
   ],
   "source": [
    "#taking a num for getting it's sum\n",
    "num = 12349\n",
    "#declaring a variable to store the sum of elements\n",
    "total = 0\n",
    "[total := total + int(x) for x in list(str(num))]\n",
    "\n",
    "#prinitng total\n",
    "total"
   ]
  },
  {
   "cell_type": "markdown",
   "id": "43184d09-adae-4011-8fb8-f5b815d11b8e",
   "metadata": {},
   "source": [
    "22. Write a program to find the prime factors of a given number using a `for` loop and list comprehension.\n"
   ]
  },
  {
   "cell_type": "code",
   "execution_count": 27,
   "id": "69fc1ef0-0f44-4eb2-af59-a2b7ddadb89d",
   "metadata": {},
   "outputs": [
    {
     "data": {
      "text/plain": [
       "[2, 3, 5, 7]"
      ]
     },
     "execution_count": 27,
     "metadata": {},
     "output_type": "execute_result"
    }
   ],
   "source": [
    "#taking the n for range\n",
    "n = 10\n",
    "#printing the result and calculating it\n",
    "[i for i in range(2,n) if all(i%j!=0 for j in range(2,int(i**0.5)+1))]"
   ]
  },
  {
   "cell_type": "markdown",
   "id": "6094915c-2101-4217-b7ed-abbcee71e9ad",
   "metadata": {},
   "source": [
    "\n",
    "23. Develop a program that extracts unique elements from a list and stores them in a new list using a list\n",
    "comprehension.\n"
   ]
  },
  {
   "cell_type": "code",
   "execution_count": 29,
   "id": "f034a059-086c-4410-94e2-fb76c73f7e5b",
   "metadata": {},
   "outputs": [
    {
     "data": {
      "text/plain": [
       "[1, 3, 4, 6]"
      ]
     },
     "execution_count": 29,
     "metadata": {},
     "output_type": "execute_result"
    }
   ],
   "source": [
    "lst = [1,2,2,3,4,5,5,6]\n",
    "[i for i in lst if lst.count(i)==1]"
   ]
  },
  {
   "cell_type": "markdown",
   "id": "aa335a49-395e-4031-8df5-524eb0ec1ddc",
   "metadata": {},
   "source": [
    "24. Create a program that generates a list of all palindromic numbers up to a specified limit using a list\n",
    "comprehension.\n"
   ]
  },
  {
   "cell_type": "code",
   "execution_count": 36,
   "id": "51cc3f8a-5274-4a65-9f6f-367275999192",
   "metadata": {},
   "outputs": [
    {
     "data": {
      "text/plain": [
       "[11, 22, 33, 44, 55, 66, 77, 88, 99]"
      ]
     },
     "execution_count": 36,
     "metadata": {},
     "output_type": "execute_result"
    }
   ],
   "source": [
    "#suppose we want to find out all two digit palindromic numbers, so we take k = 2\n",
    "k = 2\n",
    "#using string reveervse to check for palindromes\n",
    "[num for num in range(pow(10,k-1),pow(10,k)) if str(num) == str(num)[::-1]]\n"
   ]
  },
  {
   "cell_type": "markdown",
   "id": "0d392990-733e-47e2-ad8b-e04a7a382cfc",
   "metadata": {},
   "source": [
    "25. Write a program to flatten a nested list using list comprehension."
   ]
  },
  {
   "cell_type": "code",
   "execution_count": 41,
   "id": "1f4551fd-ce6e-431f-b177-2948b7f47a92",
   "metadata": {},
   "outputs": [
    {
     "data": {
      "text/plain": [
       "[1, 2, 3, 4, 5, 6, 7, 8, 9]"
      ]
     },
     "execution_count": 41,
     "metadata": {},
     "output_type": "execute_result"
    }
   ],
   "source": [
    "a = [[1,2,3],[4,5,6],[7,8,9]]\n",
    "[y for x in a for y in x]"
   ]
  },
  {
   "cell_type": "markdown",
   "id": "197764e6-e119-4d02-a328-38a91e4e4733",
   "metadata": {},
   "source": [
    "26. Develop a program that computes the sum of even and odd numbers in a list separately using list\n",
    "comprehension.\n"
   ]
  },
  {
   "cell_type": "code",
   "execution_count": 53,
   "id": "bbd682d6-3000-42cb-ab23-38de9bec1588",
   "metadata": {},
   "outputs": [
    {
     "name": "stdout",
     "output_type": "stream",
     "text": [
      "12\n",
      "9\n"
     ]
    }
   ],
   "source": [
    "#initialising evensum and oddsum variables with 0\n",
    "evensum = 0\n",
    "oddsum = 0\n",
    "\n",
    "#taking list as input\n",
    "l = [1,2,3,4,5,6]\n",
    "\n",
    "#using list comprehension for calculating even sum and odd sum separately\n",
    "[evensum := evensum+x for x in l if x%2==0]\n",
    "[oddsum := oddsum+x for x in l if x%2!=0]\n",
    "\n",
    "#printing the final result\n",
    "print(evensum)\n",
    "print(oddsum)"
   ]
  },
  {
   "cell_type": "markdown",
   "id": "15a5fb2e-4123-4590-9054-448b94d96b24",
   "metadata": {},
   "source": [
    "27. Create a program that generates a list of squares of odd numbers between 1 and 10 using list\n",
    "comprehension.\n"
   ]
  },
  {
   "cell_type": "code",
   "execution_count": 54,
   "id": "558b2b65-ee57-4e71-8f06-456222317a6b",
   "metadata": {},
   "outputs": [
    {
     "data": {
      "text/plain": [
       "[1, 9, 25, 49, 81]"
      ]
     },
     "execution_count": 54,
     "metadata": {},
     "output_type": "execute_result"
    }
   ],
   "source": [
    "[x**2 for x in range(1,11) if x%2!=0]"
   ]
  },
  {
   "cell_type": "markdown",
   "id": "5a260f44-0c7e-4320-be48-55fea77f8051",
   "metadata": {},
   "source": [
    "28. Write a program that combines two lists into a dictionary using list comprehension.\n"
   ]
  },
  {
   "cell_type": "code",
   "execution_count": 89,
   "id": "4905d05c-e34d-4df7-85a6-cc19a3457960",
   "metadata": {},
   "outputs": [
    {
     "data": {
      "text/plain": [
       "{'name': 'Raj', 'age': 21, 'city': 'Delhi'}"
      ]
     },
     "execution_count": 89,
     "metadata": {},
     "output_type": "execute_result"
    }
   ],
   "source": [
    "#taking two list as key value in input\n",
    "keys = [\"name\", \"age\", \"city\"]\n",
    "values = [\"Raj\", 21, \"Delhi\"]\n",
    "\n",
    "# Combine the two lists into a dictionary using list comprehension\n",
    "{keys[i]: values[i] for i in range(len(keys))}"
   ]
  },
  {
   "cell_type": "markdown",
   "id": "139c0681-b6ec-49f3-b946-6c08e53acea2",
   "metadata": {},
   "source": [
    "\n",
    "29. Develop a program that extracts the vowels from a string and stores them in a list using list comprehension.\n"
   ]
  },
  {
   "cell_type": "code",
   "execution_count": 61,
   "id": "28f06ebf-1a19-4e72-855a-9e4ee22aa7e7",
   "metadata": {},
   "outputs": [
    {
     "data": {
      "text/plain": [
       "['i', 'o', 'a', 'e', 'o', 'u', 'u']"
      ]
     },
     "execution_count": 61,
     "metadata": {},
     "output_type": "execute_result"
    }
   ],
   "source": [
    "#taking string as input\n",
    "string = \"Hi how are you guys\"\n",
    "\n",
    "#taking vowels as input in form of list\n",
    "vowels = ['a','e','i','o','u']\n",
    "\n",
    "#using list comprehension to print the result\n",
    "[x for x in string.lower() if x in vowels]"
   ]
  },
  {
   "cell_type": "markdown",
   "id": "46fabe39-db19-4730-aa2e-cc6d79587fea",
   "metadata": {},
   "source": [
    "30. Create a program that removes all non-numeric characters from a list of strings using list comprehension."
   ]
  },
  {
   "cell_type": "code",
   "execution_count": 74,
   "id": "ed974c5f-6ae8-4464-911c-430b66fe7c91",
   "metadata": {},
   "outputs": [
    {
     "data": {
      "text/plain": [
       "['32', '98', '100']"
      ]
     },
     "execution_count": 74,
     "metadata": {},
     "output_type": "execute_result"
    }
   ],
   "source": [
    "lst = [\"Hi 32\",\"are you 98\",\"okay 100\"]\n",
    "[''.join(char for char in string if char.isnumeric()) for string in lst]"
   ]
  },
  {
   "cell_type": "markdown",
   "id": "f8117c6d-27c5-4c64-bde0-67a4a53c8736",
   "metadata": {},
   "source": [
    "Challenge Level:\n",
    "31. Write a program to generate a list of prime numbers using the Sieve of Eratosthenes algorithm and list\n",
    "comprehension.\n"
   ]
  },
  {
   "cell_type": "code",
   "execution_count": 49,
   "id": "db8ff7b8-ee4d-43a8-9e2f-040e2e94b2e4",
   "metadata": {},
   "outputs": [
    {
     "name": "stdin",
     "output_type": "stream",
     "text": [
      "Enter the upper limit for prime numbers:  14\n"
     ]
    },
    {
     "name": "stdout",
     "output_type": "stream",
     "text": [
      "Prime Numbers: [2, 3, 5, 7, 11, 13]\n"
     ]
    }
   ],
   "source": [
    "def sieve_eratosthenes(n):\n",
    "    sieve = [True] * (n + 1)\n",
    "    sieve[0] = sieve[1] = False\n",
    "    \n",
    "    for p in range(2, int(n**0.5) + 1):\n",
    "        if sieve[p]:\n",
    "            for multiple in range(p * p, n + 1, p):\n",
    "                sieve[multiple] = False\n",
    "                \n",
    "    return [i for i, is_prime in enumerate(sieve) if is_prime]\n",
    "\n",
    "# Input the upper limit for prime number generation\n",
    "n = int(input(\"Enter the upper limit for prime numbers: \"))\n",
    "\n",
    "prime_numbers = sieve_eratosthenes(n)\n",
    "print(\"Prime Numbers:\", prime_numbers)\n"
   ]
  },
  {
   "cell_type": "markdown",
   "id": "2f1b5f45-058f-4b18-aa3b-e95174ef946f",
   "metadata": {},
   "source": [
    "32. Create a program that generates a list of all Pythagorean triplets up to a specified limit using list\n",
    "comprehension."
   ]
  },
  {
   "cell_type": "code",
   "execution_count": 6,
   "id": "ca8b0db5-daa8-45e3-8711-cb97f232381a",
   "metadata": {},
   "outputs": [
    {
     "name": "stdin",
     "output_type": "stream",
     "text": [
      "Enter the value of n:  15\n"
     ]
    },
    {
     "name": "stdout",
     "output_type": "stream",
     "text": [
      "[(3, 4, 5), (5, 12, 13), (6, 8, 10), (9, 12, 15)]\n"
     ]
    }
   ],
   "source": [
    "#taking in put from user\n",
    "n = int(input('Enter the value of n: '))\n",
    "\n",
    "#using list comprehension printing the result\n",
    "print([(a, b, c) for a in range(1, n + 1) for b in range(a, n + 1)\n",
    "       for c in range(b, n + 1) if a**2 + b**2 == c**2])"
   ]
  },
  {
   "cell_type": "markdown",
   "id": "5adf5f18-dc28-42f3-9bf2-6da8f692e503",
   "metadata": {},
   "source": [
    "33. Develop a program that generates a list of all possible combinations of two lists using list comprehension.\n"
   ]
  },
  {
   "cell_type": "code",
   "execution_count": 4,
   "id": "2f1def36-e922-4172-b6b3-37ff67848507",
   "metadata": {},
   "outputs": [
    {
     "data": {
      "text/plain": [
       "[(1, 7),\n",
       " (1, 8),\n",
       " (1, 9),\n",
       " (2, 7),\n",
       " (2, 8),\n",
       " (2, 9),\n",
       " (2, 1),\n",
       " (3, 7),\n",
       " (3, 8),\n",
       " (3, 9),\n",
       " (3, 1),\n",
       " (5, 7),\n",
       " (5, 8),\n",
       " (5, 9),\n",
       " (5, 1)]"
      ]
     },
     "execution_count": 4,
     "metadata": {},
     "output_type": "execute_result"
    }
   ],
   "source": [
    "lst1 = [1,2,3,5]\n",
    "lst2 = [7,8,9,1]\n",
    "[(x, y) for x in lst1 for y in lst2 if x != y]\n"
   ]
  },
  {
   "cell_type": "markdown",
   "id": "239b960c-b06e-4344-8ba7-4146d87337d1",
   "metadata": {},
   "source": [
    "34. Write a program that calculates the mean, median, and mode of a list of numbers using list\n",
    "comprehension.\n"
   ]
  },
  {
   "cell_type": "code",
   "execution_count": 10,
   "id": "0f763be2-d3b5-49f2-bc8b-abb0b295e396",
   "metadata": {},
   "outputs": [
    {
     "name": "stdout",
     "output_type": "stream",
     "text": [
      "Mean is:  3.909090909090909\n",
      "Median is:  4\n",
      "Mode is: [6]\n"
     ]
    }
   ],
   "source": [
    "#importing Counter from collections it creates a dictionary with key value pairs\n",
    "from collections import Counter\n",
    "#input list\n",
    "lst = [1,2,3,4,5,6,6,6,5,3,2]\n",
    "#sorting the list and storing it in a new vairbale\n",
    "sorted_lst = sorted(lst)\n",
    "#storing length of list in n\n",
    "n = len(lst)\n",
    "#creating the dictionary from list\n",
    "dict_items = Counter(lst)\n",
    "\n",
    "mean = sum(lst)/len(lst)\n",
    "median = (sorted_lst[n//2] + sorted_lst[n//2 - 1])/2 if n%2 == 0 else sorted_lst[n//2]\n",
    "mode = [k for k, v in dict_items.items() if v == max(dict_items.values())]\n",
    "\n",
    "\n",
    "\n",
    "print(\"Mean is: \",mean)\n",
    "print(\"Median is: \",median)\n",
    "print(\"Mode is:\",mode)"
   ]
  },
  {
   "cell_type": "markdown",
   "id": "2fd2dc53-54c7-4008-92eb-f0e3b7360f56",
   "metadata": {},
   "source": [
    "35. Create a program that generates Pascal's triangle up to a specified number of rows using list\n",
    "comprehension.\n"
   ]
  },
  {
   "cell_type": "code",
   "execution_count": 48,
   "id": "cef16cc8-49ef-41df-b9b3-33d9fd2b84b7",
   "metadata": {},
   "outputs": [
    {
     "name": "stdin",
     "output_type": "stream",
     "text": [
      "Enter the number of rows for Pascal's triangle:  5\n"
     ]
    },
    {
     "name": "stdout",
     "output_type": "stream",
     "text": [
      "    1    \n",
      "   1 1   \n",
      "  1 2 1  \n",
      " 1 3 3 1 \n",
      "1 4 6 4 1\n"
     ]
    }
   ],
   "source": [
    "def generate_pascals_triangle(rows):\n",
    "    if rows <= 0:\n",
    "        return []\n",
    "\n",
    "    triangle = [[1]]\n",
    "    for i in range(1, rows):\n",
    "        prev_row = triangle[-1]\n",
    "        new_row = [1] + [prev_row[j] + prev_row[j + 1] for j in range(len(prev_row) - 1)] + [1]\n",
    "        triangle.append(new_row)\n",
    "\n",
    "    return triangle\n",
    "\n",
    "def print_pascals_triangle(triangle):\n",
    "    max_width = len(\" \".join(map(str, triangle[-1])))\n",
    "    for row in triangle:\n",
    "        row_str = \" \".join(map(str, row))\n",
    "        print(row_str.center(max_width))\n",
    "\n",
    "# Input the number of rows you want in Pascal's triangle\n",
    "num_rows = int(input(\"Enter the number of rows for Pascal's triangle: \"))\n",
    "\n",
    "pascals_triangle = generate_pascals_triangle(num_rows)\n",
    "print_pascals_triangle(pascals_triangle)\n"
   ]
  },
  {
   "cell_type": "markdown",
   "id": "2f73ebd8-5f13-40f7-b2cf-c128f7bd68d3",
   "metadata": {},
   "source": [
    "36. Develop a program that calculates the sum of the digits of a factorial of numbers from 1 to 5 using list\n",
    "comprehension.\n"
   ]
  },
  {
   "cell_type": "code",
   "execution_count": 35,
   "id": "c55314ba-7cd8-4c9c-a2c0-8cf930a5645e",
   "metadata": {},
   "outputs": [
    {
     "name": "stdout",
     "output_type": "stream",
     "text": [
      "Sum of digits of 1! = 1\n",
      "Sum of digits of 2! = 2\n",
      "Sum of digits of 3! = 6\n",
      "Sum of digits of 4! = 6\n",
      "Sum of digits of 5! = 3\n"
     ]
    }
   ],
   "source": [
    "#function for calculating factorial of a number\n",
    "def fact(n):\n",
    "    if n == 0 or n ==1:\n",
    "        return 1\n",
    "    else:\n",
    "        return n * fact(n-1)\n",
    "\n",
    "\n",
    "# Calculate the sum of digits of the factorial of numbers from 1 to 5 using list comprehension\n",
    "results = [sum(map(int, str(fact(i)))) for i in range(1, 6)]\n",
    "\n",
    "# Print the results\n",
    "for i in range(1, 6):\n",
    "    print(f\"Sum of digits of {i}! = {results[i - 1]}\")"
   ]
  },
  {
   "cell_type": "markdown",
   "id": "d6ada529-4ad5-4c7d-a4fd-de58f27872b4",
   "metadata": {},
   "source": [
    "37. Write a program that finds the longest word in a sentence using list comprehension.\n"
   ]
  },
  {
   "cell_type": "code",
   "execution_count": 38,
   "id": "2259a447-4133-493d-b87a-3f86a715a39e",
   "metadata": {},
   "outputs": [
    {
     "name": "stdin",
     "output_type": "stream",
     "text": [
      "Enter a sentence:  hi how are you\n"
     ]
    },
    {
     "name": "stdout",
     "output_type": "stream",
     "text": [
      "The longest words are: how, are, you\n"
     ]
    }
   ],
   "source": [
    "# Input a sentence from the user\n",
    "sentence = input(\"Enter a sentence: \")\n",
    "\n",
    "# Split the sentence into words using whitespace as the delimiter\n",
    "words = sentence.split()\n",
    "\n",
    "# Use list comprehension to find the longest word(s)\n",
    "longest_words = [word for word in words if len(word) == max(len(word) for word in words)]\n",
    "\n",
    "# Print the longest word(s)\n",
    "if longest_words:\n",
    "    if len(longest_words) == 1:\n",
    "        print(\"The longest word is:\", longest_words[0])\n",
    "    else:\n",
    "        print(\"The longest words are:\", \", \".join(longest_words))\n",
    "else:\n",
    "    print(\"No words found in the sentence.\")\n"
   ]
  },
  {
   "cell_type": "markdown",
   "id": "55f728ca-e530-49bf-83f9-8f902c161642",
   "metadata": {},
   "source": [
    "38. Create a program that filters a list of strings to include only those with more than three vowels using list\n",
    "comprehension.\n"
   ]
  },
  {
   "cell_type": "code",
   "execution_count": 46,
   "id": "755b7948-26d0-4803-9e87-b49326f3663e",
   "metadata": {},
   "outputs": [
    {
     "data": {
      "text/plain": [
       "['ieee', 'hihowareyou']"
      ]
     },
     "execution_count": 46,
     "metadata": {},
     "output_type": "execute_result"
    }
   ],
   "source": [
    "#count vowels fcuntions takes a string and returns sum of vowels in string\n",
    "def count_vowels(string):\n",
    "    vowels = \"AEIOUaeiou\"\n",
    "    return sum(1 for char in string if char in vowels)\n",
    "\n",
    "#input list\n",
    "lst = [\"Hello\",\"Hi\",\"How\",\"elephant\",\"dog\",\"ieee\",\"hihowareyou\"]\n",
    "filtered_lst = [word for word in lst if count_vowels(word)>3]\n",
    "\n",
    "#printing the result\n",
    "filtered_lst"
   ]
  },
  {
   "cell_type": "markdown",
   "id": "65ce83fb-05e2-4c70-a391-1f4b03be9a89",
   "metadata": {},
   "source": [
    "39. Develop a program that calculates the sum of the digits of numbers from 1 to 1000 using list\n",
    "comprehension.\n"
   ]
  },
  {
   "cell_type": "code",
   "execution_count": 12,
   "id": "ae6e36f8-dd05-497b-9e29-acc993eff74b",
   "metadata": {},
   "outputs": [
    {
     "data": {
      "text/plain": [
       "500500"
      ]
     },
     "execution_count": 12,
     "metadata": {},
     "output_type": "execute_result"
    }
   ],
   "source": [
    "#range function generates a list of numbers from 0 to n-1 and sum adds them together\n",
    "sum(range(1001))"
   ]
  },
  {
   "cell_type": "markdown",
   "id": "8d7bbc74-bb56-45e4-bafd-d9cf5bcb518a",
   "metadata": {},
   "source": [
    "40. Write a program that generates a list of prime palindromic numbers using list comprehension."
   ]
  },
  {
   "cell_type": "code",
   "execution_count": 29,
   "id": "f00b9fca-8c14-4cb1-8661-79e37584b737",
   "metadata": {},
   "outputs": [
    {
     "name": "stdout",
     "output_type": "stream",
     "text": [
      "Prime Palindromic Numbers: [2, 3, 5, 7, 11, 101, 131, 151, 181, 191]\n"
     ]
    }
   ],
   "source": [
    "#function takes num as input and return true or falsebased on the condition satisfied\n",
    "def is_prime(num):\n",
    "    if num <= 1:\n",
    "        return False\n",
    "    if num == 2:\n",
    "        return True\n",
    "    if num % 2 == 0:\n",
    "        return False\n",
    "    for i in range(3, int(num**0.5) + 1):\n",
    "        if num % i == 0:\n",
    "            return False\n",
    "    return True\n",
    "\n",
    "\n",
    "def is_palindrome(num):\n",
    "    num_str = str(num)\n",
    "    return num_str == num_str[::-1]\n",
    "\n",
    "# Generate a list of prime palindromic numbers using list comprehension\n",
    "prime_palindromes = [num for num in range(1, 300) if is_prime(num) and is_palindrome(num)]\n",
    "\n",
    "# Print the list of prime palindromic numbers\n",
    "print(\"Prime Palindromic Numbers:\", prime_palindromes)\n"
   ]
  },
  {
   "cell_type": "code",
   "execution_count": null,
   "id": "a5d728c3-da39-45df-9f1c-904e7c9ac28e",
   "metadata": {},
   "outputs": [],
   "source": []
  },
  {
   "cell_type": "code",
   "execution_count": null,
   "id": "bae56253-4871-47f8-9a3e-558742dd8c0f",
   "metadata": {},
   "outputs": [],
   "source": []
  },
  {
   "cell_type": "code",
   "execution_count": null,
   "id": "475adc52-66b8-44d9-ab00-57467ece648e",
   "metadata": {},
   "outputs": [],
   "source": []
  }
 ],
 "metadata": {
  "kernelspec": {
   "display_name": "Python 3 (ipykernel)",
   "language": "python",
   "name": "python3"
  },
  "language_info": {
   "codemirror_mode": {
    "name": "ipython",
    "version": 3
   },
   "file_extension": ".py",
   "mimetype": "text/x-python",
   "name": "python",
   "nbconvert_exporter": "python",
   "pygments_lexer": "ipython3",
   "version": "3.10.8"
  }
 },
 "nbformat": 4,
 "nbformat_minor": 5
}
