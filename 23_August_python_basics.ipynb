{
 "cells": [
  {
   "cell_type": "markdown",
   "id": "b193c87f-5925-4765-aa8c-cc77ecff00cc",
   "metadata": {},
   "source": [
    "1. Declare two variables, `x` and `y`, and assign them integer values. Swap the\n",
    "values of these variables without using any temporary variable."
   ]
  },
  {
   "cell_type": "code",
   "execution_count": 2,
   "id": "d29e4d0a-8599-45c2-9cd9-62a4e04f626e",
   "metadata": {},
   "outputs": [],
   "source": [
    "# We will be creating a function to take two integers x and y and will swap them without third variable\n",
    "def swapint(x,y):\n",
    "    add = x+y\n",
    "    x = add-x\n",
    "    y = add-y\n",
    "    \n",
    "    return x,y"
   ]
  },
  {
   "cell_type": "code",
   "execution_count": 7,
   "id": "b9b99e5c-df71-4190-96b6-4956b95041d1",
   "metadata": {},
   "outputs": [
    {
     "name": "stdin",
     "output_type": "stream",
     "text": [
      "Enter the first digit to swap 3\n",
      "Enter the second digit to swap 4\n"
     ]
    },
    {
     "data": {
      "text/plain": [
       "(4, 3)"
      ]
     },
     "execution_count": 7,
     "metadata": {},
     "output_type": "execute_result"
    }
   ],
   "source": [
    "#now let's see how it works\n",
    "x = int(input(\"Enter the first digit to swap\"))\n",
    "y = int(input(\"Enter the second digit to swap\"))\n",
    "swapint(x,y)\n",
    "#Here we can see that we passed 4,5 but 5,4 was returned"
   ]
  },
  {
   "cell_type": "markdown",
   "id": "da09dfcb-3ec2-419d-aa82-f8a3ddb1d68c",
   "metadata": {},
   "source": [
    "2. Create a program that calculates the area of a rectangle. Take the length and\n",
    "width as inputs from the user and store them in variables. Calculate and\n",
    "display the area."
   ]
  },
  {
   "cell_type": "code",
   "execution_count": 1,
   "id": "7a69a188-5699-437e-b882-5c225c25024a",
   "metadata": {},
   "outputs": [],
   "source": [
    "#Let's create a function for calculating the area of rectangle we will pass length and width of rectangle\n",
    "def arearect(length, width):\n",
    "    return length*width"
   ]
  },
  {
   "cell_type": "code",
   "execution_count": 6,
   "id": "72d49f5e-80fe-47dd-82f8-450d0ea7292c",
   "metadata": {},
   "outputs": [
    {
     "name": "stdin",
     "output_type": "stream",
     "text": [
      "Enter the length of rectangle 3\n",
      "Enter the width of rectangle 4\n"
     ]
    },
    {
     "name": "stdout",
     "output_type": "stream",
     "text": [
      "Area of rectangle is 12 square units\n"
     ]
    }
   ],
   "source": [
    "# Taking input of length and width from user and assigning them in variables\n",
    "length = int(input(\"Enter the length of rectangle\"))\n",
    "width = int(input(\"Enter the width of rectangle\"))\n",
    "print (\"Area of rectangle is {} square units\".format(arearect(length, width)))"
   ]
  },
  {
   "cell_type": "markdown",
   "id": "65fdfa93-160b-4b6a-a318-5897cbc6e646",
   "metadata": {},
   "source": [
    "3. Write a Python program that converts temperatures from Celsius to\n",
    "Fahrenheit. Take the temperature in Celsius as input, store it in a variable,\n",
    "convert it to Fahrenheit, and display the result."
   ]
  },
  {
   "cell_type": "code",
   "execution_count": 12,
   "id": "916d28f1-f99a-4e6b-b414-4395bb796a93",
   "metadata": {},
   "outputs": [],
   "source": [
    "# Let's create a function which takes temprature in celcius and returns temprature in fahrenheit\n",
    "def cToF(celcius):\n",
    "    return 9/5*celcius + 32"
   ]
  },
  {
   "cell_type": "code",
   "execution_count": 14,
   "id": "c9accfb4-5a66-4805-84e6-175f82e01592",
   "metadata": {},
   "outputs": [
    {
     "name": "stdin",
     "output_type": "stream",
     "text": [
      "Enter the temprature in celcius 32\n"
     ]
    },
    {
     "data": {
      "text/plain": [
       "89.6"
      ]
     },
     "execution_count": 14,
     "metadata": {},
     "output_type": "execute_result"
    }
   ],
   "source": [
    "#Now let's take input from user and return him temprature in fahrenheit\n",
    "tempincel = int(input(\"Enter the temprature in celcius\"))\n",
    "cToF(tempincel)"
   ]
  },
  {
   "cell_type": "markdown",
   "id": "e2b5dd6d-563b-45f9-b7cf-24e4cd2db7b3",
   "metadata": {},
   "source": [
    "4. Write a Python program that takes a string as input and prints the length of\n",
    "the string."
   ]
  },
  {
   "cell_type": "code",
   "execution_count": 16,
   "id": "81eda093-9fe0-4ce5-b8de-bf15dbbd9c67",
   "metadata": {},
   "outputs": [],
   "source": [
    "#Let's create a function which taked string as a input and returns it's length\n",
    "def lengthofStr(stri):\n",
    "    return len(stri)"
   ]
  },
  {
   "cell_type": "code",
   "execution_count": 18,
   "id": "0163b465-d1ee-40c2-8898-5a4c41011bb6",
   "metadata": {},
   "outputs": [
    {
     "name": "stdin",
     "output_type": "stream",
     "text": [
      "Enter the string to calculate it's length: hi! how are you bro\n"
     ]
    },
    {
     "data": {
      "text/plain": [
       "19"
      ]
     },
     "execution_count": 18,
     "metadata": {},
     "output_type": "execute_result"
    }
   ],
   "source": [
    "stri = input(\"Enter the string to calculate it's length:\")\n",
    "lengthofStr(stri)"
   ]
  },
  {
   "cell_type": "markdown",
   "id": "7c73dfcd-bb7d-43db-86a3-6e8981b6902f",
   "metadata": {},
   "source": [
    "5. Create a program that takes a sentence from the user and counts the number\n",
    "of vowels (a, e, i, o, u) in the string."
   ]
  },
  {
   "cell_type": "code",
   "execution_count": 29,
   "id": "249e49bc-1cc1-431b-9238-5f2c77986ff6",
   "metadata": {},
   "outputs": [],
   "source": [
    "# We will create a function and this funcction will take string as an input and return the count of vowels\n",
    "def novowel(stri):\n",
    "    c = 0\n",
    "    vowels = ('a','e','i','o','u')\n",
    "    for x in stri.lower():\n",
    "        if x in vowels:\n",
    "            c +=1\n",
    "    return c"
   ]
  },
  {
   "cell_type": "code",
   "execution_count": 31,
   "id": "853a5ef8-2cf5-4006-ad43-2df8f841de29",
   "metadata": {},
   "outputs": [
    {
     "name": "stdin",
     "output_type": "stream",
     "text": [
      "Enter the string in which you want to count the no fo vowels HI!, how are you\n"
     ]
    },
    {
     "data": {
      "text/plain": [
       "6"
      ]
     },
     "execution_count": 31,
     "metadata": {},
     "output_type": "execute_result"
    }
   ],
   "source": [
    "stri = input(\"Enter the string in which you want to count the no fo vowels\")\n",
    "novowel(stri)"
   ]
  },
  {
   "cell_type": "markdown",
   "id": "2e5de3cf-2e8f-405a-87a6-3f4a098dc18a",
   "metadata": {},
   "source": [
    "6. Given a string, reverse the order of characters using string slicing and print\n",
    "the reversed string."
   ]
  },
  {
   "cell_type": "code",
   "execution_count": 34,
   "id": "67263322-d6f7-469d-8441-39db1118376d",
   "metadata": {},
   "outputs": [],
   "source": [
    "#This is the function which takes string as input and uses slicing to reverse it and returns reversed string\n",
    "def revstr(stri):\n",
    "    return stri[::-1]"
   ]
  },
  {
   "cell_type": "code",
   "execution_count": 33,
   "id": "dea7de40-b732-4c12-a1be-8c8344447e3f",
   "metadata": {},
   "outputs": [
    {
     "name": "stdin",
     "output_type": "stream",
     "text": [
      "Enter the string which you want to reverse hi!, how are you\n"
     ]
    },
    {
     "name": "stdout",
     "output_type": "stream",
     "text": [
      "The reversed string is: uoy era woh ,!ih\n"
     ]
    }
   ],
   "source": [
    "#This taked input from user and passes the input string to the functiom\n",
    "stri = input(\"Enter the string which you want to reverse\")\n",
    "print(\"The reversed string is:\", revstr(stri))"
   ]
  },
  {
   "cell_type": "markdown",
   "id": "835121bc-3a7f-44de-b21f-f6845a224350",
   "metadata": {},
   "source": [
    "7. Write a program that takes a string as input and checks if it is a palindrome\n",
    "(reads the same forwards and backwards)."
   ]
  },
  {
   "cell_type": "code",
   "execution_count": 57,
   "id": "bd915d03-f05d-4ae1-a6d8-704e2f1fb17c",
   "metadata": {},
   "outputs": [],
   "source": [
    "''' Here we create a function palindrome and pass a string to it, we also used our old function revstr to get the \n",
    "reverse of string, and if it is equal to our orignal string it returns true else false. We convert both the string to \n",
    "lower casse so that case doesn't creates any issue'''\n",
    "def palindrome(stri):\n",
    "    \n",
    "    if (stri.lower() == revstr(stri).lower()):\n",
    "        return True\n",
    "    else:\n",
    "        return False"
   ]
  },
  {
   "cell_type": "code",
   "execution_count": 58,
   "id": "0054c763-ab74-44bd-ac14-43f8568f4771",
   "metadata": {},
   "outputs": [
    {
     "name": "stdin",
     "output_type": "stream",
     "text": [
      "Enter the string to check for palindrome Eye\n"
     ]
    },
    {
     "data": {
      "text/plain": [
       "True"
      ]
     },
     "execution_count": 58,
     "metadata": {},
     "output_type": "execute_result"
    }
   ],
   "source": [
    "#For this question we can use revstr function and check if revered string is same as orignal string\n",
    "stri = input(\"Enter the string to check for palindrome\")\n",
    "palindrome(stri)"
   ]
  },
  {
   "cell_type": "markdown",
   "id": "fdb4d967-c907-41ff-a008-b71ca92e7c73",
   "metadata": {},
   "source": [
    "8. Create a program that takes a string as input and removes all the spaces from\n",
    "it. Print the modified string without spaces."
   ]
  },
  {
   "cell_type": "code",
   "execution_count": 72,
   "id": "d4ee6c3a-62fa-4bf6-86bc-49cf8a0d0963",
   "metadata": {},
   "outputs": [],
   "source": [
    "#Let's create a function which takes string as input and returns a new string with removed spaces\n",
    "def remspace(stri):\n",
    "    c= ''\n",
    "    for x in stri:\n",
    "        if x != ' ':\n",
    "            c = c+x\n",
    "        continue\n",
    "    return c"
   ]
  },
  {
   "cell_type": "code",
   "execution_count": 73,
   "id": "4eebb836-b0b0-4a49-8668-9868a3f24619",
   "metadata": {},
   "outputs": [
    {
     "name": "stdin",
     "output_type": "stream",
     "text": [
      "Enter the string in which you want to remove spaces Hi! how are you\n"
     ]
    },
    {
     "data": {
      "text/plain": [
       "'Hi!howareyou'"
      ]
     },
     "execution_count": 73,
     "metadata": {},
     "output_type": "execute_result"
    }
   ],
   "source": [
    "stri = input(\"Enter the string in which you want to remove spaces\")\n",
    "remspace(stri)"
   ]
  },
  {
   "cell_type": "code",
   "execution_count": null,
   "id": "45a67822-b925-4ab2-8993-31f6a102c599",
   "metadata": {},
   "outputs": [],
   "source": []
  }
 ],
 "metadata": {
  "kernelspec": {
   "display_name": "Python 3 (ipykernel)",
   "language": "python",
   "name": "python3"
  },
  "language_info": {
   "codemirror_mode": {
    "name": "ipython",
    "version": 3
   },
   "file_extension": ".py",
   "mimetype": "text/x-python",
   "name": "python",
   "nbconvert_exporter": "python",
   "pygments_lexer": "ipython3",
   "version": "3.10.8"
  }
 },
 "nbformat": 4,
 "nbformat_minor": 5
}
