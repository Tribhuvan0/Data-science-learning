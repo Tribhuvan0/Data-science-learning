{
 "cells": [
  {
   "cell_type": "markdown",
   "id": "1264acf8-358c-4f9a-9f75-7e433f55604f",
   "metadata": {},
   "source": [
    "1. What is a constructor in Python? Explain its purpose and usage.\n"
   ]
  },
  {
   "cell_type": "markdown",
   "id": "72ec9430-2d43-4229-b753-79b53f963f87",
   "metadata": {},
   "source": [
    "Constructors are used to initialize an object. They assign values to data members of the class when an object of class is created.Constructors are useful for ensuring that objects are created with the required attributes in a consistent state. They allow you to perform any necessary setup or validation when an object is created."
   ]
  },
  {
   "cell_type": "markdown",
   "id": "a8f59f40-6d90-47c4-a84c-e13c6f795ea2",
   "metadata": {},
   "source": [
    "2. Differentiate between a parameterless constructor and a parameterized constructor in Python.\n"
   ]
  },
  {
   "cell_type": "markdown",
   "id": "1bd0afb9-8014-481d-b5b2-0745d53094a0",
   "metadata": {},
   "source": [
    "Parameterless Constructor:\n",
    "\n",
    "1) Takes no parameters other than self.\n",
    "2) Used for default initialization.\n",
    "\n",
    "Parameterized Constructor:\n",
    "\n",
    "1) Takes parameters in addition to self.\n",
    "2) Used for custom initialization.\n"
   ]
  },
  {
   "cell_type": "markdown",
   "id": "e043179f-2a52-4e2b-96fe-0544559edb7e",
   "metadata": {},
   "source": [
    "3. How do you define a constructor in a Python class? Provide an example.\n"
   ]
  },
  {
   "cell_type": "markdown",
   "id": "7f88c07c-b42e-4bc8-a849-a9b9ad40623a",
   "metadata": {},
   "source": [
    "Answer 3.\n",
    "To define a constructor in a Python class, use the __init__ method. Here's a concise example:\n",
    "\n",
    "```python\n",
    "class MyClass:\n",
    "    def __init__(self, param1, param2):\n",
    "        self.attribute1 = param1\n",
    "        self.attribute2 = param2\n",
    "```"
   ]
  },
  {
   "cell_type": "markdown",
   "id": "43d1cc64-acc1-450b-a00a-fa87a152738c",
   "metadata": {},
   "source": [
    "4. Explain the `__init__` method in Python and its role in constructors.\n"
   ]
  },
  {
   "cell_type": "markdown",
   "id": "43ab3cf8-0d0a-48d7-8f38-2134e13a15e2",
   "metadata": {},
   "source": [
    "Answer 4. In Python, the __init__ method is a special method that serves as a constructor for a class. It is called when an object is created from a class and is used to initialize the object's attributes. The name __init__ stands for \"initialize.\""
   ]
  },
  {
   "cell_type": "markdown",
   "id": "a66635da-438a-4fc7-a701-e4b62881a4a8",
   "metadata": {},
   "source": [
    "5. In a class named `Person`, create a constructor that initializes the `name` and `age` attributes. Provide an\n",
    "example of creating an object of this class.\n"
   ]
  },
  {
   "cell_type": "code",
   "execution_count": 3,
   "id": "b98945ff-645e-46d3-8f38-c897aca702c5",
   "metadata": {},
   "outputs": [
    {
     "data": {
      "text/plain": [
       "'Ajay'"
      ]
     },
     "execution_count": 3,
     "metadata": {},
     "output_type": "execute_result"
    }
   ],
   "source": [
    "class Person:\n",
    "    def __init__(self, name,age):\n",
    "        self.name = name\n",
    "        self.age = age\n",
    "    \n",
    "Ajay = Person(\"Ajay\",29)\n",
    "Ajay.name"
   ]
  },
  {
   "cell_type": "markdown",
   "id": "6f7dce16-95c1-4114-884e-5cf057d4465b",
   "metadata": {},
   "source": [
    "6. How can you call a constructor explicitly in Python? Give an example."
   ]
  },
  {
   "cell_type": "markdown",
   "id": "96e8f628-a1c1-4efe-8157-d3900b410de2",
   "metadata": {},
   "source": [
    "We can call a constructor explicitily by using the class name followed by '__init__'.\n",
    "```python\n",
    "class Myclass:\n",
    "    def __init__(self,p1,p2):\n",
    "    self.attr1 = p1\n",
    "    self.attr2 = p2\n",
    "\n",
    "myObj = Myclass.__init__(Myclass,1,2)\n",
    "```"
   ]
  },
  {
   "cell_type": "markdown",
   "id": "27c6016b-27e7-4237-892a-16090a70154c",
   "metadata": {},
   "source": [
    "7. What is the significance of the `self` parameter in Python constructors? Explain with an example.\n"
   ]
  },
  {
   "cell_type": "markdown",
   "id": "e8dfd0b3-bcb6-4379-b395-f8994961bed2",
   "metadata": {},
   "source": [
    "Answer 7. The 'self' parameter in the class refers to the instance of the object being created. It also allows us to set the attributes for those instances."
   ]
  },
  {
   "cell_type": "markdown",
   "id": "db7d071c-91e1-4e9a-b042-8dbc1ea09d34",
   "metadata": {},
   "source": [
    "8. Discuss the concept of default constructors in Python. When are they used?\n"
   ]
  },
  {
   "cell_type": "markdown",
   "id": "ca0a9cbd-93c9-47c8-8864-79877eaa9b70",
   "metadata": {},
   "source": [
    "Answer 8. A default constructor comes into existence when the constructor for the class is not explicitely defined for the class. It is automatically provided by the language. It takes no arguments except the reference to the instance(self)"
   ]
  },
  {
   "cell_type": "markdown",
   "id": "26e24eae-7ac3-4946-8a04-b1395c2508d5",
   "metadata": {},
   "source": [
    "9. Create a Python class called `Rectangle` with a constructor that initializes the `width` and `height`\n",
    "attributes. Provide a method to calculate the area of the rectangle.\n"
   ]
  },
  {
   "cell_type": "code",
   "execution_count": 7,
   "id": "b61bbe69-9960-43dd-af4b-1c063f8d6a97",
   "metadata": {},
   "outputs": [
    {
     "name": "stdout",
     "output_type": "stream",
     "text": [
      "The area of rectangle is: 20\n"
     ]
    }
   ],
   "source": [
    "class Rectangle:\n",
    "    def __init__(self, length, breadth):\n",
    "        self.length = length\n",
    "        self.breadth = breadth\n",
    "    \n",
    "    def calculate_area(self):\n",
    "        print(\"The area of rectangle is:\", self.length*self.breadth)\n",
    "    \n",
    "rect = Rectangle(4,5)\n",
    "rect.calculate_area()"
   ]
  },
  {
   "cell_type": "markdown",
   "id": "a428b52c-7c78-4a16-98d4-f714f710ac25",
   "metadata": {},
   "source": [
    "10. How can you have multiple constructors in a Python class? Explain with an example.\n"
   ]
  },
  {
   "cell_type": "markdown",
   "id": "e4c496c6-6274-40d8-98fe-a2f5834a2e68",
   "metadata": {},
   "source": [
    "Answer 10.\n",
    "In python it is not possible to have multiple constructors as the language unlike other languages doesn't allows method overloading.\n",
    "\n",
    "But here we can use 1)default value and 2) @classmethod to implement this concept\n",
    "```python\n",
    "class MyClass:\n",
    "    def __init__(self, param1, param2=\"default_value\"):\n",
    "        self.param1 = param1\n",
    "        self.param = param2\n",
    "\n",
    "# Creating instances with different sets of arguments\n",
    "obj1 = MyClass(\"value1\")\n",
    "obj2 = MyClass(\"value1\", \"value2\")\n",
    "\n",
    "print(obj1.attribute1, obj1.attribute2)  # Output: value1 default_value\n",
    "print(obj2.attribute1, obj2.attribute2)  # Output: value1 value2\n",
    "\n",
    "and \n",
    "\n",
    "class MyClass:\n",
    "    def __init__(self, param1, param2):\n",
    "        self.attribute1 = param1\n",
    "        self.attribute2 = param2\n",
    "\n",
    "    @classmethod\n",
    "    def create_with_default(cls, param1):\n",
    "        return cls(param1, \"default_value\")\n",
    "\n",
    "# Creating instances using the class method\n",
    "obj1 = MyClass(\"value1\", \"value2\")\n",
    "obj2 = MyClass.create_with_default(\"value1\")\n",
    "\n",
    "print(obj1.attribute1, obj1.attribute2)  # Output: value1 value2\n",
    "print(obj2.attribute1, obj2.attribute2)  # Output: value1 default_value\n",
    "```"
   ]
  },
  {
   "cell_type": "markdown",
   "id": "17160f35-b79a-4494-80db-baf9c4cdf29c",
   "metadata": {},
   "source": [
    "11. What is method overloading, and how is it related to constructors in Python?\n"
   ]
  },
  {
   "cell_type": "markdown",
   "id": "f761dcc2-8727-4e10-aeb4-9ce5a0c93185",
   "metadata": {},
   "source": [
    "Answer 11.\n",
    "In method overloading we can have a method with same name and different parametres but it's behaves diffentely.\n",
    "In python it is not allowed directly as like in other languages so we use construcutors to implement it.\n",
    "```python\n",
    "#Method 1\n",
    "Using default values\n",
    "class Method:\n",
    "    def __init__(self, p1, p2= \"default_value\")\n",
    "    self.attr = p1\n",
    "    self.attr1 = p2\n",
    "    \n",
    "#Method 2\n",
    "Using @classmethod\n",
    "class Method1:\n",
    "    def __init__(self,p1,p2):\n",
    "        self.attr = p1\n",
    "        self.attr1 = p2\n",
    "    \n",
    "    def for_overloading(cls,param1):\n",
    "        return cls(param1,\"default_value\")\n",
    "    \n",
    "```"
   ]
  },
  {
   "cell_type": "markdown",
   "id": "ed6b9860-df98-4466-8e86-72ef42c1b757",
   "metadata": {},
   "source": [
    "12. Explain the use of the `super()` function in Python constructors. Provide an example.\n"
   ]
  },
  {
   "cell_type": "markdown",
   "id": "ecf61ba6-13b4-48a2-ba06-e61d2515c7ab",
   "metadata": {},
   "source": [
    "Answer 12. super() function is used to call the method of parent class inside the child class\n",
    "```python\n",
    "class Parentclass:\n",
    "    def __init__(self, name):\n",
    "        self.name = name\n",
    "    \n",
    "    def write_name(self):\n",
    "        print(\"The name of parent is:\", self.name)\n",
    "        \n",
    "class Childclass(Parentclass):\n",
    "    def __init__(self, name):\n",
    "        self.name = name\n",
    "    \n",
    "    def write_self_name(self):\n",
    "        print(\"Name of child is\",self.name)\n",
    "        super().write_name()\n",
    "        \n",
    "beta = Childclass(\"Raju\")\n",
    "beta.write_self_name()\n",
    "```"
   ]
  },
  {
   "cell_type": "markdown",
   "id": "96c7efc0-d05f-48ff-87fe-4c2901bd47d6",
   "metadata": {},
   "source": [
    "13. Create a class called `Book` with a constructor that initializes the `title`, `author`, and `published_year`\n",
    "attributes. Provide a method to display book details.\n"
   ]
  },
  {
   "cell_type": "code",
   "execution_count": 20,
   "id": "c78f55c7-972f-4451-82d1-ce9ab9f399c6",
   "metadata": {},
   "outputs": [
    {
     "name": "stdout",
     "output_type": "stream",
     "text": [
      "Title: The Great Gatsby\n",
      "Author: F. Scott Fitzgerald\n",
      "Published Year: 1925\n"
     ]
    }
   ],
   "source": [
    "class Book:\n",
    "    def __init__(self, title, author, published_year):\n",
    "        self.title = title\n",
    "        self.author = author\n",
    "        self.published_year = published_year\n",
    "\n",
    "    def display_details(self):\n",
    "        print(f\"Title: {self.title}\")\n",
    "        print(f\"Author: {self.author}\")\n",
    "        print(f\"Published Year: {self.published_year}\")\n",
    "\n",
    "# Creating an instance of the Book class\n",
    "book1 = Book(\"The Great Gatsby\", \"F. Scott Fitzgerald\", 1925)\n",
    "\n",
    "# Displaying the details of the book\n",
    "book1.display_details()\n"
   ]
  },
  {
   "cell_type": "markdown",
   "id": "4b953982-410f-4338-a805-bd88536af48b",
   "metadata": {},
   "source": [
    "14. Discuss the differences between constructors and regular methods in Python classes.\n"
   ]
  },
  {
   "cell_type": "markdown",
   "id": "369442b2-0271-4f27-b036-9a37d61af35c",
   "metadata": {},
   "source": [
    "Answer 14. \n",
    "\n",
    "Constructors (__init__ method):\n",
    "\n",
    "Purpose: Primarily for initializing attributes during object creation.\n",
    "Invocation: Automatically called when an object is created.\n",
    "Syntax: Defined using the __init__ method with self as the first parameter.\n",
    "\n",
    "Regular Methods:\n",
    "\n",
    "Purpose: Used for various operations or functionalities associated with the object.\n",
    "Invocation: Need to be called explicitly using the instance of the class.\n",
    "Syntax: Defined like any other function, taking self as the first parameter.\n",
    "\n",
    "\n",
    "\n",
    "\n",
    "\n"
   ]
  },
  {
   "cell_type": "markdown",
   "id": "d745d79e-5911-4266-860f-700cc4876adb",
   "metadata": {},
   "source": [
    "15. Explain the role of the `self` parameter in instance variable initialization within a constructor.\n"
   ]
  },
  {
   "cell_type": "markdown",
   "id": "aa1e9642-34fa-46b2-864a-15321713eb7b",
   "metadata": {},
   "source": [
    "Answer 15.\n",
    "\n",
    "Self parameter refers a reference to the instance of the class. It manily serves two purposes\n",
    "1) self refers to the specific instance of the class that is being created or operated on. It allows you to access and manipulate instance variables within the methods of the class.\n",
    "2) When initializing instance variables in the constructor, you use self to associate those variables with the specific instance. Without self, Python would treat the variables as local to the constructor and not as attributes of the instance."
   ]
  },
  {
   "cell_type": "markdown",
   "id": "fedfb318-0306-4672-bd75-69cc28b645ba",
   "metadata": {},
   "source": [
    "16. How do you prevent a class from having multiple instances by using constructors in Python? Provide an\n",
    "example.\n"
   ]
  },
  {
   "cell_type": "markdown",
   "id": "1ae379f7-d024-4004-80c6-8566cea87726",
   "metadata": {},
   "source": [
    "Answer 16.\n",
    "To prevent a class from having multiple instances by using constructors in Python, you can implement the Singleton design pattern. The Singleton pattern ensures that a class has only one instance and provides a global point of access to that instance. \n",
    "```python\n",
    "class SingletonClass:\n",
    "    _instance = None  # Class variable to store the instance\n",
    "\n",
    "    def __new__(cls, *args, **kwargs):\n",
    "        if not cls._instance:\n",
    "            cls._instance = super(SingletonClass, cls).__new__(cls)\n",
    "        else:\n",
    "            raise Exception(\"An instance already exists. Use the getInstance method.\")\n",
    "        return cls._instance\n",
    "\n",
    "    def __init__(self, data):\n",
    "        if not hasattr(self, 'initialized'):\n",
    "            # Initialize the object only if it hasn't been initialized before\n",
    "            self.data = data\n",
    "            self.initialized = True\n",
    "\n",
    "    @classmethod\n",
    "    def getInstance(cls):\n",
    "        # Use this method to get the instance of the class\n",
    "        if not cls._instance:\n",
    "            return cls(\"Default Data\")\n",
    "        return cls._instance\n",
    "\n",
    "\n",
    "# Example usage:\n",
    "\n",
    "# Creating an instance using the constructor\n",
    "try:\n",
    "    instance1 = SingletonClass(\"Data for Instance 1\")\n",
    "except Exception as e:\n",
    "    print(e)\n",
    "\n",
    "# Creating an instance using the getInstance method\n",
    "instance2 = SingletonClass.getInstance()\n",
    "\n",
    "# Accessing the data attribute\n",
    "print(instance2.data)  # Output: Default Data\n",
    "```"
   ]
  },
  {
   "cell_type": "markdown",
   "id": "548086cc-02f0-4db8-b6a5-0dcad689a713",
   "metadata": {},
   "source": [
    "17. Create a Python class called `Student` with a constructor that takes a list of subjects as a parameter and\n",
    "initializes the `subjects` attribute.\n"
   ]
  },
  {
   "cell_type": "code",
   "execution_count": 4,
   "id": "b3b77d24-4e86-4830-9978-59cfb963b041",
   "metadata": {},
   "outputs": [
    {
     "name": "stdout",
     "output_type": "stream",
     "text": [
      "The subjects taken are: Math, science\n"
     ]
    }
   ],
   "source": [
    "class Student:\n",
    "    def __init__(self,subjects):\n",
    "        self.subjects = subjects\n",
    "    \n",
    "    def print_subjects(self):\n",
    "        print(\"The subjects taken are:\",\", \".join(self.subjects))\n",
    "        \n",
    "std = Student([\"Math\",\"science\"])\n",
    "std.print_subjects()"
   ]
  },
  {
   "cell_type": "markdown",
   "id": "ec93699f-10cd-4ade-b196-753bdf2c2eaf",
   "metadata": {},
   "source": [
    "18. What is the purpose of the `__del__` method in Python classes, and how does it relate to constructors?\n"
   ]
  },
  {
   "cell_type": "markdown",
   "id": "b35bb488-953c-403c-be7e-8e1769e1fd2f",
   "metadata": {},
   "source": [
    "Answer 18. \n",
    "It is a dunder method that is used to remove an object when all it's instances have been removed. The __del__ method is not directly related to constructors (such as __init__). Constructors are used for initializing an object when it is created, while __del__ is called when the object is being destroyed. Constructors and destructors serve different purposes in the lifecycle of an object."
   ]
  },
  {
   "cell_type": "markdown",
   "id": "9be7c2d5-97a9-4849-ac34-085cd4050207",
   "metadata": {},
   "source": [
    "19. Explain the use of constructor chaining in Python. Provide a practical example.\n"
   ]
  },
  {
   "cell_type": "markdown",
   "id": "aa1cd92a-ca19-4643-bb12-f51e5d6dfcf0",
   "metadata": {},
   "source": [
    "Answer 19.\n",
    "\n",
    "Constructor chaining in Python refers to the ability of a subclass to call the constructor of its superclass. This allows you to initialize attributes in the subclass and the superclass when an object of the subclass is created. The super() function is commonly used to achieve constructor chaining.\n",
    "\n",
    "```python\n",
    "class Animal:\n",
    "    def __init__(self, species):\n",
    "        self.species = species\n",
    "        print(f\"Animal of species {self.species} created.\")\n",
    "\n",
    "class Dog(Animal):\n",
    "    def __init__(self, species, breed):\n",
    "        super().__init__(species)\n",
    "        self.breed = breed\n",
    "        print(f\"Dog of breed {self.breed} created.\")\n",
    "\n",
    "# Example usage:\n",
    "\n",
    "dog_instance = Dog(\"Canine\", \"Labrador\")\n",
    "```"
   ]
  },
  {
   "cell_type": "markdown",
   "id": "7963bc5d-9b30-4baf-86ca-3851fa6e0a37",
   "metadata": {},
   "source": [
    "20. Create a Python class called `Car` with a default constructor that initializes the `make` and `model`\n",
    "attributes. Provide a method to display car information."
   ]
  },
  {
   "cell_type": "code",
   "execution_count": 2,
   "id": "81dff51e-7964-4770-8e8a-975cf11d6d68",
   "metadata": {},
   "outputs": [
    {
     "name": "stdout",
     "output_type": "stream",
     "text": [
      "The make of car is 2009\n",
      "The model of car is F1 Racer\n"
     ]
    }
   ],
   "source": [
    "class Car:\n",
    "    def __init__(self,make,model):\n",
    "        self.make = make\n",
    "        self.model = model\n",
    "    \n",
    "    def display_info(self):\n",
    "        print(\"The make of car is\", self.make)\n",
    "        print(\"The model of car is\", self.model)\n",
    "    \n",
    "se = Car(2009,\"F1 Racer\")\n",
    "se.display_info()"
   ]
  },
  {
   "cell_type": "markdown",
   "id": "707ca952-ee79-4963-a352-db91ac99c442",
   "metadata": {},
   "source": [
    "## Inheritance "
   ]
  },
  {
   "cell_type": "markdown",
   "id": "be2ec730-b7f7-4243-9661-2ddd748662aa",
   "metadata": {},
   "source": [
    "1. What is inheritance in Python? Explain its significance in object-oriented programming.\n"
   ]
  },
  {
   "cell_type": "markdown",
   "id": "be178039-1250-4cc2-ab8c-c4e699ba1944",
   "metadata": {},
   "source": [
    "Answer 1. \n",
    "Inheritance is one among the 4 pillars of oops. In python also we have the concept of inheritance, in inheritance the subclass can inherit methods and attributes from it's parent class, inheritance allows the programming to be less redundant, it makes code more usable"
   ]
  },
  {
   "cell_type": "markdown",
   "id": "b4ffa8f1-a34d-4a94-b7c8-3fb96d5613a9",
   "metadata": {},
   "source": [
    "2. Differentiate between single inheritance and multiple inheritance in Python. Provide examples for each.\n"
   ]
  },
  {
   "cell_type": "markdown",
   "id": "2c9dbabb-31b7-4042-9d79-a1a3521fd2ac",
   "metadata": {},
   "source": [
    "Answer 2.\n",
    "In single inheritance one subclass inherits from only one base class.\n",
    "Example:\n",
    "```python\n",
    "class Animal:\n",
    "    def __init__(self,name):\n",
    "        self.name = name\n",
    "    \n",
    "    def speak(self):\n",
    "        print(f\"{self.name} makes a sound\")\n",
    "\n",
    "class Dog(Animal):\n",
    "    def bark(self):\n",
    "        print(f\"{self.name} barks\")\n",
    "```\n",
    "\n",
    "In multiple inheritance one subclass inherits multiple base classes\n",
    "Example:\n",
    "```python\n",
    "class Animal:\n",
    "    def __init__(self, name):\n",
    "        self.name = name\n",
    "\n",
    "    def speak(self):\n",
    "        print(f\"{self.name} makes a sound.\")\n",
    "\n",
    "class Mammal:\n",
    "    def feed_milk(self):\n",
    "        print(f\"{self.name} feeds milk to its young ones.\")\n",
    "\n",
    "class Dog(Animal, Mammal):\n",
    "    def bark(self):\n",
    "        print(f\"{self.name} barks.\")\n",
    "\n",
    "# Example usage:\n",
    "\n",
    "dog = Dog(\"Buddy\")\n",
    "dog.speak()       # Output: Buddy makes a sound.\n",
    "dog.feed_milk()   # Output: Buddy feeds milk to its young ones.\n",
    "dog.bark()        # Output: Buddy barks.\n",
    "```"
   ]
  },
  {
   "cell_type": "markdown",
   "id": "2cce6992-4fe9-47f7-abc7-e7b0df51cd62",
   "metadata": {},
   "source": [
    "3. Create a Python class called `Vehicle` with attributes `color` and `speed`. Then, create a child class called\n",
    "`Car` that inherits from `Vehicle` and adds a `brand` attribute. Provide an example of creating a `Car` object.\n"
   ]
  },
  {
   "cell_type": "code",
   "execution_count": 2,
   "id": "aec45642-dbd0-4719-946c-53a22c22dd45",
   "metadata": {},
   "outputs": [
    {
     "name": "stdout",
     "output_type": "stream",
     "text": [
      "Color is: Red\n",
      "Speed is: 34\n",
      "Brand is: Volvo\n"
     ]
    }
   ],
   "source": [
    "class Vehcile:\n",
    "    def __init__(self,color,speed):\n",
    "        self.color = color\n",
    "        self.speed = speed\n",
    "    \n",
    "class Car(Vehcile):\n",
    "    def __init__(self,color,speed,brand):\n",
    "        super().__init__(color,speed)\n",
    "        self.brand = brand\n",
    "\n",
    "car = Car(\"Red\",34,\"Volvo\")\n",
    "\n",
    "print(\"Color is:\", car.color)\n",
    "print(\"Speed is:\", car.speed)\n",
    "print(\"Brand is:\", car.brand)"
   ]
  },
  {
   "cell_type": "markdown",
   "id": "1c5680e1-3088-4c08-b763-ecc1b2e5851a",
   "metadata": {},
   "source": [
    "4. Explain the concept of method overriding in inheritance. Provide a practical example.\n"
   ]
  },
  {
   "cell_type": "markdown",
   "id": "8150b574-e45a-4662-b6ca-43a4c15a225b",
   "metadata": {},
   "source": [
    "Answer 4.\n",
    "**Method Overriding in Inheritance:**\n",
    "\n",
    "**Definition:**\n",
    "- Method overriding is a concept in object-oriented programming where a subclass provides a specific implementation for a method that is already defined in its superclass.\n",
    "- The overridden method in the subclass has the same signature (name and parameters) as the method in the superclass.\n",
    "\n",
    "**Practical Example:**\n",
    "```python\n",
    "class Animal:\n",
    "    def speak(self):\n",
    "        return \"Generic animal sound\"\n",
    "\n",
    "class Dog(Animal):\n",
    "    def speak(self):\n",
    "        return \"Woof!\"\n",
    "\n",
    "class Cat(Animal):\n",
    "    def speak(self):\n",
    "        return \"Meow!\"\n",
    "\n",
    "# Example Usage:\n",
    "generic_animal = Animal()\n",
    "dog = Dog()\n",
    "cat = Cat()\n",
    "\n",
    "print(generic_animal.speak())  # Output: Generic animal sound\n",
    "print(dog.speak())             # Output: Woof!\n",
    "print(cat.speak())             # Output: Meow!\n",
    "```\n",
    "\n",
    "In this example:\n",
    "- The `Animal` class has a method called `speak` with a generic implementation.\n",
    "- The `Dog` and `Cat` classes inherit from the `Animal` class and provide their own specific implementation of the `speak` method.\n",
    "- When an instance of `Dog` or `Cat` calls the `speak` method, the overridden method in the subclass is executed, providing a more specific behavior than the generic implementation in the superclass.\n",
    "\n",
    "Method overriding allows subclasses to tailor the behavior of inherited methods to suit their specific characteristics while still benefiting from the common interface defined in the superclass."
   ]
  },
  {
   "cell_type": "markdown",
   "id": "976f3c48-fe7e-45d5-8b3e-823b05d40c3a",
   "metadata": {},
   "source": [
    "5. How can you access the methods and attributes of a parent class from a child class in Python? Give an\n",
    "example.\n"
   ]
  },
  {
   "cell_type": "markdown",
   "id": "fd63708a-d069-42c9-86fe-9940cf19accc",
   "metadata": {},
   "source": [
    "Answer 5.\n",
    "The attributes and methods of child class can be accesed from parent class by using super() function in python.\n",
    "Example:\n",
    "    ```python\n",
    "    class Parent:\n",
    "        def __init__(self,name):\n",
    "            self.name = name\n",
    "        def display_name(self):\n",
    "            print(\"Parent's name is\", self.name)\n",
    "    \n",
    "    class Child(Parent):\n",
    "        def __init__(self,name):\n",
    "            self.name = name\n",
    "            self.__init__(name)\n",
    "        \n",
    "        def display_infoo(self):\n",
    "            super().display_name()\n",
    "            print(\"Name of chilf is:\",self.name)\n",
    "    ```"
   ]
  },
  {
   "cell_type": "markdown",
   "id": "7e49ff8e-d235-4843-bc63-e263ad4360d1",
   "metadata": {},
   "source": [
    "6. Discuss the use of the `super()` function in Python inheritance. When and why is it used? Provide an\n",
    "example.\n"
   ]
  },
  {
   "cell_type": "markdown",
   "id": "606faf9f-6236-46da-b80f-3ed40d23e92c",
   "metadata": {},
   "source": [
    "Answer 6.\n",
    "\n",
    "super() method is used to call the methods and attributes of the parent class by it's child class. It is used when a child class needs to access any attributes or methods of it's parent class. It facilitates multiple inheritance.\n",
    "```python\n",
    "class Animal:\n",
    "    def __init__(self, name):\n",
    "        self.name = name\n",
    "\n",
    "    def speak(self):\n",
    "        print(f\"{self.name} makes a generic animal sound\")\n",
    "\n",
    "class Dog(Animal):\n",
    "    def __init__(self, name, breed):\n",
    "        super().__init__(name)\n",
    "        self.breed = breed\n",
    "\n",
    "    def speak(self):\n",
    "        super().speak()\n",
    "        print(f\"{self.name} barks\")\n",
    "\n",
    "# Example usage\n",
    "dog = Dog(name=\"Buddy\", breed=\"Labrador\")\n",
    "dog.speak()\n",
    "```"
   ]
  },
  {
   "cell_type": "markdown",
   "id": "7030b6e1-abf4-4756-a222-9e695281fa99",
   "metadata": {},
   "source": [
    "7. Create a Python class called `Animal` with a method `speak()`. Then, create child classes `Dog` and `Cat` that inherit from `Animal` and override the `speak()` method. Provide an example of using these classes.\n"
   ]
  },
  {
   "cell_type": "code",
   "execution_count": 2,
   "id": "250ce54f-9631-4b35-8d0f-d7431d25aa66",
   "metadata": {},
   "outputs": [
    {
     "name": "stdout",
     "output_type": "stream",
     "text": [
      "Generic animal sound\n",
      "Woof!\n",
      "Meow!\n"
     ]
    }
   ],
   "source": [
    "class Animal:\n",
    "    def speak(self):\n",
    "        print(\"Generic animal sound\")\n",
    "\n",
    "class Dog(Animal):\n",
    "    def speak(self):\n",
    "        print(\"Woof!\")\n",
    "\n",
    "class Cat(Animal):\n",
    "    def speak(self):\n",
    "        print(\"Meow!\")\n",
    "\n",
    "# Example usage\n",
    "animal = Animal()\n",
    "animal.speak()  # Output: Generic animal sound\n",
    "\n",
    "dog = Dog()\n",
    "dog.speak()  # Output: Woof!\n",
    "\n",
    "cat = Cat()\n",
    "cat.speak()  # Output: Meow!\n"
   ]
  },
  {
   "cell_type": "markdown",
   "id": "0194f210-5520-4fe6-9077-8abee68a1746",
   "metadata": {},
   "source": [
    "8. Explain the role of the `isinstance()` function in Python and how it relates to inheritance.\n"
   ]
  },
  {
   "cell_type": "markdown",
   "id": "052d25ee-bc68-4b96-a86c-78eebaa29ea6",
   "metadata": {},
   "source": [
    "Answer 8.\n",
    "\n",
    "isinstance() method is used to check if a particular instance belong to which class, it helps us in polymorphism. By using isinstance() method we could see which object belongs to which class and which hierchy.\n",
    "```python\n",
    "class Animal:\n",
    "    pass\n",
    "\n",
    "class Dog(Animal):\n",
    "    pass\n",
    "\n",
    "class Cat(Animal):\n",
    "    pass\n",
    "    \n",
    "animal = Animal()\n",
    "dog = Dog()\n",
    "cat = Cat()\n",
    "\n",
    "print(isinstance(cat,Animal)) #True\n",
    "print(isinstance(animal, Animal)) #True\n",
    "print(isinstance(dog,Cat)) #False\n",
    "```"
   ]
  },
  {
   "cell_type": "markdown",
   "id": "d23f5edc-b6e3-4a7f-9489-c46bc566523f",
   "metadata": {},
   "source": [
    "9. What is the purpose of the `issubclass()` function in Python? Provide an example.\n"
   ]
  },
  {
   "cell_type": "markdown",
   "id": "77e17185-69d5-43a7-b8ae-c2017a6db69f",
   "metadata": {},
   "source": [
    "Answer 9.\n",
    "\n",
    "The issubclass() function in Python is used to check if a class is a subclass of another class. It helps in determining the inheritance relationships between classes. The syntax for issubclass() is issubclass(class, classinfo).\n",
    "```python\n",
    "class Animal:\n",
    "    pass\n",
    "\n",
    "class Mammal(Animal):\n",
    "    pass\n",
    "\n",
    "class Dog(Mammal):\n",
    "    pass\n",
    "\n",
    "# Check if Dog is a subclass of Animal\n",
    "print(issubclass(Dog, Animal))  # Output: True\n",
    "\n",
    "# Check if Mammal is a subclass of Animal\n",
    "print(issubclass(Mammal, Animal))  # Output: True\n",
    "\n",
    "# Check if Dog is a subclass of Mammal\n",
    "print(issubclass(Dog, Mammal))  # Output: True\n",
    "\n",
    "# Check if Animal is a subclass of Dog (Note: In reality, it's not)\n",
    "print(issubclass(Animal, Dog))  # Output: False\n",
    "```"
   ]
  },
  {
   "cell_type": "markdown",
   "id": "dedf36d3-4a7a-487e-9d69-1d41aea6b2da",
   "metadata": {},
   "source": [
    "10. Discuss the concept of constructor inheritance in Python. How are constructors inherited in child classes?\n"
   ]
  },
  {
   "cell_type": "markdown",
   "id": "c9a6702d-f9f5-4c72-b926-3e25719e008a",
   "metadata": {},
   "source": [
    "Answer 10.\n",
    "\n",
    "\n",
    "In Python, constructor inheritance refers to the way in which child classes can inherit the constructor (init method) from their parent classes. When a child class is created, it can choose to either override the constructor of the parent class or extend it by calling the constructor of the parent class using super().\n",
    "\n",
    "If a child class does not define its own __init__ method, it implicitly inherits the constructor of the parent class. In this case, the child class will have the same constructor as the parent class.\n",
    "\n",
    "```python\n",
    "class Parent:\n",
    "    def __init__(self, name):\n",
    "        self.name = name\n",
    "\n",
    "class Child(Parent):\n",
    "    pass\n",
    "\n",
    "# Example usage\n",
    "child_obj = Child(name=\"Bob\")\n",
    "```"
   ]
  },
  {
   "cell_type": "markdown",
   "id": "94d27def-ec26-4a05-a7e0-a99e3b7d930f",
   "metadata": {},
   "source": [
    "11. Create a Python class called `Shape` with a method `area()` that calculates the area of a shape. Then, create child classes `Circle` and `Rectangle` that inherit from `Shape` and implement the `area()` method\n",
    "accordingly. Provide an example.\n"
   ]
  },
  {
   "cell_type": "code",
   "execution_count": 3,
   "id": "64904913-ca5c-49ad-98ab-defeb481e8d8",
   "metadata": {},
   "outputs": [
    {
     "name": "stdout",
     "output_type": "stream",
     "text": [
      "Area of the Circle: 78.53981633974483\n",
      "Area of the Rectangle: 24\n"
     ]
    }
   ],
   "source": [
    "import math\n",
    "\n",
    "class Shape:\n",
    "    def area(self):\n",
    "        raise NotImplementedError(\"Subclasses must implement the area() method\")\n",
    "\n",
    "class Circle(Shape):\n",
    "    def __init__(self, radius):\n",
    "        self.radius = radius\n",
    "\n",
    "    def area(self):\n",
    "        return math.pi * self.radius**2\n",
    "\n",
    "class Rectangle(Shape):\n",
    "    def __init__(self, width, height):\n",
    "        self.width = width\n",
    "        self.height = height\n",
    "\n",
    "    def area(self):\n",
    "        return self.width * self.height\n",
    "\n",
    "# Example usage\n",
    "circle_obj = Circle(radius=5)\n",
    "rectangle_obj = Rectangle(width=4, height=6)\n",
    "\n",
    "print(\"Area of the Circle:\", circle_obj.area())  # Output: 78.53981633974483\n",
    "print(\"Area of the Rectangle:\", rectangle_obj.area())  # Output: 24\n"
   ]
  },
  {
   "cell_type": "markdown",
   "id": "446c992d-487a-41f2-9072-ed10511bc37b",
   "metadata": {},
   "source": [
    "12. Explain the use of abstract base classes (ABCs) in Python and how they relate to inheritance. Provide an\n",
    "example using the `abc` module.\n"
   ]
  },
  {
   "cell_type": "markdown",
   "id": "a97feb08-9aad-4381-be2a-c77965461d7c",
   "metadata": {},
   "source": [
    "Answer 12.\n",
    "\n",
    "Abstract base classes are used to just declare a method and not define it.  An abstract class is a class that cannot be instantiated on its own and is meant to be subclassed by other classes. Abstract methods within an abstract class are methods that must be implemented by any concrete (non-abstract) subclass. ABCs help enforce a certain structure in your class hierarchy.\n",
    "\n",
    "example given below:\n",
    "```python\n",
    "import abc\n",
    "\n",
    "class Shape:\n",
    "    @abc.abstractmethod\n",
    "    def area(self):\n",
    "        pass\n",
    "\n",
    "class Circle(Shape):\n",
    "    def __init__(self, radius):\n",
    "        self.radius = radius\n",
    "\n",
    "    def area(self):\n",
    "        return 3.14 * self.radius**2\n",
    "\n",
    "class Rectangle(Shape):\n",
    "    def __init__(self, width, height):\n",
    "        self.width = width\n",
    "        self.height = height\n",
    "\n",
    "    def area(self):\n",
    "        return self.width * self.height\n",
    "\n",
    "# Example usage\n",
    "# Uncommenting the following line will result in an error because Shape is an abstract class.\n",
    "# shape_obj = Shape()\n",
    "\n",
    "circle_obj = Circle(radius=5)\n",
    "rectangle_obj = Rectangle(width=4, height=6)\n",
    "\n",
    "print(\"Area of the Circle:\", circle_obj.area())       # Output: 78.5\n",
    "print(\"Area of the Rectangle:\", rectangle_obj.area())  # Output: 24\n",
    "```"
   ]
  },
  {
   "cell_type": "markdown",
   "id": "344901f1-bc7a-45ed-9644-3954a2cfd312",
   "metadata": {},
   "source": [
    "13. How can you prevent a child class from modifying certain attributes or methods inherited from a parent\n",
    "class in Python?\n"
   ]
  },
  {
   "cell_type": "markdown",
   "id": "7634d0ba-675c-48c8-a80a-1149b499d83d",
   "metadata": {},
   "source": [
    "Answer 13.\n",
    "\n",
    "The three methods which are not full proof but can be used are:-\n",
    "1) By making the attributes of parent class protected. ALthough the attributes can be changed but it is discouraged.\n",
    "2) By making the attributes of parent class private. It doesn't allows to modify it.\n",
    "3) By using composition in place of inheritance."
   ]
  },
  {
   "cell_type": "markdown",
   "id": "335f4566-1689-41e1-8b46-b771c534dbaf",
   "metadata": {},
   "source": [
    "14. Create a Python class called `Employee` with attributes `name` and `salary`. Then, create a child class\n",
    "`Manager` that inherits from `Employee` and adds an attribute `department`. Provide an example.\n"
   ]
  },
  {
   "cell_type": "code",
   "execution_count": 6,
   "id": "9c40b333-4b9b-49e7-8297-2f12ffacc516",
   "metadata": {},
   "outputs": [
    {
     "name": "stdout",
     "output_type": "stream",
     "text": [
      "Employee - Name: John Doe\n",
      "Employee - Salary: 50000\n",
      "Manager - Name: Alice Smith\n",
      "Manager - Salary: 70000\n",
      "Manager - Department: Human Resources\n"
     ]
    }
   ],
   "source": [
    "class Employee:\n",
    "    def __init__(self, name, salary):\n",
    "        self.name = name\n",
    "        self.salary = salary\n",
    "\n",
    "class Manager(Employee):\n",
    "    def __init__(self, name, salary, department):\n",
    "        super().__init__(name, salary)\n",
    "        self.department = department\n",
    "\n",
    "# Example usage\n",
    "employee_obj = Employee(name=\"John Doe\", salary=50000)\n",
    "manager_obj = Manager(name=\"Alice Smith\", salary=70000, department=\"Human Resources\")\n",
    "\n",
    "print(\"Employee - Name:\", employee_obj.name)\n",
    "print(\"Employee - Salary:\", employee_obj.salary)\n",
    "\n",
    "print(\"Manager - Name:\", manager_obj.name)\n",
    "print(\"Manager - Salary:\", manager_obj.salary)\n",
    "print(\"Manager - Department:\", manager_obj.department)\n"
   ]
  },
  {
   "cell_type": "markdown",
   "id": "ab884487-0a10-4af7-bf88-447b80245ad9",
   "metadata": {},
   "source": [
    "15. Discuss the concept of method overloading in Python inheritance. How does it differ from method\n",
    "overriding?\n"
   ]
  },
  {
   "cell_type": "markdown",
   "id": "73716718-0f95-47da-a478-25203a516f64",
   "metadata": {},
   "source": [
    "Answer 15.\n",
    "\n",
    "Method Overriding:\n",
    "\n",
    "Occurs in inheritance when a child class provides a specific implementation for a method already defined in its parent class.\n",
    "The overridden method in the child class has the same name and the same signature (same number and types of parameters) as the method in the parent class.\n",
    "The goal is to customize or extend the behavior of the inherited method in the child class.\n",
    "\n",
    "Method Overloading:\n",
    "\n",
    "Involves defining multiple methods with the same name within a single class, but with different parameter lists.\n",
    "Achieved through default parameter values or variable-length argument lists in Python.\n",
    "The goal is to provide flexibility in calling a method with different sets of parameters."
   ]
  },
  {
   "cell_type": "markdown",
   "id": "444aab50-e287-4f9b-ae54-9c51e45494e0",
   "metadata": {},
   "source": [
    "16. Explain the purpose of the `__init__()` method in Python inheritance and how it is utilized in child classes.\n"
   ]
  },
  {
   "cell_type": "markdown",
   "id": "95442427-9ece-49f5-bd9d-eb6b91319659",
   "metadata": {},
   "source": [
    "Answer 16.\n",
    "\n",
    "the Child class, super().__init__(name) is used to call the __init__() method of the parent class (Parent). This ensures that the initialization logic in the parent class is executed before the child class adds or overrides any attributes specific to itself. In this example, the Child class has an additional attribute age.\n",
    "\n"
   ]
  },
  {
   "cell_type": "markdown",
   "id": "f6ee4967-8290-4346-945f-08a535b47671",
   "metadata": {},
   "source": [
    "17. Create a Python class called `Bird` with a method `fly()`. Then, create child classes `Eagle` and `Sparrow` that inherit from `Bird` and implement the `fly()` method differently. Provide an example of using these\n",
    "classes.\n"
   ]
  },
  {
   "cell_type": "code",
   "execution_count": 7,
   "id": "db2545dc-d2f3-4691-801e-424208e8049d",
   "metadata": {},
   "outputs": [
    {
     "name": "stdout",
     "output_type": "stream",
     "text": [
      "I am a bird and I can fly\n",
      "I am an Eagle and I can fly\n",
      "I am a Sparrow and I can fly\n"
     ]
    }
   ],
   "source": [
    "class Bird:\n",
    "    def fly(selfs):\n",
    "        print(\"I am a bird and I can fly\")\n",
    "\n",
    "class Eagle(Bird):\n",
    "    def fly(self):\n",
    "        print(\"I am an Eagle and I can fly\")\n",
    "\n",
    "class Sparrow(Bird):\n",
    "    def fly(self):\n",
    "        print(\"I am a Sparrow and I can fly\")\n",
    "\n",
    "bi = Bird()\n",
    "ea = Eagle()\n",
    "sp = Sparrow()\n",
    "bi.fly()\n",
    "ea.fly()\n",
    "sp.fly()"
   ]
  },
  {
   "cell_type": "markdown",
   "id": "a17cf859-bb00-418f-8637-3829959fc5af",
   "metadata": {},
   "source": [
    "18. What is the \"diamond problem\" in multiple inheritance, and how does Python address it?\n"
   ]
  },
  {
   "cell_type": "markdown",
   "id": "f410c4cd-d6ec-4603-be49-df299dc5515b",
   "metadata": {},
   "source": [
    "Answer 18.\n",
    "\n",
    "The diamond problem occurs when two classes have a common ancestor, and another class has both those classes as base classes, for example:\n",
    "```python\n",
    "class A:\n",
    "    def do_thing(self):\n",
    "        print('From A')\n",
    "\n",
    "class B(A):\n",
    "    def do_thing(self):\n",
    "        print('From B')\n",
    "\n",
    "class C(A):\n",
    "    def do_thing(self):\n",
    "        print('From C')\n",
    "\n",
    "class D(B, C):\n",
    "    pass\n",
    "\n",
    "d = D()\n",
    "d.do_thing()\n",
    "```\n",
    "In some languages, because of how inheritance is implemented, when you call d.do_thing(), it is ambiguous whether you actually want the overridden do_thing from B, or the one from C.\n",
    "\n",
    "Python doesn't have this problem because of the method resolution order. Briefly, when you inherit from multiple classes, if their method names conflict, the first one named takes precedence. Since we have specified D(B, C), B.do_thing is called before C.do_thing.\n",
    "\n"
   ]
  },
  {
   "cell_type": "markdown",
   "id": "341fda8f-523e-4311-865b-c47c1b148440",
   "metadata": {},
   "source": [
    "19. Discuss the concept of \"is-a\" and \"has-a\" relationships in inheritance, and provide examples of each.\n"
   ]
  },
  {
   "cell_type": "markdown",
   "id": "f2c2512e-e85e-4b68-963c-748cf9634166",
   "metadata": {},
   "source": [
    "Answer 19.\n",
    "\n",
    "\"Is-a\" Relationship:\n",
    "The \"is-a\" relationship represents an inheritance relationship, where one class is a specialized version of another. It typically involves a subclass inheriting from a superclass, indicating that an object of the subclass is also an object of the superclass.\n",
    "```python\n",
    "class Animal:\n",
    "    def make_sound(self):\n",
    "        pass\n",
    "\n",
    "class Dog(Animal):  # Dog \"is-a\" type of Animal\n",
    "    def make_sound(self):\n",
    "        print(\"Woof!\")\n",
    "\n",
    "class Cat(Animal):  # Cat \"is-a\" type of Animal\n",
    "    def make_sound(self):\n",
    "        print(\"Meow!\")\n",
    "```\n",
    "\n",
    "\"Has-a\" Relationship:\n",
    "The \"has-a\" relationship represents composition, where one class contains an instance of another class as part of its structure. It indicates that an object of one class \"has\" an object of another class.\n",
    "```python\n",
    "class Engine:\n",
    "    def start(self):\n",
    "        print(\"Engine started\")\n",
    "\n",
    "class Car:\n",
    "    def __init__(self):\n",
    "        self.engine = Engine()  # Car \"has-a\" Engine\n",
    "\n",
    "    def drive(self):\n",
    "        print(\"Car is moving\")\n",
    "```"
   ]
  },
  {
   "cell_type": "markdown",
   "id": "82d584ab-0655-42b7-a286-28d4945616c5",
   "metadata": {},
   "source": [
    "20. Create a Python class hierarchy for a university system. Start with a base class `Person` and create child\n",
    "classes `Student` and `Professor`, each with their own attributes and methods. Provide an example of using\n",
    "these classes in a university context."
   ]
  },
  {
   "cell_type": "code",
   "execution_count": 14,
   "id": "eccba8f0-0c71-43ba-b736-0cbe376ba0b4",
   "metadata": {},
   "outputs": [
    {
     "name": "stdout",
     "output_type": "stream",
     "text": [
      "Name of person is Akhil and age is 15\n",
      "Name of person is Anand and age is 45\n"
     ]
    }
   ],
   "source": [
    "class Person:\n",
    "    def __init__(self,name,age):\n",
    "        self.name = name\n",
    "        self.age = age\n",
    "        \n",
    "    def show_details(self):\n",
    "        print(\"Name of person is {} and age is {}\".format(self.name,self.age))\n",
    "\n",
    "class Student(Person):\n",
    "    def __init__(self,name,age,designation):\n",
    "        super().__init__(name,age)\n",
    "        self.designation = designation\n",
    "        \n",
    "    def show_details(self):\n",
    "        super().show_details()\n",
    "class Professor(Person):\n",
    "    def __init__(self,name,age,designation):\n",
    "        super().__init__(name,age)\n",
    "        self.designation = designation\n",
    "    \n",
    "    def show_details(self):\n",
    "        super().show_details()\n",
    "\n",
    "st = Student(\"Akhil\",15,\"Student\")\n",
    "pr = Professor(\"Anand\",45,\"Professor\")\n",
    "st.show_details()\n",
    "pr.show_details()"
   ]
  },
  {
   "cell_type": "markdown",
   "id": "6ccf93f1-9720-4bd9-8ed7-833cc7de1f9e",
   "metadata": {},
   "source": [
    "## Encapsulation"
   ]
  },
  {
   "cell_type": "markdown",
   "id": "d5c1cd49-7f6e-4980-8ba8-30f5a08b2bd2",
   "metadata": {},
   "source": [
    "\n",
    "1. Explain the concept of encapsulation in Python. What is its role in object-oriented programming?\n"
   ]
  },
  {
   "cell_type": "markdown",
   "id": "0cd2d3c7-96c1-478d-bc7e-d217ca30fcc2",
   "metadata": {},
   "source": [
    "Answer 1.\n",
    "\n",
    "Encapsulation is one of the most important pillar of oops, It describes the idea of wrapping of all data and methods in a single unit. It puts restictions on accesing the attributes and methods directly and can prevent accidental modification of data.To prevent accidental change, an object’s variable can only be changed by an object’s method. Those types of variables are known as private variables."
   ]
  },
  {
   "cell_type": "markdown",
   "id": "f0e957a0-48d5-4183-bb82-e7432b206fb9",
   "metadata": {},
   "source": [
    "2. Describe the key principles of encapsulation, including access control and data hiding.\n"
   ]
  },
  {
   "cell_type": "markdown",
   "id": "e225bc36-a545-44f1-8734-88d242b27033",
   "metadata": {},
   "source": [
    "Answer 2.\n",
    "\n",
    "The key principles of encapsulation are:-\n",
    "1) Access control: acess to the interanl components of object is managed through access modifiers. In pyhton it is acheived by using naming conventions by using single and double udnerscores before the names.\n",
    "2) Data hiding: The internal state of object and it's attributes are hidden, so that any outsider can't know how sata is stored in object.\n",
    "3) Method exposure: Only the necessary methods are exposed to the ouside world so that no unnecessary changes can be made to the program."
   ]
  },
  {
   "cell_type": "markdown",
   "id": "01a07aca-95f6-435f-a85b-02d438f73a6b",
   "metadata": {},
   "source": [
    "3. How can you achieve encapsulation in Python classes? Provide an example.\n"
   ]
  },
  {
   "cell_type": "code",
   "execution_count": 15,
   "id": "ba5be3e8-86c4-4ce5-b0d9-546f1a11acf1",
   "metadata": {},
   "outputs": [
    {
     "data": {
      "text/plain": [
       "12345"
      ]
     },
     "execution_count": 15,
     "metadata": {},
     "output_type": "execute_result"
    }
   ],
   "source": [
    "class Student:\n",
    "    def __init__(self, name, phone, roll_no):\n",
    "        self._name = name\n",
    "        self._phone = phone\n",
    "        self._roll = roll_no\n",
    "    \n",
    "    def change_phone(self,new_phone):\n",
    "        self._phone = new_phone\n",
    "\n",
    "std = Student(\"AKhil\",979270,12)\n",
    "std.change_phone(12345)\n",
    "std._phone"
   ]
  },
  {
   "cell_type": "markdown",
   "id": "ea9cfd0d-624d-45ae-98c8-14454ea2cc49",
   "metadata": {},
   "source": [
    "4. Discuss the difference between public, private, and protected access modifiers in Python.\n"
   ]
  },
  {
   "cell_type": "markdown",
   "id": "19dea64d-89f7-4f6e-b12b-2f3e96244be9",
   "metadata": {},
   "source": [
    "Answer 4.\n",
    "\n",
    "public:- the methods and attributes with public access modifires can be used any where there values can be changed everywhere.\n",
    "protected:- these access modifieres have some more restriction on the attributes and methods the attributes and methods with protected acces modifieres can only be changed inside the class and it's subclasses\n",
    "private:- these access modifiers provide the highest level of security and are only accesible for internal use."
   ]
  },
  {
   "cell_type": "markdown",
   "id": "ac41bd7f-f297-4b24-b442-dfe22da7f798",
   "metadata": {},
   "source": [
    "5. Create a Python class called `Person` with a private attribute `__name`. Provide methods to get and set the\n",
    "name attribute.\n"
   ]
  },
  {
   "cell_type": "code",
   "execution_count": 19,
   "id": "2c4b2829-13d4-4aba-9c3f-cad8d7aca974",
   "metadata": {},
   "outputs": [
    {
     "name": "stdout",
     "output_type": "stream",
     "text": [
      "Name is: Akshat\n",
      "Name is: Rakesh\n"
     ]
    }
   ],
   "source": [
    "class Person:\n",
    "    def __init__(self,name):\n",
    "        self.__name = name\n",
    "    \n",
    "    def get_name(self):\n",
    "        print(\"Name is:\",self.__name)\n",
    "    \n",
    "    def set_name(self,new_name):\n",
    "        self.__name = new_name\n",
    "\n",
    "pe = Person(\"Akshat\")\n",
    "pe.get_name()\n",
    "pe.set_name(\"Rakesh\")\n",
    "pe.get_name()"
   ]
  },
  {
   "cell_type": "markdown",
   "id": "b9eefc90-0abc-4248-aeb6-099c12be31d4",
   "metadata": {},
   "source": [
    "6. Explain the purpose of getter and setter methods in encapsulation. Provide examples.\n"
   ]
  },
  {
   "cell_type": "markdown",
   "id": "ab3f0040-1d4f-42ce-af18-e441ae58f93d",
   "metadata": {},
   "source": [
    "Answer 6.\n",
    "\n",
    "Purpose of Getter Methods:\n",
    "1)Access Control: Getter methods provide a controlled way to access the values of private attributes from outside the class. They allow external code to retrieve the value of an attribute without directly accessing the attribute itself.\n",
    "\n",
    "2)Data Validation: Getter methods can include logic for validating the data before returning it. This ensures that the returned data meets certain criteria or constraints.\n",
    "\n",
    "3)Abstraction: By using getter methods, the internal representation of the object can be abstracted from the external code. This allows the class to change its internal implementation without affecting the code that uses it.\n",
    "\n",
    "Purpose of Setter Methods:\n",
    "1)Access Control: Setter methods provide a controlled way to modify the values of private attributes. They allow external code to update the value of an attribute with the assurance that the modification adheres to certain rules or constraints.\n",
    "\n",
    "2)Data Validation: Setter methods can include logic for validating and sanitizing the data before assigning it to an attribute. This helps maintain the integrity of the object's state.\n",
    "\n",
    "3)Encapsulation: Setter methods encapsulate the details of how an attribute is updated. They provide a layer of abstraction, allowing the internal implementation of the class to change without affecting the external code.\n",
    "\n",
    "```python\n",
    "class Person:\n",
    "    def __init__(self, name, age):\n",
    "        self.__name = name\n",
    "        self.__age = age\n",
    "\n",
    "    def get_name(self):\n",
    "        return self.__name\n",
    "\n",
    "    def set_name(self, new_name):\n",
    "        # Perform validation or sanitization if needed\n",
    "        self.__name = new_name\n",
    "\n",
    "    def get_age(self):\n",
    "        return self.__age\n",
    "\n",
    "    def set_age(self, new_age):\n",
    "        # Perform validation or sanitization if needed\n",
    "        if new_age >= 0:\n",
    "            self.__age = new_age\n",
    "\n",
    "# Example usage:\n",
    "person = Person(\"John Doe\", 30)\n",
    "\n",
    "# Using getter methods\n",
    "print(person.get_name())  # Output: John Doe\n",
    "print(person.get_age())   # Output: 30\n",
    "\n",
    "# Using setter methods\n",
    "person.set_name(\"Alice\")\n",
    "person.set_age(25)\n",
    "\n",
    "print(person.get_name())  # Output: Alice\n",
    "print(person.get_age())   # Output: 25\n",
    "```"
   ]
  },
  {
   "cell_type": "markdown",
   "id": "5ba06b34-2ceb-4352-a109-46092170909d",
   "metadata": {},
   "source": [
    "7. What is name mangling in Python, and how does it affect encapsulation?\n"
   ]
  },
  {
   "cell_type": "markdown",
   "id": "cba3cce6-5f22-4237-a088-850020c653c8",
   "metadata": {},
   "source": [
    "Answer 7.\n",
    "\n",
    "Name mangling is a mechanism in Python that adds a prefix to the names of attributes in a class to make them less accessible from outside the class. This is done by prefixing the attribute name with a double underscore (__). The purpose of name mangling is to make it more difficult (but not impossible) to accidentally access or modify attributes from outside the class.\n",
    "```python\n",
    "class MyClass:\n",
    "    def __init__(self):\n",
    "        self.__private_attribute = \"I am private!\"\n",
    "\n",
    "# Accessing the mangled attribute\n",
    "obj = MyClass()\n",
    "print(obj._MyClass__private_attribute)  # Output: I am private!\n",
    "```"
   ]
  },
  {
   "cell_type": "markdown",
   "id": "a1df4956-fb9a-47ef-94ec-00023eabc75f",
   "metadata": {},
   "source": [
    "8. Create a Python class called `BankAccount` with private attributes for the account balance (`__balance`) and account number (`__account_number`). Provide methods for depositing and withdrawing money.\n"
   ]
  },
  {
   "cell_type": "code",
   "execution_count": 21,
   "id": "57301d2c-b222-456d-b43d-174335bf3dc8",
   "metadata": {},
   "outputs": [
    {
     "name": "stdout",
     "output_type": "stream",
     "text": [
      "Account Number: 123456789\n",
      "Initial Balance: $1000.0\n",
      "Deposited $500. New balance: $1500.0\n",
      "Withdrew $200. New balance: $1300.0\n",
      "Invalid withdrawal amount or insufficient funds.\n"
     ]
    }
   ],
   "source": [
    "class BankAccount:\n",
    "    def __init__(self, account_number, initial_balance=0.0):\n",
    "        self.__account_number = account_number\n",
    "        self.__balance = initial_balance\n",
    "\n",
    "    def get_balance(self):\n",
    "        return self.__balance\n",
    "\n",
    "    def deposit(self, amount):\n",
    "        if amount > 0:\n",
    "            self.__balance += amount\n",
    "            print(f\"Deposited ${amount}. New balance: ${self.__balance}\")\n",
    "        else:\n",
    "            print(\"Invalid deposit amount. Please deposit a positive amount.\")\n",
    "\n",
    "    def withdraw(self, amount):\n",
    "        if 0 < amount <= self.__balance:\n",
    "            self.__balance -= amount\n",
    "            print(f\"Withdrew ${amount}. New balance: ${self.__balance}\")\n",
    "        else:\n",
    "            print(\"Invalid withdrawal amount or insufficient funds.\")\n",
    "\n",
    "# Example usage:\n",
    "account_number = \"123456789\"\n",
    "initial_balance = 1000.0\n",
    "\n",
    "account = BankAccount(account_number, initial_balance)\n",
    "\n",
    "print(f\"Account Number: {account_number}\")\n",
    "print(f\"Initial Balance: ${initial_balance}\")\n",
    "\n",
    "# Depositing money\n",
    "account.deposit(500)\n",
    "\n",
    "# Withdrawing money\n",
    "account.withdraw(200)\n",
    "\n",
    "# Attempting to withdraw more than the balance\n",
    "account.withdraw(9000)\n"
   ]
  },
  {
   "cell_type": "markdown",
   "id": "a597301e-94b9-4781-8fc4-f7b52aa85703",
   "metadata": {},
   "source": [
    "9. Discuss the advantages of encapsulation in terms of code maintainability and security.\n"
   ]
  },
  {
   "cell_type": "markdown",
   "id": "126fd88b-c75f-4b18-b3ce-597bf2e168ad",
   "metadata": {},
   "source": [
    "Answer 9.\n",
    "\n",
    "Advantages of Encapsulation:\n",
    "\n",
    "Modularity: Organizes code into classes for better readability and maintainability.\n",
    "\n",
    "Abstraction: Hides internal details, exposing a clear interface for external code.\n",
    "\n",
    "Code Reusability: Facilitates reuse of well-designed classes in different parts of the program.\n",
    "\n",
    "Data Validation: Ensures data integrity by controlling access through getter and setter methods.\n",
    "\n",
    "Access Control: Uses private and protected modifiers to restrict or grant access, enhancing security.\n",
    "\n",
    "Security Through Hiding: Limits unauthorized access and reduces the risk of unintended interference.\n",
    "\n",
    "Code Maintenance: Facilitates changes to the internal implementation without affecting external code."
   ]
  },
  {
   "cell_type": "markdown",
   "id": "b4694712-35c8-44be-950d-97f348485967",
   "metadata": {},
   "source": [
    "10. How can you access private attributes in Python? Provide an example demonstrating the use of name\n",
    "mangling.\n"
   ]
  },
  {
   "cell_type": "markdown",
   "id": "dc08a8ac-cead-47dc-b2a5-db2555b72365",
   "metadata": {},
   "source": [
    "Answer 10.\n",
    "\n",
    "To access private attributes in Python, you can use name mangling by prefixing the attribute name with _classname where classname is the name of the class with a leading underscore. Here's an example:\n",
    "```python\n",
    "class Example:\n",
    "    def __init__(self):\n",
    "        self.__private_attribute = \"I am private!\"\n",
    "\n",
    "# Accessing the private attribute using name mangling\n",
    "obj = Example()\n",
    "print(obj._Example__private_attribute)  # Output: I am private!\n",
    "```"
   ]
  },
  {
   "cell_type": "markdown",
   "id": "906ccc80-9b1a-40ab-825d-5592fc37345a",
   "metadata": {},
   "source": [
    "11. Create a Python class hierarchy for a school system, including classes for students, teachers, and courses,\n",
    "and implement encapsulation principles to protect sensitive information.\n"
   ]
  },
  {
   "cell_type": "code",
   "execution_count": 22,
   "id": "8f0203f6-785d-4552-9bd4-5386d5e2993f",
   "metadata": {},
   "outputs": [
    {
     "name": "stdout",
     "output_type": "stream",
     "text": [
      "Alice\n",
      "S12345\n",
      "T98765\n",
      "Mathematics\n",
      "Mr. Smith\n",
      "Alice\n"
     ]
    }
   ],
   "source": [
    "class Person:\n",
    "    def __init__(self, name, age):\n",
    "        self._name = name  # Protected attribute\n",
    "        self._age = age    # Protected attribute\n",
    "\n",
    "    def get_name(self):\n",
    "        return self._name\n",
    "\n",
    "    def get_age(self):\n",
    "        return self._age\n",
    "\n",
    "class Student(Person):\n",
    "    def __init__(self, name, age, student_id):\n",
    "        super().__init__(name, age)\n",
    "        self.__student_id = student_id  # Private attribute\n",
    "\n",
    "    def get_student_id(self):\n",
    "        return self.__student_id\n",
    "\n",
    "class Teacher(Person):\n",
    "    def __init__(self, name, age, employee_id):\n",
    "        super().__init__(name, age)\n",
    "        self.__employee_id = employee_id  # Private attribute\n",
    "\n",
    "    def get_employee_id(self):\n",
    "        return self.__employee_id\n",
    "\n",
    "class Course:\n",
    "    def __init__(self, course_name, teacher, students):\n",
    "        self.__course_name = course_name  # Private attribute\n",
    "        self.__teacher = teacher          # Private attribute\n",
    "        self.__students = students        # Private attribute\n",
    "\n",
    "    def get_course_name(self):\n",
    "        return self.__course_name\n",
    "\n",
    "    def get_teacher(self):\n",
    "        return self.__teacher\n",
    "\n",
    "    def get_students(self):\n",
    "        return self.__students\n",
    "\n",
    "# Example usage:\n",
    "student = Student(\"Alice\", 18, \"S12345\")\n",
    "teacher = Teacher(\"Mr. Smith\", 35, \"T98765\")\n",
    "course = Course(\"Mathematics\", teacher, [student])\n",
    "\n",
    "print(student.get_name())             # Accessing protected attribute\n",
    "print(student.get_student_id())       # Accessing private attribute\n",
    "print(teacher.get_employee_id())      # Accessing private attribute\n",
    "print(course.get_course_name())       # Accessing private attribute\n",
    "print(course.get_teacher().get_name())  # Accessing private attribute through composition\n",
    "print(course.get_students()[0].get_name())  # Accessing private attribute through composition\n"
   ]
  },
  {
   "cell_type": "markdown",
   "id": "36df8c52-76f1-4329-8970-c3055ea58f62",
   "metadata": {},
   "source": [
    "12. Explain the concept of property decorators in Python and how they relate to encapsulation.\n"
   ]
  },
  {
   "cell_type": "markdown",
   "id": "607db898-66cc-4712-97db-1e4b13615b1f",
   "metadata": {},
   "source": [
    "Answer 12.\n",
    "\n",
    "In Python, the property decorator is used to create properties, which are a special kind of attribute that can be accessed and modified like a regular attribute but is controlled by getter, setter, and deleter methods. Properties provide a way to implement computed attributes and add additional behavior to attribute access.\n",
    "\n",
    "**Getter Method:**\n",
    "\n",
    "Encapsulation: The getter method allows controlled access to an attribute by providing a way to retrieve its value. This encapsulates the internal representation of the attribute.\n",
    "Example:\n",
    "```python\n",
    "class MyClass:\n",
    "    def __init__(self):\n",
    "        self._value = 0\n",
    "\n",
    "    @property\n",
    "    def value(self):\n",
    "        return self._value\n",
    "```\n",
    "\n",
    "**Setter Method:**\n",
    "\n",
    "Encapsulation: The setter method allows controlled modification of an attribute by providing validation or additional logic. This ensures data integrity and encapsulates the details of how the attribute is updated.\n",
    "Example:\n",
    "```python\n",
    "class MyClass:\n",
    "    def __init__(self):\n",
    "        self._value = 0\n",
    "\n",
    "    @property\n",
    "    def value(self):\n",
    "        return self._value\n",
    "\n",
    "    @value.setter\n",
    "    def value(self, new_value):\n",
    "        if new_value >= 0:\n",
    "            self._value = new_value\n",
    "        else:\n",
    "            print(\"Invalid value. Please provide a non-negative value.\")\n",
    "```\n",
    "**Deleter Method:**\n",
    "\n",
    "Encapsulation: The deleter method allows controlled deletion of an attribute, which may involve cleanup or additional actions. This encapsulates the details of how an attribute is removed.\n",
    "Example:\n",
    "```python\n",
    "class MyClass:\n",
    "    def __init__(self):\n",
    "        self._value = 0\n",
    "\n",
    "    @property\n",
    "    def value(self):\n",
    "        return self._value\n",
    "\n",
    "    @value.deleter\n",
    "    def value(self):\n",
    "        print(\"Deleting value.\")\n",
    "        del self._value\n",
    "```"
   ]
  },
  {
   "cell_type": "markdown",
   "id": "74eeb62f-0afa-40bd-9a53-ac115cfc17a0",
   "metadata": {},
   "source": [
    "13. What is data hiding, and why is it important in encapsulation? Provide examples.\n"
   ]
  },
  {
   "cell_type": "markdown",
   "id": "bb554506-927c-46bf-8962-92e305edcef4",
   "metadata": {},
   "source": [
    "Answer 13.\n",
    "\n",
    "Data hiding in encapsulation involves making attributes private to restrict direct access. It enhances security, abstraction, and flexibility by exposing only necessary information through controlled methods.\n",
    "```python\n",
    "class Example:\n",
    "    def __init__(self):\n",
    "        self.__private_attribute = \"Hidden\"\n",
    "\n",
    "    def get_private_attribute(self):\n",
    "        return self.__private_attribute\n",
    "```"
   ]
  },
  {
   "cell_type": "markdown",
   "id": "a74a11dc-fcea-4fd1-be02-9778674172b9",
   "metadata": {},
   "source": [
    "14. Create a Python class called `Employee` with private attributes for salary (`__salary`) and employee ID (`__employee_id`). Provide a method to calculate yearly bonuses.\n"
   ]
  },
  {
   "cell_type": "code",
   "execution_count": 25,
   "id": "305a517f-50a0-4024-b92a-5a1118be52fe",
   "metadata": {},
   "outputs": [
    {
     "name": "stdout",
     "output_type": "stream",
     "text": [
      "Yearly Bonus for Employee E12345: $5000.0\n"
     ]
    }
   ],
   "source": [
    "class Employee:\n",
    "    def __init__(self, employee_id, salary):\n",
    "        self.__employee_id = employee_id  # Private attribute\n",
    "        self.__salary = salary            # Private attribute\n",
    "\n",
    "    def get_employee_id(self):\n",
    "        return self.__employee_id\n",
    "\n",
    "    def calculate_yearly_bonus(self, bonus_percentage):\n",
    "        if 0 <= bonus_percentage <= 100:\n",
    "            bonus_amount = (bonus_percentage / 100) * self.__salary\n",
    "            return bonus_amount\n",
    "        else:\n",
    "            print(\"Invalid bonus percentage. Please provide a percentage between 0 and 100.\")\n",
    "            return 0\n",
    "\n",
    "# Example usage:\n",
    "employee = Employee(\"E12345\", 50000.0)\n",
    "\n",
    "# Accessing private attributes is prevented\n",
    "# print(employee.__employee_id)  # Raises AttributeError\n",
    "# print(employee.__salary)       # Raises AttributeError\n",
    "\n",
    "# Calculating and printing yearly bonus\n",
    "bonus_percentage = 10\n",
    "yearly_bonus = employee.calculate_yearly_bonus(bonus_percentage)\n",
    "print(f\"Yearly Bonus for Employee {employee.get_employee_id()}: ${yearly_bonus}\")\n"
   ]
  },
  {
   "cell_type": "markdown",
   "id": "5dc1ebf6-98ff-4456-a606-4b1f1f198afa",
   "metadata": {},
   "source": [
    "15. Discuss the use of accessors and mutators in encapsulation. How do they help maintain control over\n",
    "attribute access?\n"
   ]
  },
  {
   "cell_type": "markdown",
   "id": "833716de-dc9c-45d3-9dce-7f975e360699",
   "metadata": {},
   "source": [
    "Answer 15.\n",
    "\n",
    "Accessors (Getters):\n",
    "\n",
    "Purpose: Provide controlled access to private attributes.\n",
    "Example: def get_attribute(self): return self._attribute\n",
    "Benefits: Enables read-only access, includes additional logic if needed.\n",
    "Mutators (Setters):\n",
    "\n",
    "Purpose: Allow controlled modification of attribute values.\n",
    "Example: def set_attribute(self, new_value): self._attribute = new_value if condition else default_value\n",
    "Benefits: Facilitates validation, includes additional logic during modification.\n",
    "How They Help Maintain Control:\n",
    "\n",
    "Controlled Access: Ensure attribute access and modification follow defined methods.\n",
    "Data Validation: Validate and enforce rules before modifying attribute values.\n",
    "Encapsulation: Hide internal details, promote a clear external interface.\n",
    "Flexibility: Allow for future modifications without affecting external code.\n",
    "Security: Prevent direct manipulation, enforce rules for changes.\n",
    "Consistency: Maintain a standardized and predictable interface."
   ]
  },
  {
   "cell_type": "markdown",
   "id": "3d7fd6ac-8795-4f3d-a218-e5d3e25be829",
   "metadata": {},
   "source": [
    "16. What are the potential drawbacks or disadvantages of using encapsulation in Python?\n"
   ]
  },
  {
   "cell_type": "markdown",
   "id": "43283fc5-5f19-4cd9-aa7e-2be6c5f25af6",
   "metadata": {},
   "source": [
    "Answer 16.\n",
    "\n",
    "\n",
    "Potential Drawbacks of Encapsulation in Python:\n",
    "\n",
    "Complexity Overhead:\n",
    "\n",
    "Drawback: Increased code complexity and verbosity with getter and setter methods.\n",
    "Reduced Direct Access:\n",
    "\n",
    "Drawback: Limits direct access to attributes, potentially hindering certain scenarios.\n",
    "Performance Overhead:\n",
    "\n",
    "Drawback: Slight performance overhead compared to direct attribute access.\n",
    "Boilerplate Code:\n",
    "\n",
    "Drawback: The need for defining getter and setter methods may lead to boilerplate code.\n",
    "Learning Curve:\n",
    "\n",
    "Drawback: Understanding encapsulation might pose a learning curve for beginners.\n",
    "Flexibility Concerns:\n",
    "\n",
    "Drawback: Overly strict encapsulation may limit flexibility in certain scenarios.\n",
    "Debugging Challenges:\n",
    "\n",
    "Drawback: Encapsulation can make debugging more challenging when internal details are hidden.\n",
    "Maintenance Overhead:\n",
    "\n",
    "Drawback: Modifications to the internal structure may require changes to multiple getter and setter methods."
   ]
  },
  {
   "cell_type": "markdown",
   "id": "1df29258-216b-4c5b-9ca5-cfbfc21c271e",
   "metadata": {},
   "source": [
    "17. Create a Python class for a library system that encapsulates book information, including titles, authors,\n",
    "and availability status.\n"
   ]
  },
  {
   "cell_type": "code",
   "execution_count": 1,
   "id": "75abf773-d879-4aa0-bf68-5e726a660bf7",
   "metadata": {},
   "outputs": [
    {
     "name": "stdout",
     "output_type": "stream",
     "text": [
      "Title: The Catcher in the Rye, Author: J.D. Salinger, Available: True\n",
      "Book 'The Catcher in the Rye' by J.D. Salinger is borrowed.\n",
      "Available after borrowing: False\n",
      "Book 'The Catcher in the Rye' by J.D. Salinger is returned.\n",
      "Available after returning: True\n"
     ]
    }
   ],
   "source": [
    "class Book:\n",
    "    def __init__(self, title, author):\n",
    "        self._title = title  # Protected attribute\n",
    "        self._author = author  # Protected attribute\n",
    "        self._available = True  # Protected attribute\n",
    "\n",
    "    def get_title(self):\n",
    "        return self._title\n",
    "\n",
    "    def get_author(self):\n",
    "        return self._author\n",
    "\n",
    "    def is_available(self):\n",
    "        return self._available\n",
    "\n",
    "    def borrow_book(self):\n",
    "        if self._available:\n",
    "            print(f\"Book '{self._title}' by {self._author} is borrowed.\")\n",
    "            self._available = False\n",
    "        else:\n",
    "            print(f\"Book '{self._title}' is currently not available.\")\n",
    "\n",
    "    def return_book(self):\n",
    "        print(f\"Book '{self._title}' by {self._author} is returned.\")\n",
    "        self._available = True\n",
    "\n",
    "# Example usage:\n",
    "book1 = Book(\"The Catcher in the Rye\", \"J.D. Salinger\")\n",
    "book2 = Book(\"To Kill a Mockingbird\", \"Harper Lee\")\n",
    "\n",
    "print(f\"Title: {book1.get_title()}, Author: {book1.get_author()}, Available: {book1.is_available()}\")\n",
    "book1.borrow_book()\n",
    "print(f\"Available after borrowing: {book1.is_available()}\")\n",
    "book1.return_book()\n",
    "print(f\"Available after returning: {book1.is_available()}\")\n"
   ]
  },
  {
   "cell_type": "markdown",
   "id": "99b839ef-2099-458d-a886-ba586d9a667e",
   "metadata": {},
   "source": [
    "18. Explain how encapsulation enhances code reusability and modularity in Python programs."
   ]
  },
  {
   "cell_type": "markdown",
   "id": "6c2afa96-57ec-4366-bfd8-f5365731b4d3",
   "metadata": {},
   "source": [
    "Answer 18.\n",
    "\n",
    "Encapsulation enhances code reusability and modularity in Python by promoting abstraction, controlled access through methods, data validation, and providing a clear interface. This facilitates the reuse of modular components, simplifies code maintenance, and ensures reliability."
   ]
  },
  {
   "cell_type": "markdown",
   "id": "6aa08857-b4e2-4990-a55a-218b248b6b7d",
   "metadata": {},
   "source": [
    "19. Describe the concept of information hiding in encapsulation. Why is it essential in software development?\n"
   ]
  },
  {
   "cell_type": "markdown",
   "id": "bff73edc-6f60-4d41-a557-4e21b9f6a150",
   "metadata": {},
   "source": [
    "Answer 19.\n",
    "\n",
    "Information hiding in encapsulation conceals internal details, exposing only essential information through well-defined interfaces. It is crucial in software development for security, flexibility, reduced complexity, code organization, ease of use, and preventing unintended interference."
   ]
  },
  {
   "cell_type": "markdown",
   "id": "72975952-6b62-422f-a6bc-d0b38cf48055",
   "metadata": {},
   "source": [
    "20. Create a Python class called `Customer` with private attributes for customer details like name, address,\n",
    "and contact information. Implement encapsulation to ensure data integrity and security."
   ]
  },
  {
   "cell_type": "code",
   "execution_count": 2,
   "id": "b2c21ae3-6153-4903-9f06-ceeae9be7c69",
   "metadata": {},
   "outputs": [
    {
     "name": "stdout",
     "output_type": "stream",
     "text": [
      "Customer Name: John Doe\n",
      "Customer Address: 123 Main Street\n",
      "Customer Contact Info: john.doe@example.com\n",
      "Updated Contact Info: new.email@example.com\n"
     ]
    }
   ],
   "source": [
    "class Customer:\n",
    "    def __init__(self, name, address, contact_info):\n",
    "        self.__name = name          # Private attribute\n",
    "        self.__address = address    # Private attribute\n",
    "        self.__contact_info = contact_info  # Private attribute\n",
    "\n",
    "    def get_name(self):\n",
    "        return self.__name\n",
    "\n",
    "    def get_address(self):\n",
    "        return self.__address\n",
    "\n",
    "    def get_contact_info(self):\n",
    "        return self.__contact_info\n",
    "\n",
    "    def update_contact_info(self, new_contact_info):\n",
    "        # Example: Validation logic can be added here\n",
    "        self.__contact_info = new_contact_info\n",
    "\n",
    "# Example usage:\n",
    "customer = Customer(\"John Doe\", \"123 Main Street\", \"john.doe@example.com\")\n",
    "\n",
    "# Accessing private attributes through getter methods\n",
    "print(f\"Customer Name: {customer.get_name()}\")\n",
    "print(f\"Customer Address: {customer.get_address()}\")\n",
    "print(f\"Customer Contact Info: {customer.get_contact_info()}\")\n",
    "\n",
    "# Updating contact information through a method\n",
    "customer.update_contact_info(\"new.email@example.com\")\n",
    "print(f\"Updated Contact Info: {customer.get_contact_info()}\")\n"
   ]
  },
  {
   "cell_type": "markdown",
   "id": "88ddb8fc-ba4a-40d5-a87b-32db6348bb5e",
   "metadata": {},
   "source": [
    "## Polymorphism"
   ]
  },
  {
   "cell_type": "markdown",
   "id": "c154ac12-bf67-43f1-a796-10e4e1ae170a",
   "metadata": {},
   "source": [
    "1. What is polymorphism in Python? Explain how it is related to object-oriented programming.\n"
   ]
  },
  {
   "cell_type": "markdown",
   "id": "85f3d0e4-ce2a-421f-9859-e9a0cdd303f4",
   "metadata": {},
   "source": [
    "Answer 1.\n",
    "\n",
    "Polymorphism in Python:\n",
    "\n",
    "Definition: Polymorphism is a concept in object-oriented programming that allows objects of different classes to be treated as objects of a common base class. It enables a single interface to represent different types or forms, providing a way for objects to be used interchangeably.\n",
    "\n",
    "Types of Polymorphism:\n",
    "\n",
    "Compile-time (Static) Polymorphism:\n",
    "\n",
    "Example: Function overloading, where multiple functions have the same name but differ in the number or types of parameters.\n",
    "Usage: Resolved at compile time based on the function signature.\n",
    "Run-time (Dynamic) Polymorphism:\n",
    "\n",
    "Example: Method overriding, where a subclass provides a specific implementation of a method that is already defined in its superclass.\n",
    "Usage: Resolved at runtime based on the actual type of the object."
   ]
  },
  {
   "cell_type": "markdown",
   "id": "ae702217-ad20-46ba-aa98-1e5f90bc1128",
   "metadata": {},
   "source": [
    "2. Describe the difference between compile-time polymorphism and runtime polymorphism in Python.\n"
   ]
  },
  {
   "cell_type": "markdown",
   "id": "362f6d61-fadc-48c8-8300-4f1f31a2d21b",
   "metadata": {},
   "source": [
    "Answer 2.\n",
    "\n",
    "Compile-time (Static) Polymorphism:\n",
    "\n",
    "Example: Function overloading, where multiple functions have the same name but differ in the number or types of parameters.\n",
    "Usage: Resolved at compile time based on the function signature.\n",
    "Run-time (Dynamic) Polymorphism:\n",
    "\n",
    "Example: Method overriding, where a subclass provides a specific implementation of a method that is already defined in its superclass.\n",
    "Usage: Resolved at runtime based on the actual type of the object."
   ]
  },
  {
   "cell_type": "markdown",
   "id": "17ca6157-f4e9-4eb0-85ce-8aa6f8058761",
   "metadata": {},
   "source": [
    "3. Create a Python class hierarchy for shapes (e.g., circle, square, triangle) and demonstrate polymorphism\n",
    "through a common method, such as `calculate_area()`.\n"
   ]
  },
  {
   "cell_type": "code",
   "execution_count": 3,
   "id": "07416cb2-de66-4445-b036-6fa4b187ada7",
   "metadata": {},
   "outputs": [
    {
     "name": "stdout",
     "output_type": "stream",
     "text": [
      "Area of Circle: 28.274333882308138\n",
      "Area of Square: 16\n",
      "Area of Triangle: 15.0\n"
     ]
    }
   ],
   "source": [
    "import math\n",
    "\n",
    "class Shape:\n",
    "    def calculate_area(self):\n",
    "        pass\n",
    "\n",
    "class Circle(Shape):\n",
    "    def __init__(self, radius):\n",
    "        self.radius = radius\n",
    "\n",
    "    def calculate_area(self):\n",
    "        return math.pi * self.radius ** 2\n",
    "\n",
    "class Square(Shape):\n",
    "    def __init__(self, side_length):\n",
    "        self.side_length = side_length\n",
    "\n",
    "    def calculate_area(self):\n",
    "        return self.side_length ** 2\n",
    "\n",
    "class Triangle(Shape):\n",
    "    def __init__(self, base, height):\n",
    "        self.base = base\n",
    "        self.height = height\n",
    "\n",
    "    def calculate_area(self):\n",
    "        return 0.5 * self.base * self.height\n",
    "\n",
    "# Example usage demonstrating polymorphism\n",
    "shapes = [Circle(3), Square(4), Triangle(5, 6)]\n",
    "\n",
    "for shape in shapes:\n",
    "    print(f\"Area of {shape.__class__.__name__}: {shape.calculate_area()}\")\n"
   ]
  },
  {
   "cell_type": "markdown",
   "id": "d2d68775-d208-4e2e-9bbd-4c3f141237ba",
   "metadata": {},
   "source": [
    "4. Explain the concept of method overriding in polymorphism. Provide an example.\n"
   ]
  },
  {
   "cell_type": "markdown",
   "id": "bac85e59-1d0a-4091-a3be-b0dbdc7246aa",
   "metadata": {},
   "source": [
    "Answer 4.\n",
    "\n",
    "Method Overriding in Polymorphism:\n",
    "\n",
    "Concept:\n",
    "Method overriding is a polymorphic feature that allows a subclass to provide a specific implementation of a method that is already defined in its superclass. The overridden method in the subclass has the same signature (name, parameters, return type) as the method in the superclass. When an object of the subclass is used, the overridden method in the subclass is invoked instead of the method in the superclass.\n",
    "```python\n",
    "class Animal:\n",
    "    def speak(self):\n",
    "        return \"Generic animal sound\"\n",
    "\n",
    "class Dog(Animal):\n",
    "    def speak(self):\n",
    "        return \"Woof!\"\n",
    "\n",
    "class Cat(Animal):\n",
    "    def speak(self):\n",
    "        return \"Meow!\"\n",
    "\n",
    "# Example usage demonstrating method overriding\n",
    "dog = Dog()\n",
    "cat = Cat()\n",
    "\n",
    "print(dog.speak())  # Invokes overridden speak() method in Dog class\n",
    "print(cat.speak())  # Invokes overridden speak() method in Cat class\n",
    "```\n",
    "\n"
   ]
  },
  {
   "cell_type": "markdown",
   "id": "31b99761-f847-4213-aac7-f42a307e85cc",
   "metadata": {},
   "source": [
    "5. How is polymorphism different from method overloading in Python? Provide examples for both.\n"
   ]
  },
  {
   "cell_type": "markdown",
   "id": "639fca49-6005-48e6-a0fc-6866f5842f5a",
   "metadata": {},
   "source": [
    "Answer 5.\n",
    "\n",
    "Polymorphism:\n",
    "\n",
    "Definition: Allows objects of different types to be treated as objects of a common base class, achieved through method overriding.\n",
    "Example:\n",
    "```python\n",
    "class Animal:\n",
    "    def speak(self):\n",
    "        return \"Generic animal sound\"\n",
    "\n",
    "class Dog(Animal):\n",
    "    def speak(self):\n",
    "        return \"Woof!\"\n",
    "\n",
    "class Cat(Animal):\n",
    "    def speak(self):\n",
    "        return \"Meow!\"\n",
    "\n",
    "dog = Dog()\n",
    "cat = Cat()\n",
    "\n",
    "print(dog.speak())  # Woof!\n",
    "print(cat.speak())  # Meow!\n",
    "```\n",
    "\n",
    "Method Overloading:\n",
    "\n",
    "Definition: Involves defining multiple methods with the same name but different parameters within the same class.\n",
    "Example: Python does not natively support method overloading; achieving similar functionality is done through default parameter values or variable-length argument lists.\n"
   ]
  },
  {
   "cell_type": "markdown",
   "id": "1bfa35f0-5eca-4eb9-a5c6-678efdf20929",
   "metadata": {},
   "source": [
    "6. Create a Python class called `Animal` with a method `speak()`. Then, create child classes like `Dog`, `Cat`, and `Bird`, each with their own `speak()` method. Demonstrate polymorphism by calling the `speak()` method\n",
    "on objects of different subclasses.\n"
   ]
  },
  {
   "cell_type": "code",
   "execution_count": 4,
   "id": "441d0880-b0c9-4b00-a018-73cb74fcddfc",
   "metadata": {},
   "outputs": [
    {
     "name": "stdout",
     "output_type": "stream",
     "text": [
      "Woof!\n",
      "Meow!\n",
      "Chirp!\n"
     ]
    }
   ],
   "source": [
    "class Animal:\n",
    "    def speak(self):\n",
    "        return \"Generic animal sound\"\n",
    "\n",
    "class Dog(Animal):\n",
    "    def speak(self):\n",
    "        return \"Woof!\"\n",
    "\n",
    "class Cat(Animal):\n",
    "    def speak(self):\n",
    "        return \"Meow!\"\n",
    "\n",
    "class Bird(Animal):\n",
    "    def speak(self):\n",
    "        return \"Chirp!\"\n",
    "\n",
    "# Example demonstrating polymorphism\n",
    "dog = Dog()\n",
    "cat = Cat()\n",
    "bird = Bird()\n",
    "\n",
    "# Polymorphic usage\n",
    "animals = [dog, cat, bird]\n",
    "\n",
    "for animal in animals:\n",
    "    print(animal.speak())\n"
   ]
  },
  {
   "cell_type": "markdown",
   "id": "1f8c385e-7141-473b-8ad6-feeca7135df3",
   "metadata": {},
   "source": [
    "7. Discuss the use of abstract methods and classes in achieving polymorphism in Python. Provide an example\n",
    "using the `abc` module.\n"
   ]
  },
  {
   "cell_type": "markdown",
   "id": "2e428ffa-8505-4742-931e-6c6ac837467f",
   "metadata": {},
   "source": [
    "Answer 7.\n",
    "**Use of Abstract Methods and Classes for Polymorphism in Python:**\n",
    "\n",
    "**Abstract Methods and Classes:**\n",
    "- **Abstract Method:** A method declared in an abstract class but has no implementation in that class. It must be implemented in its concrete (non-abstract) subclasses.\n",
    "- **Abstract Class:** A class that contains one or more abstract methods. It cannot be instantiated directly; instead, it serves as a blueprint for concrete subclasses.\n",
    "\n",
    "**Achieving Polymorphism with Abstract Classes:**\n",
    "- Abstract classes provide a way to define a common interface with abstract methods that must be implemented by its subclasses.\n",
    "- This ensures that every subclass adheres to the same interface, allowing objects of different types to be treated interchangeably.\n",
    "\n",
    "**Example using the `abc` module:**\n",
    "The `abc` (Abstract Base Classes) module in Python provides tools for defining and working with abstract classes. Here's an example:\n",
    "\n",
    "```python\n",
    "from abc import ABC, abstractmethod\n",
    "\n",
    "class Animal(ABC):\n",
    "    @abstractmethod\n",
    "    def speak(self):\n",
    "        pass\n",
    "\n",
    "class Dog(Animal):\n",
    "    def speak(self):\n",
    "        return \"Woof!\"\n",
    "\n",
    "class Cat(Animal):\n",
    "    def speak(self):\n",
    "        return \"Meow!\"\n",
    "\n",
    "class Bird(Animal):\n",
    "    def speak(self):\n",
    "        return \"Chirp!\"\n",
    "\n",
    "# Example demonstrating polymorphism using abstract classes\n",
    "dog = Dog()\n",
    "cat = Cat()\n",
    "bird = Bird()\n",
    "\n",
    "# Polymorphic usage\n",
    "animals = [dog, cat, bird]\n",
    "\n",
    "for animal in animals:\n",
    "    print(animal.speak())\n",
    "```\n",
    "\n",
    "In this example:\n",
    "\n",
    "- The `Animal` class is an abstract class with an abstract method `speak()`.\n",
    "- The `Dog`, `Cat`, and `Bird` classes inherit from `Animal` and provide concrete implementations of the `speak()` method.\n",
    "- Objects of different types (subclasses) are treated interchangeably as objects of a common base class (superclass), demonstrating polymorphism through the `speak()` method.\n",
    "\n",
    "**Output:**\n",
    "```\n",
    "Woof!\n",
    "Meow!\n",
    "Chirp!\n",
    "```\n",
    "\n",
    "This approach ensures that every subclass must implement the abstract method, enforcing a consistent interface and supporting polymorphism."
   ]
  },
  {
   "cell_type": "markdown",
   "id": "5c7a70a3-f0ba-42e1-b30f-e670aa20b982",
   "metadata": {},
   "source": [
    "8. Create a Python class hierarchy for a vehicle system (e.g., car, bicycle, boat) and implement a polymorphic `start()` method that prints a message specific to each vehicle type.\n"
   ]
  },
  {
   "cell_type": "code",
   "execution_count": 5,
   "id": "348c4ee4-d271-459c-a4b8-f4fad3ea7f3c",
   "metadata": {},
   "outputs": [
    {
     "name": "stdout",
     "output_type": "stream",
     "text": [
      "Car engine started. Vroom!\n",
      "Bicycle pedaling started. Ding ding!\n",
      "Boat engine started. Gently down the stream...\n"
     ]
    }
   ],
   "source": [
    "class Vehicle:\n",
    "    def start(self):\n",
    "        pass  # Abstract method\n",
    "\n",
    "class Car(Vehicle):\n",
    "    def start(self):\n",
    "        return \"Car engine started. Vroom!\"\n",
    "\n",
    "class Bicycle(Vehicle):\n",
    "    def start(self):\n",
    "        return \"Bicycle pedaling started. Ding ding!\"\n",
    "\n",
    "class Boat(Vehicle):\n",
    "    def start(self):\n",
    "        return \"Boat engine started. Gently down the stream...\"\n",
    "\n",
    "# Example demonstrating polymorphism with the start() method\n",
    "car = Car()\n",
    "bicycle = Bicycle()\n",
    "boat = Boat()\n",
    "\n",
    "# Polymorphic usage\n",
    "vehicles = [car, bicycle, boat]\n",
    "\n",
    "for vehicle in vehicles:\n",
    "    print(vehicle.start())\n"
   ]
  },
  {
   "cell_type": "markdown",
   "id": "1667e4d4-e3e4-4c3a-a395-37cb71813d83",
   "metadata": {},
   "source": [
    "9. Explain the significance of the `isinstance()` and `issubclass()` functions in Python polymorphism.\n"
   ]
  },
  {
   "cell_type": "markdown",
   "id": "331b0309-7199-4d16-bd35-4d6d342c3da9",
   "metadata": {},
   "source": [
    "Answer 9.\n",
    "**Significance of `isinstance()` and `issubclass()` in Python Polymorphism:**\n",
    "\n",
    "- **`isinstance()`:**\n",
    "  - **Purpose:** Checks if an object belongs to a specified class or is an instance of a subclass.\n",
    "  - **Significance:** Enables dynamic type checking, facilitating polymorphic behavior by determining the actual type of an object during runtime.\n",
    "\n",
    "- **`issubclass()`:**\n",
    "  - **Purpose:** Checks if a class is a subclass of another class.\n",
    "  - **Significance:** Allows verification of class relationships, helping in determining if a certain class can be used polymorphically in a specific context.\n",
    "\n",
    "**Example:**\n",
    "```python\n",
    "class Animal:\n",
    "    pass\n",
    "\n",
    "class Dog(Animal):\n",
    "    pass\n",
    "\n",
    "class Cat(Animal):\n",
    "    pass\n",
    "\n",
    "dog_instance = Dog()\n",
    "\n",
    "# isinstance() usage\n",
    "print(isinstance(dog_instance, Dog))   # True\n",
    "print(isinstance(dog_instance, Animal))# True\n",
    "\n",
    "# issubclass() usage\n",
    "print(issubclass(Dog, Animal))          # True\n",
    "print(issubclass(Cat, Animal))          # True\n",
    "```\n",
    "\n",
    "**Significance Summary:**\n",
    "- `isinstance()` is crucial for checking the actual type of an object, supporting polymorphism by allowing dynamic type-based decisions.\n",
    "- `issubclass()` is important for checking class relationships, aiding in determining if a class can be used polymorphically in a given context."
   ]
  },
  {
   "cell_type": "markdown",
   "id": "8a25cab1-fa7d-40e7-955d-03142dc39db7",
   "metadata": {},
   "source": [
    "10. What is the role of the `@abstractmethod` decorator in achieving polymorphism in Python? Provide an\n",
    "example.\n"
   ]
  },
  {
   "cell_type": "markdown",
   "id": "821804ae-99fa-47ef-a3de-08931b2f775b",
   "metadata": {},
   "source": [
    "Answer 10.\n",
    "**Role of `@abstractmethod` Decorator in Achieving Polymorphism in Python:**\n",
    "\n",
    "- **Purpose:** The `@abstractmethod` decorator, provided by the `abc` (Abstract Base Classes) module, marks a method as abstract in an abstract class. Abstract methods have no implementation in the abstract class but must be implemented by concrete subclasses.\n",
    "  \n",
    "- **Significance:** This decorator enforces a consistent interface across multiple classes, ensuring that subclasses adhere to the same set of methods. This consistency is essential for achieving polymorphism, as objects of different types can be treated interchangeably based on a shared interface.\n",
    "\n",
    "**Example:**\n",
    "```python\n",
    "from abc import ABC, abstractmethod\n",
    "\n",
    "class Shape(ABC):  # Abstract class\n",
    "    @abstractmethod\n",
    "    def calculate_area(self):\n",
    "        pass\n",
    "\n",
    "class Circle(Shape):\n",
    "    def __init__(self, radius):\n",
    "        self.radius = radius\n",
    "\n",
    "    def calculate_area(self):\n",
    "        return 3.14 * self.radius ** 2\n",
    "\n",
    "class Square(Shape):\n",
    "    def __init__(self, side_length):\n",
    "        self.side_length = side_length\n",
    "\n",
    "    def calculate_area(self):\n",
    "        return self.side_length ** 2\n",
    "\n",
    "# Example demonstrating polymorphism using abstract methods\n",
    "circle = Circle(5)\n",
    "square = Square(4)\n",
    "\n",
    "# Polymorphic usage\n",
    "shapes = [circle, square]\n",
    "\n",
    "for shape in shapes:\n",
    "    print(f\"Area: {shape.calculate_area()}\")\n",
    "```\n",
    "\n",
    "**Significance Summary:**\n",
    "- `@abstractmethod` ensures that the method marked as abstract has no implementation in the abstract class.\n",
    "- Abstract methods define a shared interface that concrete subclasses must implement, promoting a consistent structure across different classes.\n",
    "- This consistent interface is vital for polymorphism, allowing objects of different types to be used interchangeably based on the shared abstract methods."
   ]
  },
  {
   "cell_type": "markdown",
   "id": "9b4fcc14-8856-4c0d-866c-2cd2199f8848",
   "metadata": {},
   "source": [
    "11. Create a Python class called `Shape` with a polymorphic method `area()` that calculates the area of different shapes (e.g., circle, rectangle, triangle).\n"
   ]
  },
  {
   "cell_type": "code",
   "execution_count": 9,
   "id": "1712e0a4-8c44-43f6-bebd-97b251935f3d",
   "metadata": {},
   "outputs": [
    {
     "name": "stdout",
     "output_type": "stream",
     "text": [
      "Area: 78.53981633974483\n",
      "Area: 24\n",
      "Area: 12.0\n"
     ]
    }
   ],
   "source": [
    "from abc import ABC, abstractmethod\n",
    "import math\n",
    "\n",
    "class Shape(ABC):\n",
    "    @abstractmethod\n",
    "    def area(self):\n",
    "        pass\n",
    "\n",
    "class Circle(Shape):\n",
    "    def __init__(self, radius):\n",
    "        self.radius = radius\n",
    "\n",
    "    def area(self):\n",
    "        return math.pi * self.radius ** 2\n",
    "\n",
    "class Rectangle(Shape):\n",
    "    def __init__(self, length, width):\n",
    "        self.length = length\n",
    "        self.width = width\n",
    "\n",
    "    def area(self):\n",
    "        return self.length * self.width\n",
    "\n",
    "class Triangle(Shape):\n",
    "    def __init__(self, base, height):\n",
    "        self.base = base\n",
    "        self.height = height\n",
    "\n",
    "    def area(self):\n",
    "        return 0.5 * self.base * self.height\n",
    "\n",
    "# Example demonstrating polymorphism with the area() method\n",
    "circle = Circle(5)\n",
    "rectangle = Rectangle(4, 6)\n",
    "triangle = Triangle(3, 8)\n",
    "\n",
    "# Polymorphic usage\n",
    "shapes = [circle, rectangle, triangle]\n",
    "\n",
    "for shape in shapes:\n",
    "    print(f\"Area: {shape.area()}\")\n"
   ]
  },
  {
   "cell_type": "markdown",
   "id": "f6382260-c9e1-4225-8c37-a0da580d73d7",
   "metadata": {},
   "source": [
    "12. Discuss the benefits of polymorphism in terms of code reusability and flexibility in Python programs.\n"
   ]
  },
  {
   "cell_type": "markdown",
   "id": "bce06746-6d69-405a-912e-b82742bb77fd",
   "metadata": {},
   "source": [
    "Answer 12. **Benefits of Polymorphism in Python:**\n",
    "\n",
    "1. **Code Reusability:**\n",
    "   - **Benefit:** Allows a common interface for objects of different types, promoting code reuse.\n",
    "\n",
    "2. **Flexibility:**\n",
    "   - **Benefit:** Objects of different types can be treated interchangeably based on a shared interface, enhancing adaptability.\n",
    "\n",
    "3. **Ease of Maintenance:**\n",
    "   - **Benefit:** Changes to one part of the code do not necessarily affect other parts that adhere to the same interface, simplifying maintenance.\n",
    "\n",
    "4. **Scalability:**\n",
    "   - **Benefit:** Supports the addition of new classes without modifying existing code, facilitating scalability.\n",
    "\n",
    "5. **Modular Design:**\n",
    "   - **Benefit:** Encourages modular design with common interfaces, promoting independent and reusable modules.\n",
    "\n",
    "6. **Open-Closed Principle:**\n",
    "   - **Benefit:** Aligns with the open-closed principle, allowing extension without modification of existing code.\n",
    "\n",
    "7. **Dynamic Type Checking:**\n",
    "   - **Benefit:** Enables dynamic type checking, supporting context-aware behavior based on the actual type of an object."
   ]
  },
  {
   "cell_type": "markdown",
   "id": "dff02052-fe4d-4324-9ba0-00d6cc91ee63",
   "metadata": {},
   "source": [
    "13. Explain the use of the `super()` function in Python polymorphism. How does it help call methods of parent\n",
    "classes?\n"
   ]
  },
  {
   "cell_type": "markdown",
   "id": "9dbbc50d-3131-494c-adbd-197a9474c488",
   "metadata": {},
   "source": [
    "Answer 13.**Use of `super()` Function in Python Polymorphism:**\n",
    "\n",
    "- **Purpose:** The `super()` function is used to call methods from the parent class in the context of a subclass.\n",
    "  \n",
    "- **Significance:** In polymorphism, when a method is overridden in a subclass, `super()` allows the subclass to invoke the method from its superclass. This ensures that both the overridden method in the subclass and the original method in the superclass are executed.\n",
    "\n",
    "**Example:**\n",
    "```python\n",
    "class Animal:\n",
    "    def speak(self):\n",
    "        return \"Generic animal sound\"\n",
    "\n",
    "class Dog(Animal):\n",
    "    def speak(self):\n",
    "        return f\"{super().speak()} Woof!\"\n",
    "\n",
    "# Example demonstrating super() in polymorphism\n",
    "dog = Dog()\n",
    "\n",
    "print(dog.speak())\n",
    "```\n",
    "\n",
    "**Explanation:**\n",
    "- The `Animal` class has a method `speak()` that returns a generic animal sound.\n",
    "- The `Dog` class inherits from `Animal` and overrides the `speak()` method. Using `super().speak()` inside the `Dog` class ensures that the original `speak()` method from the `Animal` class is called.\n",
    "- The `super()` function facilitates the combination of behavior from both the subclass and the superclass.\n",
    "\n",
    "**Output:**\n",
    "```\n",
    "Generic animal sound Woof!\n",
    "```\n",
    "\n",
    "**Benefits:**\n",
    "- Ensures that the overridden method in a subclass can still utilize the functionality of the same method in its parent class.\n",
    "- Supports code reuse and maintains a clear hierarchy of behavior within the class hierarchy.\n",
    "\n",
    "In summary, the `super()` function is crucial in achieving polymorphism by allowing subclasses to call methods of their parent classes, ensuring a combination of behaviors from both the subclass and the superclass."
   ]
  },
  {
   "cell_type": "markdown",
   "id": "df1093f4-8a88-4fa8-8477-a7c77681e79f",
   "metadata": {},
   "source": [
    "14. Create a Python class hierarchy for a banking system with various account types (e.g., savings, checking, credit card) and demonstrate polymorphism by implementing a common `withdraw()` method.\n"
   ]
  },
  {
   "cell_type": "code",
   "execution_count": 10,
   "id": "a441f7ec-8044-45f5-bd42-e322ffca8ef1",
   "metadata": {},
   "outputs": [
    {
     "name": "stdout",
     "output_type": "stream",
     "text": [
      "Withdrawal of $300 from Savings Account. Remaining balance: $700\n",
      "Withdrawal of $300 from Checking Account. Remaining balance: $1700\n",
      "Withdrawal of $300 from Credit Card. Remaining credit limit: $4685.0\n",
      "Savings Account Balance: $700\n",
      "Checking Account Balance: $1700\n",
      "Credit Card Account Credit Limit: $4685.0\n"
     ]
    }
   ],
   "source": [
    "from abc import ABC, abstractmethod\n",
    "\n",
    "class BankAccount(ABC):\n",
    "    def __init__(self, account_number, balance):\n",
    "        self.account_number = account_number\n",
    "        self.balance = balance\n",
    "\n",
    "    @abstractmethod\n",
    "    def withdraw(self, amount):\n",
    "        pass\n",
    "\n",
    "class SavingsAccount(BankAccount):\n",
    "    def withdraw(self, amount):\n",
    "        if amount > self.balance:\n",
    "            return \"Insufficient funds\"\n",
    "        else:\n",
    "            self.balance -= amount\n",
    "            return f\"Withdrawal of ${amount} from Savings Account. Remaining balance: ${self.balance}\"\n",
    "\n",
    "class CheckingAccount(BankAccount):\n",
    "    def withdraw(self, amount):\n",
    "        if amount > self.balance:\n",
    "            return \"Insufficient funds\"\n",
    "        else:\n",
    "            self.balance -= amount\n",
    "            return f\"Withdrawal of ${amount} from Checking Account. Remaining balance: ${self.balance}\"\n",
    "\n",
    "class CreditCardAccount(BankAccount):\n",
    "    def withdraw(self, amount):\n",
    "        withdrawal_fee = 0.05 * amount\n",
    "        total_withdrawal = amount + withdrawal_fee\n",
    "        if total_withdrawal > self.balance:\n",
    "            return \"Insufficient credit limit\"\n",
    "        else:\n",
    "            self.balance -= total_withdrawal\n",
    "            return f\"Withdrawal of ${amount} from Credit Card. Remaining credit limit: ${self.balance}\"\n",
    "\n",
    "# Example demonstrating polymorphism with the withdraw() method\n",
    "savings_account = SavingsAccount(account_number=\"SA123\", balance=1000)\n",
    "checking_account = CheckingAccount(account_number=\"CA456\", balance=2000)\n",
    "credit_card_account = CreditCardAccount(account_number=\"CC789\", balance=5000)\n",
    "\n",
    "# Polymorphic usage\n",
    "accounts = [savings_account, checking_account, credit_card_account]\n",
    "\n",
    "for account in accounts:\n",
    "    print(account.withdraw(300))\n",
    "\n",
    "# Display final balances\n",
    "print(f\"Savings Account Balance: ${savings_account.balance}\")\n",
    "print(f\"Checking Account Balance: ${checking_account.balance}\")\n",
    "print(f\"Credit Card Account Credit Limit: ${credit_card_account.balance}\")\n"
   ]
  },
  {
   "cell_type": "markdown",
   "id": "6fd38edc-36e6-4e29-9761-26c23a9e64f2",
   "metadata": {},
   "source": [
    "15. Describe the concept of operator overloading in Python and how it relates to polymorphism. Provide\n",
    "examples using operators like `+` and `*`.\n"
   ]
  },
  {
   "cell_type": "markdown",
   "id": "44d60922-a89d-4f98-9434-c660e2202090",
   "metadata": {},
   "source": [
    "Answer 15.\n",
    "**Concept of Operator Overloading in Python and its Relation to Polymorphism:**\n",
    "\n",
    "- **Operator Overloading:**\n",
    "  - **Definition:** Operator overloading in Python refers to defining how an operator behaves for user-defined objects. It allows you to define special methods in a class that will be called when certain operators are used on objects of that class.\n",
    "  - **Significance:** Enables the customization of the behavior of operators for user-defined types, making objects of those types compatible with standard operators.\n",
    "\n",
    "- **Relation to Polymorphism:**\n",
    "  - **Polymorphism Aspect:** Operator overloading is a form of polymorphism known as \"ad-hoc polymorphism\" or \"compile-time polymorphism.\" It allows objects of different types to be used interchangeably with common operators.\n",
    "  - **Consistent Interface:** By defining how operators behave for user-defined classes, operator overloading promotes a consistent interface across different types, supporting polymorphic behavior.\n",
    "\n",
    "**Examples using + and * operators:**\n",
    "\n",
    "```python\n",
    "class ComplexNumber:\n",
    "    def __init__(self, real, imag):\n",
    "        self.real = real\n",
    "        self.imag = imag\n",
    "\n",
    "    # Operator overloading for addition (+)\n",
    "    def __add__(self, other):\n",
    "        return ComplexNumber(self.real + other.real, self.imag + other.imag)\n",
    "\n",
    "    # Operator overloading for multiplication (*)\n",
    "    def __mul__(self, other):\n",
    "        # (a + bi) * (c + di) = (ac - bd) + (ad + bc)i\n",
    "        return ComplexNumber(\n",
    "            self.real * other.real - self.imag * other.imag,\n",
    "            self.real * other.imag + self.imag * other.real\n",
    "        )\n",
    "\n",
    "    def __str__(self):\n",
    "        return f\"{self.real} + {self.imag}i\"\n",
    "\n",
    "# Example demonstrating operator overloading and polymorphism\n",
    "complex_num1 = ComplexNumber(2, 3)\n",
    "complex_num2 = ComplexNumber(1, -2)\n",
    "\n",
    "# Overloaded addition\n",
    "result_addition = complex_num1 + complex_num2\n",
    "print(\"Addition:\", result_addition)\n",
    "\n",
    "# Overloaded multiplication\n",
    "result_multiplication = complex_num1 * complex_num2\n",
    "print(\"Multiplication:\", result_multiplication)\n",
    "```\n",
    "\n",
    "**Output:**\n",
    "```\n",
    "Addition: 3 + 1i\n",
    "Multiplication: 8 + -1i\n",
    "```\n",
    "\n",
    "**Explanation:**\n",
    "- The `ComplexNumber` class defines special methods `__add__` and `__mul__` for overloading the addition and multiplication operators, respectively.\n",
    "- When the `+` and `*` operators are used with objects of the `ComplexNumber` class, the corresponding special methods are called, providing a custom behavior.\n",
    "- This approach ensures a consistent and intuitive use of operators across different types, showcasing polymorphic behavior through operator overloading.\n",
    "\n",
    "In summary, operator overloading in Python allows the customization of operator behavior for user-defined types, contributing to a consistent interface and supporting polymorphism by allowing objects of different types to use common operators in an intuitive way."
   ]
  },
  {
   "cell_type": "markdown",
   "id": "49ae943a-0710-40c2-9e35-c080b2617a10",
   "metadata": {},
   "source": [
    "16. What is dynamic polymorphism, and how is it achieved in Python?\n"
   ]
  },
  {
   "cell_type": "markdown",
   "id": "308a7728-db4c-48ea-b8bb-dc986dc99220",
   "metadata": {},
   "source": [
    "Answer 16.**Dynamic Polymorphism:**\n",
    "- **Definition:** Runtime polymorphism that allows the selection of methods at runtime based on the actual type of objects.\n",
    "- **Achieved in Python:** Through method overriding, inheritance, and dynamic binding.\n",
    "\n",
    "**Example:**\n",
    "```python\n",
    "class Animal:\n",
    "    def speak(self):\n",
    "        return \"Generic animal sound\"\n",
    "\n",
    "class Dog(Animal):\n",
    "    def speak(self):\n",
    "        return \"Woof!\"\n",
    "\n",
    "class Cat(Animal):\n",
    "    def speak(self):\n",
    "        return \"Meow!\"\n",
    "\n",
    "# Dynamic polymorphism\n",
    "dog = Dog()\n",
    "cat = Cat()\n",
    "\n",
    "print(dog.speak())  # Woof!\n",
    "print(cat.speak())  # Meow!\n",
    "```\n",
    "\n",
    "**Benefits:**\n",
    "- **Code Reusability:** Objects of different types can be used interchangeably.\n",
    "- **Flexibility:** Supports dynamic method invocation based on the actual type at runtime."
   ]
  },
  {
   "cell_type": "markdown",
   "id": "b94fdb3e-4266-486f-ba43-988977f224b5",
   "metadata": {},
   "source": [
    "17. Create a Python class hierarchy for employees in a company (e.g., manager, developer, designer) and implement polymorphism through a common `calculate_salary()` method.\n"
   ]
  },
  {
   "cell_type": "code",
   "execution_count": 11,
   "id": "0f7d22d9-c44a-4de2-af66-b594b08a4891",
   "metadata": {},
   "outputs": [
    {
     "name": "stdout",
     "output_type": "stream",
     "text": [
      "John Manager's Salary: $55000.0\n",
      "Alice Developer's Salary: $62000\n",
      "Bob Designer's Salary: $57000\n"
     ]
    }
   ],
   "source": [
    "class Employee:\n",
    "    def __init__(self, emp_id, name):\n",
    "        self.emp_id = emp_id\n",
    "        self.name = name\n",
    "\n",
    "    def calculate_salary(self):\n",
    "        pass  # Abstract method\n",
    "\n",
    "class Manager(Employee):\n",
    "    def __init__(self, emp_id, name, bonus_percentage):\n",
    "        super().__init__(emp_id, name)\n",
    "        self.bonus_percentage = bonus_percentage\n",
    "\n",
    "    def calculate_salary(self):\n",
    "        base_salary = 50000  # Base salary for managers\n",
    "        bonus_amount = base_salary * (self.bonus_percentage / 100)\n",
    "        total_salary = base_salary + bonus_amount\n",
    "        return total_salary\n",
    "\n",
    "class Developer(Employee):\n",
    "    def __init__(self, emp_id, name, coding_languages):\n",
    "        super().__init__(emp_id, name)\n",
    "        self.coding_languages = coding_languages\n",
    "\n",
    "    def calculate_salary(self):\n",
    "        base_salary = 60000  # Base salary for developers\n",
    "        additional_pay = len(self.coding_languages) * 1000\n",
    "        total_salary = base_salary + additional_pay\n",
    "        return total_salary\n",
    "\n",
    "class Designer(Employee):\n",
    "    def __init__(self, emp_id, name, design_tool):\n",
    "        super().__init__(emp_id, name)\n",
    "        self.design_tool = design_tool\n",
    "\n",
    "    def calculate_salary(self):\n",
    "        base_salary = 55000  # Base salary for designers\n",
    "        if self.design_tool == \"Photoshop\":\n",
    "            additional_pay = 2000\n",
    "        else:\n",
    "            additional_pay = 0\n",
    "        total_salary = base_salary + additional_pay\n",
    "        return total_salary\n",
    "\n",
    "# Example demonstrating polymorphism with calculate_salary() method\n",
    "manager = Manager(emp_id=\"M001\", name=\"John Manager\", bonus_percentage=10)\n",
    "developer = Developer(emp_id=\"D001\", name=\"Alice Developer\", coding_languages=[\"Python\", \"JavaScript\"])\n",
    "designer = Designer(emp_id=\"DS001\", name=\"Bob Designer\", design_tool=\"Photoshop\")\n",
    "\n",
    "# Polymorphic usage\n",
    "employees = [manager, developer, designer]\n",
    "\n",
    "for employee in employees:\n",
    "    print(f\"{employee.name}'s Salary: ${employee.calculate_salary()}\")\n"
   ]
  },
  {
   "cell_type": "markdown",
   "id": "b4104423-fb7f-4606-adf7-f34d1a0e47ad",
   "metadata": {},
   "source": [
    "18. Discuss the concept of function pointers and how they can be used to achieve polymorphism in Python.\n"
   ]
  },
  {
   "cell_type": "markdown",
   "id": "4682048f-dcb6-4579-a078-4f1b5df01442",
   "metadata": {},
   "source": [
    "Answer 18.\n",
    "**Function Pointers in Python:**\n",
    "- In Python, functions are first-class citizens, allowing them to be treated as objects and assigned to variables.\n",
    "- While Python doesn't have explicit function pointers, the concept is achieved through function references.\n",
    "- Dynamic function assignment to variables enables polymorphism by supporting interchangeable use of functions adhering to a common interface."
   ]
  },
  {
   "cell_type": "markdown",
   "id": "489cc2db-ef5a-4c1e-8e5a-a43f85715f37",
   "metadata": {},
   "source": [
    "19. Explain the role of interfaces and abstract classes in polymorphism, drawing comparisons between them.\n"
   ]
  },
  {
   "cell_type": "markdown",
   "id": "e03a16fd-578e-4028-9566-5e2bf36a6ea7",
   "metadata": {},
   "source": [
    "Answer 19. \n",
    "**Interfaces and Abstract Classes in Polymorphism:**\n",
    "\n",
    "- **Interfaces:**\n",
    "  - **Role:** Defines a contract with abstract methods.\n",
    "  - **Polymorphism:** Ensures a consistent interface for objects of implementing classes.\n",
    "\n",
    "- **Abstract Classes:**\n",
    "  - **Role:** Provides a base class with a mix of abstract and concrete methods.\n",
    "  - **Polymorphism:** Allows objects of different subclasses to be used interchangeably.\n",
    "\n",
    "- **Comparison:**\n",
    "  - **Abstract Classes:** Offer more flexibility with a mix of methods.\n",
    "  - **Interfaces:** Enforce a strict contract with only abstract methods.\n",
    "\n",
    "- **Inheritance:**\n",
    "  - **Abstract Classes:** Support both abstract and concrete method inheritance.\n",
    "  - **Interfaces:** Implementing classes inherit only method declarations.\n",
    "\n",
    "- **Implementation Details:**\n",
    "  - **Abstract Classes:** Can include attributes, concrete methods, and constructors.\n",
    "  - **Interfaces:** Contain only method declarations without implementation.\n",
    "\n",
    "- **Flexibility:**\n",
    "  - **Abstract Classes:** More flexible with a combination of methods.\n",
    "  - **Interfaces:** Promote a cleaner separation of interface and implementation.\n",
    "\n"
   ]
  },
  {
   "cell_type": "markdown",
   "id": "2ea01bd2-31a2-44a2-ab55-742d8a8d837a",
   "metadata": {},
   "source": [
    "20. Create a Python class for a zoo simulation, demonstrating polymorphism with different animal types (e.g., mammals, birds, reptiles) and their behavior (e.g., eating, sleeping, making sounds)."
   ]
  },
  {
   "cell_type": "code",
   "execution_count": 12,
   "id": "01d8a7c1-ba9b-4ccf-9e64-8770655e38c5",
   "metadata": {},
   "outputs": [
    {
     "name": "stdout",
     "output_type": "stream",
     "text": [
      "Lion the mammal is eating\n",
      "Lion the mammal is sleeping\n",
      "Lion the mammal is making a sound\n",
      "==============================\n",
      "Parrot the bird is eating\n",
      "Parrot the bird is sleeping\n",
      "Parrot the bird is making a sound\n",
      "==============================\n",
      "Snake the reptile is eating\n",
      "Snake the reptile is sleeping\n",
      "Snake the reptile is making a sound\n",
      "==============================\n"
     ]
    }
   ],
   "source": [
    "class Animal:\n",
    "    def __init__(self, name):\n",
    "        self.name = name\n",
    "\n",
    "    def eat(self):\n",
    "        raise NotImplementedError(\"Subclasses must implement the eat method\")\n",
    "\n",
    "    def sleep(self):\n",
    "        raise NotImplementedError(\"Subclasses must implement the sleep method\")\n",
    "\n",
    "    def make_sound(self):\n",
    "        raise NotImplementedError(\"Subclasses must implement the make_sound method\")\n",
    "\n",
    "class Mammal(Animal):\n",
    "    def eat(self):\n",
    "        return f\"{self.name} the mammal is eating\"\n",
    "\n",
    "    def sleep(self):\n",
    "        return f\"{self.name} the mammal is sleeping\"\n",
    "\n",
    "    def make_sound(self):\n",
    "        return f\"{self.name} the mammal is making a sound\"\n",
    "\n",
    "class Bird(Animal):\n",
    "    def eat(self):\n",
    "        return f\"{self.name} the bird is eating\"\n",
    "\n",
    "    def sleep(self):\n",
    "        return f\"{self.name} the bird is sleeping\"\n",
    "\n",
    "    def make_sound(self):\n",
    "        return f\"{self.name} the bird is making a sound\"\n",
    "\n",
    "class Reptile(Animal):\n",
    "    def eat(self):\n",
    "        return f\"{self.name} the reptile is eating\"\n",
    "\n",
    "    def sleep(self):\n",
    "        return f\"{self.name} the reptile is sleeping\"\n",
    "\n",
    "    def make_sound(self):\n",
    "        return f\"{self.name} the reptile is making a sound\"\n",
    "\n",
    "# Example demonstrating polymorphism\n",
    "zoo_animals = [\n",
    "    Mammal(\"Lion\"),\n",
    "    Bird(\"Parrot\"),\n",
    "    Reptile(\"Snake\")\n",
    "]\n",
    "\n",
    "for animal in zoo_animals:\n",
    "    print(animal.eat())\n",
    "    print(animal.sleep())\n",
    "    print(animal.make_sound())\n",
    "    print(\"=\" * 30)\n"
   ]
  },
  {
   "cell_type": "markdown",
   "id": "08382bb9-0a4b-427b-a220-23dc6a298624",
   "metadata": {},
   "source": [
    "## Abstraction"
   ]
  },
  {
   "cell_type": "markdown",
   "id": "bb15ba02-38af-4ff5-90e8-c02010ca8c83",
   "metadata": {},
   "source": [
    "1. What is abstraction in Python, and how does it relate to object-oriented programming?\n"
   ]
  },
  {
   "cell_type": "markdown",
   "id": "bd09fe4f-1bcd-4930-928d-f639e579e694",
   "metadata": {},
   "source": [
    "Answer 1.\n",
    "**Abstraction in Python:**\n",
    "- **Definition:** Abstraction in Python refers to the process of hiding complex implementation details and showing only the essential features of an object.\n",
    "- **Role in OOP:** Supports the creation of abstract classes and interfaces, allowing the definition of a clear and simplified interface while hiding internal complexities.\n",
    "- **Key Aspect:** Focuses on what an object does rather than how it achieves its functionality.\n",
    "\n",
    "In object-oriented programming, abstraction is a fundamental principle that promotes a clear separation between the interface of an object and its implementation details, enhancing modularity and ease of use."
   ]
  },
  {
   "cell_type": "markdown",
   "id": "d1f5e252-0887-499c-8394-a0bb7169c5e8",
   "metadata": {},
   "source": [
    "2. Describe the benefits of abstraction in terms of code organization and complexity reduction.\n"
   ]
  },
  {
   "cell_type": "markdown",
   "id": "7c1c4f1d-9235-41d4-a705-e966c755c457",
   "metadata": {},
   "source": [
    "Answer 2.\n",
    "**Benefits of Abstraction:**\n",
    "1. **Code Organization:**\n",
    "   - Simplified Interface\n",
    "   - Hierarchical Structure\n",
    "   - Encapsulation\n",
    "\n",
    "2. **Complexity Reduction:**\n",
    "   - Focus on Essentials\n",
    "   - Reduction of Cognitive Load\n",
    "   - Ease of Maintenance\n",
    "\n",
    "3. **Enhanced Modularity:**\n",
    "   - Clear Separation\n",
    "   - Improved Reusability\n",
    "\n",
    "4. **Adaptability and Extensibility:**\n",
    "   - Easier Adaptation\n",
    "   - Extensibility\n",
    "\n",
    "5. **Improved Collaboration:**\n",
    "   - Clear Contracts\n",
    "   - Reduced Interdependencies"
   ]
  },
  {
   "cell_type": "markdown",
   "id": "58774d92-1a37-4c8e-aa4c-2842f0a53de3",
   "metadata": {},
   "source": [
    "3. Create a Python class called `Shape` with an abstract method `calculate_area()`. Then, create child classes (e.g., `Circle`, `Rectangle`) that implement the `calculate_area()` method. Provide an example of\n",
    "using these classes.\n"
   ]
  },
  {
   "cell_type": "code",
   "execution_count": 13,
   "id": "bde712f5-bbaf-430b-96d3-586312a99307",
   "metadata": {},
   "outputs": [
    {
     "name": "stdout",
     "output_type": "stream",
     "text": [
      "Area of Circle: 78.53981633974483\n",
      "Area of Rectangle: 24\n"
     ]
    }
   ],
   "source": [
    "from abc import ABC, abstractmethod\n",
    "import math\n",
    "\n",
    "class Shape(ABC):\n",
    "    @abstractmethod\n",
    "    def calculate_area(self):\n",
    "        pass\n",
    "\n",
    "class Circle(Shape):\n",
    "    def __init__(self, radius):\n",
    "        self.radius = radius\n",
    "\n",
    "    def calculate_area(self):\n",
    "        return math.pi * self.radius ** 2\n",
    "\n",
    "class Rectangle(Shape):\n",
    "    def __init__(self, width, height):\n",
    "        self.width = width\n",
    "        self.height = height\n",
    "\n",
    "    def calculate_area(self):\n",
    "        return self.width * self.height\n",
    "\n",
    "# Example demonstrating the usage of Shape, Circle, and Rectangle classes\n",
    "circle = Circle(radius=5)\n",
    "rectangle = Rectangle(width=4, height=6)\n",
    "\n",
    "# Polymorphic usage through a common interface\n",
    "shapes = [circle, rectangle]\n",
    "\n",
    "for shape in shapes:\n",
    "    print(f\"Area of {type(shape).__name__}: {shape.calculate_area()}\")\n"
   ]
  },
  {
   "cell_type": "markdown",
   "id": "39ef8489-f4c1-48a1-a1af-5f79e5f0a251",
   "metadata": {},
   "source": [
    "4. Explain the concept of abstract classes in Python and how they are defined using the `abc` module. Provide\n",
    "an example.\n"
   ]
  },
  {
   "cell_type": "markdown",
   "id": "00c1cc06-4d75-4f38-b045-a5bcad02df2f",
   "metadata": {},
   "source": [
    "Answer 4.\n",
    "**Abstract Classes in Python with the `abc` Module:**\n",
    "- **Concept:** Abstract classes in Python are classes that cannot be instantiated and may contain abstract methods, which are declared but not implemented. They serve as a blueprint for other classes.\n",
    "- **`abc` Module:** The `abc` module in Python provides the `ABC` (Abstract Base Class) and `abstractmethod` decorators to define abstract classes and methods.\n",
    "\n",
    "**Example:**\n",
    "```python\n",
    "from abc import ABC, abstractmethod\n",
    "\n",
    "class Shape(ABC):  # Abstract class using ABC\n",
    "    @abstractmethod\n",
    "    def calculate_area(self):\n",
    "        pass  # Abstract method without implementation\n",
    "\n",
    "class Circle(Shape):\n",
    "    def __init__(self, radius):\n",
    "        self.radius = radius\n",
    "\n",
    "    def calculate_area(self):\n",
    "        return 3.14 * self.radius ** 2\n",
    "\n",
    "class Square(Shape):\n",
    "    def __init__(self, side_length):\n",
    "        self.side_length = side_length\n",
    "\n",
    "    def calculate_area(self):\n",
    "        return self.side_length ** 2\n",
    "\n",
    "# Example demonstrating abstract classes in Python\n",
    "circle = Circle(radius=5)\n",
    "square = Square(side_length=4)\n",
    "\n",
    "shapes = [circle, square]\n",
    "\n",
    "for shape in shapes:\n",
    "    print(f\"Area of {type(shape).__name__}: {shape.calculate_area()}\")\n",
    "```\n",
    "\n",
    "- In this example, the `Shape` class is an abstract class with the abstract method `calculate_area()`.\n",
    "- The `Circle` and `Square` classes inherit from `Shape` and provide concrete implementations for the `calculate_area()` method.\n",
    "- The `abc` module's `ABC` class and `abstractmethod` decorator enforce the abstract nature of the `Shape` class.\n",
    "\n",
    "**Output:**\n",
    "```\n",
    "Area of Circle: 78.5\n",
    "Area of Square: 16\n",
    "```\n",
    "\n",
    "This implementation demonstrates the use of abstract classes in Python, ensuring that any concrete class derived from `Shape` must implement the `calculate_area()` method."
   ]
  },
  {
   "cell_type": "markdown",
   "id": "321314ab-56a1-415a-8697-1bee71e3f7d5",
   "metadata": {},
   "source": [
    "5. How do abstract classes differ from regular classes in Python? Discuss their use cases.\n"
   ]
  },
  {
   "cell_type": "markdown",
   "id": "10987b0a-d2a2-4e23-adbf-fd4182276716",
   "metadata": {},
   "source": [
    "Answer 5.\n",
    "**Abstract Classes vs. Regular Classes in Python:**\n",
    "- **Abstract Classes:**\n",
    "  - Cannot be instantiated directly.\n",
    "  - May have abstract methods that must be implemented by subclasses.\n",
    "  - Used for creating a common interface and template for related classes.\n",
    "- **Regular Classes:**\n",
    "  - Can be instantiated directly.\n",
    "  - Have fully implemented methods.\n",
    "  - Used for creating concrete objects and immediate instantiation without additional implementations."
   ]
  },
  {
   "cell_type": "markdown",
   "id": "05076e09-46f8-4685-a442-c97bcea251bb",
   "metadata": {},
   "source": [
    "6. Create a Python class for a bank account and demonstrate abstraction by hiding the account balance and\n",
    "providing methods to deposit and withdraw funds.\n"
   ]
  },
  {
   "cell_type": "code",
   "execution_count": 14,
   "id": "084ed254-af6b-49cd-b5d7-b0217c6aa349",
   "metadata": {},
   "outputs": [
    {
     "name": "stdout",
     "output_type": "stream",
     "text": [
      "Deposit successful. New balance: 1000\n",
      "Withdrawal successful. New balance: 500\n",
      "500\n"
     ]
    }
   ],
   "source": [
    "from abc import ABC, abstractmethod\n",
    "\n",
    "class BankAccount(ABC):\n",
    "    def __init__(self, account_number, account_holder):\n",
    "        self.account_number = account_number\n",
    "        self.account_holder = account_holder\n",
    "        self._balance = 0  # Use a single leading underscore to indicate a \"protected\" attribute\n",
    "\n",
    "    @abstractmethod\n",
    "    def deposit(self, amount):\n",
    "        pass\n",
    "\n",
    "    @abstractmethod\n",
    "    def withdraw(self, amount):\n",
    "        pass\n",
    "\n",
    "    def get_balance(self):\n",
    "        return self._balance\n",
    "\n",
    "class SavingsAccount(BankAccount):\n",
    "    def deposit(self, amount):\n",
    "        if amount > 0:\n",
    "            self._balance += amount\n",
    "            return f\"Deposit successful. New balance: {self._balance}\"\n",
    "        else:\n",
    "            return \"Invalid deposit amount.\"\n",
    "\n",
    "    def withdraw(self, amount):\n",
    "        if 0 < amount <= self._balance:\n",
    "            self._balance -= amount\n",
    "            return f\"Withdrawal successful. New balance: {self._balance}\"\n",
    "        else:\n",
    "            return \"Invalid withdrawal amount or insufficient funds.\"\n",
    "\n",
    "# Example demonstrating abstraction in a bank account\n",
    "savings_account = SavingsAccount(account_number=\"123456789\", account_holder=\"John Doe\")\n",
    "\n",
    "print(savings_account.deposit(1000))  # Output: Deposit successful. New balance: 1000\n",
    "print(savings_account.withdraw(500))  # Output: Withdrawal successful. New balance: 500\n",
    "print(savings_account.get_balance())   # Output: 500\n"
   ]
  },
  {
   "cell_type": "markdown",
   "id": "306ee9ff-a7c7-4f1d-afb8-02d1fcde4406",
   "metadata": {},
   "source": [
    "7. Discuss the concept of interface classes in Python and their role in achieving abstraction.\n"
   ]
  },
  {
   "cell_type": "markdown",
   "id": "6d2a00f3-c01a-4b8b-8a5f-b63640f54770",
   "metadata": {},
   "source": [
    "Answer 7.\n",
    "**Interface Classes in Python:**\n",
    "- **Definition:** Interface classes define method signatures without implementations.\n",
    "- **Role in Abstraction:**\n",
    "  - Enforce a contract for behavior.\n",
    "  - Hide internal details, focusing on what a class does.\n",
    "  - Promote consistency across implementing classes.\n",
    "- **Using `abc` Module:** Utilize `ABC` class and `abstractmethod` decorator.\n",
    "- **Benefits:**\n",
    "  - Ensure code reliability and consistency.\n",
    "  - Facilitate code maintenance by hiding implementation complexities."
   ]
  },
  {
   "cell_type": "markdown",
   "id": "8d612c03-3a36-4399-b6d6-c2f4d77b3757",
   "metadata": {},
   "source": [
    "8. Create a Python class hierarchy for animals and implement abstraction by defining common methods (e.g., `eat()`, `sleep()`) in an abstract base class.\n"
   ]
  },
  {
   "cell_type": "code",
   "execution_count": 15,
   "id": "5832a571-0a7a-4c1e-9eaa-ba73f673eb4b",
   "metadata": {},
   "outputs": [
    {
     "name": "stdout",
     "output_type": "stream",
     "text": [
      "Lion the mammal is eating\n",
      "Lion the mammal is sleeping\n",
      "==============================\n",
      "Parrot the bird is eating\n",
      "Parrot the bird is sleeping\n",
      "==============================\n",
      "Snake the reptile is eating\n",
      "Snake the reptile is sleeping\n",
      "==============================\n"
     ]
    }
   ],
   "source": [
    "from abc import ABC, abstractmethod\n",
    "\n",
    "class Animal(ABC):  # Abstract Base Class for Animals\n",
    "    def __init__(self, name):\n",
    "        self.name = name\n",
    "\n",
    "    @abstractmethod\n",
    "    def eat(self):\n",
    "        pass\n",
    "\n",
    "    @abstractmethod\n",
    "    def sleep(self):\n",
    "        pass\n",
    "\n",
    "class Mammal(Animal):\n",
    "    def eat(self):\n",
    "        return f\"{self.name} the mammal is eating\"\n",
    "\n",
    "    def sleep(self):\n",
    "        return f\"{self.name} the mammal is sleeping\"\n",
    "\n",
    "class Bird(Animal):\n",
    "    def eat(self):\n",
    "        return f\"{self.name} the bird is eating\"\n",
    "\n",
    "    def sleep(self):\n",
    "        return f\"{self.name} the bird is sleeping\"\n",
    "\n",
    "class Reptile(Animal):\n",
    "    def eat(self):\n",
    "        return f\"{self.name} the reptile is eating\"\n",
    "\n",
    "    def sleep(self):\n",
    "        return f\"{self.name} the reptile is sleeping\"\n",
    "\n",
    "# Example demonstrating the animal hierarchy and abstraction\n",
    "lion = Mammal(name=\"Lion\")\n",
    "parrot = Bird(name=\"Parrot\")\n",
    "snake = Reptile(name=\"Snake\")\n",
    "\n",
    "# Polymorphic usage through a common interface (Animal)\n",
    "animals = [lion, parrot, snake]\n",
    "\n",
    "for animal in animals:\n",
    "    print(animal.eat())\n",
    "    print(animal.sleep())\n",
    "    print(\"=\" * 30)\n"
   ]
  },
  {
   "cell_type": "markdown",
   "id": "95d9e89b-d916-413e-9d9a-cc45221327f1",
   "metadata": {},
   "source": [
    "9. Explain the significance of encapsulation in achieving abstraction. Provide examples.\n"
   ]
  },
  {
   "cell_type": "markdown",
   "id": "16a30cc4-d8f2-4f47-915f-cd3497f415b2",
   "metadata": {},
   "source": [
    "Answer 9.\n",
    "**Significance of Encapsulation in Achieving Abstraction:**\n",
    "- **Data Hiding:** Encapsulation hides internal details of an object.\n",
    "- **Focus on Interface:** Directs focus to essential functionalities, promoting abstraction.\n",
    "- **Example:**\n",
    "  ```python\n",
    "  class Car:\n",
    "      def __init__(self, make, model, year):\n",
    "          self._make = make  # Encapsulation\n",
    "          self._model = model\n",
    "          self._year = year\n",
    "\n",
    "      def display_info(self):\n",
    "          return f\"{self._year} {self._make} {self._model}\"\n",
    "  ```\n",
    "- **Benefits:**\n",
    "  - Reduced Complexity\n",
    "  - Improved Modularity\n",
    "  - Enhanced Security"
   ]
  },
  {
   "cell_type": "markdown",
   "id": "3c49b16f-ad44-43f3-8f23-515d11c0d688",
   "metadata": {},
   "source": [
    "10. What is the purpose of abstract methods, and how do they enforce abstraction in Python classes?\n"
   ]
  },
  {
   "cell_type": "markdown",
   "id": "67885e11-5858-4d02-a1ea-437245488a9d",
   "metadata": {},
   "source": [
    "Answer 10.\n",
    "**Purpose of Abstract Methods and Enforcing Abstraction:**\n",
    "- **Purpose:**\n",
    "  - **Abstract Methods:** Declared in abstract classes without providing implementation.\n",
    "  - **Enforce Contracts:** Ensure that concrete subclasses provide specific functionalities.\n",
    "- **Enforcing Abstraction:**\n",
    "  - **Forcing Implementation:** Subclasses must implement abstract methods, enforcing a consistent interface.\n",
    "  - **Hiding Implementation Details:** Users interact with abstract method names, abstracting away internal details.\n",
    "- **Example:**\n",
    "  ```python\n",
    "  from abc import ABC, abstractmethod\n",
    "\n",
    "  class Shape(ABC):\n",
    "      @abstractmethod\n",
    "      def calculate_area(self):\n",
    "          pass\n",
    "  ```\n",
    "- **Benefits:**\n",
    "  - **Consistency:** Subclasses adhere to a defined set of behaviors.\n",
    "  - **Abstraction:** Users interact with abstracted method names, not implementations."
   ]
  },
  {
   "cell_type": "markdown",
   "id": "1c8feccb-f54c-4dbf-904d-8ce33efdfabd",
   "metadata": {},
   "source": [
    "11. Create a Python class for a vehicle system and demonstrate abstraction by defining common methods (e.g., `start()`, `stop()`) in an abstract base class.\n"
   ]
  },
  {
   "cell_type": "code",
   "execution_count": 16,
   "id": "b7b813c0-7edb-4b2f-b959-a2c6edf6ec72",
   "metadata": {},
   "outputs": [
    {
     "name": "stdout",
     "output_type": "stream",
     "text": [
      "Toyota Camry is starting the engine.\n",
      "Toyota Camry has stopped.\n",
      "==============================\n",
      "Schwinn Mountain Bike is ready to ride.\n",
      "Schwinn Mountain Bike has come to a stop.\n",
      "==============================\n"
     ]
    }
   ],
   "source": [
    "from abc import ABC, abstractmethod\n",
    "\n",
    "class Vehicle(ABC):  # Abstract Base Class for Vehicles\n",
    "    def __init__(self, make, model):\n",
    "        self.make = make\n",
    "        self.model = model\n",
    "\n",
    "    @abstractmethod\n",
    "    def start(self):\n",
    "        pass\n",
    "\n",
    "    @abstractmethod\n",
    "    def stop(self):\n",
    "        pass\n",
    "\n",
    "class Car(Vehicle):\n",
    "    def start(self):\n",
    "        return f\"{self.make} {self.model} is starting the engine.\"\n",
    "\n",
    "    def stop(self):\n",
    "        return f\"{self.make} {self.model} has stopped.\"\n",
    "\n",
    "class Bicycle(Vehicle):\n",
    "    def start(self):\n",
    "        return f\"{self.make} {self.model} is ready to ride.\"\n",
    "\n",
    "    def stop(self):\n",
    "        return f\"{self.make} {self.model} has come to a stop.\"\n",
    "\n",
    "# Example demonstrating the vehicle system and abstraction\n",
    "my_car = Car(make=\"Toyota\", model=\"Camry\")\n",
    "my_bicycle = Bicycle(make=\"Schwinn\", model=\"Mountain Bike\")\n",
    "\n",
    "# Polymorphic usage through a common interface (Vehicle)\n",
    "vehicles = [my_car, my_bicycle]\n",
    "\n",
    "for vehicle in vehicles:\n",
    "    print(vehicle.start())\n",
    "    print(vehicle.stop())\n",
    "    print(\"=\" * 30)\n"
   ]
  },
  {
   "cell_type": "markdown",
   "id": "546e8c01-b9c2-42ee-96b8-f86ef781ddc3",
   "metadata": {},
   "source": [
    "12. Describe the use of abstract properties in Python and how they can be employed in abstract classes.\n"
   ]
  },
  {
   "cell_type": "markdown",
   "id": "0d479992-564a-436a-9152-eeb96b65a343",
   "metadata": {},
   "source": [
    "Answer 12.\n",
    "**Abstract Properties in Python:**\n",
    "- **Definition:** Properties declared in an abstract manner using `@property` and `@abstractmethod`.\n",
    "- **Use in Abstract Classes:**\n",
    "  - Employed in abstract classes to enforce the presence of certain properties without specifying implementation.\n",
    "- **Syntax:**\n",
    "  - `@abstractproperty` decorator is used to declare abstract properties.\n",
    "- **Example:**\n",
    "  ```python\n",
    "  from abc import ABC, abstractmethod, abstractproperty\n",
    "\n",
    "  class Shape(ABC):\n",
    "      @abstractproperty\n",
    "      def area(self):\n",
    "          pass\n",
    "  ```\n",
    "- **Implementation in Subclasses:**\n",
    "  - Concrete subclasses must provide an implementation for the declared abstract property.\n",
    "- **Benefits:**\n",
    "  - Ensures adherence to a specific property interface.\n",
    "  - Promotes a consistent structure in classes sharing common properties."
   ]
  },
  {
   "cell_type": "markdown",
   "id": "7a36f4dd-3a9b-4b76-93ed-d9e72f23e5c0",
   "metadata": {},
   "source": [
    "13. Create a Python class hierarchy for employees in a company (e.g., manager, developer, designer) and implement abstraction by defining a common `get_salary()` method.\n"
   ]
  },
  {
   "cell_type": "code",
   "execution_count": 17,
   "id": "f7932137-1ed9-43ce-8198-2c8fd608dec7",
   "metadata": {},
   "outputs": [
    {
     "name": "stdout",
     "output_type": "stream",
     "text": [
      "John Doe's Salary: $60000\n",
      "==============================\n",
      "Alice Smith's Salary: $4800\n",
      "==============================\n",
      "Bob Johnson's Salary: $6000\n",
      "==============================\n"
     ]
    }
   ],
   "source": [
    "from abc import ABC, abstractmethod\n",
    "\n",
    "class Employee(ABC):  # Abstract Base Class for Employees\n",
    "    def __init__(self, name, employee_id):\n",
    "        self.name = name\n",
    "        self.employee_id = employee_id\n",
    "\n",
    "    @abstractmethod\n",
    "    def get_salary(self):\n",
    "        pass\n",
    "\n",
    "class Manager(Employee):\n",
    "    def __init__(self, name, employee_id, base_salary, bonus):\n",
    "        super().__init__(name, employee_id)\n",
    "        self.base_salary = base_salary\n",
    "        self.bonus = bonus\n",
    "\n",
    "    def get_salary(self):\n",
    "        return self.base_salary + self.bonus\n",
    "\n",
    "class Developer(Employee):\n",
    "    def __init__(self, name, employee_id, hourly_rate, hours_worked):\n",
    "        super().__init__(name, employee_id)\n",
    "        self.hourly_rate = hourly_rate\n",
    "        self.hours_worked = hours_worked\n",
    "\n",
    "    def get_salary(self):\n",
    "        return self.hourly_rate * self.hours_worked\n",
    "\n",
    "class Designer(Employee):\n",
    "    def __init__(self, name, employee_id, monthly_salary):\n",
    "        super().__init__(name, employee_id)\n",
    "        self.monthly_salary = monthly_salary\n",
    "\n",
    "    def get_salary(self):\n",
    "        return self.monthly_salary\n",
    "\n",
    "# Example demonstrating the employee hierarchy and abstraction\n",
    "manager = Manager(name=\"John Doe\", employee_id=\"M001\", base_salary=50000, bonus=10000)\n",
    "developer = Developer(name=\"Alice Smith\", employee_id=\"D001\", hourly_rate=30, hours_worked=160)\n",
    "designer = Designer(name=\"Bob Johnson\", employee_id=\"D002\", monthly_salary=6000)\n",
    "\n",
    "# Polymorphic usage through a common interface (Employee)\n",
    "employees = [manager, developer, designer]\n",
    "\n",
    "for employee in employees:\n",
    "    print(f\"{employee.name}'s Salary: ${employee.get_salary()}\")\n",
    "    print(\"=\" * 30)\n"
   ]
  },
  {
   "cell_type": "markdown",
   "id": "a29da54f-2b1d-4ca1-8552-9a463fb3ceab",
   "metadata": {},
   "source": [
    "14. Discuss the differences between abstract classes and concrete classes in Python, including their\n",
    "instantiation.\n"
   ]
  },
  {
   "cell_type": "markdown",
   "id": "907eb7e3-9381-4832-babc-e90402961bfd",
   "metadata": {},
   "source": [
    "Answer 14.\n",
    "**Abstract Classes vs. Concrete Classes:**\n",
    "- **Abstract Class:**\n",
    "  - Contains abstract methods without implementation.\n",
    "  - Cannot be instantiated directly.\n",
    "  - Serves as a blueprint for concrete subclasses.\n",
    "- **Concrete Class:**\n",
    "  - Has complete method implementations.\n",
    "  - Can be instantiated directly.\n",
    "  - Represents tangible objects and can inherit from abstract or concrete classes."
   ]
  },
  {
   "cell_type": "markdown",
   "id": "4b105620-70f6-4218-b87b-f02130a087f7",
   "metadata": {},
   "source": [
    "15. Explain the concept of abstract data types (ADTs) and their role in achieving abstraction in Python.\n"
   ]
  },
  {
   "cell_type": "markdown",
   "id": "a7f53768-c729-48eb-9355-4440d5fb295b",
   "metadata": {},
   "source": [
    "Answer 15.\n",
    "**Abstract Data Types (ADTs) in Python:**\n",
    "- **Definition:**\n",
    "  - Abstract Data Types (ADTs) represent a conceptual model for data structures, focusing on operations and properties rather than implementation details.\n",
    "- **Role in Achieving Abstraction:**\n",
    "  - **Abstraction:**\n",
    "    - Hides internal details of data structures.\n",
    "    - Emphasizes operations and behavior.\n",
    "  - **Encapsulation:**\n",
    "    - Bundles data and operations into a single unit.\n",
    "    - Provides a clean, abstracted interface.\n",
    "  - **Example:**\n",
    "    - The `list` data type in Python is an ADT with operations like append, remove, and indexing.\n",
    "  - **Benefits:**\n",
    "    - Simplifies complexity for users.\n",
    "    - Allows for interchangeable implementations.\n",
    "    - Promotes code organization and modularity."
   ]
  },
  {
   "cell_type": "markdown",
   "id": "a864e12b-0102-425d-9984-904b41420c5f",
   "metadata": {},
   "source": [
    "16. Create a Python class for a computer system, demonstrating abstraction by defining common methods (e.g., `power_on()`, `shutdown()`) in an abstract base class.\n"
   ]
  },
  {
   "cell_type": "code",
   "execution_count": 18,
   "id": "1322b8b1-3db3-45c6-acf7-abd31a5cafb3",
   "metadata": {},
   "outputs": [
    {
     "name": "stdout",
     "output_type": "stream",
     "text": [
      "Dell OptiPlex desktop is powering on.\n",
      "Dell OptiPlex desktop is shutting down.\n",
      "==============================\n",
      "HP Pavilion laptop is powering on.\n",
      "HP Pavilion laptop is shutting down.\n",
      "==============================\n"
     ]
    }
   ],
   "source": [
    "from abc import ABC, abstractmethod\n",
    "\n",
    "class ComputerSystem(ABC):  # Abstract Base Class for Computer System\n",
    "    def __init__(self, brand, model):\n",
    "        self.brand = brand\n",
    "        self.model = model\n",
    "\n",
    "    @abstractmethod\n",
    "    def power_on(self):\n",
    "        pass\n",
    "\n",
    "    @abstractmethod\n",
    "    def shutdown(self):\n",
    "        pass\n",
    "\n",
    "class Desktop(ComputerSystem):\n",
    "    def power_on(self):\n",
    "        return f\"{self.brand} {self.model} desktop is powering on.\"\n",
    "\n",
    "    def shutdown(self):\n",
    "        return f\"{self.brand} {self.model} desktop is shutting down.\"\n",
    "\n",
    "class Laptop(ComputerSystem):\n",
    "    def power_on(self):\n",
    "        return f\"{self.brand} {self.model} laptop is powering on.\"\n",
    "\n",
    "    def shutdown(self):\n",
    "        return f\"{self.brand} {self.model} laptop is shutting down.\"\n",
    "\n",
    "# Example demonstrating the computer system hierarchy and abstraction\n",
    "desktop_computer = Desktop(brand=\"Dell\", model=\"OptiPlex\")\n",
    "laptop_computer = Laptop(brand=\"HP\", model=\"Pavilion\")\n",
    "\n",
    "# Polymorphic usage through a common interface (ComputerSystem)\n",
    "computers = [desktop_computer, laptop_computer]\n",
    "\n",
    "for computer in computers:\n",
    "    print(computer.power_on())\n",
    "    print(computer.shutdown())\n",
    "    print(\"=\" * 30)\n"
   ]
  },
  {
   "cell_type": "markdown",
   "id": "c74eab9b-2ff3-4b8c-b8d9-0afc26417d66",
   "metadata": {},
   "source": [
    "17. Discuss the benefits of using abstraction in large-scale software development projects.\n"
   ]
  },
  {
   "cell_type": "markdown",
   "id": "fbf6fe21-8895-4b60-a9ee-b60d58f693f5",
   "metadata": {},
   "source": [
    "Answer 17.\n",
    "**Benefits of Abstraction in Large-Scale Software Development:**\n",
    "- **Modularity:** Breaks down complex systems into manageable modules, easing development and maintenance.\n",
    "- **Code Reusability:** Promotes reuse of abstracted components across different parts of the project.\n",
    "- **Maintainability:** Facilitates easier maintenance and updates as changes can be localized to specific modules.\n",
    "- **Reduced Complexity:** Hides intricate details, allowing developers to focus on high-level functionalities.\n",
    "- **Scalability:** Supports system growth by accommodating changes without affecting the entire codebase.\n",
    "- **Interoperability:** Enhances compatibility as abstracted interfaces provide clear interaction points.\n",
    "- **Team Collaboration:** Provides a common understanding, fostering collaboration among developers.\n",
    "- **Security:** Limits exposure of sensitive details, reducing the risk of unintended interference.\n",
    "- **Adaptability:** Allows for the implementation of multiple versions or variations without affecting existing code.\n",
    "- **Documentation:** Acts as implicit documentation, offering a clear overview of system structure and functionalities."
   ]
  },
  {
   "cell_type": "markdown",
   "id": "426bb982-edad-4e2f-b027-4fd68ce9720e",
   "metadata": {},
   "source": [
    "18. Explain how abstraction enhances code reusability and modularity in Python programs.\n"
   ]
  },
  {
   "cell_type": "markdown",
   "id": "09e535c2-6ca5-4e66-b9dd-5a20ca4b62a0",
   "metadata": {},
   "source": [
    "Answer 18.\n",
    "**Abstraction and Code Reusability/Modularity in Python:**\n",
    "- **Abstraction:**\n",
    "  - **Definition:** Hides complex implementation details, exposing only essential functionalities.\n",
    "  - **Enhances Code Reusability:**\n",
    "    - Promotes the creation of reusable components with well-defined interfaces.\n",
    "    - Components can be easily integrated into different parts of the program.\n",
    "  - **Improves Modularity:**\n",
    "    - Breaks down a large system into smaller, independent modules.\n",
    "    - Each module encapsulates a specific set of functionalities.\n",
    "    - Modules can be developed, tested, and maintained independently.\n",
    "    - Changes to one module have minimal impact on others, fostering modularity.\n",
    "- **Example:**\n",
    "  ```python\n",
    "  class DatabaseConnector:\n",
    "      def connect(self):\n",
    "          pass\n",
    "\n",
    "  class DataManager:\n",
    "      def __init__(self, connector):\n",
    "          self.connector = connector\n",
    "\n",
    "      def fetch_data(self):\n",
    "          return self.connector.connect().execute_query(\"SELECT * FROM data_table\")\n",
    "  ```\n",
    "- **Benefits:**\n",
    "  - Reusable `DatabaseConnector` can be employed in various parts of the program.\n",
    "  - `DataManager` is modular and can easily adapt to different data sources by changing the connector.\n",
    "  - Changes to the database-related code do not affect unrelated parts of the program, enhancing modularity."
   ]
  },
  {
   "cell_type": "markdown",
   "id": "916c1c31-e615-4951-b411-decf05450c15",
   "metadata": {},
   "source": [
    "19. Create a Python class for a library system, implementing abstraction by defining common methods (e.g., `add_book()`, `borrow_book()`) in an abstract base class.\n"
   ]
  },
  {
   "cell_type": "code",
   "execution_count": 19,
   "id": "02b0ae93-980e-44c4-a4db-669175525f20",
   "metadata": {},
   "outputs": [
    {
     "name": "stdout",
     "output_type": "stream",
     "text": [
      "Added 'The Great Gatsby' by F. Scott Fitzgerald to City Library.\n",
      "Borrowed 'The Great Gatsby' from City Library.\n",
      "Returned 'The Great Gatsby' to City Library.\n"
     ]
    }
   ],
   "source": [
    "from abc import ABC, abstractmethod\n",
    "\n",
    "class LibrarySystem(ABC):  # Abstract Base Class for Library System\n",
    "    def __init__(self, name):\n",
    "        self.name = name\n",
    "\n",
    "    @abstractmethod\n",
    "    def add_book(self, title, author):\n",
    "        pass\n",
    "\n",
    "    @abstractmethod\n",
    "    def borrow_book(self, title):\n",
    "        pass\n",
    "\n",
    "    @abstractmethod\n",
    "    def return_book(self, title):\n",
    "        pass\n",
    "\n",
    "class SimpleLibrary(LibrarySystem):\n",
    "    def __init__(self, name):\n",
    "        super().__init__(name)\n",
    "        self.books = {}\n",
    "\n",
    "    def add_book(self, title, author):\n",
    "        self.books[title] = author\n",
    "        return f\"Added '{title}' by {author} to {self.name}.\"\n",
    "\n",
    "    def borrow_book(self, title):\n",
    "        if title in self.books:\n",
    "            return f\"Borrowed '{title}' from {self.name}.\"\n",
    "        else:\n",
    "            return f\"'{title}' is not available in {self.name}.\"\n",
    "\n",
    "    def return_book(self, title):\n",
    "        if title in self.books:\n",
    "            return f\"Returned '{title}' to {self.name}.\"\n",
    "        else:\n",
    "            return f\"'{title}' was not borrowed from {self.name}.\"\n",
    "\n",
    "# Example demonstrating the library system hierarchy and abstraction\n",
    "simple_library = SimpleLibrary(name=\"City Library\")\n",
    "\n",
    "# Polymorphic usage through a common interface (LibrarySystem)\n",
    "print(simple_library.add_book(\"The Great Gatsby\", \"F. Scott Fitzgerald\"))\n",
    "print(simple_library.borrow_book(\"The Great Gatsby\"))\n",
    "print(simple_library.return_book(\"The Great Gatsby\"))\n"
   ]
  },
  {
   "cell_type": "markdown",
   "id": "a2fd6381-6900-4f32-9a20-2fa70bebd305",
   "metadata": {},
   "source": [
    "20. Describe the concept of method abstraction in Python and how it relates to polymorphism."
   ]
  },
  {
   "cell_type": "markdown",
   "id": "9ff27e3b-cb61-46c4-97f5-5dd95fb5015a",
   "metadata": {},
   "source": [
    "Answer 20.\n",
    "**Method Abstraction in Python and its Relation to Polymorphism:**\n",
    "- **Method Abstraction:**\n",
    "  - **Definition:** Hides the internal details of a method's implementation, exposing only its essential functionality.\n",
    "  - **Purpose:** Emphasizes what a method does rather than how it achieves it.\n",
    "- **Relation to Polymorphism:**\n",
    "  - **Polymorphism:**\n",
    "    - **Definition:** Enables objects of different types to be treated as objects of a common type.\n",
    "    - **Achieved Through Method Abstraction:**\n",
    "      - Different classes can provide their own implementations of the same abstract method.\n",
    "      - Objects of these classes can be used interchangeably based on their shared method interface.\n",
    "  - **Example:**\n",
    "    ```python\n",
    "    from abc import ABC, abstractmethod\n",
    "\n",
    "    class Shape(ABC):\n",
    "        @abstractmethod\n",
    "        def calculate_area(self):\n",
    "            pass\n",
    "\n",
    "    class Circle(Shape):\n",
    "        def __init__(self, radius):\n",
    "            self.radius = radius\n",
    "\n",
    "        def calculate_area(self):\n",
    "            return 3.14 * self.radius ** 2\n",
    "\n",
    "    class Rectangle(Shape):\n",
    "        def __init__(self, length, width):\n",
    "            self.length = length\n",
    "            self.width = width\n",
    "\n",
    "        def calculate_area(self):\n",
    "            return self.length * self.width\n",
    "    ```\n",
    "- **Benefits:**\n",
    "  - **Flexibility:** Different classes can implement the same method in ways specific to their functionality.\n",
    "  - **Interchangeability:** Objects adhering to the same abstract method can be used interchangeably, promoting polymorphism."
   ]
  },
  {
   "cell_type": "markdown",
   "id": "5ca4ce91-47fd-4bd9-8dd0-2d3a36721aec",
   "metadata": {},
   "source": [
    "## Composition"
   ]
  },
  {
   "cell_type": "markdown",
   "id": "b54ba2ea-9e3a-4d22-8793-c1b8fc6a36fa",
   "metadata": {},
   "source": [
    "1. Explain the concept of composition in Python and how it is used to build complex objects from simpler ones.\n"
   ]
  },
  {
   "cell_type": "markdown",
   "id": "b23b3cae-f194-43ab-a68c-6a3c392fc8f8",
   "metadata": {},
   "source": [
    "Answer 1.\n",
    "**Composition in Python:**\n",
    "- **Definition:**\n",
    "  - Composition is a design principle where a class is composed of one or more objects of other classes.\n",
    "  - It enables building complex objects by combining simpler ones, creating a \"has-a\" relationship.\n",
    "- **Key Points:**\n",
    "  - **\"Has-a\" Relationship:**\n",
    "    - Represents the relationship where a class \"has\" another class as a component.\n",
    "  - **Code Reusability:**\n",
    "    - Encourages reusing existing classes rather than relying on inheritance.\n",
    "  - **Flexibility:**\n",
    "    - Provides a more flexible alternative to inheritance for building complex structures.\n",
    "  - **Example:**\n",
    "    ```python\n",
    "    class Engine:\n",
    "        def start(self):\n",
    "            return \"Engine started.\"\n",
    "\n",
    "    class Wheels:\n",
    "        def roll(self):\n",
    "            return \"Wheels rolling.\"\n",
    "\n",
    "    class Car:\n",
    "        def __init__(self):\n",
    "            self.engine = Engine()  # Composition\n",
    "            self.wheels = Wheels()  # Composition\n",
    "\n",
    "        def drive(self):\n",
    "            return f\"{self.engine.start()} {self.wheels.roll()}\"\n",
    "\n",
    "    # Example usage\n",
    "    my_car = Car()\n",
    "    print(my_car.drive())\n",
    "    ```\n",
    "- **Benefits:**\n",
    "  - **Modularity:** Each component (class) can be developed and tested independently.\n",
    "  - **Encapsulation:** Components encapsulate their own functionalities, promoting information hiding.\n",
    "  - **Easy Maintenance:** Changes to one component have minimal impact on others, enhancing maintainability.\n",
    "  - **Code Reusability:** Components can be reused in different compositions, fostering code reuse."
   ]
  },
  {
   "cell_type": "markdown",
   "id": "d5de8e85-075a-4385-933a-b6aa60d8779e",
   "metadata": {},
   "source": [
    "2. Describe the difference between composition and inheritance in object-oriented programming.\n"
   ]
  },
  {
   "cell_type": "markdown",
   "id": "24cfdb7e-4711-472c-95cd-74374abf5e81",
   "metadata": {},
   "source": [
    "Answwer 2.\n",
    "**Composition:**\n",
    "- Combines simpler objects to create complex ones.\n",
    "- Emphasizes \"has-a\" relationships.\n",
    "- Promotes code reusability and flexibility.\n",
    "\n",
    "**Inheritance:**\n",
    "- Creates a hierarchy of classes.\n",
    "- Allows a new class to inherit properties from an existing class.\n",
    "- Emphasizes \"is-a\" relationships.\n",
    "- Can lead to rigidity in the code."
   ]
  },
  {
   "cell_type": "markdown",
   "id": "97d21ad2-cf57-41f4-ab9c-01f75c6ba3d9",
   "metadata": {},
   "source": [
    "3. Create a Python class called `Author` with attributes for name and birthdate. Then, create a `Book` class\n",
    "that contains an instance of `Author` as a composition. Provide an example of creating a `Book` object.\n"
   ]
  },
  {
   "cell_type": "code",
   "execution_count": 1,
   "id": "06d09379-279a-4e1d-9ad7-e858d4fca251",
   "metadata": {},
   "outputs": [
    {
     "name": "stdout",
     "output_type": "stream",
     "text": [
      "Book Title: Python Programming\n",
      "Author Name: John Doe\n",
      "Author Birthdate: January 1, 1980\n",
      "Publication Year: 2022\n"
     ]
    }
   ],
   "source": [
    "class Author:\n",
    "    def __init__(self, name, birthdate):\n",
    "        self.name = name\n",
    "        self.birthdate = birthdate\n",
    "\n",
    "class Book:\n",
    "    def __init__(self, title, author, publication_year):\n",
    "        self.title = title\n",
    "        self.author = author  # Composition: Book has an Author\n",
    "        self.publication_year = publication_year\n",
    "\n",
    "# Example of creating an Author and a Book\n",
    "author1 = Author(\"John Doe\", \"January 1, 1980\")\n",
    "book1 = Book(\"Python Programming\", author1, 2022)\n",
    "\n",
    "# Accessing attributes of the Book and its Author\n",
    "print(\"Book Title:\", book1.title)\n",
    "print(\"Author Name:\", book1.author.name)\n",
    "print(\"Author Birthdate:\", book1.author.birthdate)\n",
    "print(\"Publication Year:\", book1.publication_year)\n"
   ]
  },
  {
   "cell_type": "markdown",
   "id": "d2fafbe3-fae7-401f-98e0-8bd13b7941ad",
   "metadata": {},
   "source": [
    "4. Discuss the benefits of using composition over inheritance in Python, especially in terms of code flexibility\n",
    "and reusability.\n"
   ]
  },
  {
   "cell_type": "markdown",
   "id": "1eea43a8-98a9-4ccf-a513-547bfef703ea",
   "metadata": {},
   "source": [
    "Answer 4.\n",
    "**Benefits of Composition over Inheritance in Python:**\n",
    "\n",
    "1. **Flexibility:**\n",
    "   - Composition allows for more flexible and dynamic relationships between classes.\n",
    "   - Changes in one class do not necessarily affect the behavior of another, promoting adaptability.\n",
    "\n",
    "2. **Code Reusability:**\n",
    "   - Composition promotes code reuse by assembling objects with desired behaviors.\n",
    "   - Objects can be reused in various contexts, enhancing modular design.\n",
    "\n",
    "3. **Reduced Coupling:**\n",
    "   - Composition leads to loosely coupled classes, minimizing dependencies.\n",
    "   - Loose coupling improves maintainability and facilitates changes without affecting unrelated parts of the code.\n",
    "\n",
    "4. **Avoiding Rigidity:**\n",
    "   - Unlike inheritance, composition avoids the rigidity introduced by a fixed class hierarchy.\n",
    "   - Modifications to one class don't impose changes on unrelated classes, reducing unintended consequences.\n",
    "\n",
    "In summary, composition in Python provides a more flexible and modular approach, promoting code reuse and minimizing the impact of changes on the overall codebase."
   ]
  },
  {
   "cell_type": "markdown",
   "id": "dc76f7da-4882-482f-b031-4877497ee1f2",
   "metadata": {},
   "source": [
    "5. How can you implement composition in Python classes? Provide examples of using composition to create\n",
    "complex objects.\n"
   ]
  },
  {
   "cell_type": "markdown",
   "id": "3a221370-2fea-4d59-91d9-826ef087df97",
   "metadata": {},
   "source": [
    "Answer 5.\n",
    "**Implementation of Composition in Python:**\n",
    "\n",
    "1. **Define Classes:**\n",
    "   - Create individual classes with specific functionalities.\n",
    "\n",
    "```python\n",
    "class Engine:\n",
    "    def start(self):\n",
    "        print(\"Engine starting...\")\n",
    "\n",
    "class Wheels:\n",
    "    def rotate(self):\n",
    "        print(\"Wheels rotating...\")\n",
    "\n",
    "class Car:\n",
    "    def __init__(self):\n",
    "        self.engine = Engine()  # Composition: Car has an Engine\n",
    "        self.wheels = Wheels()  # Composition: Car has Wheels\n",
    "\n",
    "    def drive(self):\n",
    "        self.engine.start()\n",
    "        self.wheels.rotate()\n",
    "\n",
    "# Example Usage:\n",
    "my_car = Car()\n",
    "my_car.drive()\n",
    "```\n",
    "\n",
    "2. **Compose Objects:**\n",
    "   - In the main class (`Car`), include instances of other classes (`Engine` and `Wheels`) as attributes.\n",
    "\n",
    "3. **Access Functionality:**\n",
    "   - Utilize the functionality of composed classes within the main class.\n",
    "\n",
    "In this example, the `Car` class composes objects of `Engine` and `Wheels`. The `Car` class can then use the functionalities of both the `Engine` and `Wheels` classes, demonstrating the composition principle."
   ]
  },
  {
   "cell_type": "markdown",
   "id": "0e0b416d-b3af-49be-baf5-9565cc160f55",
   "metadata": {},
   "source": [
    "6. Create a Python class hierarchy for a music player system, using composition to represent playlists and\n",
    "songs.\n"
   ]
  },
  {
   "cell_type": "code",
   "execution_count": 2,
   "id": "a2c06fa4-2aae-4056-84fb-e17748c96170",
   "metadata": {},
   "outputs": [
    {
     "name": "stdout",
     "output_type": "stream",
     "text": [
      "Playing playlist: My Playlist\n",
      "Now playing: Song1 by Artist1\n",
      "Now playing: Song2 by Artist2\n"
     ]
    }
   ],
   "source": [
    "class Song:\n",
    "    def __init__(self, title, artist, duration):\n",
    "        self.title = title\n",
    "        self.artist = artist\n",
    "        self.duration = duration\n",
    "\n",
    "    def play(self):\n",
    "        print(f\"Now playing: {self.title} by {self.artist}\")\n",
    "\n",
    "class Playlist:\n",
    "    def __init__(self, name):\n",
    "        self.name = name\n",
    "        self.songs = []\n",
    "\n",
    "    def add_song(self, song):\n",
    "        self.songs.append(song)\n",
    "\n",
    "    def play_playlist(self):\n",
    "        print(f\"Playing playlist: {self.name}\")\n",
    "        for song in self.songs:\n",
    "            song.play()\n",
    "\n",
    "class MusicPlayer:\n",
    "    def __init__(self):\n",
    "        self.playlists = []\n",
    "\n",
    "    def create_playlist(self, name):\n",
    "        playlist = Playlist(name)\n",
    "        self.playlists.append(playlist)\n",
    "        return playlist\n",
    "\n",
    "# Example Usage:\n",
    "player = MusicPlayer()\n",
    "\n",
    "song1 = Song(\"Song1\", \"Artist1\", \"3:30\")\n",
    "song2 = Song(\"Song2\", \"Artist2\", \"4:15\")\n",
    "\n",
    "playlist1 = player.create_playlist(\"My Playlist\")\n",
    "playlist1.add_song(song1)\n",
    "playlist1.add_song(song2)\n",
    "\n",
    "playlist1.play_playlist()\n"
   ]
  },
  {
   "cell_type": "markdown",
   "id": "a0aa318e-fb96-4a14-bc5d-a6e5ecd03669",
   "metadata": {},
   "source": [
    "7. Explain the concept of \"has-a\" relationships in composition and how it helps design software systems.\n"
   ]
  },
  {
   "cell_type": "markdown",
   "id": "7950387c-cf0d-4d99-b574-ae9a037a4d13",
   "metadata": {},
   "source": [
    "Answer 7. The concept of \"has-a\" relationships in composition signifies that one class contains another class as a component. This promotes code reusability, modular design, and flexibility in software systems, allowing the combination of smaller, specialized classes to create more complex and maintainable structures."
   ]
  },
  {
   "cell_type": "markdown",
   "id": "262a809b-197a-4d75-8f5d-7b0da8568d0b",
   "metadata": {},
   "source": [
    "8. Create a Python class for a computer system, using composition to represent components like CPU, RAM,\n",
    "and storage devices.\n"
   ]
  },
  {
   "cell_type": "code",
   "execution_count": 3,
   "id": "9e3e6f0b-8a8a-4aea-8ba8-7ade79f6272a",
   "metadata": {},
   "outputs": [
    {
     "name": "stdout",
     "output_type": "stream",
     "text": [
      "Computer System:\n",
      "Intel CPU running at 2.5 GHz\n",
      "8 GB RAM\n",
      "256 GB SSD storage\n"
     ]
    }
   ],
   "source": [
    "class CPU:\n",
    "    def __init__(self, brand, speed):\n",
    "        self.brand = brand\n",
    "        self.speed = speed\n",
    "\n",
    "    def info(self):\n",
    "        return f\"{self.brand} CPU running at {self.speed} GHz\"\n",
    "\n",
    "class RAM:\n",
    "    def __init__(self, capacity):\n",
    "        self.capacity = capacity\n",
    "\n",
    "    def info(self):\n",
    "        return f\"{self.capacity} GB RAM\"\n",
    "\n",
    "class Storage:\n",
    "    def __init__(self, type, capacity):\n",
    "        self.type = type\n",
    "        self.capacity = capacity\n",
    "\n",
    "    def info(self):\n",
    "        return f\"{self.capacity} GB {self.type} storage\"\n",
    "\n",
    "class Computer:\n",
    "    def __init__(self, cpu, ram, storage):\n",
    "        self.cpu = cpu\n",
    "        self.ram = ram\n",
    "        self.storage = storage\n",
    "\n",
    "    def system_info(self):\n",
    "        cpu_info = self.cpu.info()\n",
    "        ram_info = self.ram.info()\n",
    "        storage_info = self.storage.info()\n",
    "\n",
    "        return f\"Computer System:\\n{cpu_info}\\n{ram_info}\\n{storage_info}\"\n",
    "\n",
    "# Example Usage:\n",
    "cpu = CPU(\"Intel\", 2.5)\n",
    "ram = RAM(8)\n",
    "storage = Storage(\"SSD\", 256)\n",
    "\n",
    "my_computer = Computer(cpu, ram, storage)\n",
    "print(my_computer.system_info())\n"
   ]
  },
  {
   "cell_type": "markdown",
   "id": "75fb05bf-e770-40f0-9807-93e0c92a2f0f",
   "metadata": {},
   "source": [
    "9. Describe the concept of \"delegation\" in composition and how it simplifies the design of complex systems.\n"
   ]
  },
  {
   "cell_type": "markdown",
   "id": "3645a1d6-472d-43ce-8b0d-2582d11f74d7",
   "metadata": {},
   "source": [
    "Answer 9.\n",
    "**Delegation in Composition:**\n",
    "Delegation in composition is a design pattern where one object passes specific tasks to another object. It enhances modularity, promotes loose coupling, and simplifies maintenance by isolating responsibilities. This pattern enables code reuse and flexibility in complex systems."
   ]
  },
  {
   "cell_type": "markdown",
   "id": "16c6f3ca-c57b-44e1-81d9-5fb135603117",
   "metadata": {},
   "source": [
    "10. Create a Python class for a car, using composition to represent components like the engine, wheels, and\n",
    "transmission.\n"
   ]
  },
  {
   "cell_type": "code",
   "execution_count": 4,
   "id": "5b2658a0-87dc-4e56-a72e-169988d2f102",
   "metadata": {},
   "outputs": [
    {
     "name": "stdout",
     "output_type": "stream",
     "text": [
      "Engine starting...\n",
      "Transmission shifting gear...\n",
      "Wheels rotating...\n"
     ]
    }
   ],
   "source": [
    "class Engine:\n",
    "    def start(self):\n",
    "        print(\"Engine starting...\")\n",
    "\n",
    "class Wheels:\n",
    "    def rotate(self):\n",
    "        print(\"Wheels rotating...\")\n",
    "\n",
    "class Transmission:\n",
    "    def shift_gear(self):\n",
    "        print(\"Transmission shifting gear...\")\n",
    "\n",
    "class Car:\n",
    "    def __init__(self, engine, wheels, transmission):\n",
    "        self.engine = engine\n",
    "        self.wheels = wheels\n",
    "        self.transmission = transmission\n",
    "\n",
    "    def drive(self):\n",
    "        self.engine.start()\n",
    "        self.transmission.shift_gear()\n",
    "        self.wheels.rotate()\n",
    "\n",
    "# Example Usage:\n",
    "car_engine = Engine()\n",
    "car_wheels = Wheels()\n",
    "car_transmission = Transmission()\n",
    "\n",
    "my_car = Car(car_engine, car_wheels, car_transmission)\n",
    "my_car.drive()\n"
   ]
  },
  {
   "cell_type": "markdown",
   "id": "a1921610-6b2b-4a6b-aefe-9cc69d4cd863",
   "metadata": {},
   "source": [
    "11. How can you encapsulate and hide the details of composed objects in Python classes to maintain\n",
    "abstraction?\n"
   ]
  },
  {
   "cell_type": "markdown",
   "id": "f74556ca-7834-4da2-bcf5-cb732c4effbb",
   "metadata": {},
   "source": [
    "Answer 11.\n",
    "To encapsulate and hide details in Python classes:\n",
    "\n",
    "1. Use double underscores (`__`) to make attributes private.\n",
    "2. Provide getter methods for controlled access.\n",
    "3. Utilize proper naming conventions for visibility (e.g., a single underscore for protected attributes)."
   ]
  },
  {
   "cell_type": "markdown",
   "id": "33c8534c-2de6-4816-bd32-27ba30104cd3",
   "metadata": {},
   "source": [
    "12. Create a Python class for a university course, using composition to represent students, instructors, and\n",
    "course materials.\n"
   ]
  },
  {
   "cell_type": "code",
   "execution_count": 5,
   "id": "37dcf9d4-af89-4eec-8070-b21ff695b1b7",
   "metadata": {},
   "outputs": [
    {
     "name": "stdout",
     "output_type": "stream",
     "text": [
      "Course: Python Programming\n",
      "Instructor: Dr. Smith\n",
      "Students:\n",
      "  - Alice\n",
      "  - Bob\n",
      "Course Material: Introduction to Python\n",
      "Content: Basic Python concepts and programming\n"
     ]
    }
   ],
   "source": [
    "class Student:\n",
    "    def __init__(self, name, student_id):\n",
    "        self.name = name\n",
    "        self.student_id = student_id\n",
    "\n",
    "class Instructor:\n",
    "    def __init__(self, name, employee_id):\n",
    "        self.name = name\n",
    "        self.employee_id = employee_id\n",
    "\n",
    "class CourseMaterial:\n",
    "    def __init__(self, title, content):\n",
    "        self.title = title\n",
    "        self.content = content\n",
    "\n",
    "class UniversityCourse:\n",
    "    def __init__(self, course_name, instructor, students, course_material):\n",
    "        self.course_name = course_name\n",
    "        self.instructor = instructor\n",
    "        self.students = students\n",
    "        self.course_material = course_material\n",
    "\n",
    "    def display_course_info(self):\n",
    "        print(f\"Course: {self.course_name}\")\n",
    "        print(f\"Instructor: {self.instructor.name}\")\n",
    "        print(\"Students:\")\n",
    "        for student in self.students:\n",
    "            print(f\"  - {student.name}\")\n",
    "        print(f\"Course Material: {self.course_material.title}\")\n",
    "        print(f\"Content: {self.course_material.content}\")\n",
    "\n",
    "# Example Usage:\n",
    "instructor = Instructor(\"Dr. Smith\", \"EMP123\")\n",
    "student1 = Student(\"Alice\", \"S123\")\n",
    "student2 = Student(\"Bob\", \"S456\")\n",
    "\n",
    "material = CourseMaterial(\"Introduction to Python\", \"Basic Python concepts and programming\")\n",
    "\n",
    "course = UniversityCourse(\"Python Programming\", instructor, [student1, student2], material)\n",
    "course.display_course_info()\n"
   ]
  },
  {
   "cell_type": "markdown",
   "id": "ec4c9032-1e78-43aa-b3fc-78a615ac3f70",
   "metadata": {},
   "source": [
    "13. Discuss the challenges and drawbacks of composition, such as increased complexity and potential for\n",
    "tight coupling between objects.\n"
   ]
  },
  {
   "cell_type": "markdown",
   "id": "f0d69a74-e464-4010-b97a-8ae54193f130",
   "metadata": {},
   "source": [
    "Answer 13.\n",
    "**Challenges and Drawbacks of Composition:**\n",
    "\n",
    "1. **Increased Complexity:**\n",
    "   - Composition can lead to higher complexity, especially in managing relationships between multiple objects.\n",
    "\n",
    "2. **Potential for Tight Coupling:**\n",
    "   - Careless composition can result in tight coupling, where changes to one object affect others.\n",
    "\n",
    "3. **Boilerplate Code:**\n",
    "   - Composing objects may introduce boilerplate code for forwarding methods and managing interactions.\n",
    "\n",
    "4. **Dependency Management:**\n",
    "   - Dependencies between classes increase, requiring careful management to avoid unintended consequences.\n",
    "\n",
    "5. **Runtime Overhead:**\n",
    "   - Invoking methods through composition may have slight runtime overhead compared to direct method calls in inheritance."
   ]
  },
  {
   "cell_type": "markdown",
   "id": "4fce19de-480b-42ef-8142-90c0c0ac9b38",
   "metadata": {},
   "source": [
    "14. Create a Python class hierarchy for a restaurant system, using composition to represent menus, dishes,\n",
    "and ingredients.\n"
   ]
  },
  {
   "cell_type": "code",
   "execution_count": 6,
   "id": "931dc592-c98c-4d28-bfdb-b36515f35d18",
   "metadata": {},
   "outputs": [
    {
     "name": "stdout",
     "output_type": "stream",
     "text": [
      "Welcome to Tasty Bites!\n",
      "Menu: Pizza Menu\n",
      "Margherita Pizza:\n",
      "  - 2 pieces of Tomato\n",
      "  - 100 grams of Cheese\n",
      "Menu: Healthy Choices\n",
      "Grilled Chicken with Broccoli:\n",
      "  - 200 grams of Chicken\n",
      "  - 150 grams of Broccoli\n"
     ]
    }
   ],
   "source": [
    "class Ingredient:\n",
    "    def __init__(self, name, quantity, unit):\n",
    "        self.name = name\n",
    "        self.quantity = quantity\n",
    "        self.unit = unit\n",
    "\n",
    "class Dish:\n",
    "    def __init__(self, name, ingredients):\n",
    "        self.name = name\n",
    "        self.ingredients = ingredients\n",
    "\n",
    "    def display_dish(self):\n",
    "        print(f\"{self.name}:\")\n",
    "        for ingredient in self.ingredients:\n",
    "            print(f\"  - {ingredient.quantity} {ingredient.unit} of {ingredient.name}\")\n",
    "\n",
    "class Menu:\n",
    "    def __init__(self, name, dishes):\n",
    "        self.name = name\n",
    "        self.dishes = dishes\n",
    "\n",
    "    def display_menu(self):\n",
    "        print(f\"Menu: {self.name}\")\n",
    "        for dish in self.dishes:\n",
    "            dish.display_dish()\n",
    "\n",
    "class Restaurant:\n",
    "    def __init__(self, name, menus):\n",
    "        self.name = name\n",
    "        self.menus = menus\n",
    "\n",
    "    def display_restaurant(self):\n",
    "        print(f\"Welcome to {self.name}!\")\n",
    "        for menu in self.menus:\n",
    "            menu.display_menu()\n",
    "\n",
    "# Example Usage:\n",
    "ingredient1 = Ingredient(\"Tomato\", 2, \"pieces\")\n",
    "ingredient2 = Ingredient(\"Cheese\", 100, \"grams\")\n",
    "dish1 = Dish(\"Margherita Pizza\", [ingredient1, ingredient2])\n",
    "\n",
    "ingredient3 = Ingredient(\"Chicken\", 200, \"grams\")\n",
    "ingredient4 = Ingredient(\"Broccoli\", 150, \"grams\")\n",
    "dish2 = Dish(\"Grilled Chicken with Broccoli\", [ingredient3, ingredient4])\n",
    "\n",
    "menu1 = Menu(\"Pizza Menu\", [dish1])\n",
    "menu2 = Menu(\"Healthy Choices\", [dish2])\n",
    "\n",
    "restaurant = Restaurant(\"Tasty Bites\", [menu1, menu2])\n",
    "restaurant.display_restaurant()\n"
   ]
  },
  {
   "cell_type": "markdown",
   "id": "efe1eefb-ae2b-487b-ba35-dbd7c81b9f72",
   "metadata": {},
   "source": [
    "15. Explain how composition enhances code maintainability and modularity in Python programs.\n"
   ]
  },
  {
   "cell_type": "markdown",
   "id": "21e15413-2a15-4b59-acd2-1603a22b633d",
   "metadata": {},
   "source": [
    "Answer 15.\n",
    "**Composition Enhances Code Maintainability and Modularity:**\n",
    "\n",
    "- **Maintainability:**\n",
    "  - Composition promotes loose coupling between classes, allowing changes in one class without affecting others.\n",
    "  - Modifications are localized, reducing the risk of unintended consequences and simplifying debugging and maintenance.\n",
    "\n",
    "- **Modularity:**\n",
    "  - Composition enables the creation of small, specialized classes that can be easily combined to form larger, more complex structures.\n",
    "  - Each class represents a distinct module, enhancing code organization and making it easier to understand, extend, and reuse."
   ]
  },
  {
   "cell_type": "markdown",
   "id": "f591d514-5a99-4384-8891-45e2994b331b",
   "metadata": {},
   "source": [
    "16. Create a Python class for a computer game character, using composition to represent attributes like\n",
    "weapons, armor, and inventory.\n"
   ]
  },
  {
   "cell_type": "code",
   "execution_count": 7,
   "id": "3c302383-389b-410d-a234-ba8dbf1c8ba1",
   "metadata": {},
   "outputs": [
    {
     "name": "stdout",
     "output_type": "stream",
     "text": [
      "Attacking with Sword, dealing 15 damage.\n",
      "Shield absorbed 10 damage.\n",
      "Hero took 10 damage after armor absorption.\n",
      "Added Health Potion to the inventory.\n"
     ]
    }
   ],
   "source": [
    "class Weapon:\n",
    "    def __init__(self, name, damage):\n",
    "        self.name = name\n",
    "        self.damage = damage\n",
    "\n",
    "    def attack(self):\n",
    "        print(f\"Attacking with {self.name}, dealing {self.damage} damage.\")\n",
    "\n",
    "class Armor:\n",
    "    def __init__(self, name, defense):\n",
    "        self.name = name\n",
    "        self.defense = defense\n",
    "\n",
    "    def absorb_damage(self, damage):\n",
    "        absorbed_damage = min(damage, self.defense)\n",
    "        print(f\"{self.name} absorbed {absorbed_damage} damage.\")\n",
    "        return damage - absorbed_damage\n",
    "\n",
    "class Inventory:\n",
    "    def __init__(self):\n",
    "        self.items = []\n",
    "\n",
    "    def add_item(self, item):\n",
    "        self.items.append(item)\n",
    "        print(f\"Added {item} to the inventory.\")\n",
    "\n",
    "class GameCharacter:\n",
    "    def __init__(self, name, weapon, armor, inventory):\n",
    "        self.name = name\n",
    "        self.weapon = weapon\n",
    "        self.armor = armor\n",
    "        self.inventory = inventory\n",
    "\n",
    "    def attack(self):\n",
    "        self.weapon.attack()\n",
    "\n",
    "    def defend(self, damage):\n",
    "        remaining_damage = self.armor.absorb_damage(damage)\n",
    "        print(f\"{self.name} took {remaining_damage} damage after armor absorption.\")\n",
    "\n",
    "    def add_to_inventory(self, item):\n",
    "        self.inventory.add_item(item)\n",
    "\n",
    "# Example Usage:\n",
    "sword = Weapon(\"Sword\", 15)\n",
    "shield = Armor(\"Shield\", 10)\n",
    "character_inventory = Inventory()\n",
    "\n",
    "hero = GameCharacter(\"Hero\", sword, shield, character_inventory)\n",
    "\n",
    "hero.attack()\n",
    "hero.defend(20)\n",
    "\n",
    "potion = \"Health Potion\"\n",
    "hero.add_to_inventory(potion)\n"
   ]
  },
  {
   "cell_type": "markdown",
   "id": "153e69f4-1810-4054-bb1d-7927aa954aaa",
   "metadata": {},
   "source": [
    "17. Describe the concept of \"aggregation\" in composition and how it differs from simple composition.\n"
   ]
  },
  {
   "cell_type": "markdown",
   "id": "330cc89f-4f6f-4f46-a0ce-db8e460affc3",
   "metadata": {},
   "source": [
    "Answer 17.\n",
    "**Aggregation in Composition:**\n",
    "- **Definition:**\n",
    "  - Aggregation is a form of composition where one class (the whole) contains another class (the part), but the part can exist independently of the whole.\n",
    "  - It implies a relationship where one object is part of another but doesn't own the other object's lifecycle.\n",
    "\n",
    "- **Difference from Simple Composition:**\n",
    "  - In simple composition, the composed object (part) is typically fully owned and managed by the containing object (whole).\n",
    "  - In aggregation, the part can exist independently, and the relationship is often more loosely coupled.\n",
    "\n",
    "**Example:**\n",
    "```python\n",
    "class Department:\n",
    "    def __init__(self, name):\n",
    "        self.name = name\n",
    "        self.employees = []  # Aggregation: Department has employees, but employees can exist independently.\n",
    "\n",
    "class Employee:\n",
    "    def __init__(self, name, emp_id):\n",
    "        self.name = name\n",
    "        self.emp_id = emp_id\n",
    "\n",
    "# Example Usage:\n",
    "dept = Department(\"HR\")\n",
    "employee1 = Employee(\"Alice\", 101)\n",
    "employee2 = Employee(\"Bob\", 102)\n",
    "\n",
    "dept.employees.append(employee1)\n",
    "dept.employees.append(employee2)\n",
    "```\n",
    "\n",
    "In this example, `Department` aggregates `Employee` objects. Employees can exist independently of the department, illustrating the concept of aggregation."
   ]
  },
  {
   "cell_type": "markdown",
   "id": "f689070f-30ed-47ce-8bc2-6d533d9cf1e9",
   "metadata": {},
   "source": [
    "18. Create a Python class for a house, using composition to represent rooms, furniture, and appliances.\n"
   ]
  },
  {
   "cell_type": "code",
   "execution_count": 9,
   "id": "de71dca1-7dcb-4bf6-b5f4-7a2de3e604ca",
   "metadata": {},
   "outputs": [],
   "source": [
    "class Furniture:\n",
    "    def __init__(self, name):\n",
    "        self.name = name\n",
    "\n",
    "class Appliance:\n",
    "    def __init__(self, name):\n",
    "        self.name = name\n",
    "\n",
    "class Room:\n",
    "    def __init__(self, name, furniture=None, appliances=None):\n",
    "        self.name = name\n",
    "        self.furniture = furniture if furniture else []\n",
    "        self.appliances = appliances if appliances else []\n",
    "\n",
    "    def add_furniture(self, furniture):\n",
    "        self.furniture.append(furniture)\n",
    "\n",
    "    def add_appliance(self, appliance):\n",
    "        self.appliances.append(appliance)\n",
    "\n",
    "class House:\n",
    "    def __init__(self, rooms=None):\n",
    "        self.rooms = rooms if rooms else []\n",
    "\n",
    "    def add_room(self, room):\n",
    "        self.rooms.append(room)\n",
    "\n",
    "# Example Usage:\n",
    "living_room = Room(\"Living Room\")\n",
    "couch = Furniture(\"Couch\")\n",
    "tv = Appliance(\"TV\")\n",
    "living_room.add_furniture(couch)\n",
    "living_room.add_appliance(tv)\n",
    "\n",
    "kitchen = Room(\"Kitchen\")\n",
    "table = Furniture(\"Dining Table\")\n",
    "oven = Appliance(\"Oven\")\n",
    "kitchen.add_furniture(table)\n",
    "kitchen.add_appliance(oven)\n",
    "\n",
    "my_house = House([living_room, kitchen])\n"
   ]
  },
  {
   "cell_type": "markdown",
   "id": "7ec327f3-d3da-4d13-bba5-04a1332b2453",
   "metadata": {},
   "source": [
    "19. How can you achieve flexibility in composed objects by allowing them to be replaced or modified\n",
    "dynamically at runtime?\n"
   ]
  },
  {
   "cell_type": "markdown",
   "id": "f3b31c0c-3ef0-45dc-a80a-683d24017c5c",
   "metadata": {},
   "source": [
    "Answer 19.\n",
    "**Achieving Flexibility in Composed Objects:**\n",
    "- Use interfaces or abstract classes to define a common set of behaviors.\n",
    "- Allow composed objects to implement or inherit from these interfaces.\n",
    "- Dynamically replace or modify composed objects at runtime without affecting the overall system structure, enabling flexibility and adaptability."
   ]
  },
  {
   "cell_type": "markdown",
   "id": "4e0ac735-7f03-42d0-a4f6-cf71b69f7691",
   "metadata": {},
   "source": [
    "20. Create a Python class for a social media application, using composition to represent users, posts, and\n",
    "comments."
   ]
  },
  {
   "cell_type": "code",
   "execution_count": 11,
   "id": "df018a69-d0fa-41b3-a1df-1b8a50ff05ed",
   "metadata": {},
   "outputs": [
    {
     "name": "stdout",
     "output_type": "stream",
     "text": [
      "Alice's Post: Excited about the latest technology trends!\n",
      "  - Bob: Me too! What's your favorite tech topic?\n",
      "  - Alice: I love discussing AI and machine learning.\n"
     ]
    }
   ],
   "source": [
    "class User:\n",
    "    def __init__(self, username, bio):\n",
    "        self.username = username\n",
    "        self.bio = bio\n",
    "        self.posts = []\n",
    "\n",
    "    def create_post(self, content):\n",
    "        post = Post(content, self)\n",
    "        self.posts.append(post)\n",
    "        return post\n",
    "\n",
    "class Post:\n",
    "    def __init__(self, content, author):\n",
    "        self.content = content\n",
    "        self.author = author\n",
    "        self.comments = []\n",
    "\n",
    "    def add_comment(self, commenter, text):\n",
    "        comment = Comment(commenter, text)\n",
    "        self.comments.append(comment)\n",
    "        return comment\n",
    "\n",
    "class Comment:\n",
    "    def __init__(self, commenter, text):\n",
    "        self.commenter = commenter\n",
    "        self.text = text\n",
    "\n",
    "# Example Usage:\n",
    "user1 = User(\"Alice\", \"Tech enthusiast\")\n",
    "user2 = User(\"Bob\", \"Nature lover\")\n",
    "\n",
    "post1 = user1.create_post(\"Excited about the latest technology trends!\")\n",
    "comment1 = post1.add_comment(user2, \"Me too! What's your favorite tech topic?\")\n",
    "comment2 = post1.add_comment(user1, \"I love discussing AI and machine learning.\")\n",
    "\n",
    "post2 = user2.create_post(\"Enjoying a hike in the mountains.\")\n",
    "comment3 = post2.add_comment(user1, \"Looks amazing! Which mountain range are you exploring?\")\n",
    "\n",
    "# Displaying Posts and Comments\n",
    "for post in user1.posts:\n",
    "    print(f\"{user1.username}'s Post: {post.content}\")\n",
    "    for comment in post.comments:\n",
    "        print(f\"  - {comment.commenter.username}: {comment.text}\")\n"
   ]
  },
  {
   "cell_type": "code",
   "execution_count": null,
   "id": "83e6e099-12e1-49c7-894b-d35d0a8c0c2d",
   "metadata": {},
   "outputs": [],
   "source": []
  },
  {
   "cell_type": "code",
   "execution_count": null,
   "id": "fb2977e7-9208-4f05-88db-a85293498d95",
   "metadata": {},
   "outputs": [],
   "source": []
  },
  {
   "cell_type": "code",
   "execution_count": null,
   "id": "2951550b-fc9f-4230-93b9-0eb36e4cc81e",
   "metadata": {},
   "outputs": [],
   "source": []
  }
 ],
 "metadata": {
  "kernelspec": {
   "display_name": "Python 3 (ipykernel)",
   "language": "python",
   "name": "python3"
  },
  "language_info": {
   "codemirror_mode": {
    "name": "ipython",
    "version": 3
   },
   "file_extension": ".py",
   "mimetype": "text/x-python",
   "name": "python",
   "nbconvert_exporter": "python",
   "pygments_lexer": "ipython3",
   "version": "3.10.8"
  }
 },
 "nbformat": 4,
 "nbformat_minor": 5
}
