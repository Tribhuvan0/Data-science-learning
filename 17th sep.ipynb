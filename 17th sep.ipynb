{
 "cells": [
  {
   "cell_type": "markdown",
   "id": "cc280bc7-beab-40e4-97f3-eeb7e3a0b95d",
   "metadata": {},
   "source": [
    "For Loop :-\n",
    "\n",
    "1. Write a Python program to print numbers from 1 to 10 using a for loop.\n",
    "\n"
   ]
  },
  {
   "cell_type": "code",
   "execution_count": 12,
   "id": "b5968130-e924-4604-bc02-da1ef22495a7",
   "metadata": {},
   "outputs": [
    {
     "data": {
      "text/plain": [
       "[0, 1, 2, 3, 4, 5, 6, 7, 8, 9, 10]"
      ]
     },
     "execution_count": 12,
     "metadata": {},
     "output_type": "execute_result"
    }
   ],
   "source": [
    "#using for loop iterates in range 0 to 10 and we print result in list comprehension\n",
    "[i for i in range(11)]"
   ]
  },
  {
   "cell_type": "markdown",
   "id": "5f12b3b5-efad-40bb-9ae9-6373949abfc2",
   "metadata": {},
   "source": [
    "2. Explain the difference between a for loop and a while loop in Python.\n"
   ]
  },
  {
   "cell_type": "markdown",
   "id": "082212f1-594d-4087-a46e-04baf52b3c22",
   "metadata": {},
   "source": [
    "1. for loop iterates for a given range of values, while loop iterates while the condition is true. \n",
    "2. In for loop number of iterations is known in while loop it is unknown. \n",
    "3. for loop is faster then while loop"
   ]
  },
  {
   "cell_type": "markdown",
   "id": "a57821ce-c3cb-48ac-9b78-9cd0ec8b7310",
   "metadata": {},
   "source": [
    "3. Write a Python program to calculate the sum of all numbers from 1 to 100 using a for loop.\n"
   ]
  },
  {
   "cell_type": "code",
   "execution_count": 13,
   "id": "52bcfcde-d991-4e3e-81e1-e0198dcdb3d7",
   "metadata": {},
   "outputs": [
    {
     "data": {
      "text/plain": [
       "5050"
      ]
     },
     "execution_count": 13,
     "metadata": {},
     "output_type": "execute_result"
    }
   ],
   "source": [
    "#range gives the numbers from 0 to n-1 and sum returns the sum of all\n",
    "sum(range(101))"
   ]
  },
  {
   "cell_type": "markdown",
   "id": "e0824496-bbf3-4472-8ebe-40521a68ad3d",
   "metadata": {},
   "source": [
    "4. How do you iterate through a list using a for loop in Python?\n"
   ]
  },
  {
   "cell_type": "code",
   "execution_count": 14,
   "id": "78b799c4-e755-46c7-8ec7-68711902e22c",
   "metadata": {},
   "outputs": [
    {
     "name": "stdout",
     "output_type": "stream",
     "text": [
      "1 2 3 4 5 "
     ]
    }
   ],
   "source": [
    "#taking list as input\n",
    "x = [1,2,3,4,5]\n",
    "#using for loop to iterate the list\n",
    "for i in x:\n",
    "    print(i,end=\" \")"
   ]
  },
  {
   "cell_type": "markdown",
   "id": "4810db43-8721-485f-869d-28b565a633a5",
   "metadata": {},
   "source": [
    "5. Write a Python program to find the product of all elements in a list using a for loop.\n"
   ]
  },
  {
   "cell_type": "code",
   "execution_count": 15,
   "id": "d8eb0289-5349-47c9-977e-8c0f86ef9cd0",
   "metadata": {},
   "outputs": [
    {
     "name": "stdout",
     "output_type": "stream",
     "text": [
      "120\n"
     ]
    }
   ],
   "source": [
    "#taking list as input\n",
    "x = [1,2,3,4,5]\n",
    "prod = 1\n",
    "#using for loop to iterate through list\n",
    "for i in x:\n",
    "    prod *=i\n",
    "print(prod)"
   ]
  },
  {
   "cell_type": "markdown",
   "id": "b4743436-62d8-46fe-806e-447f5c408d18",
   "metadata": {},
   "source": [
    "6. Create a Python program that prints all even numbers from 1 to 20 using a for loop.\n"
   ]
  },
  {
   "cell_type": "code",
   "execution_count": 16,
   "id": "a48365f6-2b43-4b3f-b7a4-b40221eb2293",
   "metadata": {},
   "outputs": [
    {
     "data": {
      "text/plain": [
       "[2, 4, 6, 8, 10, 12, 14, 16, 18, 20]"
      ]
     },
     "execution_count": 16,
     "metadata": {},
     "output_type": "execute_result"
    }
   ],
   "source": [
    "#using for loop to iterate through range of 1 to 20 and checking if each term is even or not\n",
    "[i for i in range(1,21) if i%2==0]"
   ]
  },
  {
   "cell_type": "markdown",
   "id": "2cccb3ec-4302-43ef-a254-f1a1e65764f7",
   "metadata": {},
   "source": [
    "7. Write a Python program that calculates the factorial of a number using a for loop.\n"
   ]
  },
  {
   "cell_type": "code",
   "execution_count": 17,
   "id": "c7c5b5c1-7ad4-488c-8cd5-a0267b9bedb7",
   "metadata": {},
   "outputs": [
    {
     "name": "stdout",
     "output_type": "stream",
     "text": [
      "120\n"
     ]
    }
   ],
   "source": [
    "#function takes n as input and calculates it factorial\n",
    "def fact(n):\n",
    "    fact = 1\n",
    "    for i in range(1,n+1):\n",
    "        fact *= i\n",
    "    return fact\n",
    "\n",
    "#print the result\n",
    "print(fact(5))"
   ]
  },
  {
   "cell_type": "markdown",
   "id": "26a69404-4ffe-42fa-bc09-75cdcf41a7da",
   "metadata": {},
   "source": [
    "8. How can you iterate through the characters of a string using a for loop in Python?\n"
   ]
  },
  {
   "cell_type": "code",
   "execution_count": 18,
   "id": "d63247fc-dfbc-400c-acfa-8279c5c4592d",
   "metadata": {},
   "outputs": [
    {
     "name": "stdout",
     "output_type": "stream",
     "text": [
      "H i ,   h o w   a r e   y o u "
     ]
    }
   ],
   "source": [
    "#taking string as input\n",
    "string = \"Hi, how are you\"\n",
    "#using for loop to iterate through each character of string\n",
    "for i in string:\n",
    "    print(i, end = \" \")"
   ]
  },
  {
   "cell_type": "markdown",
   "id": "563c4b23-d99f-4aa4-9527-6d24937e14ad",
   "metadata": {},
   "source": [
    "9. Write a Python program to find the largest number in a list using a for loop.\n"
   ]
  },
  {
   "cell_type": "code",
   "execution_count": 19,
   "id": "91b7d637-7aa1-4a25-a973-5f5b77468229",
   "metadata": {},
   "outputs": [
    {
     "name": "stdout",
     "output_type": "stream",
     "text": [
      "5\n"
     ]
    }
   ],
   "source": [
    "#taking list as input\n",
    "lst = [1,2,3,4,5]\n",
    "maxi = 0\n",
    "#using for loop to iterate hrough each elemetn in list\n",
    "for i in lst:\n",
    "    if (maxi<i):\n",
    "        maxi = i\n",
    "print(maxi)"
   ]
  },
  {
   "cell_type": "markdown",
   "id": "5133c88b-d15e-4fd6-b3c0-4be74ab7501e",
   "metadata": {},
   "source": [
    "10. Create a Python program that prints the Fibonacci sequence up to a specified limit using a for loop.\n"
   ]
  },
  {
   "cell_type": "code",
   "execution_count": 20,
   "id": "4c91753b-07f2-4b75-8a9f-1957a3ebb723",
   "metadata": {},
   "outputs": [
    {
     "data": {
      "text/plain": [
       "[0, 1, 1, 2, 3]"
      ]
     },
     "execution_count": 20,
     "metadata": {},
     "output_type": "execute_result"
    }
   ],
   "source": [
    "#creating an empty list\n",
    "lst = []\n",
    "# a is first fibonacci term\n",
    "a = 0\n",
    "# b is second fibonacci term\n",
    "b = 1\n",
    "#number of terms you want\n",
    "n = 5\n",
    "\n",
    "#appending first and second term in list\n",
    "lst.append(a)\n",
    "lst.append(b)\n",
    "\n",
    "#using for loop to iterate in range n-1\n",
    "for i in range(1,n-1):\n",
    "    a,b = b,a+b\n",
    "    lst.append(b)\n",
    "lst"
   ]
  },
  {
   "cell_type": "markdown",
   "id": "b73afc96-9980-466c-a734-d44a1276a626",
   "metadata": {},
   "source": [
    "11. Write a Python program to count the number of vowels in a given string using a for loop.\n"
   ]
  },
  {
   "cell_type": "code",
   "execution_count": 22,
   "id": "4a47ac15-e53b-4d75-ab02-c68dcea722cd",
   "metadata": {},
   "outputs": [
    {
     "name": "stdout",
     "output_type": "stream",
     "text": [
      "6\n"
     ]
    }
   ],
   "source": [
    "#taking string as input\n",
    "string = \"Hi, hOw are you\"\n",
    "#creating a list of vowels\n",
    "lst = ['a','e','i','o','u']\n",
    "#initialising the cnt variable\n",
    "cnt = 0\n",
    "#iterating through each character of string\n",
    "for i in string.lower():\n",
    "    if i in lst:\n",
    "        cnt += 1;\n",
    "print(cnt)"
   ]
  },
  {
   "cell_type": "markdown",
   "id": "00a936b9-75bd-48ea-8802-27c63781fcc7",
   "metadata": {},
   "source": [
    "12. Create a Python program that generates a multiplication table for a given number using a for loop.\n"
   ]
  },
  {
   "cell_type": "code",
   "execution_count": 23,
   "id": "e582359f-f2ad-4ff5-96ea-19de0b58256c",
   "metadata": {},
   "outputs": [
    {
     "name": "stdout",
     "output_type": "stream",
     "text": [
      "5 * 1 = 5\n",
      "5 * 2 = 10\n",
      "5 * 3 = 15\n",
      "5 * 4 = 20\n",
      "5 * 5 = 25\n",
      "5 * 6 = 30\n",
      "5 * 7 = 35\n",
      "5 * 8 = 40\n",
      "5 * 9 = 45\n",
      "5 * 10 = 50\n"
     ]
    }
   ],
   "source": [
    "#taking the number whose table we want\n",
    "num = 5\n",
    "#iterating from 1 to 10 to print the table\n",
    "for i in range(1,11):\n",
    "    print(f\"{num} * {i} =\" ,(num*i))"
   ]
  },
  {
   "cell_type": "markdown",
   "id": "56303e6f-aec7-47c5-8f60-e3005eb12c89",
   "metadata": {},
   "source": [
    "13. Write a Python program to reverse a list using a for loop.\n"
   ]
  },
  {
   "cell_type": "code",
   "execution_count": 24,
   "id": "d728c1b6-7259-4e03-bd95-c8d67c4c5cc1",
   "metadata": {},
   "outputs": [
    {
     "name": "stdout",
     "output_type": "stream",
     "text": [
      "5 4 3 2 1 "
     ]
    }
   ],
   "source": [
    "#initialisng the ist\n",
    "lst = [1,2,3,4,5]\n",
    "#using for loop to iterate through the list from end\n",
    "for i in lst[::-1]:\n",
    "    print(i,end=\" \")"
   ]
  },
  {
   "cell_type": "markdown",
   "id": "2388d1f0-12ec-44ee-8f7a-52d47133ae1e",
   "metadata": {},
   "source": [
    "14. Write a Python program to find the common elements between two lists using a for loop.\n"
   ]
  },
  {
   "cell_type": "code",
   "execution_count": 25,
   "id": "91259106-b196-4426-97e1-036b4e3924e6",
   "metadata": {},
   "outputs": [
    {
     "name": "stdout",
     "output_type": "stream",
     "text": [
      "4 5 "
     ]
    }
   ],
   "source": [
    "#taking two list as input\n",
    "lst1 = [1,2,3,4,5]\n",
    "lst2 = [4,5,6,7,8]\n",
    "#using for loop to check if element exists in two elements\n",
    "for i in lst1:\n",
    "    if i in lst2:\n",
    "        print(i, end = \" \")\n",
    "        "
   ]
  },
  {
   "cell_type": "markdown",
   "id": "bd3e8bc2-4084-4f3d-8f27-3b4706991351",
   "metadata": {},
   "source": [
    "15. Explain how to use a for loop to iterate through the keys and values of a dictionary in Python.\n"
   ]
  },
  {
   "cell_type": "code",
   "execution_count": 26,
   "id": "a3031fe0-7796-4021-a361-631734fa6237",
   "metadata": {},
   "outputs": [
    {
     "name": "stdout",
     "output_type": "stream",
     "text": [
      "Raj\n",
      "12\n",
      "12344\n",
      "abc@gmail.com\n",
      "\n",
      "\n",
      "name\n",
      "roll_no\n",
      "ph_no\n",
      "mail_id\n"
     ]
    }
   ],
   "source": [
    "#creating an empty dictionary\n",
    "dict = {\"name\":\"Raj\", \"roll_no\": 12, \"ph_no\": 12344,\"mail_id\":\"abc@gmail.com\"}\n",
    "#using for loop to iterate values in dictionary\n",
    "for i in dict.values():\n",
    "    print(i)\n",
    "print(\"\\n\")\n",
    "#using for loop to iterate keys in dictionary\n",
    "for i in dict.keys():\n",
    "    print(i)"
   ]
  },
  {
   "cell_type": "markdown",
   "id": "c2138713-8472-4bb7-bef1-7598583c978a",
   "metadata": {},
   "source": [
    "16. Write a Python program to find the GCD (Greatest Common Divisor) of two numbers using a for loop.\n"
   ]
  },
  {
   "cell_type": "code",
   "execution_count": 27,
   "id": "7584a9e2-5e38-4ed3-8c6a-625fce7342af",
   "metadata": {},
   "outputs": [
    {
     "name": "stdout",
     "output_type": "stream",
     "text": [
      "2\n"
     ]
    }
   ],
   "source": [
    "#creating a gcd function and giving the two terms as input\n",
    "def gcd(a,b):\n",
    "    if(a==0):\n",
    "        return b\n",
    "    elif(b==0):\n",
    "        return a\n",
    "    else:\n",
    "        if(a<b):\n",
    "            return gcd(a,b%a)\n",
    "        else:\n",
    "            return gcd(b,a%b)\n",
    "\n",
    "#printing the result\n",
    "print(gcd(10,12))"
   ]
  },
  {
   "cell_type": "markdown",
   "id": "3d3afe32-b06e-42cd-8ca7-16093d1bdff5",
   "metadata": {},
   "source": [
    "17. Create a Python program that checks if a string is a palindrome using a for loop.\n"
   ]
  },
  {
   "cell_type": "code",
   "execution_count": 28,
   "id": "a2214a74-a2fd-4e7b-8c65-f2a9a5924a4a",
   "metadata": {},
   "outputs": [
    {
     "name": "stdout",
     "output_type": "stream",
     "text": [
      "True\n"
     ]
    }
   ],
   "source": [
    "#taking string as input\n",
    "string = \"eye\"\n",
    "#using for loop to iterate through each character of list\n",
    "for i in range(len(string)):\n",
    "    if (string[i] != string[len(string) - (i+1)]):\n",
    "        print(False)\n",
    "        break\n",
    "print(True)\n"
   ]
  },
  {
   "cell_type": "markdown",
   "id": "4938f325-4c20-4d86-8d43-64b25b51b6fc",
   "metadata": {},
   "source": [
    "18. Write a Python program to remove duplicates from a list using a for loop.\n"
   ]
  },
  {
   "cell_type": "code",
   "execution_count": 30,
   "id": "a62ad30f-7f51-4dc8-a4b1-59a8eaefd2b9",
   "metadata": {},
   "outputs": [
    {
     "data": {
      "text/plain": [
       "[3, 4, 5, 1, 2, 9, 8]"
      ]
     },
     "execution_count": 30,
     "metadata": {},
     "output_type": "execute_result"
    }
   ],
   "source": [
    "#taking list as input\n",
    "lst1 = [1,2,3,4,5,1,2,9,8]\n",
    "#using for loop to iterate through each integer of lst\n",
    "for i in lst1:\n",
    "    if lst1.count(i)>1:\n",
    "        lst1.remove(i)\n",
    "lst1"
   ]
  },
  {
   "cell_type": "markdown",
   "id": "7f434e1e-a969-4f9a-abe7-ffa20915ed58",
   "metadata": {},
   "source": [
    "19. Create a Python program that counts the number of words in a sentence using a for loop.\n"
   ]
  },
  {
   "cell_type": "code",
   "execution_count": 31,
   "id": "cb11a5c2-0fa5-4f85-9cd6-594b190863cd",
   "metadata": {},
   "outputs": [
    {
     "name": "stdout",
     "output_type": "stream",
     "text": [
      "4\n"
     ]
    }
   ],
   "source": [
    "#taking string as input\n",
    "string = \"Hi!, how are you\"\n",
    "cnt = 0\n",
    "#using for loop to iterate through each character\n",
    "for i in string.split():\n",
    "    cnt += 1\n",
    "print(cnt)"
   ]
  },
  {
   "cell_type": "markdown",
   "id": "420443f2-0871-4760-b1e9-0a20878687ec",
   "metadata": {},
   "source": [
    "20. Write a Python program to find the sum of all odd numbers from 1 to 50 using a for loop.\n"
   ]
  },
  {
   "cell_type": "code",
   "execution_count": 32,
   "id": "70f68684-abb9-403b-bd2a-55b2211a8c9f",
   "metadata": {},
   "outputs": [
    {
     "name": "stdout",
     "output_type": "stream",
     "text": [
      "625\n"
     ]
    }
   ],
   "source": [
    "#using for loop to iterate through each element in range 1 to 51\n",
    "print(sum(i for i in range(1,51) if i%2!=0))"
   ]
  },
  {
   "cell_type": "markdown",
   "id": "af910733-60ad-4e0c-a154-2bba1a0c7315",
   "metadata": {},
   "source": [
    "21. Write a Python program that checks if a given year is a leap year using a for loop.\n"
   ]
  },
  {
   "cell_type": "code",
   "execution_count": 33,
   "id": "034a430f-1603-43eb-8abe-d8f17d908189",
   "metadata": {},
   "outputs": [
    {
     "name": "stdout",
     "output_type": "stream",
     "text": [
      "Not a Leap Year\n"
     ]
    }
   ],
   "source": [
    "#taking year as input\n",
    "year = 1921\n",
    "#using condition to check if year is leap or not\n",
    "if year%4==0 and year%100!=0 or year%400==0:\n",
    "    print(\"Leap Year\")\n",
    "else:\n",
    "    print(\"Not a Leap Year\")\n"
   ]
  },
  {
   "cell_type": "markdown",
   "id": "6603aa51-e8bc-4c60-8b2a-dcfa41fbee2e",
   "metadata": {},
   "source": [
    "22. Create a Python program that calculates the square root of a number using a for loop.\n"
   ]
  },
  {
   "cell_type": "code",
   "execution_count": 34,
   "id": "61f53637-f384-4544-8f2a-e6d6bc6b164c",
   "metadata": {},
   "outputs": [
    {
     "name": "stdout",
     "output_type": "stream",
     "text": [
      "9\n"
     ]
    }
   ],
   "source": [
    "#taking num as input whose power we want to find\n",
    "num = 3\n",
    "#taking the pwower\n",
    "n = 3\n",
    "#taking result variable to store the result\n",
    "res = 1\n",
    "#using for loop to iterate through range 1 to n-1\n",
    "for i in range(1,n):\n",
    "    res *= num\n",
    "print(res)"
   ]
  },
  {
   "cell_type": "markdown",
   "id": "68e384fe-1ae9-49d4-8737-d30d75071d40",
   "metadata": {},
   "source": [
    "23. Write a Python program to find the LCM (Least Common Multiple) of two numbers using a for loop."
   ]
  },
  {
   "cell_type": "code",
   "execution_count": 35,
   "id": "a4192668-7f08-4c75-b684-36c3b3245261",
   "metadata": {},
   "outputs": [
    {
     "name": "stdout",
     "output_type": "stream",
     "text": [
      "LCM of 20 and 25 is: 100.0\n"
     ]
    }
   ],
   "source": [
    "#taking x and y as input\n",
    "x = 20\n",
    "y = 25\n",
    "#checking appropriate conditions\n",
    "if x > y:\n",
    "  x, y = y, x\n",
    "for i in range(1,x+1):\n",
    "  if x%i == 0 and y%i == 0:\n",
    "    gcd = i\n",
    "#calculating lcm\n",
    "lcm = (x*y)/gcd\n",
    "#printing the result\n",
    "print(\"LCM of\", x, \"and\", y, \"is:\", lcm)"
   ]
  },
  {
   "cell_type": "markdown",
   "id": "0006e59a-d07b-4313-a2fa-2e5a98d39af8",
   "metadata": {},
   "source": [
    "If else :\n",
    "\n",
    "\n",
    "24. Write a Python program to check if a number is positive, negative, or zero using an if-else statement.\n"
   ]
  },
  {
   "cell_type": "code",
   "execution_count": 36,
   "id": "92a95f20-d261-46b0-a5a0-0b918ebb987c",
   "metadata": {},
   "outputs": [
    {
     "name": "stdin",
     "output_type": "stream",
     "text": [
      "Enter the number you want to check 12\n"
     ]
    },
    {
     "name": "stdout",
     "output_type": "stream",
     "text": [
      "The given number is : Postitive\n"
     ]
    }
   ],
   "source": [
    "#function takes number as input and checks it for positive, negative or zero\n",
    "def pos_neg(num):\n",
    "    if num >0:\n",
    "        return \"Postitive\"\n",
    "    elif num < 0:\n",
    "        return \"Negative\"\n",
    "    else:\n",
    "        return \"Zero\"\n",
    "    \n",
    "#taking input from user\n",
    "num = int(input(\"Enter the number you want to check\"))\n",
    "\n",
    "#printing the result\n",
    "print(\"The given number is :\", pos_neg(num))"
   ]
  },
  {
   "cell_type": "markdown",
   "id": "5091530d-0287-4dfe-98ba-19c34324e35f",
   "metadata": {},
   "source": [
    "25. Create a Python program that checks if a given number is even or odd using an if-else statement.\n"
   ]
  },
  {
   "cell_type": "code",
   "execution_count": 37,
   "id": "dad8d452-62a3-4ef4-92f7-6a61d6c7c2aa",
   "metadata": {},
   "outputs": [
    {
     "name": "stdin",
     "output_type": "stream",
     "text": [
      "Enter the number you want to check for 12\n"
     ]
    },
    {
     "name": "stdout",
     "output_type": "stream",
     "text": [
      "The given number is: Even\n"
     ]
    }
   ],
   "source": [
    "def even_odd(num):\n",
    "    if num%2==0:\n",
    "        return \"Even\"\n",
    "    else:\n",
    "        return \"Odd\"\n",
    "\n",
    "#taking input form user\n",
    "num = int(input(\"Enter the number you want to check for\"))\n",
    "\n",
    "#pritinng the output\n",
    "print(\"The given number is:\", even_odd(num))"
   ]
  },
  {
   "cell_type": "markdown",
   "id": "63d04ebd-69b2-464a-b9b7-861a18a804e6",
   "metadata": {},
   "source": [
    "26. How can you use nested if-else statements in Python, and provide an example?\n"
   ]
  },
  {
   "cell_type": "code",
   "execution_count": 38,
   "id": "42e23f69-237a-4a75-a05d-32da37aefc0e",
   "metadata": {},
   "outputs": [
    {
     "name": "stdout",
     "output_type": "stream",
     "text": [
      "2\n"
     ]
    }
   ],
   "source": [
    "#creating a gcd function and giving the two terms as input\n",
    "def gcd(a,b):\n",
    "    if(a==0):\n",
    "        return b\n",
    "    elif(b==0):\n",
    "        return a\n",
    "    else:\n",
    "        if(a<b):\n",
    "            return gcd(a,b%a)\n",
    "        else:\n",
    "            return gcd(b,a%b)\n",
    "\n",
    "#printing the result\n",
    "print(gcd(10,12))"
   ]
  },
  {
   "cell_type": "markdown",
   "id": "a09d837e-3737-42eb-9147-9d0b3553c204",
   "metadata": {},
   "source": [
    "27. Write a Python program to determine the largest of three numbers using if-else.\n"
   ]
  },
  {
   "cell_type": "code",
   "execution_count": 39,
   "id": "70e7ccbc-9831-4fb3-9a0b-14aeb3c94a4c",
   "metadata": {},
   "outputs": [
    {
     "name": "stdin",
     "output_type": "stream",
     "text": [
      "Enter the first number:  1\n",
      "Enter the second number:  2\n",
      "Enter the third number:  3\n"
     ]
    },
    {
     "name": "stdout",
     "output_type": "stream",
     "text": [
      "The largest number is: 3.0\n"
     ]
    }
   ],
   "source": [
    "#the function takes 3 sides as input and return sthe type of triangle\n",
    "def great_ofall(num1, num2, num3):\n",
    "    if num1 > num2:\n",
    "        if num1>num3:\n",
    "            return num1\n",
    "        return num3\n",
    "    if num2 > num1:\n",
    "        if num2 > num3:\n",
    "            return num2\n",
    "        return num3\n",
    "\n",
    "#taking input form user\n",
    "num1 = float(input(\"Enter the first number: \"))\n",
    "num2 = float(input(\"Enter the second number: \"))\n",
    "num3 = float(input(\"Enter the third number: \"))\n",
    "\n",
    "#printing the output\n",
    "print(\"The largest number is:\",great_ofall(num1, num2, num3))"
   ]
  },
  {
   "cell_type": "markdown",
   "id": "98587066-3002-461a-81fa-a97ccde6a30a",
   "metadata": {},
   "source": [
    "28. Write a Python program that calculates the absolute value of a number using if-else.\n"
   ]
  },
  {
   "cell_type": "code",
   "execution_count": 40,
   "id": "1c6d344d-bdad-4893-8a7e-45d33bcf0d86",
   "metadata": {},
   "outputs": [
    {
     "name": "stdin",
     "output_type": "stream",
     "text": [
      "Enter a number:  -12\n"
     ]
    },
    {
     "name": "stdout",
     "output_type": "stream",
     "text": [
      "The absolute value of -12.0 is 12.0\n"
     ]
    }
   ],
   "source": [
    "def absolute_value(number):\n",
    "    if number < 0:\n",
    "        return -number\n",
    "    else:\n",
    "        return number\n",
    "\n",
    "# Test the function\n",
    "num = float(input(\"Enter a number: \"))\n",
    "result = absolute_value(num)\n",
    "print(f\"The absolute value of {num} is {result}\")\n"
   ]
  },
  {
   "cell_type": "markdown",
   "id": "12fec575-edc2-43f2-a29d-413004c8b107",
   "metadata": {},
   "source": [
    "29. Create a Python program that checks if a given character is a vowel or consonant using if-else.\n"
   ]
  },
  {
   "cell_type": "code",
   "execution_count": 41,
   "id": "74f13921-d49b-40c1-8055-610304bbb599",
   "metadata": {},
   "outputs": [
    {
     "name": "stdin",
     "output_type": "stream",
     "text": [
      "Enter the character you want to check for a\n"
     ]
    },
    {
     "name": "stdout",
     "output_type": "stream",
     "text": [
      "The given character is a: Vowel\n"
     ]
    }
   ],
   "source": [
    "#function takes vowel list and character as input\n",
    "def vowel_or_not(vowels, char):\n",
    "    if char in vowels:\n",
    "        return \"Vowel\"\n",
    "    else:\n",
    "        return \"consonant\"\n",
    "\n",
    "#taking input from user\n",
    "char = input(\"Enter the character you want to check for\")\n",
    "vowels = ['a','e','i','o','u','A','E','I','O','U']\n",
    "\n",
    "#printing the output\n",
    "print(\"The given character is a:\", vowel_or_not(vowels, char))"
   ]
  },
  {
   "cell_type": "markdown",
   "id": "04f1d0db-b049-48cb-851d-412ecb284fe2",
   "metadata": {},
   "source": [
    "30. Write a Python program to determine if a user is eligible to vote based on their age using if-else.\n"
   ]
  },
  {
   "cell_type": "code",
   "execution_count": 42,
   "id": "84fbceaa-286a-4de2-a4a7-4e3cf4f54517",
   "metadata": {},
   "outputs": [
    {
     "name": "stdin",
     "output_type": "stream",
     "text": [
      "Enter your age 12\n"
     ]
    },
    {
     "name": "stdout",
     "output_type": "stream",
     "text": [
      "You are not eligible to vote\n"
     ]
    }
   ],
   "source": [
    "#function takes number as input and checks it for age >= 18 or < 18\n",
    "def vote(age):\n",
    "    if age >=18:\n",
    "        return \"eligible\"\n",
    "    else:\n",
    "        return \"not eligible\"\n",
    "    \n",
    "#taking input from user\n",
    "age = int(input(\"Enter your age\"))\n",
    "\n",
    "#printing the result\n",
    "print(\"You are {} to vote\".format(vote(age)))"
   ]
  },
  {
   "cell_type": "markdown",
   "id": "f25bca94-98a3-4ade-8d08-e7be60e0a609",
   "metadata": {},
   "source": [
    "31. Create a Python program that calculates the discount amount based on the purchase amount using if-else.\n"
   ]
  },
  {
   "cell_type": "code",
   "execution_count": 1,
   "id": "a5fda05b-0a42-4343-b161-1969967894f2",
   "metadata": {},
   "outputs": [
    {
     "name": "stdin",
     "output_type": "stream",
     "text": [
      "Enter the purchase amount: $ 13\n"
     ]
    },
    {
     "name": "stdout",
     "output_type": "stream",
     "text": [
      "Original Price: $13.00\n",
      "Discount Rate: 5%\n",
      "Discount Amount: $0.65\n",
      "Discounted Price: $12.35\n"
     ]
    }
   ],
   "source": [
    "# Get the purchase amount from the user\n",
    "purchase_amount = float(input(\"Enter the purchase amount: $\"))\n",
    "\n",
    "# Define discount rates based on the purchase amount\n",
    "if purchase_amount >= 100:\n",
    "    discount_rate = 0.1  # 10% discount for purchases of $100 or more\n",
    "else:\n",
    "    discount_rate = 0.05  # 5% discount for purchases less than $100\n",
    "\n",
    "# Calculate the discount amount\n",
    "discount_amount = purchase_amount * discount_rate\n",
    "\n",
    "# Calculate the discounted price\n",
    "discounted_price = purchase_amount - discount_amount\n",
    "\n",
    "# Display the results\n",
    "print(f\"Original Price: ${purchase_amount:.2f}\")\n",
    "print(f\"Discount Rate: {discount_rate * 100:.0f}%\")\n",
    "print(f\"Discount Amount: ${discount_amount:.2f}\")\n",
    "print(f\"Discounted Price: ${discounted_price:.2f}\")\n"
   ]
  },
  {
   "cell_type": "markdown",
   "id": "df308c03-8eff-4904-a952-07a5e21410ee",
   "metadata": {},
   "source": [
    "32. Write a Python program to check if a number is within a specified range using if-else.\n"
   ]
  },
  {
   "cell_type": "code",
   "execution_count": 2,
   "id": "e4f2a118-3d0e-4bae-81df-2f7e0db95eb1",
   "metadata": {},
   "outputs": [
    {
     "name": "stdin",
     "output_type": "stream",
     "text": [
      "Enter a number:  13\n"
     ]
    },
    {
     "name": "stdout",
     "output_type": "stream",
     "text": [
      "13.0 is within the specified range [10, 50]\n"
     ]
    }
   ],
   "source": [
    "# Get the number to check from the user\n",
    "number = float(input(\"Enter a number: \"))\n",
    "\n",
    "# Define the specified range\n",
    "lower_limit = 10\n",
    "upper_limit = 50\n",
    "\n",
    "# Check if the number is within the specified range using if-else\n",
    "if number >= lower_limit and number <= upper_limit:\n",
    "    print(f\"{number} is within the specified range [{lower_limit}, {upper_limit}]\")\n",
    "else:\n",
    "    print(f\"{number} is not within the specified range [{lower_limit}, {upper_limit}]\")\n"
   ]
  },
  {
   "cell_type": "markdown",
   "id": "f65fdce8-79bd-4185-b701-eb087f6d6f16",
   "metadata": {},
   "source": [
    "33. Create a Python program that determines the grade of a student based on their score using if-else.\n"
   ]
  },
  {
   "cell_type": "code",
   "execution_count": 3,
   "id": "82996a0d-aee5-4053-9849-d4260049f4db",
   "metadata": {},
   "outputs": [
    {
     "name": "stdin",
     "output_type": "stream",
     "text": [
      "Enter the exam score:  89\n"
     ]
    },
    {
     "name": "stdout",
     "output_type": "stream",
     "text": [
      "The grade for a score of 89.0 is B.\n"
     ]
    }
   ],
   "source": [
    "#function takes score as input and retuns grade as output\n",
    "def calculate_grade(score):\n",
    "    if 90 <= score <= 100:\n",
    "        return \"A\"\n",
    "    elif 80 <= score < 90:\n",
    "        return \"B\"\n",
    "    elif 70 <= score < 80:\n",
    "        return \"C\"\n",
    "    elif 60 <= score < 70:\n",
    "        return \"D\"\n",
    "    else:\n",
    "        return \"F\"\n",
    "\n",
    "# taking input from user and printing the output\n",
    "exam_score = float(input(\"Enter the exam score: \"))\n",
    "if 0 <= exam_score <= 100:\n",
    "    grade = calculate_grade(exam_score)\n",
    "    print(f\"The grade for a score of {exam_score} is {grade}.\")\n",
    "else:\n",
    "    print(\"Invalid score. Please enter a score between 0 and 100.\")\n",
    "\n"
   ]
  },
  {
   "cell_type": "markdown",
   "id": "24c18274-4a05-4cdc-abb0-c5200ddc437e",
   "metadata": {},
   "source": [
    "34. Write a Python program to check if a string is empty or not using if-else.\n"
   ]
  },
  {
   "cell_type": "code",
   "execution_count": 4,
   "id": "cfebe99b-eda8-4b45-9814-5cb62b3b98d8",
   "metadata": {},
   "outputs": [
    {
     "name": "stdin",
     "output_type": "stream",
     "text": [
      "Enter a string:  \n"
     ]
    },
    {
     "name": "stdout",
     "output_type": "stream",
     "text": [
      "The string is empty.\n"
     ]
    }
   ],
   "source": [
    "# Get a string input from the user\n",
    "input_string = input(\"Enter a string: \")\n",
    "\n",
    "# Check if the string is empty using if-else\n",
    "if input_string:\n",
    "    print(\"The string is not empty.\")\n",
    "else:\n",
    "    print(\"The string is empty.\")\n"
   ]
  },
  {
   "cell_type": "markdown",
   "id": "2df87ba7-158e-45c3-8470-8525860cabaa",
   "metadata": {},
   "source": [
    "35. Create a Python program that identifies the type of a triangle (e.g., equilateral, isosceles, or scalene) based on input values using if-else.\n"
   ]
  },
  {
   "cell_type": "code",
   "execution_count": 5,
   "id": "0b07d3c0-ab46-4fdb-8b56-9df251f58eab",
   "metadata": {},
   "outputs": [
    {
     "name": "stdin",
     "output_type": "stream",
     "text": [
      "Enter the length of the first side:  12\n",
      "Enter the length of the second side:  11\n",
      "Enter the length of the third side:  13\n"
     ]
    },
    {
     "name": "stdout",
     "output_type": "stream",
     "text": [
      "The triangle is a Scalene triangle.\n"
     ]
    }
   ],
   "source": [
    "# Get the lengths of the three sides of the triangle from the user\n",
    "side1 = float(input(\"Enter the length of the first side: \"))\n",
    "side2 = float(input(\"Enter the length of the second side: \"))\n",
    "side3 = float(input(\"Enter the length of the third side: \"))\n",
    "\n",
    "# Check the type of triangle using if-else statements\n",
    "if side1 == side2 == side3:\n",
    "    triangle_type = \"Equilateral\"\n",
    "elif side1 == side2 or side1 == side3 or side2 == side3:\n",
    "    triangle_type = \"Isosceles\"\n",
    "else:\n",
    "    triangle_type = \"Scalene\"\n",
    "\n",
    "# Display the type of triangle\n",
    "print(f\"The triangle is a {triangle_type} triangle.\")\n"
   ]
  },
  {
   "cell_type": "markdown",
   "id": "93587fdb-101e-4c75-b839-a9d2e32f6dcc",
   "metadata": {},
   "source": [
    "36. Write a Python program to determine the day of the week based on a user-provided number using if-else.\n"
   ]
  },
  {
   "cell_type": "code",
   "execution_count": 6,
   "id": "d57a1dc3-466e-4031-ab87-b5ea2b1864e1",
   "metadata": {},
   "outputs": [
    {
     "name": "stdin",
     "output_type": "stream",
     "text": [
      "Enter a number (1-7):  4\n"
     ]
    },
    {
     "name": "stdout",
     "output_type": "stream",
     "text": [
      "The day corresponding to 4 is Wednesday.\n"
     ]
    }
   ],
   "source": [
    "# Get a number from the user\n",
    "day_number = int(input(\"Enter a number (1-7): \"))\n",
    "\n",
    "# Determine the day of the week using if-else statements\n",
    "if day_number == 1:\n",
    "    day_name = \"Sunday\"\n",
    "elif day_number == 2:\n",
    "    day_name = \"Monday\"\n",
    "elif day_number == 3:\n",
    "    day_name = \"Tuesday\"\n",
    "elif day_number == 4:\n",
    "    day_name = \"Wednesday\"\n",
    "elif day_number == 5:\n",
    "    day_name = \"Thursday\"\n",
    "elif day_number == 6:\n",
    "    day_name = \"Friday\"\n",
    "elif day_number == 7:\n",
    "    day_name = \"Saturday\"\n",
    "else:\n",
    "    day_name = \"Invalid input\"\n",
    "\n",
    "# Display the result\n",
    "print(f\"The day corresponding to {day_number} is {day_name}.\")\n"
   ]
  },
  {
   "cell_type": "markdown",
   "id": "0883e2c8-dbb4-47a6-a8fd-098c40b5409e",
   "metadata": {},
   "source": [
    "37. Create a Python program that checks if a given year is a leap year using both if-else and a function.\n"
   ]
  },
  {
   "cell_type": "code",
   "execution_count": 7,
   "id": "7f19687d-e3c8-4e54-9993-2cad0b19e60d",
   "metadata": {},
   "outputs": [
    {
     "name": "stdin",
     "output_type": "stream",
     "text": [
      "Enter a year:  2000\n"
     ]
    },
    {
     "name": "stdout",
     "output_type": "stream",
     "text": [
      "2000 is a leap year.\n"
     ]
    }
   ],
   "source": [
    "# Define a function to check if a year is a leap year\n",
    "def is_leap_year(year):\n",
    "    if (year % 4 == 0 and year % 100 != 0) or (year % 400 == 0):\n",
    "        return True\n",
    "    else:\n",
    "        return False\n",
    "\n",
    "# Get the year from the user\n",
    "year = int(input(\"Enter a year: \"))\n",
    "\n",
    "# Check if it's a leap year using the function\n",
    "if is_leap_year(year):\n",
    "    print(f\"{year} is a leap year.\")\n",
    "else:\n",
    "    print(f\"{year} is not a leap year.\")\n"
   ]
  },
  {
   "cell_type": "markdown",
   "id": "b5d95e5e-efad-46f1-9ac4-8c57bdac0c39",
   "metadata": {},
   "source": [
    "38. How do you use the \"assert\" statement in Python to add debugging checks within if-else blocks?\n"
   ]
  },
  {
   "cell_type": "code",
   "execution_count": 8,
   "id": "0e3c32a2-4339-4309-a65c-4401880a1c6e",
   "metadata": {},
   "outputs": [
    {
     "name": "stdout",
     "output_type": "stream",
     "text": [
      "x is odd\n"
     ]
    }
   ],
   "source": [
    "x = 5\n",
    "\n",
    "# Check if x is even\n",
    "if x % 2 == 0:\n",
    "    result = \"x is even\"\n",
    "else:\n",
    "    result = \"x is odd\"\n",
    "\n",
    "# Add an assertion to ensure x is always positive\n",
    "assert x > 0, \"x should be a positive number\"\n",
    "\n",
    "print(result)\n"
   ]
  },
  {
   "cell_type": "markdown",
   "id": "b5fe3c48-c5e4-4d22-a162-96b820c4fc30",
   "metadata": {},
   "source": [
    "39. Create a Python program that determines the eligibility of a person for a senior citizen discount based on age using if-else.\n"
   ]
  },
  {
   "cell_type": "code",
   "execution_count": 9,
   "id": "b58ba6fa-9859-4685-b0d3-ff1340538677",
   "metadata": {},
   "outputs": [
    {
     "name": "stdin",
     "output_type": "stream",
     "text": [
      "Enter your age:  23\n"
     ]
    },
    {
     "name": "stdout",
     "output_type": "stream",
     "text": [
      "Sorry, you are not eligible for a senior citizen discount.\n"
     ]
    }
   ],
   "source": [
    "# Get the person's age from the user\n",
    "age = int(input(\"Enter your age: \"))\n",
    "\n",
    "# Define the age threshold for senior citizen discount\n",
    "senior_citizen_age = 60\n",
    "\n",
    "# Check eligibility using if-else\n",
    "if age >= senior_citizen_age:\n",
    "    print(\"Congratulations! You are eligible for a senior citizen discount.\")\n",
    "else:\n",
    "    print(\"Sorry, you are not eligible for a senior citizen discount.\")\n"
   ]
  },
  {
   "cell_type": "markdown",
   "id": "0742e80f-dd97-4b4b-ab69-cac98f091e5d",
   "metadata": {},
   "source": [
    "40. Write a Python program to categorize a given character as uppercase, lowercase, or neither using if-else.\n"
   ]
  },
  {
   "cell_type": "code",
   "execution_count": 10,
   "id": "c8d39900-d17c-4090-95ea-f432a3589515",
   "metadata": {},
   "outputs": [
    {
     "name": "stdin",
     "output_type": "stream",
     "text": [
      "Enter a character:  H\n"
     ]
    },
    {
     "name": "stdout",
     "output_type": "stream",
     "text": [
      "H is an uppercase character.\n"
     ]
    }
   ],
   "source": [
    "# Get a character input from the user\n",
    "char = input(\"Enter a character: \")\n",
    "\n",
    "# Check if the character is uppercase, lowercase, or neither using if-else\n",
    "if char.isupper():\n",
    "    print(f\"{char} is an uppercase character.\")\n",
    "elif char.islower():\n",
    "    print(f\"{char} is a lowercase character.\")\n",
    "else:\n",
    "    print(f\"{char} is neither uppercase nor lowercase.\")\n"
   ]
  },
  {
   "cell_type": "markdown",
   "id": "4378360f-f1e1-4a8b-9abd-3cd38553fb3a",
   "metadata": {},
   "source": [
    "41. Write a Python program to determine the roots of a quadratic equation using if-else.\n"
   ]
  },
  {
   "cell_type": "code",
   "execution_count": 11,
   "id": "22623415-fdaf-412d-b596-a9e2cceacd5b",
   "metadata": {},
   "outputs": [
    {
     "name": "stdin",
     "output_type": "stream",
     "text": [
      "Enter the coefficient a:  5\n",
      "Enter the coefficient b:  3\n",
      "Enter the coefficient c:  1\n"
     ]
    },
    {
     "name": "stdout",
     "output_type": "stream",
     "text": [
      "The roots are complex: -0.3 + 0.33166247903553997i and -0.3 - 0.33166247903553997i\n"
     ]
    }
   ],
   "source": [
    "import math\n",
    "\n",
    "# Get the coefficients (a, b, c) from the user\n",
    "a = float(input(\"Enter the coefficient a: \"))\n",
    "b = float(input(\"Enter the coefficient b: \"))\n",
    "c = float(input(\"Enter the coefficient c: \"))\n",
    "\n",
    "# Calculate the discriminant (D)\n",
    "D = b**2 - 4*a*c\n",
    "\n",
    "# Check the discriminant to determine the roots using if-else\n",
    "if D > 0:\n",
    "    # Two real and distinct roots\n",
    "    root1 = (-b + math.sqrt(D)) / (2*a)\n",
    "    root2 = (-b - math.sqrt(D)) / (2*a)\n",
    "    print(f\"The roots are real and distinct: {root1} and {root2}\")\n",
    "elif D == 0:\n",
    "    # One real root (a repeated root)\n",
    "    root1 = -b / (2*a)\n",
    "    print(f\"The root is a repeated root: {root1}\")\n",
    "else:\n",
    "    # Complex roots (no real roots)\n",
    "    real_part = -b / (2*a)\n",
    "    imaginary_part = math.sqrt(-D) / (2*a)\n",
    "    print(f\"The roots are complex: {real_part} + {imaginary_part}i and {real_part} - {imaginary_part}i\")\n"
   ]
  },
  {
   "cell_type": "markdown",
   "id": "9f8259aa-16a5-49b4-8c88-6e691c3219ac",
   "metadata": {},
   "source": [
    "42. Create a Python program that checks if a given year is a century year or not using if-else.\n"
   ]
  },
  {
   "cell_type": "code",
   "execution_count": 12,
   "id": "31444647-5f22-4bfd-be7c-21085ca6fc19",
   "metadata": {},
   "outputs": [
    {
     "name": "stdin",
     "output_type": "stream",
     "text": [
      "Enter a year:  1980\n"
     ]
    },
    {
     "name": "stdout",
     "output_type": "stream",
     "text": [
      "1980 is not a century year.\n"
     ]
    }
   ],
   "source": [
    "# Get the year from the user\n",
    "year = int(input(\"Enter a year: \"))\n",
    "\n",
    "# Check if it's a century year using if-else\n",
    "if year % 100 == 0:\n",
    "    print(f\"{year} is a century year.\")\n",
    "else:\n",
    "    print(f\"{year} is not a century year.\")\n"
   ]
  },
  {
   "cell_type": "markdown",
   "id": "80f237a2-69a5-44f6-a9ee-d10452ed7527",
   "metadata": {},
   "source": [
    "43. Write a Python program to determine if a given number is a perfect square using if-else.\n"
   ]
  },
  {
   "cell_type": "code",
   "execution_count": 13,
   "id": "35fb638c-e709-4de3-a18f-dc8eeedad10d",
   "metadata": {},
   "outputs": [
    {
     "name": "stdin",
     "output_type": "stream",
     "text": [
      "Enter a number:  9\n"
     ]
    },
    {
     "name": "stdout",
     "output_type": "stream",
     "text": [
      "9 is a perfect square.\n"
     ]
    }
   ],
   "source": [
    "# Get the number from the user\n",
    "number = int(input(\"Enter a number: \"))\n",
    "\n",
    "# Check if it's a perfect square using if-else\n",
    "if number < 0:\n",
    "    print(\"The number is not a perfect square because it's negative.\")\n",
    "else:\n",
    "    square_root = int(number**0.5)\n",
    "    if square_root**2 == number:\n",
    "        print(f\"{number} is a perfect square.\")\n",
    "    else:\n",
    "        print(f\"{number} is not a perfect square.\")\n"
   ]
  },
  {
   "cell_type": "markdown",
   "id": "91ed19d3-4d78-40ff-8b60-e6337b282f6b",
   "metadata": {},
   "source": [
    "44. Explain the purpose of the \"continue\" and \"break\" statements within if-else loops.\n"
   ]
  },
  {
   "cell_type": "markdown",
   "id": "6f4f319f-ccad-46df-9416-fe3c92d7c8a2",
   "metadata": {},
   "source": [
    "Continue Statement:\n",
    "\n",
    "Purpose: The \"continue\" statement is a control flow statement used within loops to skip the rest of the current iteration and move on to the next iteration.\n",
    "Usage: It is employed when there is a need to bypass certain iterations of a loop based on specific conditions, without terminating the entire loop.\n",
    "Functionality: When a \"continue\" statement is encountered within a loop, it causes the loop to immediately jump to the next iteration, skipping any remaining code within the current iteration.\n",
    "Example Use Case: It is often used to avoid processing certain elements or performing specific actions when certain conditions are met within a loop.\n",
    "Break Statement:\n",
    "\n",
    "Purpose: The \"break\" statement is a control flow statement used within loops to prematurely exit the loop when a specified condition is satisfied.\n",
    "Usage: It is typically employed when you want to terminate a loop as soon as a specific condition is met, preventing further iterations.\n",
    "Functionality: When a \"break\" statement is encountered within a loop, it immediately exits the loop, and control is transferred to the code following the loop.\n",
    "Example Use Case: It is commonly used when searching for a specific element in a list or when a particular threshold or condition has been reached, and further iterations are unnecessary."
   ]
  },
  {
   "cell_type": "markdown",
   "id": "82f095ea-9917-44d0-837c-4fa3a47064a7",
   "metadata": {},
   "source": [
    "45. Create a Python program that calculates the BMI (Body Mass Index) of a person based on their weight and height using if-else.\n"
   ]
  },
  {
   "cell_type": "code",
   "execution_count": 14,
   "id": "3bdef948-640f-4092-a483-90598fa6c52a",
   "metadata": {},
   "outputs": [
    {
     "name": "stdin",
     "output_type": "stream",
     "text": [
      "Enter your weight in kilograms:  100\n",
      "Enter your height in meters:  1.7\n"
     ]
    },
    {
     "name": "stdout",
     "output_type": "stream",
     "text": [
      "Your BMI is: 34.60\n",
      "You are categorized as: Obese\n"
     ]
    }
   ],
   "source": [
    "# Get the person's weight and height from the user\n",
    "weight_kg = float(input(\"Enter your weight in kilograms: \"))\n",
    "height_m = float(input(\"Enter your height in meters: \"))\n",
    "\n",
    "# Calculate BMI using the formula: BMI = weight (kg) / (height (m) * height (m))\n",
    "bmi = weight_kg / (height_m ** 2)\n",
    "\n",
    "# Determine BMI category using if-else statements\n",
    "if bmi < 18.5:\n",
    "    category = \"Underweight\"\n",
    "elif 18.5 <= bmi < 24.9:\n",
    "    category = \"Normal Weight\"\n",
    "elif 25 <= bmi < 29.9:\n",
    "    category = \"Overweight\"\n",
    "else:\n",
    "    category = \"Obese\"\n",
    "\n",
    "# Display the calculated BMI and category\n",
    "print(f\"Your BMI is: {bmi:.2f}\")\n",
    "print(f\"You are categorized as: {category}\")\n"
   ]
  },
  {
   "cell_type": "markdown",
   "id": "8086779a-c2d5-4a9a-8c16-013e18817cb7",
   "metadata": {},
   "source": [
    "46. How can you use the \"filter()\" function with if-else statements to filter elements from a list?\n"
   ]
  },
  {
   "cell_type": "code",
   "execution_count": 15,
   "id": "13023873-1966-4ce2-91ed-2a429b492a62",
   "metadata": {},
   "outputs": [
    {
     "name": "stdout",
     "output_type": "stream",
     "text": [
      "[2, 4, 6, 8, 10]\n"
     ]
    }
   ],
   "source": [
    "numbers = [1, 2, 3, 4, 5, 6, 7, 8, 9, 10]\n",
    "\n",
    "filtered_numbers = list(filter(lambda x: x % 2 == 0, numbers))\n",
    "print(filtered_numbers)\n"
   ]
  },
  {
   "cell_type": "markdown",
   "id": "0ce51b37-8fe4-46d2-93c5-53fde30de8e3",
   "metadata": {},
   "source": [
    "47. Write a Python program to determine if a given number is prime or not using if-else.\n"
   ]
  },
  {
   "cell_type": "code",
   "execution_count": 16,
   "id": "df40aecd-25f9-4219-8ce9-e6958ab34f93",
   "metadata": {},
   "outputs": [
    {
     "name": "stdin",
     "output_type": "stream",
     "text": [
      "Enter a number:  45\n"
     ]
    },
    {
     "name": "stdout",
     "output_type": "stream",
     "text": [
      "45 is not a prime number.\n"
     ]
    }
   ],
   "source": [
    "# Get the number from the user\n",
    "number = int(input(\"Enter a number: \"))\n",
    "\n",
    "# Check if it's a prime number using if-else\n",
    "if number <= 1:\n",
    "    is_prime = False\n",
    "else:\n",
    "    is_prime = True\n",
    "    for i in range(2, int(number**0.5) + 1):\n",
    "        if number % i == 0:\n",
    "            is_prime = False\n",
    "            break\n",
    "\n",
    "# Display the result\n",
    "if is_prime:\n",
    "    print(f\"{number} is a prime number.\")\n",
    "else:\n",
    "    print(f\"{number} is not a prime number.\")\n"
   ]
  },
  {
   "cell_type": "markdown",
   "id": "d7880710-c8e5-4169-acd9-92009c3f8497",
   "metadata": {},
   "source": [
    "Map :-\n",
    "\n",
    "\n",
    "48. Explain the purpose of the `map()` function in Python and provide an example of how it can be used to apply a function to each element of an iterable.\n"
   ]
  },
  {
   "cell_type": "markdown",
   "id": "edb99153-e560-4725-a79a-950ac73b8b1c",
   "metadata": {},
   "source": [
    "The map() function in Python is used to apply a given function to each item in an iterable (such as a list, tuple, or other iterable objects) and returns an iterable containing the results. It allows you to efficiently transform the elements of an iterable without needing explicit loops. The main purpose of map() is to perform a one-to-one mapping between the elements of the input iterable and the results of applying the provided function."
   ]
  },
  {
   "cell_type": "markdown",
   "id": "f570abdb-74c6-4d8d-bf8d-23923dd3c6e3",
   "metadata": {},
   "source": [
    "49. Write a Python program that uses the `map()` function to square each element of a list of numbers.\n"
   ]
  },
  {
   "cell_type": "code",
   "execution_count": 3,
   "id": "59d3ad74-1284-4210-9580-fd54a34c9c90",
   "metadata": {},
   "outputs": [
    {
     "data": {
      "text/plain": [
       "[1, 4, 9, 16, 25]"
      ]
     },
     "execution_count": 3,
     "metadata": {},
     "output_type": "execute_result"
    }
   ],
   "source": [
    "lst = [1,2,3,4,5]\n",
    "def sq(x):\n",
    "    return x**2\n",
    "\n",
    "a = list(map(sq,lst))\n",
    "a"
   ]
  },
  {
   "cell_type": "markdown",
   "id": "e69ab7f4-85bc-4d7b-abb2-a61b71f02c08",
   "metadata": {},
   "source": [
    "50. How does the `map()` function differ from a list comprehension in Python, and when would you choose one over the other?\n"
   ]
  },
  {
   "cell_type": "markdown",
   "id": "2342b8b2-21ee-41d7-949c-a0e4361554fd",
   "metadata": {},
   "source": [
    "1. map() Function:\n",
    "\n",
    "Purpose: The map() function is primarily used to apply a given function to each element of an iterable and return an iterable containing the results.\n",
    "\n",
    "Output: map() returns a map object, which is an iterator. You typically convert it to a list or another iterable type to access the results.\n",
    "\n",
    "Usage: It is well-suited for applying a function element-wise to an existing iterable.\n",
    "\n",
    "2. List Comprehension:\n",
    "\n",
    "Purpose: List comprehensions are used to create new lists by specifying the transformation of elements from one iterable into another.\n",
    "\n",
    "Output: List comprehensions directly generate a new list containing the transformed elements.\n",
    "\n",
    "Usage: They are often used to create a new list with modified or filtered elements based on an existing iterable."
   ]
  },
  {
   "cell_type": "markdown",
   "id": "db62b509-0270-4497-b9b6-18c9975d944b",
   "metadata": {},
   "source": [
    "Create a Python program that uses the `map()` function to convert a list of names to uppercase.\n"
   ]
  },
  {
   "cell_type": "code",
   "execution_count": 5,
   "id": "16f5d802-09e1-411a-8c34-6ce1eb285d3b",
   "metadata": {},
   "outputs": [
    {
     "data": {
      "text/plain": [
       "['ANKUR', 'RAJ', 'ANKUSH']"
      ]
     },
     "execution_count": 5,
     "metadata": {},
     "output_type": "execute_result"
    }
   ],
   "source": [
    "#taking list as input\n",
    "lst = [\"ankur\",\"raj\",\"ankush\"]\n",
    "#creating a function that takes string as input andreturn it in uppercase\n",
    "def captalise(x):\n",
    "    return x.upper()\n",
    "#using map \n",
    "list(map(captalise,lst))"
   ]
  },
  {
   "cell_type": "markdown",
   "id": "930bac5c-7e49-459b-8956-1ee8a61478c8",
   "metadata": {},
   "source": [
    "51. Write a Python program that uses the `map()` function to calculate the length of each word in a list of strings.\n"
   ]
  },
  {
   "cell_type": "code",
   "execution_count": 6,
   "id": "a428cc95-d4fd-4da3-b72a-72aeaaab73a0",
   "metadata": {},
   "outputs": [
    {
     "data": {
      "text/plain": [
       "[5, 3, 6]"
      ]
     },
     "execution_count": 6,
     "metadata": {},
     "output_type": "execute_result"
    }
   ],
   "source": [
    "#taking list as input\n",
    "lst = [\"ankur\",\"raj\",\"ankush\"]\n",
    "#creating a function that takes string as input andreturn it's length\n",
    "def length(x):\n",
    "    return len(x)\n",
    "list(map(length,lst))"
   ]
  },
  {
   "cell_type": "markdown",
   "id": "802c618c-adc4-44b8-a7b9-5f29c381ec6f",
   "metadata": {},
   "source": [
    "52. How can you use the `map()` function to apply a custom function to elements of multiple lists simultaneously in Python?\n"
   ]
  },
  {
   "cell_type": "code",
   "execution_count": 8,
   "id": "f6579d87-bae6-49f2-bc24-63d6d8c3b07f",
   "metadata": {},
   "outputs": [
    {
     "name": "stdout",
     "output_type": "stream",
     "text": [
      "[11, 22, 33]\n"
     ]
    }
   ],
   "source": [
    "# Define a custom function that takes multiple arguments\n",
    "def custom_function(a, b):\n",
    "    return a + b\n",
    "\n",
    "# Create two lists\n",
    "list1 = [1, 2, 3]\n",
    "list2 = [10, 20, 30]\n",
    "\n",
    "# Use map() to apply the custom function to elements of both lists\n",
    "result = list(map(custom_function, list1, list2))\n",
    "\n",
    "# Display the result\n",
    "print(result)\n"
   ]
  },
  {
   "cell_type": "markdown",
   "id": "dbcde7f0-e79d-4392-bff0-0bab49204dd7",
   "metadata": {},
   "source": [
    "53. Create a Python program that uses `map()` to convert a list of temperatures from Celsius to Fahrenheit.\n"
   ]
  },
  {
   "cell_type": "code",
   "execution_count": 7,
   "id": "798ed66a-b20a-45d1-998e-e64c4ea3c142",
   "metadata": {},
   "outputs": [
    {
     "name": "stdout",
     "output_type": "stream",
     "text": [
      "0°C is equal to 32.0°F\n",
      "10°C is equal to 50.0°F\n",
      "20°C is equal to 68.0°F\n",
      "30°C is equal to 86.0°F\n",
      "40°C is equal to 104.0°F\n"
     ]
    }
   ],
   "source": [
    "# Define a function to convert Celsius to Fahrenheit\n",
    "def celsius_to_fahrenheit(celsius):\n",
    "    return (celsius * 9/5) + 32\n",
    "\n",
    "# Create a list of temperatures in Celsius\n",
    "celsius_temperatures = [0, 10, 20, 30, 40]\n",
    "\n",
    "# Use map() to convert the temperatures to Fahrenheit\n",
    "fahrenheit_temperatures = list(map(celsius_to_fahrenheit, celsius_temperatures))\n",
    "\n",
    "# Display the converted temperatures\n",
    "for c, f in zip(celsius_temperatures, fahrenheit_temperatures):\n",
    "    print(f\"{c}°C is equal to {f}°F\")\n"
   ]
  },
  {
   "cell_type": "markdown",
   "id": "01886779-a5ec-44b1-8a4b-2c3d42029079",
   "metadata": {},
   "source": [
    "54. Write a Python program that uses the `map()` function to round each element of a list of floating-point numbers to the nearest integer.\n"
   ]
  },
  {
   "cell_type": "code",
   "execution_count": 9,
   "id": "96120d4d-55d3-45c6-8aa3-c631e4b38ac2",
   "metadata": {},
   "outputs": [
    {
     "name": "stdout",
     "output_type": "stream",
     "text": [
      "[3, 3, 2, 8, 6]\n"
     ]
    }
   ],
   "source": [
    "# Define a function to round a number to the nearest integer\n",
    "def round_to_integer(number):\n",
    "    return round(number)\n",
    "\n",
    "# Create a list of floating-point numbers\n",
    "floating_numbers = [3.14, 2.718, 1.5, 7.99, 6.01]\n",
    "\n",
    "# Use map() to round each element to the nearest integer\n",
    "rounded_integers = list(map(round_to_integer, floating_numbers))\n",
    "\n",
    "# Display the rounded integers\n",
    "print(rounded_integers)\n"
   ]
  },
  {
   "cell_type": "markdown",
   "id": "30f3920d-1e26-4765-bb0f-b1d04e20ae76",
   "metadata": {},
   "source": [
    "Reduce :-\n",
    "\n",
    "\n",
    "55. What is the `reduce()` function in Python, and what module should you import to use it? Provide an example of its basic usage.\n"
   ]
  },
  {
   "cell_type": "markdown",
   "id": "5047c068-ef92-49ed-8220-4b0dcdda5415",
   "metadata": {},
   "source": [
    "The reduce() function in Python is used for cumulative operations on a sequence of elements. It repeatedly applies a given function to the elements of an iterable, accumulating the result. The reduce() function is part of the functools module, so you need to import this module to use it."
   ]
  },
  {
   "cell_type": "markdown",
   "id": "182ab737-b711-405c-bbf9-867f4cc85410",
   "metadata": {},
   "source": [
    "56. Write a Python program that uses the `reduce()` function to find the product of all elements in a list.\n"
   ]
  },
  {
   "cell_type": "code",
   "execution_count": 11,
   "id": "c6847a02-ad2a-4a00-840a-f283ca058bc1",
   "metadata": {},
   "outputs": [],
   "source": [
    "from functools import reduce"
   ]
  },
  {
   "cell_type": "code",
   "execution_count": 14,
   "id": "0b311f75-cf12-4ee9-b4e4-dc28526b9d84",
   "metadata": {},
   "outputs": [
    {
     "data": {
      "text/plain": [
       "120"
      ]
     },
     "execution_count": 14,
     "metadata": {},
     "output_type": "execute_result"
    }
   ],
   "source": [
    "#taking list as input\n",
    "lst = [1,2,3,4,5]\n",
    "#creating lambda function and applying it on list\n",
    "reduce(lambda x,y: x*y, lst)"
   ]
  },
  {
   "cell_type": "markdown",
   "id": "6f8542b9-9673-41b5-b1a0-f48464848398",
   "metadata": {},
   "source": [
    "57. Create a Python program that uses `reduce()` to find the maximum element in a list of numbers.\n"
   ]
  },
  {
   "cell_type": "code",
   "execution_count": 16,
   "id": "f2d46840-32e6-41e8-ab0f-c1e5383cf333",
   "metadata": {},
   "outputs": [
    {
     "data": {
      "text/plain": [
       "5"
      ]
     },
     "execution_count": 16,
     "metadata": {},
     "output_type": "execute_result"
    }
   ],
   "source": [
    "#taking list as input\n",
    "lst = [1,2,3,4,5]\n",
    "#creating lambda function and applying it on list\n",
    "reduce(lambda x,y: x if x>y else y, lst)"
   ]
  },
  {
   "cell_type": "markdown",
   "id": "4725df27-23c5-41c8-b6aa-60a685964d5c",
   "metadata": {},
   "source": [
    "58. How can you use the `reduce()` function to concatenate a list of strings into a single string?\n"
   ]
  },
  {
   "cell_type": "code",
   "execution_count": 18,
   "id": "59cfe0ec-c82b-4080-a7a3-b15236533e4c",
   "metadata": {},
   "outputs": [
    {
     "data": {
      "text/plain": [
       "'ankur raj ankush'"
      ]
     },
     "execution_count": 18,
     "metadata": {},
     "output_type": "execute_result"
    }
   ],
   "source": [
    "#taking list as input\n",
    "lst = [\"ankur\",\"raj\",\"ankush\"]\n",
    "#creating lambda function and applying it on list\n",
    "reduce(lambda x,y: x+\" \" +y, lst)"
   ]
  },
  {
   "cell_type": "markdown",
   "id": "84d5b447-41cd-46a4-b37e-0772cd6154cd",
   "metadata": {},
   "source": [
    "59. Write a Python program that calculates the factorial of a number using the `reduce()` function.\n"
   ]
  },
  {
   "cell_type": "code",
   "execution_count": 21,
   "id": "cb454033-d148-40f9-a058-2953e920e725",
   "metadata": {},
   "outputs": [
    {
     "data": {
      "text/plain": [
       "720"
      ]
     },
     "execution_count": 21,
     "metadata": {},
     "output_type": "execute_result"
    }
   ],
   "source": [
    "#taking number as input\n",
    "n = 6\n",
    "#creating lambda function and applying it on list\n",
    "reduce(lambda x,y:x*y, range(1,n+1))"
   ]
  },
  {
   "cell_type": "markdown",
   "id": "4878ba19-274f-4ffe-a066-deddee6e39ce",
   "metadata": {},
   "source": [
    "60. Create a Python program that uses `reduce()` to find the GCD (Greatest Common Divisor) of a list of numbers.\n"
   ]
  },
  {
   "cell_type": "code",
   "execution_count": 22,
   "id": "57ef31d6-d00a-4a97-ab56-3a2da5d70b33",
   "metadata": {},
   "outputs": [
    {
     "name": "stdout",
     "output_type": "stream",
     "text": [
      "The GCD of the numbers is 12\n"
     ]
    }
   ],
   "source": [
    "import functools\n",
    "import math\n",
    "\n",
    "# Define a custom function to find the GCD of two numbers\n",
    "def gcd(x, y):\n",
    "    return math.gcd(x, y)\n",
    "\n",
    "# Create a list of numbers\n",
    "numbers = [24, 36, 48, 60, 72]\n",
    "\n",
    "# Use reduce() to find the GCD of the elements\n",
    "result = reduce(gcd, numbers)\n",
    "\n",
    "# Display the GCD\n",
    "print(f\"The GCD of the numbers is {result}\")\n"
   ]
  },
  {
   "cell_type": "markdown",
   "id": "186898b6-9bdb-4ab8-9591-204d7d6230f1",
   "metadata": {},
   "source": [
    "61. Write a Python program that uses the `reduce()` function to find the sum of the digits of a given number.\n"
   ]
  },
  {
   "cell_type": "code",
   "execution_count": 23,
   "id": "61a954db-607e-4fc6-ab09-805898c42a8e",
   "metadata": {},
   "outputs": [
    {
     "name": "stdin",
     "output_type": "stream",
     "text": [
      "Enter a number:  12\n"
     ]
    },
    {
     "name": "stdout",
     "output_type": "stream",
     "text": [
      "The sum of the digits is: 3\n"
     ]
    }
   ],
   "source": [
    "import functools\n",
    "\n",
    "# Define a custom function to sum two digits\n",
    "def sum_digits(x, y):\n",
    "    return x + y\n",
    "\n",
    "# Get the number from the user as a string\n",
    "number_str = input(\"Enter a number: \")\n",
    "\n",
    "# Convert the number string into a list of its digits as integers\n",
    "digits = list(map(int, number_str))\n",
    "\n",
    "# Use reduce() to find the sum of the digits\n",
    "sum_of_digits = reduce(sum_digits, digits)\n",
    "\n",
    "# Display the sum of the digits\n",
    "print(f\"The sum of the digits is: {sum_of_digits}\")\n"
   ]
  },
  {
   "cell_type": "markdown",
   "id": "ddd5ea16-db0d-48bf-b1cb-10415cde91cb",
   "metadata": {},
   "source": [
    "Filter :-\n",
    "\n",
    "\n",
    "62. Explain the purpose of the `filter()` function in Python and provide an example of how it can be used to filter elements from an iterable.\n"
   ]
  },
  {
   "cell_type": "markdown",
   "id": "6e1c6432-30b3-4a32-9337-fab3cba792bc",
   "metadata": {},
   "source": [
    "The filter() function in Python is used to filter elements from an iterable (such as a list, tuple, or other iterable objects) based on a specified condition. It creates a new iterable containing only the elements that satisfy the given condition. The main purpose of filter() is to selectively include or exclude elements from an iterable based on a provided criterion."
   ]
  },
  {
   "cell_type": "code",
   "execution_count": 25,
   "id": "f60d2ba9-78c9-4bf7-9bcb-b195e0b214d9",
   "metadata": {},
   "outputs": [
    {
     "data": {
      "text/plain": [
       "[2, 4]"
      ]
     },
     "execution_count": 25,
     "metadata": {},
     "output_type": "execute_result"
    }
   ],
   "source": [
    "#taking list as input\n",
    "lst = [1,2,3,4,5]\n",
    "#using filter\n",
    "list(filter(lambda x: x%2==0,lst))"
   ]
  },
  {
   "cell_type": "markdown",
   "id": "f1c3b529-1b95-4af0-9d22-b3ade45bc440",
   "metadata": {},
   "source": [
    "63. Write a Python program that uses the `filter()` function to select even numbers from a list of integers.\n"
   ]
  },
  {
   "cell_type": "code",
   "execution_count": 26,
   "id": "cac47fca-fc4e-452a-ab05-a22f5420f3ae",
   "metadata": {},
   "outputs": [
    {
     "data": {
      "text/plain": [
       "[2, 4]"
      ]
     },
     "execution_count": 26,
     "metadata": {},
     "output_type": "execute_result"
    }
   ],
   "source": [
    "#taking list as input\n",
    "lst = [1,2,3,4,5]\n",
    "#using filter\n",
    "list(filter(lambda x: x%2==0,lst))"
   ]
  },
  {
   "cell_type": "markdown",
   "id": "3ccc5983-6c48-4508-a071-617784e7e4d3",
   "metadata": {},
   "source": [
    "64. Create a Python program that uses the `filter()` function to select names that start with a specific letter from a list of strings.\n"
   ]
  },
  {
   "cell_type": "code",
   "execution_count": 35,
   "id": "7df2469f-c75c-4b1f-9e29-da88f6cae573",
   "metadata": {},
   "outputs": [
    {
     "data": {
      "text/plain": [
       "['ankur', 'ankush']"
      ]
     },
     "execution_count": 35,
     "metadata": {},
     "output_type": "execute_result"
    }
   ],
   "source": [
    "#taking list as input\n",
    "lst = [\"ankur\",\"raj\",\"ankush\"]\n",
    "#creating lambda function and applying it on list\n",
    "list(filter(lambda x: x.startswith('a'), lst))"
   ]
  },
  {
   "cell_type": "markdown",
   "id": "c9b352f7-219a-4536-a673-79835520cf50",
   "metadata": {},
   "source": [
    "65. Write a Python program that uses the `filter()` function to select prime numbers from a list of integers.\n",
    "\n"
   ]
  },
  {
   "cell_type": "code",
   "execution_count": 39,
   "id": "c19a86a9-4663-4bd8-87e4-62a2acc6a4a1",
   "metadata": {},
   "outputs": [
    {
     "name": "stdout",
     "output_type": "stream",
     "text": [
      "Prime numbers: [2, 3, 5, 7]\n"
     ]
    }
   ],
   "source": [
    "# Create a list of integers\n",
    "numbers = [1, 2, 3, 4, 5, 6, 7, 8, 9, 10]\n",
    "\n",
    "# Use filter() with a lambda function to select prime numbers\n",
    "is_prime = lambda x: x > 1 and all(x % i != 0 for i in range(2, int(x**0.5) + 1))\n",
    "prime_numbers = list(filter(is_prime, numbers))\n",
    "\n",
    "# Display the prime numbers\n",
    "print(\"Prime numbers:\", prime_numbers)\n"
   ]
  },
  {
   "cell_type": "markdown",
   "id": "7626c902-acd7-4fc3-9e2b-29694698439e",
   "metadata": {},
   "source": [
    "66. How can you use the `filter()` function to remove None values from a list in Python?\n"
   ]
  },
  {
   "cell_type": "code",
   "execution_count": 38,
   "id": "ccc205c0-e8f2-4bfe-b7dd-10ee37ec39e9",
   "metadata": {},
   "outputs": [
    {
     "name": "stdout",
     "output_type": "stream",
     "text": [
      "[1, 2, 3, 4, 5]\n"
     ]
    }
   ],
   "source": [
    "# Create a list with None values\n",
    "my_list = [1, None, 2, None, 3, None, 4, None, 5]\n",
    "\n",
    "# Use filter() to remove None values from the list\n",
    "filtered_list = list(filter(lambda x: x is not None, my_list))\n",
    "\n",
    "# Display the filtered list\n",
    "print(filtered_list)\n"
   ]
  },
  {
   "cell_type": "markdown",
   "id": "83d9953c-7b6b-4af7-9c15-4254687eda19",
   "metadata": {},
   "source": [
    "67. Create a Python program that uses `filter()` to select words longer than a certain length from a list of strings.\n"
   ]
  },
  {
   "cell_type": "code",
   "execution_count": 36,
   "id": "54ad4117-a065-4d31-bae1-fd0cdfe53d88",
   "metadata": {},
   "outputs": [
    {
     "data": {
      "text/plain": [
       "['ankur', 'ankush']"
      ]
     },
     "execution_count": 36,
     "metadata": {},
     "output_type": "execute_result"
    }
   ],
   "source": [
    "#taking list as input\n",
    "lst = [\"ankur\",\"raj\",\"ankush\"]\n",
    "#creating lambda function and applying it on list\n",
    "list(filter(lambda x: len(x) > 3, lst))"
   ]
  },
  {
   "cell_type": "markdown",
   "id": "0239d63b-384c-422b-a115-dd3b8a748777",
   "metadata": {},
   "source": [
    "68. Write a Python program that uses the `filter()` function to select elements greater than a specified threshold from a list of values."
   ]
  },
  {
   "cell_type": "code",
   "execution_count": 37,
   "id": "fdd8d329-23d8-4786-adcb-a4f3f200b595",
   "metadata": {},
   "outputs": [
    {
     "data": {
      "text/plain": [
       "[4, 5]"
      ]
     },
     "execution_count": 37,
     "metadata": {},
     "output_type": "execute_result"
    }
   ],
   "source": [
    "#taking list as input\n",
    "lst = [1,2,3,4,5]\n",
    "#using filter\n",
    "list(filter(lambda x: x>3,lst))"
   ]
  },
  {
   "cell_type": "markdown",
   "id": "051ff5d3-20e1-4d19-bd35-5495eaeca9c8",
   "metadata": {},
   "source": [
    "Recursion:-\n",
    "\n",
    "69. Explain the concept of recursion in Python. How does it differ from iteration?\n"
   ]
  },
  {
   "cell_type": "markdown",
   "id": "0ca66197-1e31-4caf-ba54-1a61485b2505",
   "metadata": {},
   "source": [
    "**Recursion in Python:** Recursion is a technique where a function calls itself to solve a problem, often involving a base case to stop the recursion.\n",
    "\n",
    "**Iteration in Python:** Iteration is a technique where loops like `for` or `while` are used to repeatedly execute code until a condition is met.\n",
    "\n",
    "**Differences:**\n",
    "- Recursion uses function calls and a base case, while iteration uses loops.\n",
    "- Recursion can be more elegant for certain problems, while iteration is often more efficient and requires less memory.\n",
    "- Recursion relies on the call stack, which can lead to stack overflow errors for deep recursion, while iteration uses less memory.\n",
    "- The choice between them depends on the problem and readability vs. performance trade-offs."
   ]
  },
  {
   "cell_type": "markdown",
   "id": "e25a17d9-e2ed-48e3-94ac-cddffbd47e15",
   "metadata": {},
   "source": [
    "70. Write a Python program to calculate the factorial of a number using recursion.\n"
   ]
  },
  {
   "cell_type": "code",
   "execution_count": 1,
   "id": "da5660e7-ce59-418a-89f4-be7149b3cd37",
   "metadata": {},
   "outputs": [
    {
     "name": "stdout",
     "output_type": "stream",
     "text": [
      "The factorial of 5 is:  120\n"
     ]
    }
   ],
   "source": [
    "#function takes number as input\n",
    "def fact(n):\n",
    "    if n == 0 or n ==1:\n",
    "        return 1\n",
    "    else:\n",
    "        return n*fact(n-1)\n",
    "#taking n as input\n",
    "n = 5\n",
    "#printing the output\n",
    "print(\"The factorial of 5 is: \", fact(5))"
   ]
  },
  {
   "cell_type": "markdown",
   "id": "f02bea46-0645-449f-9417-acd24ec2b320",
   "metadata": {},
   "source": [
    "71. Create a recursive Python function to find the nth Fibonacci number.\n"
   ]
  },
  {
   "cell_type": "code",
   "execution_count": 18,
   "id": "53761fa4-44af-488d-9f07-3ca47ce7c796",
   "metadata": {},
   "outputs": [
    {
     "name": "stdout",
     "output_type": "stream",
     "text": [
      "The 5th fibonacci term is:  8\n"
     ]
    }
   ],
   "source": [
    "#function takes number as input\n",
    "def fib(n):\n",
    "    if n == 0:\n",
    "        return 0\n",
    "    elif n==1:\n",
    "        return 1\n",
    "    else:\n",
    "        return fib(n-1)+fib(n-2)\n",
    "#taking n as input\n",
    "n = 5\n",
    "#printing the output\n",
    "print(\"The 5th fibonacci term is: \", fib(n+1))"
   ]
  },
  {
   "cell_type": "markdown",
   "id": "81ebfa3d-2380-45ad-aedd-60f5775ceb37",
   "metadata": {},
   "source": [
    "72. Write a recursive Python function to calculate the sum of all elements in a list.\n"
   ]
  },
  {
   "cell_type": "code",
   "execution_count": 31,
   "id": "0856b200-d3cc-487f-83cf-af644e00b0c5",
   "metadata": {},
   "outputs": [
    {
     "name": "stdout",
     "output_type": "stream",
     "text": [
      "15\n"
     ]
    }
   ],
   "source": [
    "#function takes list as input and return the sum\n",
    "def sum_lst(lst):\n",
    "    if(len(lst) == 0):\n",
    "        return 0\n",
    "    else:\n",
    "        return lst[0]+sum_lst(lst[1:])\n",
    "\n",
    "#printing the output    \n",
    "print(sum_lst([1,2,3,4,5]))"
   ]
  },
  {
   "cell_type": "markdown",
   "id": "07b8f7ca-c4f9-401f-8ce1-1322b95a64a3",
   "metadata": {},
   "source": [
    "73. How can you prevent a recursive function from running indefinitely, causing a stack overflow error?\n"
   ]
  },
  {
   "cell_type": "markdown",
   "id": "23c8374e-f054-4be0-aa4a-5eb3323e9f44",
   "metadata": {},
   "source": [
    "We can do this by creating a base condition which can terminate recursion adn stop it from running indefinetely"
   ]
  },
  {
   "cell_type": "markdown",
   "id": "e6adcca8-4961-4051-928e-671d307f7e82",
   "metadata": {},
   "source": [
    "74. Create a recursive Python function to find the greatest common divisor (GCD) of two numbers using the Euclidean algorithm.\n"
   ]
  },
  {
   "cell_type": "code",
   "execution_count": 21,
   "id": "20bf05f8-19fb-46c0-9dea-999ede8d200c",
   "metadata": {},
   "outputs": [
    {
     "name": "stdout",
     "output_type": "stream",
     "text": [
      "2\n"
     ]
    }
   ],
   "source": [
    "#creating a gcd function and giving the two terms as input\n",
    "def gcd(a,b):\n",
    "    if(a==0):\n",
    "        return b\n",
    "    elif(b==0):\n",
    "        return a\n",
    "    else:\n",
    "        if(a<b):\n",
    "            return gcd(a,b%a)\n",
    "        else:\n",
    "            return gcd(b,a%b)\n",
    "\n",
    "#printing the result\n",
    "print(gcd(10,12))"
   ]
  },
  {
   "cell_type": "markdown",
   "id": "b9fc1347-6897-4554-92e3-78378b774b14",
   "metadata": {},
   "source": [
    "75. Write a recursive Python function to reverse a string.\n"
   ]
  },
  {
   "cell_type": "code",
   "execution_count": 14,
   "id": "f95a1339-acbe-4382-b1e9-95dc19b07bae",
   "metadata": {},
   "outputs": [
    {
     "name": "stdout",
     "output_type": "stream",
     "text": [
      "ggod\n"
     ]
    }
   ],
   "source": [
    "#function takes string as input and return the reverse\n",
    "def rev_str(string):\n",
    "    if(len(string) == 0):\n",
    "        return string\n",
    "    else:\n",
    "        return string[-1:]+rev_str(string[0:len(string)-1])\n",
    "\n",
    "#printing the output    \n",
    "print(rev_str(\"dogg\"))"
   ]
  },
  {
   "cell_type": "markdown",
   "id": "c1f58a70-ee32-4ca4-9c64-1a7582e0ec7e",
   "metadata": {},
   "source": [
    "76. Create a recursive Python function to calculate the power of a number (x^n).\n"
   ]
  },
  {
   "cell_type": "code",
   "execution_count": 32,
   "id": "d51c309b-96f4-4046-88b4-5e9b53f34d14",
   "metadata": {},
   "outputs": [
    {
     "name": "stdout",
     "output_type": "stream",
     "text": [
      "The power is:  8\n"
     ]
    }
   ],
   "source": [
    "#function takes number and power as input\n",
    "def pow_num(x,n):\n",
    "    if n==0:\n",
    "        return 1\n",
    "    else:\n",
    "        return x*pow_num(x,n-1)\n",
    "#printing the output\n",
    "print(\"The power is: \", pow_num(2,3))"
   ]
  },
  {
   "cell_type": "markdown",
   "id": "297239a4-b0c5-412c-9bb4-31cec1faee00",
   "metadata": {},
   "source": [
    "77. Write a recursive Python function to find all permutations of a given string.\n"
   ]
  },
  {
   "cell_type": "code",
   "execution_count": 15,
   "id": "3b63a814-fd8b-42ea-b0f7-90e89a88b2c8",
   "metadata": {},
   "outputs": [
    {
     "name": "stdout",
     "output_type": "stream",
     "text": [
      "['abc', 'bac', 'bca', 'acb', 'cab', 'cba']\n"
     ]
    }
   ],
   "source": [
    "def generate_permutations(input_str):\n",
    "    if len(input_str) == 0:\n",
    "        return ['']\n",
    "\n",
    "    first_char = input_str[0]\n",
    "    rest_of_str = input_str[1:]\n",
    "\n",
    "    permutations_without_first_char = generate_permutations(rest_of_str)\n",
    "\n",
    "    all_permutations = []\n",
    "\n",
    "    for perm in permutations_without_first_char:\n",
    "        for i in range(len(perm) + 1):\n",
    "            new_permutation = perm[:i] + first_char + perm[i:]\n",
    "            all_permutations.append(new_permutation)\n",
    "\n",
    "    return all_permutations\n",
    "\n",
    "# Example usage:\n",
    "input_string = \"abc\"\n",
    "permutations = generate_permutations(input_string)\n",
    "print(permutations)\n"
   ]
  },
  {
   "cell_type": "markdown",
   "id": "bfdb2b4f-12d0-4833-ac08-d1f6f2298d5b",
   "metadata": {},
   "source": [
    "78. Write a recursive Python function to check if a string is a palindrome.\n"
   ]
  },
  {
   "cell_type": "code",
   "execution_count": 13,
   "id": "7ac59bec-4164-4cc8-a643-fdebd000d2ce",
   "metadata": {},
   "outputs": [
    {
     "name": "stdout",
     "output_type": "stream",
     "text": [
      "The string is a palindrome:  True\n"
     ]
    }
   ],
   "source": [
    "#function takes string as input and returns it's reverse\n",
    "def rev_str(string):\n",
    "    if(len(string)==0):\n",
    "        return string\n",
    "    else:\n",
    "        return rev_str(string[1:])+string[0]\n",
    "string = \"eye\"\n",
    "\n",
    "print(\"The string is a palindrome: \", string == rev_str(string))"
   ]
  },
  {
   "cell_type": "markdown",
   "id": "1bc6f6ee-2efb-44ee-a1f6-f972afd42643",
   "metadata": {},
   "source": [
    "79. Create a recursive Python function to generate all possible combinations of a list of elements.\n"
   ]
  },
  {
   "cell_type": "code",
   "execution_count": 14,
   "id": "634ce6ed-e6b7-4a72-bfb6-58a54bbb5184",
   "metadata": {},
   "outputs": [
    {
     "name": "stdout",
     "output_type": "stream",
     "text": [
      "[1, 2]\n",
      "[1, 3]\n",
      "[1, 4]\n",
      "[2, 3]\n",
      "[2, 4]\n",
      "[3, 4]\n"
     ]
    }
   ],
   "source": [
    "def generate_combinations(elements, k, current_combination=[]):\n",
    "    if k == 0:\n",
    "        # If k reaches 0, we've selected 'k' elements in the combination\n",
    "        yield current_combination\n",
    "    elif not elements:\n",
    "        # If elements is empty and k is still not 0, no more combinations can be formed\n",
    "        return\n",
    "    else:\n",
    "        # Include the current element in the combination\n",
    "        yield from generate_combinations(elements[1:], k - 1, current_combination + [elements[0]])\n",
    "        # Exclude the current element from the combination\n",
    "        yield from generate_combinations(elements[1:], k, current_combination)\n",
    "\n",
    "# Example usage:\n",
    "elements = [1, 2, 3, 4]\n",
    "k = 2  # Length of combinations\n",
    "\n",
    "# Generate all combinations of length k\n",
    "combinations = list(generate_combinations(elements, k))\n",
    "\n",
    "# Print the combinations\n",
    "for combo in combinations:\n",
    "    print(combo)\n"
   ]
  },
  {
   "cell_type": "markdown",
   "id": "d50d392d-935a-4e7a-98b5-cf5ef96a73e9",
   "metadata": {},
   "source": [
    "Basics of Functions:\n",
    "\n",
    "80. What is a function in Python, and why is it used?\n"
   ]
  },
  {
   "cell_type": "markdown",
   "id": "a9216916-3543-4c54-970d-df23beddd952",
   "metadata": {},
   "source": [
    "A function in Python is a reusable block of code that performs a specific task, promoting modularity, reusability, and code organization.\n",
    "Functions in Python are used to promote code reusability, modularity, and organization by encapsulating specific tasks or functionality within a reusable block of code."
   ]
  },
  {
   "cell_type": "markdown",
   "id": "489badf1-011c-44f5-945f-bbcb1870fd5d",
   "metadata": {},
   "source": [
    "81. How do you define a function in Python? Provide an example.\n"
   ]
  },
  {
   "cell_type": "markdown",
   "id": "78d2f03b-f3fd-4f1a-b760-d8b2206a52ca",
   "metadata": {},
   "source": [
    "We can define a function in Python using the `def` keyword, followed by the function name, parentheses for parameters, and a colon. Here's an example:\n",
    "\n",
    "```python\n",
    "def greet(name):\n",
    "    print(f\"Hello, {name}!\")\n",
    "```\n",
    "\n",
    "This defines a function called `greet` that takes a `name` parameter and prints a greeting message."
   ]
  },
  {
   "cell_type": "markdown",
   "id": "d1773771-5ffa-42da-bc45-1c2df8dae628",
   "metadata": {},
   "source": [
    "82. Explain the difference between a function definition and a function call.\n"
   ]
  },
  {
   "cell_type": "markdown",
   "id": "bf7bd855-c8cb-4ce0-887a-0c76e9a9fc57",
   "metadata": {},
   "source": [
    "A function definition defines what a function does and its structure using the `def` keyword. A function call executes the defined function with specific arguments, invoking its behavior."
   ]
  },
  {
   "cell_type": "markdown",
   "id": "9420a404-11b9-490f-a156-d7c4fa78fac6",
   "metadata": {},
   "source": [
    "83. Write a Python program that defines a function to calculate the sum of two numbers and then calls the function.\n"
   ]
  },
  {
   "cell_type": "code",
   "execution_count": 8,
   "id": "90f186a7-02dc-4edb-b1fd-8c935768d346",
   "metadata": {},
   "outputs": [
    {
     "name": "stdout",
     "output_type": "stream",
     "text": [
      "The sum of two number is:  9\n"
     ]
    }
   ],
   "source": [
    "#function takes two numbers as input and returns the answer\n",
    "def summation(a,b):\n",
    "    return a+b\n",
    "#printing the result\n",
    "print(\"The sum of two number is: \",summation(4,5))"
   ]
  },
  {
   "cell_type": "markdown",
   "id": "7e7c4baf-a7df-44cc-90c1-650f03be1dd2",
   "metadata": {},
   "source": [
    "84. What is a function signature, and what information does it typically include?\n"
   ]
  },
  {
   "cell_type": "markdown",
   "id": "26d84a5c-c105-4dee-8603-846ebafcfa78",
   "metadata": {},
   "source": [
    "A function signature typically includes the function name, parameter types, and return type, specifying the function's interface without its implementation details."
   ]
  },
  {
   "cell_type": "markdown",
   "id": "c4ba951a-4ab5-43fa-b643-962f76c50005",
   "metadata": {},
   "source": [
    "85. Create a Python function that takes two arguments and returns their product.\n",
    "\n"
   ]
  },
  {
   "cell_type": "code",
   "execution_count": 13,
   "id": "4b16ab67-e7bf-4051-93b2-bbaadb466694",
   "metadata": {},
   "outputs": [
    {
     "name": "stdout",
     "output_type": "stream",
     "text": [
      "The product of two number is:  20\n"
     ]
    }
   ],
   "source": [
    "#function takes two numbers as input and returns the answer\n",
    "def mul(a,b):\n",
    "    return a*b\n",
    "#printing the result\n",
    "print(\"The product of two number is: \",mul(4,5))"
   ]
  },
  {
   "cell_type": "markdown",
   "id": "3790f039-89a4-4489-83ed-361d07ad3d2f",
   "metadata": {},
   "source": [
    "Function Parameters and Arguments:\n",
    "\n",
    "86. Explain the concepts of formal parameters and actual arguments in Python functions.\n"
   ]
  },
  {
   "cell_type": "markdown",
   "id": "81512b22-9ce1-411b-929c-70f01697901b",
   "metadata": {},
   "source": [
    "In Python functions:\n",
    "\n",
    "- **Formal Parameters**: These are variables listed in the function definition that act as placeholders for the values that will be passed into the function when it's called. They are like variables defined within the function's scope and represent the input data the function will work with.\n",
    "\n",
    "  Example:\n",
    "  ```python\n",
    "  def add(a, b):  # Here, 'a' and 'b' are formal parameters.\n",
    "      return a + b\n",
    "  ```\n",
    "\n",
    "- **Actual Arguments**: These are the values or expressions that are passed to the function when it is called. They correspond to the formal parameters defined in the function's signature and provide the actual data that the function will operate on.\n",
    "\n",
    "  Example:\n",
    "  ```python\n",
    "  result = add(3, 5)  # Here, 3 and 5 are actual arguments passed to the 'add' function.\n",
    "  ```\n",
    "\n",
    "In the example above, `a` and `b` in the function definition are formal parameters, while `3` and `5` in the function call are actual arguments. The function will use these actual arguments to perform its operation."
   ]
  },
  {
   "cell_type": "markdown",
   "id": "1d689db4-01d6-4c63-9337-5b56faa361de",
   "metadata": {},
   "source": [
    "87. Write a Python program that defines a function with default argument values.\n"
   ]
  },
  {
   "cell_type": "markdown",
   "id": "39712787-231b-4cc3-b91d-02e675e4b438",
   "metadata": {},
   "source": [
    "A Python program that defines a function with default argument values:\n",
    "\n",
    "```python\n",
    "def greet(name=\"Guest\"):\n",
    "    \"\"\"This function greets a person with a default name of 'Guest'.\"\"\"\n",
    "    print(f\"Hello, {name}!\")\n",
    "\n",
    "# Calling the function with and without an argument\n",
    "greet()          # Output: Hello, Guest!\n",
    "greet(\"Alice\")   # Output: Hello, Alice!\n",
    "```\n",
    "\n",
    "In this example, the `greet` function has a default parameter `name` set to `\"Guest\"`. If we call the function without providing an argument, it will use the default value. If we provide an argument (e.g., `\"Alice\"`), it will use the provided value instead."
   ]
  },
  {
   "cell_type": "markdown",
   "id": "86308900-86e9-4482-bd2d-5984fa7fd66e",
   "metadata": {},
   "source": [
    "88. How do you use keyword arguments in Python function calls? Provide an example.\n"
   ]
  },
  {
   "cell_type": "markdown",
   "id": "2844d3da-f4e5-40d5-b4ca-7d6096d5d2cf",
   "metadata": {},
   "source": [
    "In Python, you can use keyword arguments in function calls by specifying the argument names along with their values, which allows you to pass the arguments in any order regardless of their position in the function's parameter list. Here's an example:\n",
    "\n",
    "```python\n",
    "def greet(name, age):\n",
    "    \"\"\"This function greets a person with their name and age.\"\"\"\n",
    "    print(f\"Hello, {name}! You are {age} years old.\")\n",
    "\n",
    "# Using keyword arguments\n",
    "greet(age=25, name=\"Alice\")\n",
    "```\n",
    "\n",
    "In this example, we're calling the `greet` function with keyword arguments `name` and `age`. The order of the arguments in the function call does not matter because we've specified the argument names explicitly. This results in the output: \"Hello, Alice! You are 25 years old.\""
   ]
  },
  {
   "cell_type": "markdown",
   "id": "568a12db-ffe0-42f2-8102-548a3b929cee",
   "metadata": {},
   "source": [
    "89. Create a Python function that accepts a variable number of arguments and calculates their sum.\n"
   ]
  },
  {
   "cell_type": "code",
   "execution_count": 15,
   "id": "448373bc-a92a-427d-a6bb-de061eda90df",
   "metadata": {},
   "outputs": [
    {
     "name": "stdout",
     "output_type": "stream",
     "text": [
      "15\n"
     ]
    }
   ],
   "source": [
    "def calculate_sum(*args):\n",
    "    \"\"\"This function calculates the sum of all the arguments.\"\"\"\n",
    "    total = 0\n",
    "    for num in args:\n",
    "        total += num\n",
    "    return total\n",
    "\n",
    "# Example usage:\n",
    "result = calculate_sum(1, 2, 3, 4, 5)\n",
    "print(result)  # Output: 15\n"
   ]
  },
  {
   "cell_type": "markdown",
   "id": "cdf931b0-1618-4d1d-ad11-e913843ea69d",
   "metadata": {},
   "source": [
    "90. What is the purpose of the `*args` and `**kwargs` syntax in function parameter lists?\n"
   ]
  },
  {
   "cell_type": "markdown",
   "id": "663273ca-3582-4dd7-b057-2a06797e5def",
   "metadata": {},
   "source": [
    "The `*args` and `**kwargs` syntax in function parameter lists serve the purpose of allowing functions to accept a variable number of arguments in a flexible and dynamic way.\n",
    "\n",
    "1. `*args` (Arbitrary Positional Arguments):\n",
    "   - Purpose: It allows a function to accept an arbitrary number of positional arguments.\n",
    "   - Syntax: `*args` is used as a parameter in a function definition, and it collects any additional positional arguments passed to the function into a tuple.\n",
    "   - Example:\n",
    "     ```python\n",
    "     def sum_numbers(*args):\n",
    "         total = 0\n",
    "         for num in args:\n",
    "             total += num\n",
    "         return total\n",
    "     ```\n",
    "   - Usage: You can call the function with any number of arguments, and they will be treated as elements of the `args` tuple.\n",
    "\n",
    "2. `**kwargs` (Arbitrary Keyword Arguments):\n",
    "   - Purpose: It allows a function to accept an arbitrary number of keyword arguments (key-value pairs).\n",
    "   - Syntax: `**kwargs` is used as a parameter in a function definition, and it collects any additional keyword arguments passed to the function into a dictionary.\n",
    "   - Example:\n",
    "     ```python\n",
    "     def print_info(**kwargs):\n",
    "         for key, value in kwargs.items():\n",
    "             print(f\"{key}: {value}\")\n",
    "     ```\n",
    "   - Usage: You can call the function with any number of keyword arguments, and they will be stored as key-value pairs in the `kwargs` dictionary.\n",
    "\n",
    "Using `*args` and `**kwargs` makes your functions more flexible and allows you to handle a varying number of arguments, which can be especially useful in situations where you don't know in advance how many arguments will be passed to the function."
   ]
  },
  {
   "cell_type": "markdown",
   "id": "dc3d2c8c-d2e7-4d7d-8030-df8a90dab391",
   "metadata": {},
   "source": [
    "Return Values and Scoping:\n",
    "\n",
    "91. Describe the role of the `return` statement in Python functions and provide examples.\n"
   ]
  },
  {
   "cell_type": "markdown",
   "id": "66525c37-18f4-4e9b-9d8f-04725da6d781",
   "metadata": {},
   "source": [
    "The `return` statement in Python functions is used to specify the value or values that the function should send back to the caller. It marks the end of the function's execution. Here are some examples:\n",
    "\n",
    "1. Returning a single value:\n",
    "   ```python\n",
    "   def add(a, b):\n",
    "       return a + b\n",
    "   ```\n",
    "\n",
    "2. Returning multiple values as a tuple:\n",
    "   ```python\n",
    "   def calculate_stats(numbers):\n",
    "       total = sum(numbers)\n",
    "       average = total / len(numbers)\n",
    "       return total, average\n",
    "   ```\n",
    "\n",
    "3. No `return` statement (implicitly returns `None`):\n",
    "   ```python\n",
    "   def say_hello(name):\n",
    "       print(f\"Hello, {name}!\")\n",
    "   ```\n",
    "\n",
    "The `return` statement is crucial for functions that produce results, allowing you to capture and use those results in your code."
   ]
  },
  {
   "cell_type": "markdown",
   "id": "7bbe9092-4304-436b-b32e-d05f71804915",
   "metadata": {},
   "source": [
    "92. Explain the concept of variable scope in Python, including local and global variables.\n"
   ]
  },
  {
   "cell_type": "markdown",
   "id": "8af452a9-7c91-4255-8b12-80908028a5b4",
   "metadata": {},
   "source": [
    "Variable scope in Python refers to where in your code a variable is visible and can be accessed:\n",
    "\n",
    "- **Local Variables**: These are defined within a function and are only accessible within that function. They have local scope.\n",
    "\n",
    "- **Global Variables**: These are defined outside of any function and are accessible throughout the entire program. They have global scope.\n",
    "\n",
    "Local variables take precedence over global variables with the same name when accessed within a function. Global variables can be accessed from within functions, but you need to use the `global` keyword to modify them.\n",
    "\n",
    "Example:\n",
    "```python\n",
    "global_var = 10  # Global variable\n",
    "\n",
    "def my_function():\n",
    "    local_var = 5  # Local variable\n",
    "    print(local_var)  # Accessing the local variable\n",
    "    print(global_var)  # Accessing the global variable\n",
    "\n",
    "my_function()\n",
    "print(global_var)  # Accessing the global variable outside the function\n",
    "```\n",
    "\n",
    "In this example, `local_var` is a local variable within `my_function`, and `global_var` is a global variable accessible both inside and outside the function."
   ]
  },
  {
   "cell_type": "markdown",
   "id": "8582c7f0-79d5-4085-b1f3-ea3c0f6d9411",
   "metadata": {},
   "source": [
    "93. Write a Python program that demonstrates the use of global variables within functions.\n"
   ]
  },
  {
   "cell_type": "code",
   "execution_count": 16,
   "id": "60e0f1ad-69f7-4392-9761-84cc66c692f1",
   "metadata": {},
   "outputs": [
    {
     "name": "stdout",
     "output_type": "stream",
     "text": [
      "Global variable: 10\n",
      "Global variable: 20\n"
     ]
    }
   ],
   "source": [
    "# Define a global variable\n",
    "global_var = 10\n",
    "\n",
    "def modify_global_variable():\n",
    "    # Use the 'global' keyword to modify the global variable\n",
    "    global global_var\n",
    "    global_var = 20\n",
    "\n",
    "def access_global_variable():\n",
    "    # Access the global variable\n",
    "    print(\"Global variable:\", global_var)\n",
    "\n",
    "# Call the functions\n",
    "access_global_variable()  # Initial value: 10\n",
    "\n",
    "modify_global_variable()  # Modify the global variable\n",
    "\n",
    "access_global_variable()  # Updated value: 20\n"
   ]
  },
  {
   "cell_type": "markdown",
   "id": "4766fd4f-ee04-4283-90e9-b16c82179120",
   "metadata": {},
   "source": [
    "94. Create a Python function that calculates the factorial of a number and returns it.\n"
   ]
  },
  {
   "cell_type": "code",
   "execution_count": null,
   "id": "6fd3aefc-4ba6-4677-97e9-893b22d6341e",
   "metadata": {},
   "outputs": [],
   "source": []
  },
  {
   "cell_type": "markdown",
   "id": "c7854716-9467-4f8b-9433-f5461e3358cf",
   "metadata": {},
   "source": [
    "95. How can you access variables defined outside a function from within the function?\n",
    "\n",
    "\n"
   ]
  },
  {
   "cell_type": "markdown",
   "id": "a1e5ba53-9817-4b90-833d-9781707e7c45",
   "metadata": {},
   "source": [
    "To access variables defined outside a function from within the function in Python, you can do the following:\n",
    "\n",
    "1. **Direct Access**: Variables defined outside a function are considered global variables and can be accessed directly within the function without any special keyword.\n",
    "\n",
    "   ```python\n",
    "   global_var = 10\n",
    "\n",
    "   def access_global_variable():\n",
    "       print(global_var)\n",
    "\n",
    "   access_global_variable()  # Accesses the global_var from within the function\n",
    "   ```\n",
    "\n",
    "2. **Using the `global` Keyword (for Modification)**: If you want to modify a global variable from within a function, you need to use the `global` keyword to indicate that you are referring to the global variable, not creating a new local variable with the same name.\n",
    "\n",
    "   ```python\n",
    "   global_var = 10\n",
    "\n",
    "   def modify_global_variable():\n",
    "       global global_var\n",
    "       global_var = 20\n",
    "\n",
    "   modify_global_variable()  # Modifies the global_var from within the function\n",
    "   ```\n",
    "\n",
    "By default, Python allows you to access global variables within functions, but if you intend to modify them, you need to use the `global` keyword to indicate your intention to work with the global variable."
   ]
  },
  {
   "cell_type": "markdown",
   "id": "51738c07-61cc-457c-adf5-41e23870d7bf",
   "metadata": {},
   "source": [
    "Lambda Functions and Higher-Order Functions:\n",
    "\n",
    "96. What are lambda functions in Python, and when are they typically used?\n"
   ]
  },
  {
   "cell_type": "markdown",
   "id": "d5a8d9f2-a148-43b7-acc8-0507d6557f8c",
   "metadata": {},
   "source": [
    "Lambda functions in Python are concise, anonymous functions used for simple operations, often employed with functions like `map()`, `filter()`, and `sorted()`, or in short-lived, one-time use cases."
   ]
  },
  {
   "cell_type": "markdown",
   "id": "6ddd69e3-9f84-4947-841a-72c62473d5e3",
   "metadata": {},
   "source": [
    "97. Write a Python program that uses lambda functions to sort a list of tuples based on the second element.\n"
   ]
  },
  {
   "cell_type": "code",
   "execution_count": 3,
   "id": "7753a10f-d092-473a-85ad-a7aded170ab5",
   "metadata": {},
   "outputs": [
    {
     "name": "stdout",
     "output_type": "stream",
     "text": [
      "[(3, 1), (2, 3), (1, 5)]\n"
     ]
    }
   ],
   "source": [
    "data = [(1, 5), (2, 3), (3, 1)]\n",
    "\n",
    "# Sort the list of tuples based on the second element using a lambda function\n",
    "sorted_data = sorted(data,key=lambda x: x[1])\n",
    "\n",
    "# Print the sorted result\n",
    "print(sorted_data)\n"
   ]
  },
  {
   "cell_type": "markdown",
   "id": "40cdd294-3bdf-4bbe-8bf8-b1f06ff38ab8",
   "metadata": {},
   "source": [
    "98. Explain the concept of higher-order functions in Python, and provide an example.\n"
   ]
  },
  {
   "cell_type": "markdown",
   "id": "24adeaa5-eae5-44e6-aff9-656715d89c21",
   "metadata": {},
   "source": [
    "Higher-order functions in Python are functions that can take other functions as arguments, return functions as results, or both. Essentially, they treat functions as first-class citizens, allowing you to manipulate and work with functions in the same way you would with other data types like integers or strings. This concept is closely related to functional programming.\n",
    "\n",
    "Here's an example of a higher-order function:\n",
    "\n",
    "```python\n",
    "def apply_operation(func, x, y):\n",
    "    \"\"\"This higher-order function applies a given function 'func' to 'x' and 'y'.\"\"\"\n",
    "    return func(x, y)\n",
    "\n",
    "# Define some simple functions to be used with apply_operation\n",
    "def add(a, b):\n",
    "    return a + b\n",
    "\n",
    "def subtract(a, b):\n",
    "    return a - b\n",
    "\n",
    "def multiply(a, b):\n",
    "    return a * b\n",
    "\n",
    "# Using apply_operation with different functions\n",
    "result1 = apply_operation(add, 5, 3)       # Result: 8 (5 + 3)\n",
    "result2 = apply_operation(subtract, 10, 4)  # Result: 6 (10 - 4)\n",
    "result3 = apply_operation(multiply, 2, 7)  # Result: 14 (2 * 7)\n",
    "```\n",
    "\n",
    "In this example, `apply_operation` is a higher-order function that takes another function (`func`) along with two arguments (`x` and `y`) and applies `func` to `x` and `y`. We then define three simple functions (`add`, `subtract`, and `multiply`) that can be passed to `apply_operation`. Depending on which function is passed, it performs different operations.\n",
    "\n",
    "Higher-order functions are powerful because they allow you to write more generic and reusable code, enabling you to abstract away repetitive patterns and promote code modularity. They are commonly used in functional programming paradigms and are an essential concept in languages like Python."
   ]
  },
  {
   "cell_type": "markdown",
   "id": "ba68487f-6767-403b-8f15-83b8724eabe7",
   "metadata": {},
   "source": [
    "99. Create a Python function that takes a list of numbers and a function as arguments, applying the function to each element in the list.\n",
    "\n"
   ]
  },
  {
   "cell_type": "code",
   "execution_count": 4,
   "id": "16a96620-e07b-4e00-960c-b6e916852c4c",
   "metadata": {},
   "outputs": [
    {
     "name": "stdout",
     "output_type": "stream",
     "text": [
      "[1, 4, 9, 16, 25]\n",
      "[2, 4, 6, 8, 10]\n"
     ]
    }
   ],
   "source": [
    "def apply_function_to_list(func, num_list):\n",
    "    \"\"\"Applies the given function to each element in the list and returns the results.\"\"\"\n",
    "    result = []\n",
    "    for num in num_list:\n",
    "        result.append(func(num))\n",
    "    return result\n",
    "\n",
    "# Example functions to use with apply_function_to_list\n",
    "def square(x):\n",
    "    return x ** 2\n",
    "\n",
    "def double(x):\n",
    "    return x * 2\n",
    "\n",
    "# Example usage:\n",
    "numbers = [1, 2, 3, 4, 5]\n",
    "\n",
    "# Apply the 'square' function to each element in the 'numbers' list\n",
    "squared_numbers = apply_function_to_list(square, numbers)\n",
    "print(squared_numbers)  # Output: [1, 4, 9, 16, 25]\n",
    "\n",
    "# Apply the 'double' function to each element in the 'numbers' list\n",
    "doubled_numbers = apply_function_to_list(double, numbers)\n",
    "print(doubled_numbers)  # Output: [2, 4, 6, 8, 10]\n"
   ]
  },
  {
   "cell_type": "markdown",
   "id": "9ced7536-b392-483d-a831-a293e13e839f",
   "metadata": {},
   "source": [
    "Built-in Functions:\n",
    "\n",
    "100. Describe the role of built-in functions like `len()`, `max()`, and `min()` in Python.\n"
   ]
  },
  {
   "cell_type": "markdown",
   "id": "af15f19c-aacc-42a7-8ab5-09273b830e5d",
   "metadata": {},
   "source": [
    "Built-in functions like `len()`, `max()`, and `min()` in Python serve specific roles in working with data and collections:\n",
    "\n",
    "1. **`len()`**:\n",
    "   - Role: Returns the number of items (elements) in a collection such as a list, tuple, string, or dictionary.\n",
    "   - Example:\n",
    "     ```python\n",
    "     my_list = [1, 2, 3, 4, 5]\n",
    "     length = len(my_list)  # Returns 5\n",
    "     ```\n",
    "\n",
    "2. **`max()`**:\n",
    "   - Role: Returns the largest item in an iterable or among multiple arguments.\n",
    "   - Example:\n",
    "     ```python\n",
    "     numbers = [1, 5, 2, 7, 3]\n",
    "     max_value = max(numbers)  # Returns 7\n",
    "     ```\n",
    "\n",
    "3. **`min()`**:\n",
    "   - Role: Returns the smallest item in an iterable or among multiple arguments.\n",
    "   - Example:\n",
    "     ```python\n",
    "     numbers = [1, 5, 2, 7, 3]\n",
    "     min_value = min(numbers)  # Returns 1\n",
    "     ```\n",
    "\n",
    "These built-in functions are useful for common tasks when working with data. `len()` is handy for finding the size of collections, while `max()` and `min()` help in identifying the largest and smallest values within data sets. They are part of Python's standard library and can simplify coding when dealing with these specific operations."
   ]
  },
  {
   "cell_type": "markdown",
   "id": "c4f6f103-afe3-4c8e-8e73-12b582efdf37",
   "metadata": {},
   "source": [
    "101. Write a Python program that uses the `map()` function to apply a function to each element of a list.\n"
   ]
  },
  {
   "cell_type": "code",
   "execution_count": 5,
   "id": "5833cea7-2d0a-4bd5-a71d-bed0e151c3c4",
   "metadata": {},
   "outputs": [
    {
     "data": {
      "text/plain": [
       "[1, 4, 9, 16, 25]"
      ]
     },
     "execution_count": 5,
     "metadata": {},
     "output_type": "execute_result"
    }
   ],
   "source": [
    "def square(x):\n",
    "    return x*x\n",
    "list(map(square,[1,2,3,4,5]))"
   ]
  },
  {
   "cell_type": "markdown",
   "id": "59b21a94-ac43-4b07-9f83-5fc939117030",
   "metadata": {},
   "source": [
    "102. How does the `filter()` function work in Python, and when would you use it?\n"
   ]
  },
  {
   "cell_type": "markdown",
   "id": "49c0a091-588a-4f6c-970f-a436cde23f58",
   "metadata": {},
   "source": [
    "The `filter()` function in Python is used to filter elements from an iterable (e.g., a list, tuple, or string) based on a specified condition. It returns a new iterable containing only the elements for which the condition is `True`.\n",
    "\n",
    "Here's the basic syntax of the `filter()` function:\n",
    "\n",
    "```python\n",
    "filter(function, iterable)\n",
    "```\n",
    "\n",
    "- `function`: A function that defines the condition for filtering. It should return `True` for elements to be included in the result.\n",
    "- `iterable`: The iterable (e.g., a list) from which elements are to be filtered.\n",
    "\n",
    "The `filter()` function applies the specified `function` to each element in the `iterable`. If the `function` returns `True` for an element, that element is included in the result; otherwise, it is excluded.\n",
    "\n",
    "Here's an example:\n",
    "\n",
    "```python\n",
    "def is_even(num):\n",
    "    \"\"\"Function to check if a number is even.\"\"\"\n",
    "    return num % 2 == 0\n",
    "\n",
    "numbers = [1, 2, 3, 4, 5, 6, 7, 8, 9]\n",
    "\n",
    "# Use filter() to filter even numbers\n",
    "even_numbers = filter(is_even, numbers)\n",
    "\n",
    "# Convert the filter result to a list\n",
    "even_numbers_list = list(even_numbers)\n",
    "\n",
    "print(even_numbers_list)  # Output: [2, 4, 6, 8]\n",
    "```\n",
    "\n",
    "In this example, the `is_even` function is used as the filtering criterion, and `filter()` is used to create a new iterable containing only the even numbers from the `numbers` list.\n",
    "\n",
    "You would use the `filter()` function whenever you need to selectively extract elements from an iterable based on a specific condition. It's particularly useful when working with large data sets or when you want to keep your code concise and readable by avoiding explicit loops."
   ]
  },
  {
   "cell_type": "markdown",
   "id": "970b9968-4cd6-4140-b755-a60b0c9510dc",
   "metadata": {},
   "source": [
    "103. Create a Python program that uses the `reduce()` function to find the product of all elements in a list.\n"
   ]
  },
  {
   "cell_type": "code",
   "execution_count": 8,
   "id": "b8ed6440-0ea0-4557-ae09-8be85682150c",
   "metadata": {},
   "outputs": [
    {
     "data": {
      "text/plain": [
       "15"
      ]
     },
     "execution_count": 8,
     "metadata": {},
     "output_type": "execute_result"
    }
   ],
   "source": [
    "from functools import reduce\n",
    "reduce(lambda x,y:x+y,[1,2,3,4,5])"
   ]
  },
  {
   "cell_type": "markdown",
   "id": "23fa3b90-b339-4674-8c5c-416154ad329b",
   "metadata": {},
   "source": [
    "Function Documentation and Best Practices:\n",
    "\n",
    "104. Explain the purpose of docstrings in Python functions and how to write them.\n",
    "\n"
   ]
  },
  {
   "cell_type": "markdown",
   "id": "4de58d86-a3fc-4c4d-9a6d-9e6fb2e5f819",
   "metadata": {},
   "source": [
    "**Docstrings** in Python are used to provide documentation and descriptions for functions, classes, methods, and modules. They serve the purpose of explaining the functionality, usage, and any other relevant information about the code they describe. Docstrings are not just comments; they are accessible at runtime and can be accessed using the `help()` function or by querying the `.__doc__` attribute of objects.\n",
    "\n",
    "Here's how to write docstrings for Python functions:\n",
    "\n",
    "1. **Function Docstring Format**: A function docstring is typically enclosed in triple-quotes (either single or double) and placed immediately below the function definition, before any code within the function body. It should be concise but informative.\n",
    "\n",
    "2. **Content**: A good function docstring should include the following information:\n",
    "   - A brief one-line summary of what the function does.\n",
    "   - Detailed explanations of the function's parameters (if any) and their types.\n",
    "   - A description of what the function returns (if anything).\n",
    "   - Any additional notes or usage examples.\n",
    "\n",
    "Here's an example of a well-documented function with a docstring:\n",
    "\n",
    "```python\n",
    "def calculate_average(numbers):\n",
    "    \"\"\"\n",
    "    Calculate the average of a list of numbers.\n",
    "\n",
    "    Args:\n",
    "        numbers (list): A list of numerical values.\n",
    "\n",
    "    Returns:\n",
    "        float: The average of the input numbers.\n",
    "\n",
    "    Example:\n",
    "        >>> calculate_average([1, 2, 3, 4, 5])\n",
    "        3.0\n",
    "    \"\"\"\n",
    "    if not numbers:\n",
    "        return 0  # Handle the case of an empty list.\n",
    "    return sum(numbers) / len(numbers)\n",
    "```\n",
    "\n",
    "In this example, the docstring provides a clear summary of the function's purpose, specifies the parameter `numbers` as a list of numerical values, mentions that the function returns a float, and includes an example of how to use the function.\n",
    "\n",
    "Writing informative docstrings is considered a best practice in Python development as it makes code more readable and helps others (including future you) understand and use your functions effectively. Additionally, docstrings are used by various documentation generation tools to automatically create documentation for your code."
   ]
  },
  {
   "cell_type": "markdown",
   "id": "b8c95191-5a6f-4fa7-9ca0-6617ad86352d",
   "metadata": {},
   "source": [
    "105. Describe some best practices for naming functions and variables in Python, including naming conventions and guidelines."
   ]
  },
  {
   "cell_type": "markdown",
   "id": "82447a4c-4403-4eda-90d7-47d4359d6894",
   "metadata": {},
   "source": [
    "Here are some best practices and naming conventions for naming functions and variables in Python:\n",
    "\n",
    "1. **Use Descriptive Names**:\n",
    "   - Choose names that clearly and concisely describe the purpose or functionality of the function or variable.\n",
    "   - Avoid single-letter or cryptic names unless they are widely accepted conventions (e.g., `i` for loop counters).\n",
    "\n",
    "2. **Follow PEP 8 Guidelines**:\n",
    "   - Adhere to the naming conventions outlined in PEP 8, the Python Enhancement Proposal for code style.\n",
    "   - Use lowercase letters and underscores for function and variable names (e.g., `calculate_average`, `user_input`).\n",
    "   - Use uppercase letters for constants (e.g., `MAX_VALUE`).\n",
    "\n",
    "3. **Use Verbs for Functions**:\n",
    "   - Begin function names with verbs that describe the action they perform (e.g., `calculate_average`, `validate_input`).\n",
    "\n",
    "4. **Use Nouns for Variables**:\n",
    "   - Variable names should be nouns that represent the data they hold (e.g., `user_name`, `total_count`).\n",
    "\n",
    "5. **Be Consistent**:\n",
    "   - Maintain consistency in your naming conventions throughout your codebase. If you use a particular style for function and variable names, stick with it.\n",
    "\n",
    "6. **Avoid Reserved Words**:\n",
    "   - Do not use Python's reserved words (e.g., `if`, `else`, `for`, `while`, `import`) as function or variable names.\n",
    "\n",
    "7. **Use CamelCase for Classes**:\n",
    "   - Class names should follow the CapWords (CamelCase) convention, where each word is capitalized (e.g., `MyClass`, `PersonInfo`).\n",
    "\n",
    "8. **Prefix Private Variables with Underscore**:\n",
    "   - To indicate that a variable is intended for internal use within a module or class, prefix it with a single underscore (e.g., `_private_var`).\n",
    "\n",
    "9. **Use Meaningful Parameters**:\n",
    "   - Name function parameters meaningfully to convey their purpose (e.g., `width`, `height` in a function that calculates area).\n",
    "\n",
    "10. **Avoid Acronyms and Abbreviations**:\n",
    "    - Favor full, descriptive words over acronyms or abbreviations. If you do use them, make sure they are well-known and understandable (e.g., `URL` is widely recognized).\n",
    "\n",
    "11. **Keep Names Concise**:\n",
    "    - While being descriptive, avoid overly long names. Balance clarity with brevity.\n",
    "\n",
    "12. **Consider Consistency with Third-Party Code**:\n",
    "    - When working on a project with established naming conventions, adhere to those conventions to maintain consistency.\n",
    "\n",
    "13. **Use Plural Names for Collections**:\n",
    "    - When naming variables that represent collections (e.g., lists, dictionaries), use plural nouns (e.g., `students`, `user_list`).\n",
    "\n",
    "14. **Use `snake_case` for Module Names**:\n",
    "    - For Python module names, use `snake_case` (e.g., `my_module.py`).\n",
    "\n",
    "15. **Document Unusual Naming Choices**:\n",
    "    - If you deviate from common naming conventions for a specific reason, add a comment explaining your choice.\n",
    "\n",
    "Adhering to these best practices and naming conventions makes your code more readable, maintainable, and understandable by both you and others who may work with your code. It promotes consistency and clarity in Python programming."
   ]
  },
  {
   "cell_type": "code",
   "execution_count": null,
   "id": "bcafc973-990b-4844-8700-cd52ed4a8baf",
   "metadata": {},
   "outputs": [],
   "source": []
  },
  {
   "cell_type": "code",
   "execution_count": null,
   "id": "2798b50b-8dae-4ed8-af4a-084d81fd0560",
   "metadata": {},
   "outputs": [],
   "source": []
  },
  {
   "cell_type": "code",
   "execution_count": null,
   "id": "f8cfec06-7c47-47f6-a20d-3156477641d6",
   "metadata": {},
   "outputs": [],
   "source": []
  }
 ],
 "metadata": {
  "kernelspec": {
   "display_name": "Python 3 (ipykernel)",
   "language": "python",
   "name": "python3"
  },
  "language_info": {
   "codemirror_mode": {
    "name": "ipython",
    "version": 3
   },
   "file_extension": ".py",
   "mimetype": "text/x-python",
   "name": "python",
   "nbconvert_exporter": "python",
   "pygments_lexer": "ipython3",
   "version": "3.10.8"
  }
 },
 "nbformat": 4,
 "nbformat_minor": 5
}
