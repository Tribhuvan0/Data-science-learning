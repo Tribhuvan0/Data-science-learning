{
 "cells": [
  {
   "cell_type": "markdown",
   "id": "b0b5c04e-5b08-415a-bee6-1c5cd04f8fa3",
   "metadata": {},
   "source": [
    "Q.1 Can you explain the logic and working of the Tower of Hanoi algorithm by writing a Java program?\n",
    "How does the recursion work, and how are the movements of disks between rods accomplished?"
   ]
  },
  {
   "cell_type": "markdown",
   "id": "1406ed8a-a0f5-4e37-a589-6ab8a7edca98",
   "metadata": {},
   "source": [
    "Answer 1. The Tower of Hanoi is a classic problem that can be efficiently solved using recursion. The problem involves three rods and a number of disks of different sizes which can slide onto any rod. The puzzle starts with the disks in a neat stack in ascending order of size on one rod, the smallest at the top. The objective of the puzzle is to move the entire stack to another rod, obeying the following simple rules:\n",
    "\n",
    "1. Only one disk can be moved at a time.\n",
    "2. Each move consists of taking the upper disk from one of the stacks and placing it on top of another stack or an empty rod.\n",
    "3. No disk may be placed on top of a smaller disk.\n",
    "\n",
    "Here's a Java program that implements the Tower of Hanoi algorithm using recursion:\n",
    "\n",
    "```java\n",
    "public class TowerOfHanoi {\n",
    "    // Function to solve Tower of Hanoi puzzle\n",
    "    static void towerOfHanoi(int n, char source, char auxiliary, char destination) {\n",
    "        if (n == 1) {\n",
    "            System.out.println(\"Move disk 1 from \" + source + \" to \" + destination);\n",
    "            return;\n",
    "        }\n",
    "\n",
    "        // Move (n-1) disks from source to auxiliary peg\n",
    "        towerOfHanoi(n - 1, source, destination, auxiliary);\n",
    "\n",
    "        // Move the nth disk from source to destination peg\n",
    "        System.out.println(\"Move disk \" + n + \" from \" + source + \" to \" + destination);\n",
    "\n",
    "        // Move (n-1) disks from auxiliary peg to destination peg\n",
    "        towerOfHanoi(n - 1, auxiliary, source, destination);\n",
    "    }\n",
    "\n",
    "    public static void main(String[] args) {\n",
    "        int n = 3; // Number of disks\n",
    "        towerOfHanoi(n, 'A', 'B', 'C');\n",
    "    }\n",
    "}\n",
    "```\n",
    "\n",
    "Explanation of the code:\n",
    "\n",
    "1. The `towerOfHanoi` function is a recursive function that takes the number of disks `n` and the source (`source`), auxiliary (`auxiliary`), and destination (`destination`) rods as parameters.\n",
    "2. The base case is when there is only one disk (`n == 1`), in which case we simply move the disk from the source to the destination rod.\n",
    "3. For more than one disk, the function recursively moves (n-1) disks from the source rod to the auxiliary rod, then moves the nth disk from the source to the destination rod, and finally moves the (n-1) disks from the auxiliary rod to the destination rod.\n",
    "\n",
    "The movements of the disks between the rods are accomplished through the recursive calls, and the program prints each movement for clarity. The recursive nature of the algorithm elegantly handles the movement of disks in accordance with the rules of the Tower of Hanoi puzzle."
   ]
  },
  {
   "cell_type": "markdown",
   "id": "7366b8f6-be84-455b-9cc2-9fd168595c82",
   "metadata": {},
   "source": [
    "Q.2 Given two strings word1 and word2, return the minimum number of operations required to convert word1\n",
    "to word2."
   ]
  },
  {
   "cell_type": "code",
   "execution_count": 1,
   "id": "51b11d58-6765-4bda-8405-57579ff9d531",
   "metadata": {},
   "outputs": [
    {
     "name": "stdout",
     "output_type": "stream",
     "text": [
      "3\n"
     ]
    }
   ],
   "source": [
    "def min_distance(word1, word2):\n",
    "    return helper(word1, word2, len(word1), len(word2))\n",
    "\n",
    "def helper(word1, word2, m, n):\n",
    "    # Base cases\n",
    "    if m == 0:\n",
    "        return n\n",
    "    if n == 0:\n",
    "        return m\n",
    "\n",
    "    # If the last characters are the same, no operation is needed\n",
    "    if word1[m - 1] == word2[n - 1]:\n",
    "        return helper(word1, word2, m - 1, n - 1)\n",
    "\n",
    "    # If the last characters are different, consider all three operations\n",
    "    return 1 + min(\n",
    "        helper(word1, word2, m, n - 1),  # Insert\n",
    "        helper(word1, word2, m - 1, n),  # Remove\n",
    "        helper(word1, word2, m - 1, n - 1)  # Replace\n",
    "    )\n",
    "\n",
    "# Example\n",
    "word1 = \"horse\"\n",
    "word2 = \"ros\"\n",
    "result = min_distance(word1, word2)\n",
    "print(result)\n"
   ]
  },
  {
   "cell_type": "markdown",
   "id": "df88620a-dbd7-452a-92f2-6f65fed3feb3",
   "metadata": {},
   "source": [
    "Q. 3 Print the max value of the array [ 13, 1, -3, 22, 5]."
   ]
  },
  {
   "cell_type": "code",
   "execution_count": 2,
   "id": "c998b8d0-a73e-460a-b220-cf0cd6dcbe4c",
   "metadata": {},
   "outputs": [
    {
     "name": "stdout",
     "output_type": "stream",
     "text": [
      "The maximum value in the array is: 22\n"
     ]
    }
   ],
   "source": [
    "def find_max(arr):\n",
    "    # Base case: if the array is empty, return a very small value\n",
    "    if not arr:\n",
    "        return float('-inf')\n",
    "    \n",
    "    # Recursive case: compare the first element with the maximum of the rest of the array\n",
    "    max_rest = find_max(arr[1:])\n",
    "    return arr[0] if arr[0] > max_rest else max_rest\n",
    "\n",
    "# Example\n",
    "array = [13, 1, -3, 22, 5]\n",
    "max_value = find_max(array)\n",
    "print(f\"The maximum value in the array is: {max_value}\")\n"
   ]
  },
  {
   "cell_type": "markdown",
   "id": "e24eab87-e7ce-49bc-a43f-cbff173fd9c5",
   "metadata": {},
   "source": [
    "Q.4 Find the sum of the values of the array [92, 23, 15, -20, 10]."
   ]
  },
  {
   "cell_type": "code",
   "execution_count": null,
   "id": "95690daf-2c02-4d01-8b40-43a6e2f58936",
   "metadata": {},
   "outputs": [],
   "source": []
  },
  {
   "cell_type": "code",
   "execution_count": null,
   "id": "319468f2-0e61-46cb-a155-c531fada0ce4",
   "metadata": {},
   "outputs": [],
   "source": []
  },
  {
   "cell_type": "code",
   "execution_count": null,
   "id": "87e068e0-e580-493e-8c8c-e129db91e8ea",
   "metadata": {},
   "outputs": [],
   "source": []
  },
  {
   "cell_type": "code",
   "execution_count": null,
   "id": "fd0979b0-4eb1-49a3-aac1-abcb04984829",
   "metadata": {},
   "outputs": [],
   "source": []
  },
  {
   "cell_type": "code",
   "execution_count": null,
   "id": "667354c8-eee1-434b-9e7a-9871047ae5ae",
   "metadata": {},
   "outputs": [],
   "source": []
  },
  {
   "cell_type": "code",
   "execution_count": null,
   "id": "9d4e3f4a-ab77-4878-b55e-867a0481a77b",
   "metadata": {},
   "outputs": [],
   "source": [
    "\n"
   ]
  }
 ],
 "metadata": {
  "kernelspec": {
   "display_name": "Python 3 (ipykernel)",
   "language": "python",
   "name": "python3"
  },
  "language_info": {
   "codemirror_mode": {
    "name": "ipython",
    "version": 3
   },
   "file_extension": ".py",
   "mimetype": "text/x-python",
   "name": "python",
   "nbconvert_exporter": "python",
   "pygments_lexer": "ipython3",
   "version": "3.10.8"
  }
 },
 "nbformat": 4,
 "nbformat_minor": 5
}
