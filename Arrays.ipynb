{
 "cells": [
  {
   "cell_type": "markdown",
   "id": "ac468b6d-1709-447b-b4bf-5a48ae15aea8",
   "metadata": {},
   "source": [
    "1. Given an array, check if it contains any duplicates or not.\n",
    "```python\n",
    "arr = [1, 2, 4, 2, 5, 9]\n",
    "Output = True\n",
    "```\n"
   ]
  },
  {
   "cell_type": "code",
   "execution_count": 5,
   "id": "8e077f29-7be6-45a2-a1fe-2f070441afc2",
   "metadata": {},
   "outputs": [
    {
     "name": "stdout",
     "output_type": "stream",
     "text": [
      "True\n"
     ]
    }
   ],
   "source": [
    "def contains_duplicates(arr):\n",
    "    # Step 1: Sort the array\n",
    "    sorted_arr = sorted(arr)\n",
    "    \n",
    "    # Step 2: Iterate through the sorted array\n",
    "    for i in range(len(sorted_arr) - 1):\n",
    "        # Step 3: Check if adjacent elements are equal\n",
    "        if sorted_arr[i] == sorted_arr[i + 1]:\n",
    "            return True  # Duplicate found\n",
    "    \n",
    "    # Step 4: If no duplicates found\n",
    "    return False  # No duplicates found\n",
    "\n",
    "# Example array\n",
    "arr = [1, 2, 4, 2, 5, 9]\n",
    "\n",
    "# Check for duplicates\n",
    "result = contains_duplicates(arr)\n",
    "\n",
    "# Print the result\n",
    "print(result)\n"
   ]
  },
  {
   "cell_type": "markdown",
   "id": "6b394bb1-7a8c-4d69-91f3-9fe0f0432603",
   "metadata": {},
   "source": [
    "2. Given an array and an integer k, rotate the array to the right by k steps.\n",
    "```python\n",
    "arr = [1, 2, 3, 4, 5, 6, 7] k = 3\n",
    "Output = [5, 6, 7, 1, 2, 3, 4]\n",
    "```\n"
   ]
  },
  {
   "cell_type": "code",
   "execution_count": 23,
   "id": "46d94d2f-4df0-4920-8d97-236dc17bda50",
   "metadata": {},
   "outputs": [
    {
     "name": "stdout",
     "output_type": "stream",
     "text": [
      "[4, 5, 6, 7, 1, 2, 3]\n"
     ]
    }
   ],
   "source": [
    "def reverse(arr, start_idx, end_idx):\n",
    "    # Reverse the portion of the array from start_idx to end_idx (exclusive) in-place\n",
    "    arr[start_idx:end_idx] = arr[start_idx:end_idx][::-1]\n",
    "    return arr\n",
    "\n",
    "def rotate_by_k(arr, k):\n",
    "    # Reverse the first k elements\n",
    "    arr = reverse(arr, 0, k)\n",
    "    \n",
    "    # Reverse the remaining elements\n",
    "    arr = reverse(arr, k, len(arr))\n",
    "    \n",
    "    # Reverse the entire array\n",
    "    arr = reverse(arr, 0, len(arr))\n",
    "    \n",
    "    return arr\n",
    "\n",
    "# Example array and rotation steps\n",
    "arr = [1, 2, 3, 4, 5, 6, 7]\n",
    "result = rotate_by_k(arr, 3)\n",
    "print(result)\n"
   ]
  },
  {
   "cell_type": "markdown",
   "id": "4850c3c8-9f5f-4114-9696-44776828ac39",
   "metadata": {},
   "source": [
    "\n",
    "3. Reverse the given array in-place, means without using any extra data structure.\n",
    "```python\n",
    "arr = [2, 4, 5, 7, 9, 12]\n",
    "Output = [12, 9, 7, 5, 4, 2]\n",
    "```\n"
   ]
  },
  {
   "cell_type": "code",
   "execution_count": 24,
   "id": "64be519d-82cd-426e-8ed1-c6f67cd4ce05",
   "metadata": {},
   "outputs": [
    {
     "name": "stdout",
     "output_type": "stream",
     "text": [
      "[12, 9, 7, 5, 4, 2]\n"
     ]
    }
   ],
   "source": [
    "def reverse_in_place(arr):\n",
    "    # Initialize two pointers, one at the beginning and one at the end of the array\n",
    "    start, end = 0, len(arr) - 1\n",
    "    \n",
    "    # Swap elements while moving towards the center of the array\n",
    "    while start < end:\n",
    "        # Swap elements at the start and end indices\n",
    "        arr[start], arr[end] = arr[end], arr[start]\n",
    "        \n",
    "        # Move the pointers towards the center\n",
    "        start += 1\n",
    "        end -= 1\n",
    "\n",
    "# Example array\n",
    "arr = [2, 4, 5, 7, 9, 12]\n",
    "\n",
    "# Reverse the array in-place\n",
    "reverse_in_place(arr)\n",
    "\n",
    "# Print the result\n",
    "print(arr)\n"
   ]
  },
  {
   "cell_type": "markdown",
   "id": "75737b6e-cfd5-4bcf-8e22-5a1d97ed3463",
   "metadata": {},
   "source": [
    "4. Given an array of integers, find the maximum element in an array\n",
    "```python\n",
    "arr = [10, 5, 20, 8, 15]\n",
    "Output = 20\n",
    "```\n"
   ]
  },
  {
   "cell_type": "code",
   "execution_count": 25,
   "id": "715eabcf-b391-425a-93ca-36fc5ca62206",
   "metadata": {},
   "outputs": [
    {
     "name": "stdout",
     "output_type": "stream",
     "text": [
      "20\n"
     ]
    }
   ],
   "source": [
    "arr = [10, 5, 20, 8, 15]\n",
    "\n",
    "# Find the maximum element in the array\n",
    "max_element = max(arr)\n",
    "\n",
    "# Print the result\n",
    "print(max_element)\n"
   ]
  },
  {
   "cell_type": "markdown",
   "id": "a87da5ae-f7df-48e6-84d7-51a7ec338a21",
   "metadata": {},
   "source": [
    "5. Given a sorted array, remove the duplicate element without using any extra data structure.\n",
    "```python\n",
    "arr = [1, 1, 2, 2, 2, 3, 3, 4, 4, 4, 5, 5]\n",
    "Output = [1, 2, 3, 4, 5]\n",
    "```"
   ]
  },
  {
   "cell_type": "code",
   "execution_count": 26,
   "id": "fdd385b3-44a9-446e-9b5e-ca4630f42687",
   "metadata": {},
   "outputs": [
    {
     "name": "stdout",
     "output_type": "stream",
     "text": [
      "[1, 2, 3, 4, 5]\n"
     ]
    }
   ],
   "source": [
    "def remove_duplicates(arr):\n",
    "    # Check if the array is empty or has only one element\n",
    "    if len(arr) <= 1:\n",
    "        return arr\n",
    "    \n",
    "    # Initialize a pointer for the unique elements\n",
    "    unique_index = 0\n",
    "    \n",
    "    # Iterate through the array with a second pointer\n",
    "    for i in range(1, len(arr)):\n",
    "        # Compare the current element with the previous unique element\n",
    "        if arr[i] != arr[unique_index]:\n",
    "            # Increment the unique pointer and update the unique element\n",
    "            unique_index += 1\n",
    "            arr[unique_index] = arr[i]\n",
    "    \n",
    "    # Trim the array to contain only unique elements\n",
    "    return arr[:unique_index + 1]\n",
    "\n",
    "# Example sorted array\n",
    "arr = [1, 1, 2, 2, 2, 3, 3, 4, 4, 4, 5, 5]\n",
    "\n",
    "# Remove duplicates in-place\n",
    "result = remove_duplicates(arr)\n",
    "\n",
    "# Print the result\n",
    "print(result)\n"
   ]
  }
 ],
 "metadata": {
  "kernelspec": {
   "display_name": "Python 3 (ipykernel)",
   "language": "python",
   "name": "python3"
  },
  "language_info": {
   "codemirror_mode": {
    "name": "ipython",
    "version": 3
   },
   "file_extension": ".py",
   "mimetype": "text/x-python",
   "name": "python",
   "nbconvert_exporter": "python",
   "pygments_lexer": "ipython3",
   "version": "3.10.8"
  }
 },
 "nbformat": 4,
 "nbformat_minor": 5
}
