{
 "cells": [
  {
   "cell_type": "markdown",
   "id": "7151ad12-bb68-4326-980d-2e4bba9da3a3",
   "metadata": {},
   "source": [
    "Problem 1: Bank Account Create a class representing a bank account with attributes like account number, account holder name, and balance. Implement methods to deposit and withdraw money from the account.\n",
    "\n"
   ]
  },
  {
   "cell_type": "code",
   "execution_count": 89,
   "id": "e79a5935-4203-4d31-b2c1-28df69a67413",
   "metadata": {},
   "outputs": [],
   "source": [
    "class BankAccount:\n",
    "    def __init__(self,acc_no,acc_holder_name,acc_bal):\n",
    "        self.acc_no = acc_no\n",
    "        self.acc_holder_name = acc_holder_name\n",
    "        self.acc_bal = acc_bal\n",
    "    \n",
    "    def deposit(self,add_bal):\n",
    "        self.acc_bal += add_bal\n",
    "        \n",
    "        return self.acc_bal\n",
    "    \n",
    "    def withdraw(self,sub_bal):\n",
    "        self.acc_bal -= sub_bal\n",
    "        \n",
    "        return self.acc_bal\n",
    "        "
   ]
  },
  {
   "cell_type": "code",
   "execution_count": 90,
   "id": "5c1b4793-cc36-4376-b4bc-bda1174a982f",
   "metadata": {},
   "outputs": [
    {
     "data": {
      "text/plain": [
       "2468"
      ]
     },
     "execution_count": 90,
     "metadata": {},
     "output_type": "execute_result"
    }
   ],
   "source": [
    "ab = BankAccount(23,\"op\",1234)\n",
    "ab.deposit(1234)"
   ]
  },
  {
   "cell_type": "code",
   "execution_count": 91,
   "id": "00033c23-a2de-495f-8b17-edab7654d100",
   "metadata": {},
   "outputs": [
    {
     "data": {
      "text/plain": [
       "2345"
      ]
     },
     "execution_count": 91,
     "metadata": {},
     "output_type": "execute_result"
    }
   ],
   "source": [
    "ab.withdraw(123)"
   ]
  },
  {
   "cell_type": "markdown",
   "id": "0f2f2be4-c877-4e22-ae12-9a72bab858a7",
   "metadata": {},
   "source": [
    "Problem 2: Employee Management Create a class representing an employee with attributes like employee ID, name, and salary. Implement methods to calculate the yearly bonus and display employee details.\n",
    "\n"
   ]
  },
  {
   "cell_type": "code",
   "execution_count": 92,
   "id": "49424813-5fc1-4277-884c-7abb489e490f",
   "metadata": {},
   "outputs": [],
   "source": [
    "class Employee:\n",
    "    def __init__(self,emp_ID,emp_Name,emp_Salary):\n",
    "        self.emp_ID = emp_ID\n",
    "        self.emp_Name = emp_Name\n",
    "        self.emp_Salary = emp_Salary\n",
    "        \n",
    "    def emp_Details(self):\n",
    "        print(\"Employee Id is:\", self.emp_ID)\n",
    "        print(\"Name of Employee is:\"+ self.emp_Name)\n",
    "        print(\"Salary of Employee is:\",self.emp_Salary)\n",
    "    \n",
    "    def yearly_Bonus(self,bonus):\n",
    "        print(\"The Bonus is:\", bonus)\n",
    "        print(\"Total salary is:\", self.emp_Salary+bonus)"
   ]
  },
  {
   "cell_type": "code",
   "execution_count": 93,
   "id": "c10015b5-2d05-42aa-96ef-f955a266a0fb",
   "metadata": {},
   "outputs": [
    {
     "name": "stdout",
     "output_type": "stream",
     "text": [
      "Employee Id is: 12\n",
      "Name of Employee is:Raja\n",
      "Salary of Employee is: 12500\n",
      "The Bonus is: 1200\n",
      "Total salary is: 13700\n"
     ]
    }
   ],
   "source": [
    "emp = Employee(12,\"Raja\",12500)\n",
    "emp.emp_Details()\n",
    "emp.yearly_Bonus(1200)"
   ]
  },
  {
   "cell_type": "markdown",
   "id": "8812ff1a-acb8-4d01-9d1c-96ac055f42fd",
   "metadata": {},
   "source": [
    "Problem 3: Vehicle Rental Create a class representing a vehicle rental system. Implement methods to rent a vehicle, return a vehicle, and display available vehicles.\n",
    "\n"
   ]
  },
  {
   "cell_type": "code",
   "execution_count": 101,
   "id": "56884d99-c583-4985-9ed2-0601dbd4f636",
   "metadata": {},
   "outputs": [],
   "source": [
    "class Vehcile:\n",
    "    def __init__(self,veh_avl,rent_veh,retu_veh):\n",
    "        self.veh_avl = veh_avl\n",
    "        self.rent_veh = rent_veh\n",
    "        self.retu_veh = retu_veh\n",
    "    \n",
    "    def rent_vehicle(self):\n",
    "        self.veh_avl -= self.rent_veh\n",
    "        print(\"I have taken this Vehicle\")\n",
    "        print(\"Availiable vehciles are:\", self.veh_avl)\n",
    "        \n",
    "    def availiable_vehicle(self):\n",
    "        print(\"Total number of vehciles availiable are:\", self.veh_avl)\n",
    "        \n",
    "    def return_vehcile(self):\n",
    "        self.veh_avl += self.retu_veh\n",
    "        print(\"I am returning the vehicle\")\n",
    "        print(\"Availiable vehciles are:\", self.veh_avl)"
   ]
  },
  {
   "cell_type": "code",
   "execution_count": 102,
   "id": "027c73f8-9769-49dc-8238-95095e35a235",
   "metadata": {},
   "outputs": [
    {
     "name": "stdout",
     "output_type": "stream",
     "text": [
      "Total number of vehciles availiable are: 12\n",
      "I have taken this Vehicle\n",
      "Availiable vehciles are: 10\n",
      "I am returning the vehicle\n",
      "Availiable vehciles are: 13\n"
     ]
    }
   ],
   "source": [
    "veh = Vehcile(12,2,3)\n",
    "veh.availiable_vehicle()\n",
    "veh.rent_vehicle()\n",
    "veh.return_vehcile()"
   ]
  },
  {
   "cell_type": "markdown",
   "id": "fa2bb66e-b88d-4922-8e13-34476314ed12",
   "metadata": {},
   "source": [
    "Problem 4: Library Catalog Create classes representing a library and a book. Implement methods to add books to the library, borrow books, and display available books.\n",
    "\n"
   ]
  },
  {
   "cell_type": "code",
   "execution_count": 113,
   "id": "3dbf73d4-77d0-455c-95ac-e68919febf4f",
   "metadata": {},
   "outputs": [],
   "source": [
    "class Library:\n",
    "    def __init__(self,books_avl,borrow_books,return_books):\n",
    "        self.books_avl = books_avl\n",
    "        self.borrow_books = borrow_books\n",
    "        self.return_books = return_books\n",
    "    \n",
    "    def borrow_book(self):\n",
    "        self.books_avl -= self.borrow_books\n",
    "        print(\"I have taken this Book\")\n",
    "        print(\"Availiable Books are:\", self.books_avl)\n",
    "        \n",
    "    def availiable_books(self):\n",
    "        print(\"Total number of books availiable are:\", self.books_avl)\n",
    "        \n",
    "    def return_book(self):\n",
    "        self.books_avl += self.return_books\n",
    "        print(\"I am returning the book\")\n",
    "        print(\"Availiable Books are:\", self.books_avl)"
   ]
  },
  {
   "cell_type": "code",
   "execution_count": 114,
   "id": "3f5244f9-7636-473a-a0a8-5bd906b800f6",
   "metadata": {},
   "outputs": [
    {
     "name": "stdout",
     "output_type": "stream",
     "text": [
      "Total number of books availiable are: 13\n",
      "I am returning the book\n",
      "Availiable Books are: 14\n"
     ]
    }
   ],
   "source": [
    "libr = Library(13,2,1)\n",
    "libr.availiable_books()\n",
    "libr.return_book()"
   ]
  },
  {
   "cell_type": "markdown",
   "id": "ee2dc93b-7b70-4cd5-a672-20f7ad04b9bc",
   "metadata": {},
   "source": [
    "Problem 5: Product Inventory Create classes representing a product and an inventory system. Implement methods to add products to the inventory, update product quantity, and display available products.\n",
    "\n"
   ]
  },
  {
   "cell_type": "code",
   "execution_count": 118,
   "id": "6644834b-3200-407c-b738-505ccd8bb5f6",
   "metadata": {},
   "outputs": [
    {
     "name": "stdout",
     "output_type": "stream",
     "text": [
      "Available products:\n",
      "Product ID: 1, Name: Laptop, Price: $1000, Quantity: 10\n",
      "Product ID: 2, Name: Phone, Price: $500, Quantity: 20\n",
      "\n",
      "Updated products:\n",
      "Product ID: 1, Name: Laptop, Price: $1000, Quantity: 5\n",
      "Product ID: 2, Name: Phone, Price: $500, Quantity: 20\n"
     ]
    }
   ],
   "source": [
    "class Product:\n",
    "    def __init__(self,product_Id, product_Name, product_price, product_quantity):\n",
    "        self.product_Id = product_Id\n",
    "        self.product_Name = product_Name\n",
    "        self.product_price = product_price\n",
    "        self.product_quantity = product_quantity\n",
    "    \n",
    "    def __str__(self):\n",
    "        return f\"Product ID: {self.product_Id}, Name: {self.product_Name}, Price: ${self.product_price}, Quantity: {self.product_quantity}\"\n",
    "\n",
    "class Inventory:\n",
    "    def __init__(self):\n",
    "        self.products = []\n",
    "        \n",
    "    def add_product(self,product):\n",
    "        self.products.append(product)\n",
    "    \n",
    "    def update_quantity(self, product_Id, new_quantity):\n",
    "        for product in self.products:\n",
    "            if product.product_Id == product_Id:\n",
    "                product.product_quantity = new_quantity\n",
    "                return f\"Updated quantity for {product.product_Name} to {new_quantity}.\"\n",
    "\n",
    "    def display_products(self):\n",
    "        for product in self.products:\n",
    "            print(product)\n",
    "\n",
    "# Usage example:\n",
    "inventory = Inventory()\n",
    "\n",
    "# Adding products to the inventory\n",
    "product1 = Product(1, \"Laptop\", 1000, 10)\n",
    "product2 = Product(2, \"Phone\", 500, 20)\n",
    "inventory.add_product(product1)\n",
    "inventory.add_product(product2)\n",
    "\n",
    "# Displaying available products\n",
    "print(\"Available products:\")\n",
    "inventory.display_products()\n",
    "\n",
    "# Updating quantity of a product\n",
    "inventory.update_quantity(1, 5)  # Updating the quantity of the Laptop to 5\n",
    "\n",
    "# Displaying products after the update\n",
    "print(\"\\nUpdated products:\")\n",
    "inventory.display_products()"
   ]
  },
  {
   "cell_type": "markdown",
   "id": "5530f70a-e740-49a1-b30b-82f68d2404e5",
   "metadata": {},
   "source": [
    "Problem 6: Shape Calculation Create a class representing a shape with attributes like length, width, and height. Implement methods to calculate the area and perimeter of the shape.\n",
    "\n"
   ]
  },
  {
   "cell_type": "code",
   "execution_count": 124,
   "id": "87173914-d49f-404d-8593-4a9e748c7cd8",
   "metadata": {},
   "outputs": [],
   "source": [
    "class Shape:\n",
    "    def __init__(self,length, weight, height):\n",
    "        self.length = length\n",
    "        self.weight = weight\n",
    "        self.height = height\n",
    "    \n",
    "    def area(self):\n",
    "        return \"The area of shape is: \", self.length*self.weight\n",
    "    \n",
    "    def perimeter(self):\n",
    "        return (\"The perimeter of shape is: \",2*(self.length+self.weight))"
   ]
  },
  {
   "cell_type": "code",
   "execution_count": 126,
   "id": "d234eb45-8333-4891-8cf5-e467ba673a40",
   "metadata": {},
   "outputs": [
    {
     "data": {
      "text/plain": [
       "('The perimeter of shape is: ', 10)"
      ]
     },
     "execution_count": 126,
     "metadata": {},
     "output_type": "execute_result"
    }
   ],
   "source": [
    "sh = Shape(2,3,4)\n",
    "sh.area()\n",
    "sh.perimeter()"
   ]
  },
  {
   "cell_type": "markdown",
   "id": "549d7e42-1540-4a1e-b6d5-c25269d98411",
   "metadata": {},
   "source": [
    "Problem 7: Student Management Create a class representing a student with attributes like student ID, name, and grades. Implement methods to calculate the average grade and display student details.\n",
    "\n"
   ]
  },
  {
   "cell_type": "code",
   "execution_count": 127,
   "id": "b24f20d7-1ae9-4cf7-94b1-69cc842196e4",
   "metadata": {},
   "outputs": [
    {
     "name": "stdout",
     "output_type": "stream",
     "text": [
      "Student ID: 1\n",
      "Name: Alice\n",
      "Grades: [90, 85, 88, 92, 94]\n",
      "Average Grade: 89.8\n",
      "\n",
      "Student ID: 2\n",
      "Name: Bob\n",
      "Grades: [78, 80, 75, 82]\n",
      "Average Grade: 78.75\n"
     ]
    }
   ],
   "source": [
    "class Student:\n",
    "    def __init__(self, student_id, name, grades=[]):\n",
    "        self.student_id = student_id\n",
    "        self.name = name\n",
    "        self.grades = grades\n",
    "\n",
    "    def add_grade(self, grade):\n",
    "        self.grades.append(grade)\n",
    "\n",
    "    def calculate_average_grade(self):\n",
    "        if len(self.grades) == 0:\n",
    "            return 0\n",
    "        return sum(self.grades) / len(self.grades)\n",
    "\n",
    "    def display_student_details(self):\n",
    "        print(f\"Student ID: {self.student_id}\")\n",
    "        print(f\"Name: {self.name}\")\n",
    "        print(\"Grades:\", self.grades)\n",
    "        print(f\"Average Grade: {self.calculate_average_grade()}\")\n",
    "\n",
    "# Usage example:\n",
    "student1 = Student(1, \"Alice\", [90, 85, 88, 92])\n",
    "student2 = Student(2, \"Bob\", [78, 80, 75, 82])\n",
    "\n",
    "student1.add_grade(94)  # Add a new grade\n",
    "\n",
    "student1.display_student_details()\n",
    "print()\n",
    "student2.display_student_details()\n"
   ]
  },
  {
   "cell_type": "markdown",
   "id": "311ad4f1-0515-48ef-9382-bf6d1bf759d0",
   "metadata": {},
   "source": [
    "Problem 8: Email Management Create a class representing an email with attributes like sender, recipient, and subject. Implement methods to send an email and display email details.\n",
    "\n"
   ]
  },
  {
   "cell_type": "code",
   "execution_count": 128,
   "id": "f9bc7078-4221-4f47-b749-8b63e1233806",
   "metadata": {},
   "outputs": [
    {
     "name": "stdout",
     "output_type": "stream",
     "text": [
      "Sender: sender@example.com\n",
      "Recipient: recipient@example.com\n",
      "Subject: Hello\n",
      "Message:\n",
      "This is a test email message.\n",
      "Status: Draft\n",
      "Email sent successfully!\n",
      "Sender: sender@example.com\n",
      "Recipient: recipient@example.com\n",
      "Subject: Hello\n",
      "Message:\n",
      "This is a test email message.\n",
      "Status: Sent\n"
     ]
    }
   ],
   "source": [
    "class Email:\n",
    "    def __init__(self, sender, recipient, subject, message):\n",
    "        self.sender = sender\n",
    "        self.recipient = recipient\n",
    "        self.subject = subject\n",
    "        self.message = message\n",
    "        self.sent = False  # Assume the email is initially not sent\n",
    "\n",
    "    def send_email(self):\n",
    "        # Simulate sending the email (you can implement actual email sending logic here)\n",
    "        # For this example, we'll just set the 'sent' attribute to True.\n",
    "        self.sent = True\n",
    "        print(\"Email sent successfully!\")\n",
    "\n",
    "    def display_email_details(self):\n",
    "        print(\"Sender:\", self.sender)\n",
    "        print(\"Recipient:\", self.recipient)\n",
    "        print(\"Subject:\", self.subject)\n",
    "        print(\"Message:\")\n",
    "        print(self.message)\n",
    "        if self.sent:\n",
    "            print(\"Status: Sent\")\n",
    "        else:\n",
    "            print(\"Status: Draft\")\n",
    "\n",
    "# Usage example:\n",
    "email = Email(\"sender@example.com\", \"recipient@example.com\", \"Hello\", \"This is a test email message.\")\n",
    "\n",
    "email.display_email_details()  # Display email details before sending\n",
    "\n",
    "email.send_email()  # Send the email\n",
    "\n",
    "email.display_email_details()  # Display email details after sending\n"
   ]
  },
  {
   "cell_type": "markdown",
   "id": "1145a636-5704-475d-add0-4e706ef2f0df",
   "metadata": {},
   "source": [
    "Problem 9: Social Media Profile Create a class representing a social media profile with attributes like username and posts. Implement methods to add posts, display posts, and search for posts by keyword.\n"
   ]
  },
  {
   "cell_type": "code",
   "execution_count": 129,
   "id": "34dba702-54e4-4e3f-a004-707572ab2104",
   "metadata": {},
   "outputs": [
    {
     "name": "stdout",
     "output_type": "stream",
     "text": [
      "Post added successfully!\n",
      "Post added successfully!\n",
      "Post added successfully!\n",
      "Post added successfully!\n",
      "Posts by john_doe:\n",
      "1. Enjoying a sunny day at the park!\n",
      "2. Trying out a new recipe for dinner.\n",
      "3. Watching my favorite movie.\n",
      "4. Exploring a new hiking trail.\n",
      "Posts containing 'new':\n",
      "1. Trying out a new recipe for dinner.\n",
      "2. Exploring a new hiking trail.\n"
     ]
    }
   ],
   "source": [
    "class SocialMediaProfile:\n",
    "    def __init__(self, username):\n",
    "        self.username = username\n",
    "        self.posts = []\n",
    "\n",
    "    def add_post(self, post_content):\n",
    "        self.posts.append(post_content)\n",
    "        print(\"Post added successfully!\")\n",
    "\n",
    "    def display_posts(self):\n",
    "        print(f\"Posts by {self.username}:\")\n",
    "        for i, post in enumerate(self.posts, start=1):\n",
    "            print(f\"{i}. {post}\")\n",
    "\n",
    "    def search_posts(self, keyword):\n",
    "        matching_posts = [post for post in self.posts if keyword in post]\n",
    "        if matching_posts:\n",
    "            print(f\"Posts containing '{keyword}':\")\n",
    "            for i, post in enumerate(matching_posts, start=1):\n",
    "                print(f\"{i}. {post}\")\n",
    "        else:\n",
    "            print(f\"No posts found containing '{keyword}'.\")\n",
    "\n",
    "# Usage example:\n",
    "profile = SocialMediaProfile(\"john_doe\")\n",
    "\n",
    "profile.add_post(\"Enjoying a sunny day at the park!\")\n",
    "profile.add_post(\"Trying out a new recipe for dinner.\")\n",
    "profile.add_post(\"Watching my favorite movie.\")\n",
    "profile.add_post(\"Exploring a new hiking trail.\")\n",
    "\n",
    "profile.display_posts()\n",
    "\n",
    "keyword = \"new\"\n",
    "profile.search_posts(keyword)\n"
   ]
  },
  {
   "cell_type": "markdown",
   "id": "9395841c-21d5-4a84-9e88-46ec3ef43524",
   "metadata": {},
   "source": [
    "\n",
    "Problem 10: ToDo List Create a class representing a ToDo list with attributes like tasks and due dates. Implement methods to add tasks, mark tasks as completed, and display pending tasks."
   ]
  },
  {
   "cell_type": "code",
   "execution_count": 1,
   "id": "9e307ccc-dadc-494f-8754-967861b63fd8",
   "metadata": {},
   "outputs": [
    {
     "name": "stdout",
     "output_type": "stream",
     "text": [
      "Pending Tasks:\n",
      "1. Task: Finish project, Due Date: 2023-12-31 00:00:00\n",
      "2. Task: Buy groceries, Due Date: 2023-11-30 00:00:00\n",
      "3. Task: Exercise, Due Date: 2023-12-05 00:00:00\n",
      "Pending Tasks:\n",
      "1. Task: Finish project, Due Date: 2023-12-31 00:00:00\n",
      "2. Task: Exercise, Due Date: 2023-12-05 00:00:00\n"
     ]
    }
   ],
   "source": [
    "from datetime import datetime\n",
    "\n",
    "class ToDoList:\n",
    "    def __init__(self):\n",
    "        self.tasks = []\n",
    "\n",
    "    def add_task(self, task, due_date):\n",
    "        \"\"\"Add a new task to the ToDo list.\"\"\"\n",
    "        self.tasks.append({\"task\": task, \"due_date\": due_date, \"completed\": False})\n",
    "\n",
    "    def mark_as_completed(self, task_index):\n",
    "        \"\"\"Mark a task as completed.\"\"\"\n",
    "        if 0 <= task_index < len(self.tasks):\n",
    "            self.tasks[task_index][\"completed\"] = True\n",
    "        else:\n",
    "            print(\"Invalid task index.\")\n",
    "\n",
    "    def display_pending_tasks(self):\n",
    "        \"\"\"Display pending tasks.\"\"\"\n",
    "        pending_tasks = [task for task in self.tasks if not task[\"completed\"]]\n",
    "        if not pending_tasks:\n",
    "            print(\"No pending tasks.\")\n",
    "        else:\n",
    "            print(\"Pending Tasks:\")\n",
    "            for index, task in enumerate(pending_tasks, start=1):\n",
    "                print(f\"{index}. Task: {task['task']}, Due Date: {task['due_date']}\")\n",
    "\n",
    "# Example usage:\n",
    "todo_list = ToDoList()\n",
    "\n",
    "# Adding tasks\n",
    "todo_list.add_task(\"Finish project\", datetime(2023, 12, 31))\n",
    "todo_list.add_task(\"Buy groceries\", datetime(2023, 11, 30))\n",
    "todo_list.add_task(\"Exercise\", datetime(2023, 12, 5))\n",
    "\n",
    "# Displaying pending tasks\n",
    "todo_list.display_pending_tasks()\n",
    "\n",
    "# Marking a task as completed\n",
    "todo_list.mark_as_completed(1)\n",
    "\n",
    "# Displaying updated pending tasks\n",
    "todo_list.display_pending_tasks()\n"
   ]
  },
  {
   "cell_type": "code",
   "execution_count": null,
   "id": "33087a73-dfa2-4ab3-83bf-bea96a8e9658",
   "metadata": {},
   "outputs": [],
   "source": []
  }
 ],
 "metadata": {
  "kernelspec": {
   "display_name": "Python 3 (ipykernel)",
   "language": "python",
   "name": "python3"
  },
  "language_info": {
   "codemirror_mode": {
    "name": "ipython",
    "version": 3
   },
   "file_extension": ".py",
   "mimetype": "text/x-python",
   "name": "python",
   "nbconvert_exporter": "python",
   "pygments_lexer": "ipython3",
   "version": "3.10.8"
  }
 },
 "nbformat": 4,
 "nbformat_minor": 5
}
