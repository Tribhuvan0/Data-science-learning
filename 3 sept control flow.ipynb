{
 "cells": [
  {
   "cell_type": "markdown",
   "id": "87aa96f3-368b-48e7-9f7a-756391490f9f",
   "metadata": {},
   "source": [
    "Basic If-Else Statements:\n",
    "1. Write a Python program to check if a given number is positive or negative.\n"
   ]
  },
  {
   "cell_type": "code",
   "execution_count": 64,
   "id": "7ad8da4f-d8fa-43aa-8aa4-2906a25496b9",
   "metadata": {},
   "outputs": [
    {
     "name": "stdin",
     "output_type": "stream",
     "text": [
      "Enter the number you want to check 3\n"
     ]
    },
    {
     "name": "stdout",
     "output_type": "stream",
     "text": [
      "The given number is : Postitive\n"
     ]
    }
   ],
   "source": [
    "#function takes number as input and checks it for positive, negative or zero\n",
    "def pos_neg(num):\n",
    "    if num >0:\n",
    "        return \"Postitive\"\n",
    "    elif num < 0:\n",
    "        return \"Negative\"\n",
    "    else:\n",
    "        return \"Zero\"\n",
    "    \n",
    "#taking input from user\n",
    "num = int(input(\"Enter the number you want to check\"))\n",
    "\n",
    "#printing the result\n",
    "print(\"The given number is :\", pos_neg(num))"
   ]
  },
  {
   "cell_type": "markdown",
   "id": "33568655-a044-45b3-8346-30b3fba36dd2",
   "metadata": {},
   "source": [
    "2. Create a program that determines if a person is eligible to vote based on their age.\n"
   ]
  },
  {
   "cell_type": "code",
   "execution_count": 65,
   "id": "f5aa1147-bfe2-444a-8f22-6f919d879647",
   "metadata": {},
   "outputs": [
    {
     "name": "stdin",
     "output_type": "stream",
     "text": [
      "Enter your age 10\n"
     ]
    },
    {
     "name": "stdout",
     "output_type": "stream",
     "text": [
      "You are not eligible to vote\n"
     ]
    }
   ],
   "source": [
    "#function takes number as input and checks it for age >= 18 or < 18\n",
    "def vote(age):\n",
    "    if age >=18:\n",
    "        return \"eligible\"\n",
    "    else:\n",
    "        return \"not eligible\"\n",
    "    \n",
    "#taking input from user\n",
    "age = int(input(\"Enter your age\"))\n",
    "\n",
    "#printing the result\n",
    "print(\"You are {} to vote\".format(vote(age)))"
   ]
  },
  {
   "cell_type": "markdown",
   "id": "1fa36866-8c2d-4fab-b152-d65d638bb453",
   "metadata": {},
   "source": [
    "3. Develop a program to find the maximum of two numbers using if-else statements.\n"
   ]
  },
  {
   "cell_type": "code",
   "execution_count": 66,
   "id": "c8d24482-e069-448c-94c4-cac63dafd12d",
   "metadata": {},
   "outputs": [
    {
     "name": "stdin",
     "output_type": "stream",
     "text": [
      "Enter first number 1\n",
      "Enter second number 2\n"
     ]
    },
    {
     "name": "stdout",
     "output_type": "stream",
     "text": [
      "The greater among the two numbers is number: 2\n"
     ]
    }
   ],
   "source": [
    "#function takes two numbers as input and compares them using conditional statements\n",
    "def comp(num1, num2):\n",
    "    if num1>num2:\n",
    "        return num1\n",
    "    elif num1 < num2:\n",
    "        return num2\n",
    "    else:\n",
    "        return num1\n",
    "\n",
    "#taking input from user\n",
    "num1 = int(input(\"Enter first number\"))\n",
    "num2 = int(input(\"Enter second number\"))\n",
    "\n",
    "#printing. the output\n",
    "print(\"The greater among the two numbers is number:\", comp(num1,num2))"
   ]
  },
  {
   "cell_type": "markdown",
   "id": "2388be95-f59a-4a2d-af01-c059b1986781",
   "metadata": {},
   "source": [
    "4. Write a Python script to classify a given year as a leap year or not.\n"
   ]
  },
  {
   "cell_type": "code",
   "execution_count": 68,
   "id": "d3e7968c-6eac-4d63-b919-6fce1f583a14",
   "metadata": {},
   "outputs": [
    {
     "name": "stdin",
     "output_type": "stream",
     "text": [
      "Enter the year 1980\n"
     ]
    },
    {
     "name": "stdout",
     "output_type": "stream",
     "text": [
      "The given year 1980 is leap year\n"
     ]
    }
   ],
   "source": [
    "#function takes year as input adn returns if the year is leap or not\n",
    "def leap_year(year):\n",
    "    if (year % 4 == 0 and year % 100 != 0) or (year % 400 == 0):\n",
    "        return \"leap year\"\n",
    "    else:\n",
    "        return \"not a leap year\"\n",
    "\n",
    "#taking input from the user\n",
    "year = int(input(\"Enter the year\"))\n",
    "\n",
    "#printing the output\n",
    "print(\"The given year {} is {}\".format(year, leap_year(year)))"
   ]
  },
  {
   "cell_type": "markdown",
   "id": "0addd187-307c-41fc-a672-2fa9e2efc0f4",
   "metadata": {},
   "source": [
    "5. Create a program that checks whether a character is a vowel or a consonant.\n"
   ]
  },
  {
   "cell_type": "code",
   "execution_count": 69,
   "id": "228435f0-a191-44dd-b25c-91a6f8c03ba0",
   "metadata": {},
   "outputs": [
    {
     "name": "stdin",
     "output_type": "stream",
     "text": [
      "Enter the character you want to check for h\n"
     ]
    },
    {
     "name": "stdout",
     "output_type": "stream",
     "text": [
      "The given character is a: consonant\n"
     ]
    }
   ],
   "source": [
    "#function takes vowel list and character as input\n",
    "def vowel_or_not(vowels, char):\n",
    "    if char in vowels:\n",
    "        return \"Vowel\"\n",
    "    else:\n",
    "        return \"consonant\"\n",
    "\n",
    "#taking input from user\n",
    "char = input(\"Enter the character you want to check for\")\n",
    "vowels = ['a','e','i','o','u','A','E','I','O','U']\n",
    "\n",
    "#printing the output\n",
    "print(\"The given character is a:\", vowel_or_not(vowels, char))"
   ]
  },
  {
   "cell_type": "markdown",
   "id": "67fcd90e-b911-4523-81f5-d4f75440944c",
   "metadata": {},
   "source": [
    "6. Implement a program to determine whether a given number is even or odd.\n"
   ]
  },
  {
   "cell_type": "code",
   "execution_count": 70,
   "id": "4ec1c441-92fc-4265-9fb9-ad889d85fd96",
   "metadata": {},
   "outputs": [
    {
     "name": "stdin",
     "output_type": "stream",
     "text": [
      "Enter the number you want to check for 3\n"
     ]
    },
    {
     "name": "stdout",
     "output_type": "stream",
     "text": [
      "The given number is: Odd\n"
     ]
    }
   ],
   "source": [
    "def even_odd(num):\n",
    "    if num%2==0:\n",
    "        return \"Even\"\n",
    "    else:\n",
    "        return \"Odd\"\n",
    "\n",
    "#taking input form user\n",
    "num = int(input(\"Enter the number you want to check for\"))\n",
    "\n",
    "#pritinng the output\n",
    "print(\"The given number is:\", even_odd(num))"
   ]
  },
  {
   "cell_type": "markdown",
   "id": "651a45d7-908e-41e4-9478-b04c51fa30e7",
   "metadata": {},
   "source": [
    "7. Write a Python function to calculate the absolute value of a number without using the `abs()` function.\n"
   ]
  },
  {
   "cell_type": "code",
   "execution_count": 104,
   "id": "f0382884-c5e4-4b5e-90c8-57a08dec92bd",
   "metadata": {},
   "outputs": [
    {
     "name": "stdin",
     "output_type": "stream",
     "text": [
      "Enter a number:  -4\n"
     ]
    },
    {
     "name": "stdout",
     "output_type": "stream",
     "text": [
      "The absolute value of -4.0 is 4.0\n"
     ]
    }
   ],
   "source": [
    "def absolute_value(number):\n",
    "    if number < 0:\n",
    "        return -number\n",
    "    else:\n",
    "        return number\n",
    "\n",
    "# Test the function\n",
    "num = float(input(\"Enter a number: \"))\n",
    "result = absolute_value(num)\n",
    "print(f\"The absolute value of {num} is {result}\")\n"
   ]
  },
  {
   "cell_type": "markdown",
   "id": "a8243d35-7e16-4eaa-8db8-69595fc32638",
   "metadata": {},
   "source": [
    "8. Develop a program that determines the largest of three given numbers using if-else statements.\n"
   ]
  },
  {
   "cell_type": "code",
   "execution_count": 71,
   "id": "0aec7a86-d3ab-4579-92e9-6b8bc02ec039",
   "metadata": {},
   "outputs": [
    {
     "name": "stdin",
     "output_type": "stream",
     "text": [
      "Enter the first number:  3\n",
      "Enter the second number:  4\n",
      "Enter the third number:  1\n"
     ]
    },
    {
     "name": "stdout",
     "output_type": "stream",
     "text": [
      "The largest number is: 4.0\n"
     ]
    }
   ],
   "source": [
    "#the function takes 3 sides as input and return sthe type of triangle\n",
    "def great_ofall(num1, num2, num3):\n",
    "    if num1 > num2:\n",
    "        if num1>num3:\n",
    "            return num1\n",
    "        return num3\n",
    "    if num2 > num1:\n",
    "        if num2 > num3:\n",
    "            return num2\n",
    "        return num3\n",
    "\n",
    "#taking input form user\n",
    "num1 = float(input(\"Enter the first number: \"))\n",
    "num2 = float(input(\"Enter the second number: \"))\n",
    "num3 = float(input(\"Enter the third number: \"))\n",
    "\n",
    "#printing the output\n",
    "print(\"The largest number is:\",great_ofall(num1, num2, num3))"
   ]
  },
  {
   "cell_type": "markdown",
   "id": "63b2d14d-8693-4dc5-a329-5e7e819ac33f",
   "metadata": {},
   "source": [
    "9. Create a program that checks if a given string is a palindrome.\n"
   ]
  },
  {
   "cell_type": "code",
   "execution_count": 105,
   "id": "49aca72f-ba46-4437-95da-76820ab0cd60",
   "metadata": {},
   "outputs": [
    {
     "name": "stdin",
     "output_type": "stream",
     "text": [
      "Enter the string you want to check for eye\n"
     ]
    },
    {
     "name": "stdout",
     "output_type": "stream",
     "text": [
      "The given string is a palindrome: True\n"
     ]
    }
   ],
   "source": [
    "def check_palindrome(string):\n",
    "    return string == string[::-1]\n",
    "\n",
    "string = input(\"Enter the string you want to check for\")\n",
    "\n",
    "print(\"The given string is a palindrome:\", check_palindrome(string))"
   ]
  },
  {
   "cell_type": "markdown",
   "id": "f0dc7671-5eeb-4c35-a70c-aaacc7b628be",
   "metadata": {},
   "source": [
    "10. Write a Python program to calculate the grade based on a student's score."
   ]
  },
  {
   "cell_type": "code",
   "execution_count": 67,
   "id": "1f9f0fe0-6451-47b3-9f99-5cdc39dc4f18",
   "metadata": {},
   "outputs": [
    {
     "name": "stdin",
     "output_type": "stream",
     "text": [
      "Enter the exam score:  30\n"
     ]
    },
    {
     "name": "stdout",
     "output_type": "stream",
     "text": [
      "The grade for a score of 30.0 is F.\n"
     ]
    }
   ],
   "source": [
    "#function takes score as input and retuns grade as output\n",
    "def calculate_grade(score):\n",
    "    if 90 <= score <= 100:\n",
    "        return \"A\"\n",
    "    elif 80 <= score < 90:\n",
    "        return \"B\"\n",
    "    elif 70 <= score < 80:\n",
    "        return \"C\"\n",
    "    elif 60 <= score < 70:\n",
    "        return \"D\"\n",
    "    else:\n",
    "        return \"F\"\n",
    "\n",
    "# taking input from user and printing the output\n",
    "exam_score = float(input(\"Enter the exam score: \"))\n",
    "if 0 <= exam_score <= 100:\n",
    "    grade = calculate_grade(exam_score)\n",
    "    print(f\"The grade for a score of {exam_score} is {grade}.\")\n",
    "else:\n",
    "    print(\"Invalid score. Please enter a score between 0 and 100.\")\n",
    "\n"
   ]
  },
  {
   "cell_type": "markdown",
   "id": "9b4e2c7c-68a4-431b-b608-e41e2470ce5b",
   "metadata": {},
   "source": [
    "Nested If-Else Statements:\n",
    "11. Write a program to find the largest among three numbers using nested if-else statements.\n"
   ]
  },
  {
   "cell_type": "code",
   "execution_count": 80,
   "id": "6bf39315-b52f-44ac-88f1-3b897feb16bb",
   "metadata": {},
   "outputs": [
    {
     "name": "stdin",
     "output_type": "stream",
     "text": [
      "Enter the first number:  4\n",
      "Enter the second number:  2\n",
      "Enter the third number:  10\n"
     ]
    },
    {
     "name": "stdout",
     "output_type": "stream",
     "text": [
      "The largest number is: 10.0\n"
     ]
    }
   ],
   "source": [
    "#the function takes 3 sides as input and return sthe type of triangle\n",
    "def great_ofall(num1, num2, num3):\n",
    "    if num1 > num2:\n",
    "        if num1>num3:\n",
    "            return num1\n",
    "        return num3\n",
    "    if num2 > num1:\n",
    "        if num2 > num3:\n",
    "            return num2\n",
    "        return num3\n",
    "\n",
    "#taking input form user\n",
    "num1 = float(input(\"Enter the first number: \"))\n",
    "num2 = float(input(\"Enter the second number: \"))\n",
    "num3 = float(input(\"Enter the third number: \"))\n",
    "\n",
    "#printing the output\n",
    "print(\"The largest number is:\",great_ofall(num1, num2, num3))"
   ]
  },
  {
   "cell_type": "markdown",
   "id": "c264da5b-4555-4cf7-9742-92cadcda3aca",
   "metadata": {},
   "source": [
    "12. Implement a program to determine if a triangle is equilateral, isosceles, or scalene.\n"
   ]
  },
  {
   "cell_type": "code",
   "execution_count": 79,
   "id": "cfe69cda-4d18-4b43-bcb2-de5863eb2bea",
   "metadata": {},
   "outputs": [
    {
     "name": "stdin",
     "output_type": "stream",
     "text": [
      "Enter the length of the first side:  3\n",
      "Enter the length of the second side:  1\n",
      "Enter the length of the third side:  5\n"
     ]
    },
    {
     "name": "stdout",
     "output_type": "stream",
     "text": [
      "The given triangle is: Scalene\n"
     ]
    }
   ],
   "source": [
    "#the function takes 3 sides as input and return sthe type of triangle\n",
    "def triangle_type(side1, side2, side3):\n",
    "    if side1 == side2 == side3:\n",
    "        return \"Equilateral\"\n",
    "    elif side1 == side2 or side1 == side3 or side2 == side3:\n",
    "        return \"Isosceles\"\n",
    "    else:\n",
    "        return \"Scalene\"\n",
    "\n",
    "\n",
    "#taking input form user\n",
    "side1 = float(input(\"Enter the length of the first side: \"))\n",
    "side2 = float(input(\"Enter the length of the second side: \"))\n",
    "side3 = float(input(\"Enter the length of the third side: \"))\n",
    "\n",
    "#printing the output\n",
    "print(\"The given triangle is:\",triangle_type(side1, side2, side3))"
   ]
  },
  {
   "cell_type": "markdown",
   "id": "e2ee64ac-a4dd-462c-87eb-47d490042f0e",
   "metadata": {},
   "source": [
    "13. Develop a program that checks if a year is a leap year and also if it is a century year.\n"
   ]
  },
  {
   "cell_type": "code",
   "execution_count": 72,
   "id": "80504ebe-e570-45b5-9ec2-032960d5f8c7",
   "metadata": {},
   "outputs": [
    {
     "name": "stdin",
     "output_type": "stream",
     "text": [
      "Enter the year 1980\n"
     ]
    },
    {
     "name": "stdout",
     "output_type": "stream",
     "text": [
      "The given year 1980 is leap year\n"
     ]
    }
   ],
   "source": [
    "#function takes year as input adn returns if the year is leap or not\n",
    "def leap_year(year):\n",
    "    if (year % 4 == 0 and year % 100 != 0) or (year % 400 == 0):\n",
    "        return \"leap year\"\n",
    "    else:\n",
    "        return \"not a leap year\"\n",
    "\n",
    "#taking input from the user\n",
    "year = int(input(\"Enter the year\"))\n",
    "\n",
    "#printing the output\n",
    "print(\"The given year {} is {}\".format(year, leap_year(year)))"
   ]
  },
  {
   "cell_type": "markdown",
   "id": "31a00afb-0a22-4dd0-980b-87ffb1c5da6b",
   "metadata": {},
   "source": [
    "14. Write a Python script to determine if a number is positive, negative, or zero.\n"
   ]
  },
  {
   "cell_type": "code",
   "execution_count": 73,
   "id": "d849180c-6ef8-4095-8de6-89a4acab710f",
   "metadata": {},
   "outputs": [
    {
     "name": "stdin",
     "output_type": "stream",
     "text": [
      "Enter the number you want to check 4\n"
     ]
    },
    {
     "name": "stdout",
     "output_type": "stream",
     "text": [
      "The given number is : Postitive\n"
     ]
    }
   ],
   "source": [
    "#function takes number as input and checks it for positive, negative or zero\n",
    "def pos_neg(num):\n",
    "    if num >0:\n",
    "        return \"Postitive\"\n",
    "    elif num < 0:\n",
    "        return \"Negative\"\n",
    "    else:\n",
    "        return \"Zero\"\n",
    "    \n",
    "#taking input from user\n",
    "num = int(input(\"Enter the number you want to check\"))\n",
    "\n",
    "#printing the result\n",
    "print(\"The given number is :\", pos_neg(num))"
   ]
  },
  {
   "cell_type": "markdown",
   "id": "a9bec1d9-2621-4932-a382-f0a4a1069fe3",
   "metadata": {},
   "source": [
    "15. Create a program to check if a person is a teenager (between 13 and 19 years old).\n"
   ]
  },
  {
   "cell_type": "code",
   "execution_count": 78,
   "id": "5ca7dd69-f9ea-44c1-96aa-ec64a53436cf",
   "metadata": {},
   "outputs": [
    {
     "name": "stdin",
     "output_type": "stream",
     "text": [
      "Enter the age of the person 18\n"
     ]
    },
    {
     "name": "stdout",
     "output_type": "stream",
     "text": [
      "The person is: teenager\n"
     ]
    }
   ],
   "source": [
    "def classify(age):\n",
    "    if age>13 and age<19:\n",
    "        return \"teenager\"\n",
    "    else:\n",
    "        return \"Adult\"\n",
    "\n",
    "age = int(input(\"Enter the age of the person\"))\n",
    "          \n",
    "print(\"The person is:\",classify(age))"
   ]
  },
  {
   "cell_type": "markdown",
   "id": "7aaa2017-354a-41ca-a816-665fd1fb59f3",
   "metadata": {},
   "source": [
    "16. Develop a program that determines the type of angle based on its measure (acute, obtuse, or right).\n"
   ]
  },
  {
   "cell_type": "code",
   "execution_count": 77,
   "id": "fec9cda7-bc22-4ab4-8dd2-66048797d7b9",
   "metadata": {},
   "outputs": [
    {
     "name": "stdin",
     "output_type": "stream",
     "text": [
      "Enter the angle of the traingle 109\n"
     ]
    },
    {
     "name": "stdout",
     "output_type": "stream",
     "text": [
      "It is a Obtuse angled triangle\n"
     ]
    }
   ],
   "source": [
    "#this function takes angle as input and returns if the triangle is acute, obtuse or right angled\n",
    "def check_angle(angle):\n",
    "    if angle < 90 and angle > 0:\n",
    "        return \"Acute anagled triangle\"\n",
    "    elif angle == 90:\n",
    "        return \"Right angled triangle\"\n",
    "    else:\n",
    "        return \"Obtuse angled triangle\"\n",
    "\n",
    "#Input the angle of the triangle\n",
    "angle = int(input(\"Enter the angle of the traingle\"))\n",
    "\n",
    "#print the result\n",
    "print(\"It is a\",check_angle(angle))"
   ]
  },
  {
   "cell_type": "markdown",
   "id": "408732bb-01e0-4fcf-bd89-0791eecc13a0",
   "metadata": {},
   "source": [
    "17. Write a Python program to calculate the roots of a quadratic equation.\n"
   ]
  },
  {
   "cell_type": "code",
   "execution_count": 81,
   "id": "2d74014b-3d80-438c-830c-851f6a672a05",
   "metadata": {},
   "outputs": [
    {
     "name": "stdout",
     "output_type": "stream",
     "text": [
      "The roots of quadratic equation are (6.0, -1.0)\n"
     ]
    }
   ],
   "source": [
    "def sq_root(a,b,c):\n",
    "    sqrt_deter = (b**2 - 4*a*c)**0.5\n",
    "    r1 = (-b+sqrt_deter)/2\n",
    "    r2 = (-b - sqrt_deter)/2\n",
    "    return r1,r2\n",
    "\n",
    "#taking coeeficients of quadratic eqn as input\n",
    "a,b,c = (1,-5,-6)\n",
    "\n",
    "print(\"The roots of quadratic equation are\", sq_root(a,b,c))"
   ]
  },
  {
   "cell_type": "markdown",
   "id": "c22d77e3-e376-4fd8-9607-60c52926613e",
   "metadata": {},
   "source": [
    "18. Implement a program to determine the day of the week based on a user-provided number (1 for Monday, 2 for Tuesday, etc.).\n"
   ]
  },
  {
   "cell_type": "code",
   "execution_count": 82,
   "id": "ca4ff796-624e-47c0-9cd5-ff45c2c17e82",
   "metadata": {},
   "outputs": [
    {
     "name": "stdin",
     "output_type": "stream",
     "text": [
      "Enter the number for which day you want 3\n"
     ]
    },
    {
     "name": "stdout",
     "output_type": "stream",
     "text": [
      "The day is: Wednesday\n"
     ]
    }
   ],
   "source": [
    "def week_of_day(num):\n",
    "    if num ==1:\n",
    "        return \"Monday\"\n",
    "    elif num == 2:\n",
    "        return \"Tuesday\"\n",
    "    elif num == 3:\n",
    "        return \"Wednesday\"\n",
    "    elif num == 4:\n",
    "        return \"Thrusday\"\n",
    "    elif num == 5:\n",
    "        return \"Friday\"\n",
    "    elif num == 6:\n",
    "        return \"Saturday\"\n",
    "    elif num == 7:\n",
    "        return \"Sunday\"\n",
    "    else:\n",
    "        return \"Invalid Input\"\n",
    "    \n",
    "#taking day number input form user\n",
    "num = int(input(\"Enter the number for which day you want\"))\n",
    "\n",
    "#returning the output\n",
    "print(\"The day is:\", week_of_day(num))"
   ]
  },
  {
   "cell_type": "markdown",
   "id": "45378ad7-9e7b-4357-90a2-dc8306bb17ba",
   "metadata": {},
   "source": [
    "19. Create a program that determines if a year is a leap year and also if it is evenly divisible by 400.\n"
   ]
  },
  {
   "cell_type": "code",
   "execution_count": 83,
   "id": "abd28718-ac93-4960-a73d-f3a12a08effc",
   "metadata": {},
   "outputs": [
    {
     "name": "stdin",
     "output_type": "stream",
     "text": [
      "Enter the year 1900\n"
     ]
    },
    {
     "name": "stdout",
     "output_type": "stream",
     "text": [
      "The given year 1900 is not a leap year\n"
     ]
    }
   ],
   "source": [
    "#function takes year as input adn returns if the year is leap or not\n",
    "def leap_year(year):\n",
    "    if (year % 4 == 0 and year % 100 != 0) or (year % 400 == 0):\n",
    "        return \"leap year\"\n",
    "    else:\n",
    "        return \"not a leap year\"\n",
    "\n",
    "#taking input from the user\n",
    "year = int(input(\"Enter the year\"))\n",
    "\n",
    "#printing the output\n",
    "print(\"The given year {} is {}\".format(year, leap_year(year)))"
   ]
  },
  {
   "cell_type": "markdown",
   "id": "2d40fce7-fd44-43ba-ba62-fe23f7f5fe0e",
   "metadata": {},
   "source": [
    "20. Develop a program that checks if a given number is prime or not using nested if-else statements."
   ]
  },
  {
   "cell_type": "code",
   "execution_count": 93,
   "id": "de282e30-d68d-4f39-b0be-10c576da34a1",
   "metadata": {},
   "outputs": [
    {
     "name": "stdin",
     "output_type": "stream",
     "text": [
      "Enter the number to check 13\n"
     ]
    },
    {
     "name": "stdout",
     "output_type": "stream",
     "text": [
      "The given number is prime: True\n"
     ]
    }
   ],
   "source": [
    "def check_prime(num):\n",
    "    if num <= 1:\n",
    "        return False\n",
    "    if num ==2:\n",
    "        return True\n",
    "    if num > 3:\n",
    "        for i in range(3,num):\n",
    "            if num%i == 0:\n",
    "                return False\n",
    "    return True\n",
    "\n",
    "num = int(input(\"Enter the number to check\"))\n",
    "\n",
    "print(\"The given number is prime:\", check_prime(num))"
   ]
  },
  {
   "cell_type": "markdown",
   "id": "c82f1ec0-f9ac-4ce8-ab02-a12664dd58c2",
   "metadata": {},
   "source": [
    "Elif Statements:\n",
    "21. Write a Python program to assign grades based on different ranges of scores using elif statements.\n"
   ]
  },
  {
   "cell_type": "code",
   "execution_count": 94,
   "id": "ef9c7595-ebbd-457f-9fa1-e886e7d7dc45",
   "metadata": {},
   "outputs": [
    {
     "name": "stdin",
     "output_type": "stream",
     "text": [
      "Enter the student's score:  45\n"
     ]
    },
    {
     "name": "stdout",
     "output_type": "stream",
     "text": [
      "The student's grade is: F\n"
     ]
    }
   ],
   "source": [
    "# Function to assign grades based on scores\n",
    "def assign_grade(score):\n",
    "    if 90 <= score <= 100:\n",
    "        return \"A\"\n",
    "    elif 80 <= score < 90:\n",
    "        return \"B\"\n",
    "    elif 70 <= score < 80:\n",
    "        return \"C\"\n",
    "    elif 60 <= score < 70:\n",
    "        return \"D\"\n",
    "    elif 0 <= score < 60:\n",
    "        return \"F\"\n",
    "    else:\n",
    "        return \"Invalid score\"\n",
    "\n",
    "# Input the student's score\n",
    "score = float(input(\"Enter the student's score: \"))\n",
    "\n",
    "# Call the function to assign the grade\n",
    "grade = assign_grade(score)\n",
    "\n",
    "# Display the assigned grade\n",
    "print(f\"The student's grade is: {grade}\")\n"
   ]
  },
  {
   "cell_type": "markdown",
   "id": "e2ff0e4e-17f9-4181-b39e-0b0de3523d53",
   "metadata": {},
   "source": [
    "22. Implement a program to determine the type of a triangle based on its angles.\n"
   ]
  },
  {
   "cell_type": "code",
   "execution_count": 95,
   "id": "5ad4eaea-4fad-496a-80d7-3f0eb9521356",
   "metadata": {},
   "outputs": [
    {
     "name": "stdin",
     "output_type": "stream",
     "text": [
      "Enter the angle of the traingle 34\n"
     ]
    },
    {
     "name": "stdout",
     "output_type": "stream",
     "text": [
      "It is a Acute anagled triangle\n"
     ]
    }
   ],
   "source": [
    "#this function takes angle as input and returns if the triangle is acute, obtuse or right angled\n",
    "def check_angle(angle):\n",
    "    if angle < 90 and angle > 0:\n",
    "        return \"Acute anagled triangle\"\n",
    "    elif angle == 90:\n",
    "        return \"Right angled triangle\"\n",
    "    else:\n",
    "        return \"Obtuse angled triangle\"\n",
    "\n",
    "#Input the angle of the triangle\n",
    "angle = int(input(\"Enter the angle of the traingle\"))\n",
    "\n",
    "#print the result\n",
    "print(\"It is a\",check_angle(angle))"
   ]
  },
  {
   "cell_type": "markdown",
   "id": "9208f399-ceb5-4383-abca-fc7835b887bb",
   "metadata": {},
   "source": [
    "23. Develop a program to categorize a given person's BMI into underweight, normal, overweight, or obese using elif statements.\n"
   ]
  },
  {
   "cell_type": "code",
   "execution_count": 96,
   "id": "e0f0859c-26f6-43a6-b5a0-ade41b9f9bfc",
   "metadata": {},
   "outputs": [
    {
     "name": "stdin",
     "output_type": "stream",
     "text": [
      "Enter your weight in kilograms:  80\n",
      "Enter your height in meters:  1.9\n"
     ]
    },
    {
     "name": "stdout",
     "output_type": "stream",
     "text": [
      "Your BMI is: 22.16\n",
      "You are categorized as: Normal Weight\n"
     ]
    }
   ],
   "source": [
    "# Function to categorize BMI\n",
    "def categorize_bmi(bmi):\n",
    "    if bmi < 18.5:\n",
    "        return \"Underweight\"\n",
    "    elif 18.5 <= bmi < 24.9:\n",
    "        return \"Normal Weight\"\n",
    "    elif 24.9 <= bmi < 29.9:\n",
    "        return \"Overweight\"\n",
    "    else:\n",
    "        return \"Obese\"\n",
    "\n",
    "# Input weight in kilograms and height in meters\n",
    "weight_kg = float(input(\"Enter your weight in kilograms: \"))\n",
    "height_m = float(input(\"Enter your height in meters: \"))\n",
    "\n",
    "# Calculate BMI\n",
    "bmi = weight_kg / (height_m ** 2)\n",
    "\n",
    "# Categorize BMI\n",
    "category = categorize_bmi(bmi)\n",
    "\n",
    "# Display the BMI category\n",
    "print(f\"Your BMI is: {bmi:.2f}\")\n",
    "print(f\"You are categorized as: {category}\")\n"
   ]
  },
  {
   "cell_type": "markdown",
   "id": "ac0f3f94-ddcb-48f0-aa3b-2fd1c8b1c751",
   "metadata": {},
   "source": [
    "24. Create a program that determines whether a given number is positive, negative, or zero using elif statements.\n"
   ]
  },
  {
   "cell_type": "code",
   "execution_count": 97,
   "id": "bbc90cd6-bf3d-406b-a6f9-8dd2c4703d46",
   "metadata": {},
   "outputs": [
    {
     "name": "stdin",
     "output_type": "stream",
     "text": [
      "Enter the number you want to check 0\n"
     ]
    },
    {
     "name": "stdout",
     "output_type": "stream",
     "text": [
      "The given number is : Zero\n"
     ]
    }
   ],
   "source": [
    "#function takes number as input and checks it for positive, negative or zero\n",
    "def pos_neg(num):\n",
    "    if num >0:\n",
    "        return \"Postitive\"\n",
    "    elif num < 0:\n",
    "        return \"Negative\"\n",
    "    else:\n",
    "        return \"Zero\"\n",
    "    \n",
    "#taking input from user\n",
    "num = int(input(\"Enter the number you want to check\"))\n",
    "\n",
    "#printing the result\n",
    "print(\"The given number is :\", pos_neg(num))"
   ]
  },
  {
   "cell_type": "markdown",
   "id": "c994c7ed-ed23-4218-a184-af78c972dece",
   "metadata": {},
   "source": [
    "25. Write a Python script to determine the type of a character (uppercase, lowercase, or special) using elif statements.\n"
   ]
  },
  {
   "cell_type": "code",
   "execution_count": 98,
   "id": "59d7e3db-275a-4514-a136-6d5a22679fe7",
   "metadata": {},
   "outputs": [
    {
     "name": "stdin",
     "output_type": "stream",
     "text": [
      "Enter a character:  H\n"
     ]
    },
    {
     "name": "stdout",
     "output_type": "stream",
     "text": [
      "H is an uppercase letter.\n"
     ]
    }
   ],
   "source": [
    "# Input a single character from the user\n",
    "char = input(\"Enter a character: \")\n",
    "\n",
    "# Check the type of character using elif statements\n",
    "if char.isupper():\n",
    "    print(f\"{char} is an uppercase letter.\")\n",
    "elif char.islower():\n",
    "    print(f\"{char} is a lowercase letter.\")\n",
    "elif char.isnumeric():\n",
    "    print(f\"{char} is a numeric digit.\")\n",
    "else:\n",
    "    print(f\"{char} is a special character.\")\n"
   ]
  },
  {
   "cell_type": "markdown",
   "id": "42311d4a-e443-4eee-9b11-16e4d864da6c",
   "metadata": {},
   "source": [
    "26. Implement a program to calculate the discounted price based on different purchase amounts using elif statements.\n"
   ]
  },
  {
   "cell_type": "code",
   "execution_count": 99,
   "id": "4b3dcfa3-701b-4adc-bba2-98bdebe3cd3e",
   "metadata": {},
   "outputs": [
    {
     "name": "stdin",
     "output_type": "stream",
     "text": [
      "Enter the purchase amount: $ 400\n"
     ]
    },
    {
     "name": "stdout",
     "output_type": "stream",
     "text": [
      "Discount rate: 20.0%\n",
      "Discounted price: $320.00\n"
     ]
    }
   ],
   "source": [
    "# Input the purchase amount from the user\n",
    "purchase_amount = float(input(\"Enter the purchase amount: $\"))\n",
    "\n",
    "# Define discount thresholds and corresponding discount rates\n",
    "discount_thresholds = [100, 200, 500]\n",
    "discount_rates = [0, 0.1, 0.2, 0.25]  # 0% discount, 10% discount, 20% discount, 25% discount\n",
    "\n",
    "# Initialize the discount rate\n",
    "discount_rate = 0\n",
    "\n",
    "# Determine the discount rate based on the purchase amount\n",
    "if purchase_amount >= discount_thresholds[2]:\n",
    "    discount_rate = discount_rates[3]\n",
    "elif purchase_amount >= discount_thresholds[1]:\n",
    "    discount_rate = discount_rates[2]\n",
    "elif purchase_amount >= discount_thresholds[0]:\n",
    "    discount_rate = discount_rates[1]\n",
    "else:\n",
    "    discount_rate = discount_rates[0]\n",
    "\n",
    "# Calculate the discounted price\n",
    "discounted_price = purchase_amount * (1 - discount_rate)\n",
    "\n",
    "# Display the discount rate and discounted price\n",
    "print(f\"Discount rate: {discount_rate * 100}%\")\n",
    "print(f\"Discounted price: ${discounted_price:.2f}\")\n"
   ]
  },
  {
   "cell_type": "markdown",
   "id": "2271dd54-2fd6-4eb6-9135-79eaa969b40d",
   "metadata": {},
   "source": [
    "27. Develop a program to calculate the electricity bill based on different consumption slabs using elif statements.\n"
   ]
  },
  {
   "cell_type": "code",
   "execution_count": 100,
   "id": "c60bfc60-f23d-4ce1-833f-2e2c419bdfd9",
   "metadata": {},
   "outputs": [
    {
     "name": "stdin",
     "output_type": "stream",
     "text": [
      "Enter your electricity consumption in kWh:  200\n"
     ]
    },
    {
     "name": "stdout",
     "output_type": "stream",
     "text": [
      "Your electricity bill is: $182.50\n"
     ]
    }
   ],
   "source": [
    "# Input the electricity consumption in kilowatt-hours (kWh)\n",
    "consumption = float(input(\"Enter your electricity consumption in kWh: \"))\n",
    "\n",
    "# Define electricity consumption slabs and corresponding rates\n",
    "slabs = [50, 100, 200, 300]\n",
    "rates = [0.5, 0.75, 1.20, 1.50]  # Rate per kWh for each slab\n",
    "\n",
    "# Initialize the total bill amount\n",
    "total_bill = 0\n",
    "\n",
    "# Calculate the bill amount based on consumption slabs using elif statements\n",
    "if consumption <= slabs[0]:\n",
    "    total_bill = consumption * rates[0]\n",
    "elif consumption <= slabs[1]:\n",
    "    total_bill = slabs[0] * rates[0] + (consumption - slabs[0]) * rates[1]\n",
    "elif consumption <= slabs[2]:\n",
    "    total_bill = slabs[0] * rates[0] + (slabs[1] - slabs[0]) * rates[1] + (consumption - slabs[1]) * rates[2]\n",
    "elif consumption <= slabs[3]:\n",
    "    total_bill = slabs[0] * rates[0] + (slabs[1] - slabs[0]) * rates[1] + (slabs[2] - slabs[1]) * rates[2] + (consumption - slabs[2]) * rates[3]\n",
    "else:\n",
    "    total_bill = slabs[0] * rates[0] + (slabs[1] - slabs[0]) * rates[1] + (slabs[2] - slabs[1]) * rates[2] + (slabs[3] - slabs[2]) * rates[3] + (consumption - slabs[3]) * rates[3]\n",
    "\n",
    "# Display the electricity bill\n",
    "print(f\"Your electricity bill is: ${total_bill:.2f}\")\n"
   ]
  },
  {
   "cell_type": "markdown",
   "id": "51d5fc51-8814-4a81-9a71-0b022eee0c85",
   "metadata": {},
   "source": [
    "28. Create a program to determine the type of quadrilateral based on its angles and sides using elif statements.\n"
   ]
  },
  {
   "cell_type": "code",
   "execution_count": 101,
   "id": "47132e0e-6406-428e-9504-de208b12c1ac",
   "metadata": {},
   "outputs": [
    {
     "name": "stdin",
     "output_type": "stream",
     "text": [
      "Enter the first angle (in degrees):  90\n",
      "Enter the second angle (in degrees):  90\n",
      "Enter the third angle (in degrees):  90\n",
      "Enter the fourth angle (in degrees):  90\n",
      "Enter the length of side 1:  3\n",
      "Enter the length of side 2:  3\n",
      "Enter the length of side 3:  3\n",
      "Enter the length of side 4:  3\n"
     ]
    },
    {
     "name": "stdout",
     "output_type": "stream",
     "text": [
      "The quadrilateral is a Square.\n"
     ]
    }
   ],
   "source": [
    "# Input angles in degrees\n",
    "angle1 = float(input(\"Enter the first angle (in degrees): \"))\n",
    "angle2 = float(input(\"Enter the second angle (in degrees): \"))\n",
    "angle3 = float(input(\"Enter the third angle (in degrees): \"))\n",
    "angle4 = float(input(\"Enter the fourth angle (in degrees): \"))\n",
    "\n",
    "# Input side lengths\n",
    "side1 = float(input(\"Enter the length of side 1: \"))\n",
    "side2 = float(input(\"Enter the length of side 2: \"))\n",
    "side3 = float(input(\"Enter the length of side 3: \"))\n",
    "side4 = float(input(\"Enter the length of side 4: \"))\n",
    "\n",
    "# Determine the type of quadrilateral using elif statements\n",
    "if angle1 == angle2 == angle3 == angle4 == 90:\n",
    "    if side1 == side2 == side3 == side4:\n",
    "        quadrilateral_type = \"Square\"\n",
    "    else:\n",
    "        quadrilateral_type = \"Rectangle\"\n",
    "elif angle1 == angle2 == angle3 == angle4:\n",
    "    quadrilateral_type = \"Rhombus\"\n",
    "elif angle1 == angle3 and angle2 == angle4:\n",
    "    if side1 == side2 == side3 == side4:\n",
    "        quadrilateral_type = \"Kite\"\n",
    "    else:\n",
    "        quadrilateral_type = \"Trapezoid\"\n",
    "else:\n",
    "    quadrilateral_type = \"Quadrilateral\"\n",
    "\n",
    "# Display the type of quadrilateral\n",
    "print(f\"The quadrilateral is a {quadrilateral_type}.\")\n"
   ]
  },
  {
   "cell_type": "markdown",
   "id": "955a1eee-0a9f-4b8a-8a9a-62db50733ea3",
   "metadata": {},
   "source": [
    "29. Write a Python script to determine the season based on a user-provided month using elif statements.\n"
   ]
  },
  {
   "cell_type": "code",
   "execution_count": 102,
   "id": "c806e2a1-0407-496b-8f3f-57b19c2e8e7b",
   "metadata": {},
   "outputs": [
    {
     "name": "stdin",
     "output_type": "stream",
     "text": [
      "Enter a month (e.g., January, February, etc.):  December\n"
     ]
    },
    {
     "name": "stdout",
     "output_type": "stream",
     "text": [
      "The season for December is Winter.\n"
     ]
    }
   ],
   "source": [
    "# Input a month from the user\n",
    "month = input(\"Enter a month (e.g., January, February, etc.): \").capitalize()\n",
    "\n",
    "# Determine the season using elif statements\n",
    "if month in [\"December\", \"January\", \"February\"]:\n",
    "    season = \"Winter\"\n",
    "elif month in [\"March\", \"April\", \"May\"]:\n",
    "    season = \"Spring\"\n",
    "elif month in [\"June\", \"July\", \"August\"]:\n",
    "    season = \"Summer\"\n",
    "elif month in [\"September\", \"October\", \"November\"]:\n",
    "    season = \"Fall\"\n",
    "else:\n",
    "    season = \"Invalid month\"\n",
    "\n",
    "# Display the season\n",
    "if season != \"Invalid month\":\n",
    "    print(f\"The season for {month} is {season}.\")\n",
    "else:\n",
    "    print(\"Invalid month entered. Please enter a valid month.\")\n"
   ]
  },
  {
   "cell_type": "markdown",
   "id": "50c42c4c-2183-475e-a22d-da4af6cf592d",
   "metadata": {},
   "source": [
    "30. Implement a program to determine the type of a year (leap or common) and month (30 or 31 days) using elif statements."
   ]
  },
  {
   "cell_type": "code",
   "execution_count": 103,
   "id": "58151cb9-ba56-4834-9e52-9a339e97ad62",
   "metadata": {},
   "outputs": [
    {
     "name": "stdin",
     "output_type": "stream",
     "text": [
      "Enter a year:  1980\n",
      "Enter a month (e.g., January, February, etc.):  December\n"
     ]
    },
    {
     "name": "stdout",
     "output_type": "stream",
     "text": [
      "1980 is a Leap Year.\n",
      "December has 31 days.\n"
     ]
    }
   ],
   "source": [
    "# Input a year from the user\n",
    "year = int(input(\"Enter a year: \"))\n",
    "\n",
    "# Input a month from the user\n",
    "month = input(\"Enter a month (e.g., January, February, etc.): \").capitalize()\n",
    "\n",
    "# Determine if it's a leap year using elif statements\n",
    "if (year % 4 == 0 and year % 100 != 0) or (year % 400 == 0):\n",
    "    year_type = \"Leap Year\"\n",
    "else:\n",
    "    year_type = \"Common Year\"\n",
    "\n",
    "# Determine the number of days in the month using elif statements\n",
    "if month in [\"January\", \"March\", \"May\", \"July\", \"August\", \"October\", \"December\"]:\n",
    "    days_in_month = 31\n",
    "elif month in [\"April\", \"June\", \"September\", \"November\"]:\n",
    "    days_in_month = 30\n",
    "elif month == \"February\" and year_type == \"Leap Year\":\n",
    "    days_in_month = 29\n",
    "elif month == \"February\" and year_type == \"Common Year\":\n",
    "    days_in_month = 28\n",
    "else:\n",
    "    year_type = \"Invalid Year\"\n",
    "    days_in_month = \"Invalid Month\"\n",
    "\n",
    "# Display the type of year and number of days in the month\n",
    "if year_type != \"Invalid Year\" and days_in_month != \"Invalid Month\":\n",
    "    print(f\"{year} is a {year_type}.\")\n",
    "    print(f\"{month} has {days_in_month} days.\")\n",
    "else:\n",
    "    print(\"Invalid year or month entered. Please enter valid values.\")\n"
   ]
  },
  {
   "cell_type": "markdown",
   "id": "5ae478a9-db53-4bb5-94ed-a912984e7973",
   "metadata": {},
   "source": [
    "Basic Level:\n",
    "1. Write a Python program that checks if a given number is positive, negative, or zero.\n"
   ]
  },
  {
   "cell_type": "code",
   "execution_count": 1,
   "id": "2a3197c8-1d55-41ca-9bb2-e5f45a933b71",
   "metadata": {},
   "outputs": [
    {
     "name": "stdin",
     "output_type": "stream",
     "text": [
      "Enter the number you want to check -90\n"
     ]
    },
    {
     "name": "stdout",
     "output_type": "stream",
     "text": [
      "The given number is : Negative\n"
     ]
    }
   ],
   "source": [
    "#function takes number as input and checks it for positive, negative or zero\n",
    "def pos_neg(num):\n",
    "    if num >0:\n",
    "        return \"Postitive\"\n",
    "    elif num < 0:\n",
    "        return \"Negative\"\n",
    "    else:\n",
    "        return \"Zero\"\n",
    "    \n",
    "#taking input from user\n",
    "num = int(input(\"Enter the number you want to check\"))\n",
    "\n",
    "#printing the result\n",
    "print(\"The given number is :\", pos_neg(num))"
   ]
  },
  {
   "cell_type": "markdown",
   "id": "b61f9631-2cff-4c1c-9d28-66926e1ab3f3",
   "metadata": {},
   "source": [
    "2. Create a program to determine if a person is eligible to vote based on their age.\n"
   ]
  },
  {
   "cell_type": "code",
   "execution_count": 5,
   "id": "e6ddbfd1-720d-49a2-b8c8-66b0d089a82b",
   "metadata": {},
   "outputs": [
    {
     "name": "stdin",
     "output_type": "stream",
     "text": [
      "Enter your age 17\n"
     ]
    },
    {
     "name": "stdout",
     "output_type": "stream",
     "text": [
      "You are not eligible to vote\n"
     ]
    }
   ],
   "source": [
    "#function takes number as input and checks it for age >= 18 or < 18\n",
    "def vote(age):\n",
    "    if age >=18:\n",
    "        return \"eligible\"\n",
    "    else:\n",
    "        return \"not eligible\"\n",
    "    \n",
    "#taking input from user\n",
    "age = int(input(\"Enter your age\"))\n",
    "\n",
    "#printing the result\n",
    "print(\"You are {} to vote\".format(vote(age)))"
   ]
  },
  {
   "cell_type": "markdown",
   "id": "aee8beb1-1b81-48e0-9902-5248891fece6",
   "metadata": {},
   "source": [
    "3. Write a program to find the maximum of two given numbers using conditional statements.\n"
   ]
  },
  {
   "cell_type": "code",
   "execution_count": 6,
   "id": "fc5abf02-7bed-4b8e-aff7-8c24bc5459a6",
   "metadata": {},
   "outputs": [
    {
     "name": "stdin",
     "output_type": "stream",
     "text": [
      "Enter first number 12\n",
      "Enter second number 13\n"
     ]
    },
    {
     "name": "stdout",
     "output_type": "stream",
     "text": [
      "The greater among the two numbers is number: 13\n"
     ]
    }
   ],
   "source": [
    "#function takes two numbers as input and compares them using conditional statements\n",
    "def comp(num1, num2):\n",
    "    if num1>num2:\n",
    "        return num1\n",
    "    elif num1 < num2:\n",
    "        return num2\n",
    "    else:\n",
    "        return num1\n",
    "\n",
    "#taking input from user\n",
    "num1 = int(input(\"Enter first number\"))\n",
    "num2 = int(input(\"Enter second number\"))\n",
    "\n",
    "#printing. the output\n",
    "print(\"The greater among the two numbers is number:\", comp(num1,num2))"
   ]
  },
  {
   "cell_type": "markdown",
   "id": "12d9fabb-57d6-4f53-bb97-eb1b742f9ba8",
   "metadata": {},
   "source": [
    "4. Develop a program that calculates the grade of a student based on their exam score.\n"
   ]
  },
  {
   "cell_type": "code",
   "execution_count": 9,
   "id": "ede04432-7e53-453b-812b-1373d3da8fcd",
   "metadata": {},
   "outputs": [
    {
     "name": "stdin",
     "output_type": "stream",
     "text": [
      "Enter the exam score:  101\n"
     ]
    },
    {
     "name": "stdout",
     "output_type": "stream",
     "text": [
      "Invalid score. Please enter a score between 0 and 100.\n"
     ]
    }
   ],
   "source": [
    "#function takes score as input and retuns grade as output\n",
    "def calculate_grade(score):\n",
    "    if 90 <= score <= 100:\n",
    "        return \"A\"\n",
    "    elif 80 <= score < 90:\n",
    "        return \"B\"\n",
    "    elif 70 <= score < 80:\n",
    "        return \"C\"\n",
    "    elif 60 <= score < 70:\n",
    "        return \"D\"\n",
    "    else:\n",
    "        return \"F\"\n",
    "\n",
    "# taking input from user and printing the output\n",
    "exam_score = float(input(\"Enter the exam score: \"))\n",
    "if 0 <= exam_score <= 100:\n",
    "    grade = calculate_grade(exam_score)\n",
    "    print(f\"The grade for a score of {exam_score} is {grade}.\")\n",
    "else:\n",
    "    print(\"Invalid score. Please enter a score between 0 and 100.\")\n",
    "\n"
   ]
  },
  {
   "cell_type": "markdown",
   "id": "671bbd3f-86bd-4643-8186-efbec60bc0bd",
   "metadata": {},
   "source": [
    "5. Create a program that checks if a year is a leap year or not.\n"
   ]
  },
  {
   "cell_type": "code",
   "execution_count": 10,
   "id": "eb12e1f1-e808-4fc1-834f-ddcc11433161",
   "metadata": {},
   "outputs": [
    {
     "name": "stdin",
     "output_type": "stream",
     "text": [
      "Enter the year 1980\n"
     ]
    },
    {
     "name": "stdout",
     "output_type": "stream",
     "text": [
      "The given year 1980 is leap year\n"
     ]
    }
   ],
   "source": [
    "#function takes year as input adn returns if the year is leap or not\n",
    "def leap_year(year):\n",
    "    if (year % 4 == 0 and year % 100 != 0) or (year % 400 == 0):\n",
    "        return \"leap year\"\n",
    "    else:\n",
    "        return \"not a leap year\"\n",
    "\n",
    "#taking input from the user\n",
    "year = int(input(\"Enter the year\"))\n",
    "\n",
    "#printing the output\n",
    "print(\"The given year {} is {}\".format(year, leap_year(year)))"
   ]
  },
  {
   "cell_type": "markdown",
   "id": "f4530645-7377-438c-8a39-948e4ecd29f2",
   "metadata": {},
   "source": [
    "6. Write a program to classify a triangle based on its sides' lengths.\n"
   ]
  },
  {
   "cell_type": "code",
   "execution_count": 13,
   "id": "c0988946-b90b-4e3d-9430-d1db06cdf891",
   "metadata": {},
   "outputs": [
    {
     "name": "stdin",
     "output_type": "stream",
     "text": [
      "Enter the length of the first side:  5\n",
      "Enter the length of the second side:  6\n",
      "Enter the length of the third side:  2\n"
     ]
    },
    {
     "name": "stdout",
     "output_type": "stream",
     "text": [
      "The given triangle is: Scalene\n"
     ]
    }
   ],
   "source": [
    "#the function takes 3 sides as input and return sthe type of triangle\n",
    "def triangle_type(side1, side2, side3):\n",
    "    if side1 == side2 == side3:\n",
    "        return \"Equilateral\"\n",
    "    elif side1 == side2 or side1 == side3 or side2 == side3:\n",
    "        return \"Isosceles\"\n",
    "    else:\n",
    "        return \"Scalene\"\n",
    "\n",
    "\n",
    "#taking input form user\n",
    "side1 = float(input(\"Enter the length of the first side: \"))\n",
    "side2 = float(input(\"Enter the length of the second side: \"))\n",
    "side3 = float(input(\"Enter the length of the third side: \"))\n",
    "\n",
    "#printing the output\n",
    "print(\"The given triangle is:\",triangle_type(side1, side2, side3))"
   ]
  },
  {
   "cell_type": "markdown",
   "id": "bd139f60-a730-4d3f-a3be-0472655cc0fc",
   "metadata": {},
   "source": [
    "7. Build a program that determines the largest of three given numbers.\n"
   ]
  },
  {
   "cell_type": "code",
   "execution_count": 16,
   "id": "1bec7b9a-336c-4471-bdd9-ba8480906c6d",
   "metadata": {},
   "outputs": [
    {
     "name": "stdin",
     "output_type": "stream",
     "text": [
      "Enter the first number:  3\n",
      "Enter the second number:  2\n",
      "Enter the third number:  1\n"
     ]
    },
    {
     "name": "stdout",
     "output_type": "stream",
     "text": [
      "The largest number is: 3.0\n"
     ]
    }
   ],
   "source": [
    "#the function takes 3 sides as input and return sthe type of triangle\n",
    "def great_ofall(num1, num2, num3):\n",
    "    if num1 > num2:\n",
    "        if num1>num3:\n",
    "            return num1\n",
    "        return num3\n",
    "    if num2 > num1:\n",
    "        if num2 > num3:\n",
    "            return num2\n",
    "        return num3\n",
    "\n",
    "#taking input form user\n",
    "num1 = float(input(\"Enter the first number: \"))\n",
    "num2 = float(input(\"Enter the second number: \"))\n",
    "num3 = float(input(\"Enter the third number: \"))\n",
    "\n",
    "#printing the output\n",
    "print(\"The largest number is:\",great_ofall(num1, num2, num3))"
   ]
  },
  {
   "cell_type": "markdown",
   "id": "1403a2b9-97c9-42da-a52c-54be0d804d50",
   "metadata": {},
   "source": [
    "8. Develop a program that checks whether a character is a vowel or a consonant.\n"
   ]
  },
  {
   "cell_type": "code",
   "execution_count": 18,
   "id": "65d78356-e93c-412c-b22f-8aa22e224ba5",
   "metadata": {},
   "outputs": [
    {
     "name": "stdin",
     "output_type": "stream",
     "text": [
      "Enter the character you want to check for b\n"
     ]
    },
    {
     "name": "stdout",
     "output_type": "stream",
     "text": [
      "The given character is a: consonant\n"
     ]
    }
   ],
   "source": [
    "#function takes vowel list and character as input\n",
    "def vowel_or_not(vowels, char):\n",
    "    if char in vowels:\n",
    "        return \"Vowel\"\n",
    "    else:\n",
    "        return \"consonant\"\n",
    "\n",
    "#taking input from user\n",
    "char = input(\"Enter the character you want to check for\")\n",
    "vowels = ['a','e','i','o','u','A','E','I','O','U']\n",
    "\n",
    "#printing the output\n",
    "print(\"The given character is a:\", vowel_or_not(vowels, char))"
   ]
  },
  {
   "cell_type": "markdown",
   "id": "4686573d-2e19-42f5-a33b-5583bb5355ec",
   "metadata": {},
   "source": [
    "9. Create a program to calculate the total cost of a shopping cart based on discounts.\n"
   ]
  },
  {
   "cell_type": "code",
   "execution_count": 21,
   "id": "febfe0f0-c19c-41be-897b-10ac4a1e414a",
   "metadata": {},
   "outputs": [
    {
     "name": "stdin",
     "output_type": "stream",
     "text": [
      "Enter an item (or 'done' to finish):  item1\n",
      "Enter the quantity of item1:  23\n",
      "Enter an item (or 'done' to finish):  item2\n",
      "Enter the quantity of item2:  34\n",
      "Enter an item (or 'done' to finish):  done\n"
     ]
    },
    {
     "name": "stdout",
     "output_type": "stream",
     "text": [
      "Total cost with discounts applied: $666.00\n"
     ]
    }
   ],
   "source": [
    "# Define the items and their prices in a dictionary\n",
    "item_prices = {\n",
    "    \"item1\": 10.0,\n",
    "    \"item2\": 15.0,\n",
    "    \"item3\": 20.0,\n",
    "    # Add more items and prices as needed\n",
    "}\n",
    "\n",
    "# Function to calculate the total cost with discounts\n",
    "def calculate_total_cost(cart):\n",
    "    subtotal = sum(item_prices[item] * quantity for item, quantity in cart.items())\n",
    "    \n",
    "    # Apply discounts based on predefined rules\n",
    "    if subtotal >= 100:\n",
    "        discount = 0.1  # 10% discount for a subtotal of $100 or more\n",
    "    else:\n",
    "        discount = 0.0\n",
    "    \n",
    "    total_cost = subtotal * (1 - discount)\n",
    "    return total_cost\n",
    "\n",
    "# Create an empty shopping cart (a dictionary of items and quantities)\n",
    "cart = {}\n",
    "\n",
    "# Allow the user to input items and quantities\n",
    "while True:\n",
    "    item = input(\"Enter an item (or 'done' to finish): \").strip()\n",
    "    if item.lower() == 'done':\n",
    "        break\n",
    "    if item in item_prices:\n",
    "        quantity = int(input(f\"Enter the quantity of {item}: \"))\n",
    "        cart[item] = cart.get(item,0) + quantity\n",
    "    else:\n",
    "        print(\"Item not found. Please choose a valid item.\")\n",
    "\n",
    "# Calculate the total cost\n",
    "total_cost = calculate_total_cost(cart)\n",
    "\n",
    "# Display the total cost with discounts applied\n",
    "print(f\"Total cost with discounts applied: ${total_cost:.2f}\")\n"
   ]
  },
  {
   "cell_type": "markdown",
   "id": "0f7d7036-28a2-4603-b394-c758289d04b1",
   "metadata": {},
   "source": [
    "10. Write a program that checks if a given number is even or odd."
   ]
  },
  {
   "cell_type": "code",
   "execution_count": 22,
   "id": "929cad2f-835f-41f5-bed1-23c2334abc7b",
   "metadata": {},
   "outputs": [
    {
     "name": "stdin",
     "output_type": "stream",
     "text": [
      "Enter the number you want to check for 45\n"
     ]
    },
    {
     "name": "stdout",
     "output_type": "stream",
     "text": [
      "The given number is: Odd\n"
     ]
    }
   ],
   "source": [
    "def even_odd(num):\n",
    "    if num%2==0:\n",
    "        return \"Even\"\n",
    "    else:\n",
    "        return \"Odd\"\n",
    "\n",
    "#taking input form user\n",
    "num = int(input(\"Enter the number you want to check for\"))\n",
    "\n",
    "#pritinng the output\n",
    "print(\"The given number is:\", even_odd(num))"
   ]
  },
  {
   "cell_type": "markdown",
   "id": "b2203668-2285-46c3-b841-7a65b1fa538e",
   "metadata": {},
   "source": [
    "Intermediate Level:\n",
    "11. Write a program that calculates the roots of a quadratic equation .\n"
   ]
  },
  {
   "cell_type": "code",
   "execution_count": 4,
   "id": "ec30f628-9252-4d17-a769-ecf185adfa8e",
   "metadata": {},
   "outputs": [
    {
     "name": "stdout",
     "output_type": "stream",
     "text": [
      "The roots of quadratic equation are (6.0, -1.0)\n"
     ]
    }
   ],
   "source": [
    "def sq_root(a,b,c):\n",
    "    sqrt_deter = (b**2 - 4*a*c)**0.5\n",
    "    r1 = (-b+sqrt_deter)/2\n",
    "    r2 = (-b - sqrt_deter)/2\n",
    "    return r1,r2\n",
    "\n",
    "#taking coeeficients of quadratic eqn as input\n",
    "a,b,c = (1,-5,-6)\n",
    "\n",
    "print(\"The roots of quadratic equation are\", sq_root(a,b,c))"
   ]
  },
  {
   "cell_type": "markdown",
   "id": "188e7918-0f60-44fa-91c2-eda7c9bc335e",
   "metadata": {},
   "source": [
    "12. Create a program that determines the day of the week based on the day number (1-7).\n"
   ]
  },
  {
   "cell_type": "code",
   "execution_count": 5,
   "id": "e17287a3-45e7-43e4-8c42-6ea7f80a9d52",
   "metadata": {},
   "outputs": [
    {
     "name": "stdin",
     "output_type": "stream",
     "text": [
      "Enter the number for which day you want 4\n"
     ]
    },
    {
     "name": "stdout",
     "output_type": "stream",
     "text": [
      "The day is: Thrusday\n"
     ]
    }
   ],
   "source": [
    "def week_of_day(num):\n",
    "    if num ==1:\n",
    "        return \"Monday\"\n",
    "    elif num == 2:\n",
    "        return \"Tuesday\"\n",
    "    elif num == 3:\n",
    "        return \"Wednesday\"\n",
    "    elif num == 4:\n",
    "        return \"Thrusday\"\n",
    "    elif num == 5:\n",
    "        return \"Friday\"\n",
    "    elif num == 6:\n",
    "        return \"Saturday\"\n",
    "    elif num == 7:\n",
    "        return \"Sunday\"\n",
    "    else:\n",
    "        return \"Invalid Input\"\n",
    "    \n",
    "#taking day number input form user\n",
    "num = int(input(\"Enter the number for which day you want\"))\n",
    "\n",
    "#returning the output\n",
    "print(\"The day is:\", week_of_day(num))"
   ]
  },
  {
   "cell_type": "markdown",
   "id": "a0223094-8138-4d00-85f6-363c91195df5",
   "metadata": {},
   "source": [
    "13. Develop a program that calculates the factorial of a given number using recursion.\n"
   ]
  },
  {
   "cell_type": "code",
   "execution_count": 8,
   "id": "35a30d8c-a003-44aa-9fa6-aaa8b449f46c",
   "metadata": {},
   "outputs": [
    {
     "name": "stdin",
     "output_type": "stream",
     "text": [
      "Enter the number whose factorial you want 5\n"
     ]
    },
    {
     "name": "stdout",
     "output_type": "stream",
     "text": [
      "The factorial of given number is: 120\n"
     ]
    }
   ],
   "source": [
    "#program takes number as input and returns factorial of that number\n",
    "def fact(num):\n",
    "    if num == 0 or num ==1:\n",
    "        return 1\n",
    "    else:\n",
    "        return num * fact(num - 1)\n",
    "\n",
    "num = int(input(\"Enter the number whose factorial you want\"))\n",
    "\n",
    "#printing the output\n",
    "print(\"The factorial of given number is:\", fact(num))"
   ]
  },
  {
   "cell_type": "markdown",
   "id": "dde72fd4-f495-445d-b500-d80e2e008ff0",
   "metadata": {},
   "source": [
    "14. Write a program to find the largest among three numbers without using the `max()` function.\n"
   ]
  },
  {
   "cell_type": "code",
   "execution_count": 9,
   "id": "c1ded4f8-01f9-4eda-9ca3-cd536bd3fc0d",
   "metadata": {},
   "outputs": [
    {
     "name": "stdin",
     "output_type": "stream",
     "text": [
      "Enter the first number:  1\n",
      "Enter the second number:  2\n",
      "Enter the third number:  3\n"
     ]
    },
    {
     "name": "stdout",
     "output_type": "stream",
     "text": [
      "The largest number is: 3.0\n"
     ]
    }
   ],
   "source": [
    "#the function takes 3 sides as input and return sthe type of triangle\n",
    "def great_ofall(num1, num2, num3):\n",
    "    if num1 > num2:\n",
    "        if num1>num3:\n",
    "            return num1\n",
    "        return num3\n",
    "    if num2 > num1:\n",
    "        if num2 > num3:\n",
    "            return num2\n",
    "        return num3\n",
    "\n",
    "#taking input form user\n",
    "num1 = float(input(\"Enter the first number: \"))\n",
    "num2 = float(input(\"Enter the second number: \"))\n",
    "num3 = float(input(\"Enter the third number: \"))\n",
    "\n",
    "#printing the output\n",
    "print(\"The largest number is:\",great_ofall(num1, num2, num3))"
   ]
  },
  {
   "cell_type": "markdown",
   "id": "3d0fff91-4b64-4f5d-bdd3-b7e6849987fc",
   "metadata": {},
   "source": [
    "15. Create a program that simulates a basic ATM transaction menu.\n"
   ]
  },
  {
   "cell_type": "code",
   "execution_count": 10,
   "id": "24c74247-b340-4328-a0e7-b8fffcda023b",
   "metadata": {},
   "outputs": [
    {
     "name": "stdout",
     "output_type": "stream",
     "text": [
      "\n",
      "ATM Menu:\n",
      "1. Display Balance\n",
      "2. Deposit Money\n",
      "3. Withdraw Money\n",
      "4. Exit\n"
     ]
    },
    {
     "name": "stdin",
     "output_type": "stream",
     "text": [
      "Enter your choice (1/2/3/4):  3\n",
      "Enter the amount to withdraw: $ 244\n"
     ]
    },
    {
     "name": "stdout",
     "output_type": "stream",
     "text": [
      "Successfully withdrew $244.00.\n",
      "\n",
      "ATM Menu:\n",
      "1. Display Balance\n",
      "2. Deposit Money\n",
      "3. Withdraw Money\n",
      "4. Exit\n"
     ]
    },
    {
     "name": "stdin",
     "output_type": "stream",
     "text": [
      "Enter your choice (1/2/3/4):  1\n"
     ]
    },
    {
     "name": "stdout",
     "output_type": "stream",
     "text": [
      "Your account balance is: $756.00\n",
      "\n",
      "ATM Menu:\n",
      "1. Display Balance\n",
      "2. Deposit Money\n",
      "3. Withdraw Money\n",
      "4. Exit\n"
     ]
    },
    {
     "name": "stdin",
     "output_type": "stream",
     "text": [
      "Enter your choice (1/2/3/4):  4\n"
     ]
    },
    {
     "name": "stdout",
     "output_type": "stream",
     "text": [
      "Thank you for using our ATM. Goodbye!\n"
     ]
    }
   ],
   "source": [
    "# Initial account balance\n",
    "balance = 1000\n",
    "\n",
    "# Function to display account balance\n",
    "def display_balance():\n",
    "    print(f\"Your account balance is: ${balance:.2f}\")\n",
    "\n",
    "# Function to deposit money\n",
    "def deposit():\n",
    "    global balance\n",
    "    amount = float(input(\"Enter the amount to deposit: $\"))\n",
    "    if amount > 0:\n",
    "        balance += amount\n",
    "        print(f\"Successfully deposited ${amount:.2f}.\")\n",
    "    else:\n",
    "        print(\"Invalid deposit amount.\")\n",
    "\n",
    "# Function to withdraw money\n",
    "def withdraw():\n",
    "    global balance\n",
    "    amount = float(input(\"Enter the amount to withdraw: $\"))\n",
    "    if 0 < amount <= balance:\n",
    "        balance -= amount\n",
    "        print(f\"Successfully withdrew ${amount:.2f}.\")\n",
    "    elif amount > balance:\n",
    "        print(\"Insufficient funds.\")\n",
    "    else:\n",
    "        print(\"Invalid withdrawal amount.\")\n",
    "\n",
    "# ATM transaction menu\n",
    "while True:\n",
    "    print(\"\\nATM Menu:\")\n",
    "    print(\"1. Display Balance\")\n",
    "    print(\"2. Deposit Money\")\n",
    "    print(\"3. Withdraw Money\")\n",
    "    print(\"4. Exit\")\n",
    "    \n",
    "    choice = input(\"Enter your choice (1/2/3/4): \")\n",
    "    \n",
    "    if choice == '1':\n",
    "        display_balance()\n",
    "    elif choice == '2':\n",
    "        deposit()\n",
    "    elif choice == '3':\n",
    "        withdraw()\n",
    "    elif choice == '4':\n",
    "        print(\"Thank you for using our ATM. Goodbye!\")\n",
    "        break\n",
    "    else:\n",
    "        print(\"Invalid choice. Please select a valid option.\")\n"
   ]
  },
  {
   "cell_type": "markdown",
   "id": "327985a7-fcbb-4545-8051-44a98a037d77",
   "metadata": {},
   "source": [
    "16. Build a program that checks if a given string is a palindrome or not.\n"
   ]
  },
  {
   "cell_type": "code",
   "execution_count": 12,
   "id": "9ef5f4bf-3258-491d-b76a-59b858e17de6",
   "metadata": {},
   "outputs": [
    {
     "name": "stdin",
     "output_type": "stream",
     "text": [
      "Enter the string you want to check for palindrome eye\n"
     ]
    },
    {
     "name": "stdout",
     "output_type": "stream",
     "text": [
      "The given string is palindrome: True\n"
     ]
    }
   ],
   "source": [
    "#function takes string as input and returns true or false\n",
    "def check_palindrome(string):\n",
    "    return string == string[::-1]\n",
    "\n",
    "#taking string a sinput\n",
    "string = input(\"Enter the string you want to check for palindrome\")\n",
    "\n",
    "#printing the output\n",
    "print(\"The given string is palindrome:\", check_palindrome(string))"
   ]
  },
  {
   "cell_type": "markdown",
   "id": "30803395-0731-4b12-be82-de4f1b321505",
   "metadata": {},
   "source": [
    "17. Write a program that calculates the average of a list of numbers, excluding the smallest and largest values.\n"
   ]
  },
  {
   "cell_type": "code",
   "execution_count": 14,
   "id": "a7e006a8-c4fd-4bff-a62d-42b849929ce8",
   "metadata": {},
   "outputs": [
    {
     "name": "stdout",
     "output_type": "stream",
     "text": [
      "The average of list is: 4.5\n"
     ]
    }
   ],
   "source": [
    "def average(lst):\n",
    "    return sum(lst)/len(lst)\n",
    "\n",
    "lst = [2,3,4,5,6,7]\n",
    "lst.remove(min(lst))\n",
    "lst.remove(max(lst))\n",
    "\n",
    "print(\"The average of list is:\", average(lst))"
   ]
  },
  {
   "cell_type": "markdown",
   "id": "d5e28495-64d9-4e21-996c-64a5d7fdfcf5",
   "metadata": {},
   "source": [
    "18. Develop a program that converts a given temperature from Celsius to Fahrenheit.\n"
   ]
  },
  {
   "cell_type": "code",
   "execution_count": 15,
   "id": "4f46b868-9b03-4c04-887b-0ffce8349d0a",
   "metadata": {},
   "outputs": [
    {
     "name": "stdin",
     "output_type": "stream",
     "text": [
      "Enter temperature in Celsius:  34\n"
     ]
    },
    {
     "name": "stdout",
     "output_type": "stream",
     "text": [
      "34.0 degrees Celsius is equal to 93.20 degrees Fahrenheit.\n"
     ]
    }
   ],
   "source": [
    "# Input the temperature in Celsius\n",
    "celsius = float(input(\"Enter temperature in Celsius: \"))\n",
    "\n",
    "# Convert Celsius to Fahrenheit\n",
    "fahrenheit = (celsius * 9/5) + 32\n",
    "\n",
    "# Display the result\n",
    "print(f\"{celsius} degrees Celsius is equal to {fahrenheit:.2f} degrees Fahrenheit.\")\n"
   ]
  },
  {
   "cell_type": "markdown",
   "id": "ae3e7c3b-65e0-47f2-9a7f-61fe10685732",
   "metadata": {},
   "source": [
    "19. Create a program that simulates a basic calculator for addition, subtraction, multiplication, and division.\n"
   ]
  },
  {
   "cell_type": "code",
   "execution_count": 18,
   "id": "4b74998e-ccfa-456b-840b-878a678c7acc",
   "metadata": {},
   "outputs": [
    {
     "name": "stdout",
     "output_type": "stream",
     "text": [
      "\n",
      "Calculator Menu:\n",
      "1. Addition\n",
      "2. Subtraction\n",
      "3. Multiplication\n",
      "4. Division\n",
      "5. Quit\n"
     ]
    },
    {
     "name": "stdin",
     "output_type": "stream",
     "text": [
      "Enter your choice (1/2/3/4/5):  7\n"
     ]
    },
    {
     "name": "stdout",
     "output_type": "stream",
     "text": [
      "Invalid choice. Please select a valid option.\n",
      "\n",
      "Calculator Menu:\n",
      "1. Addition\n",
      "2. Subtraction\n",
      "3. Multiplication\n",
      "4. Division\n",
      "5. Quit\n"
     ]
    },
    {
     "name": "stdin",
     "output_type": "stream",
     "text": [
      "Enter your choice (1/2/3/4/5):  5\n"
     ]
    },
    {
     "name": "stdout",
     "output_type": "stream",
     "text": [
      "Calculator closed. Goodbye!\n"
     ]
    }
   ],
   "source": [
    "# Function for addition\n",
    "def add(x, y):\n",
    "    return x + y\n",
    "\n",
    "# Function for subtraction\n",
    "def subtract(x, y):\n",
    "    return x - y\n",
    "\n",
    "# Function for multiplication\n",
    "def multiply(x, y):\n",
    "    return x * y\n",
    "\n",
    "# Function for division\n",
    "def divide(x, y):\n",
    "    if y == 0:\n",
    "        return \"Division by zero is not allowed\"\n",
    "    return x / y\n",
    "\n",
    "# Calculator menu\n",
    "while True:\n",
    "    print(\"\\nCalculator Menu:\")\n",
    "    print(\"1. Addition\")\n",
    "    print(\"2. Subtraction\")\n",
    "    print(\"3. Multiplication\")\n",
    "    print(\"4. Division\")\n",
    "    print(\"5. Quit\")\n",
    "    \n",
    "    choice = input(\"Enter your choice (1/2/3/4/5): \")\n",
    "    \n",
    "    if choice == '5':\n",
    "        print(\"Calculator closed. Goodbye!\")\n",
    "        break\n",
    "    \n",
    "    if choice not in ('1', '2', '3', '4'):\n",
    "        print(\"Invalid choice. Please select a valid option.\")\n",
    "        continue\n",
    "    \n",
    "    num1 = float(input(\"Enter first number: \"))\n",
    "    num2 = float(input(\"Enter second number: \"))\n",
    "    \n",
    "    if choice == '1':\n",
    "        result = add(num1, num2)\n",
    "        operation = \"addition\"\n",
    "    elif choice == '2':\n",
    "        result = subtract(num1, num2)\n",
    "        operation = \"subtraction\"\n",
    "    elif choice == '3':\n",
    "        result = multiply(num1, num2)\n",
    "        operation = \"multiplication\"\n",
    "    else:\n",
    "        result = divide(num1, num2)\n",
    "        operation = \"division\"\n",
    "    \n",
    "    print(f\"Result of {operation}: {num1} {operation} {num2} = {result}\")\n"
   ]
  },
  {
   "cell_type": "markdown",
   "id": "d4d6c992-f652-4489-9230-a1ff27fd6d6a",
   "metadata": {},
   "source": [
    "20. Write a program that determines the roots of a cubic equation using the Cardano formula."
   ]
  },
  {
   "cell_type": "code",
   "execution_count": 19,
   "id": "bdbe7bad-dde8-4c6d-930d-ad9a536bf575",
   "metadata": {},
   "outputs": [
    {
     "name": "stdin",
     "output_type": "stream",
     "text": [
      "Enter coefficient a:  4\n",
      "Enter coefficient b:  5\n",
      "Enter coefficient c:  6\n",
      "Enter coefficient d:  -8\n"
     ]
    },
    {
     "name": "stdout",
     "output_type": "stream",
     "text": [
      "Root 1: (1.3234105105965612+0j)\n",
      "Root 2: (0.37151303881202546+0j)\n",
      "Root 3: (-1.6949235494085868-0j)\n"
     ]
    }
   ],
   "source": [
    "import cmath  # Import the complex math module\n",
    "\n",
    "# Input coefficients of the cubic equation: ax^3 + bx^2 + cx + d = 0\n",
    "a = float(input(\"Enter coefficient a: \"))\n",
    "b = float(input(\"Enter coefficient b: \"))\n",
    "c = float(input(\"Enter coefficient c: \"))\n",
    "d = float(input(\"Enter coefficient d: \"))\n",
    "\n",
    "# Calculate the discriminant and its square root\n",
    "delta = (b**2) - (3 * a * c)\n",
    "sqrt_delta = cmath.sqrt(delta)\n",
    "\n",
    "# Calculate the parameters for Cardano's formula\n",
    "u = ((-b) + sqrt_delta) / (3 * a)\n",
    "v = ((-b) - sqrt_delta) / (3 * a)\n",
    "\n",
    "# Calculate the cube roots of u and v\n",
    "u_cubed = u ** (1/3)\n",
    "v_cubed = v ** (1/3)\n",
    "\n",
    "# Calculate the three roots using Cardano's formula\n",
    "root1 = u_cubed + v_cubed\n",
    "root2 = -((u_cubed + v_cubed) / 2) + (u_cubed - v_cubed) * (3 ** 0.5) / 2j\n",
    "root3 = -((u_cubed + v_cubed) / 2) - (u_cubed - v_cubed) * (3 ** 0.5) / 2j\n",
    "\n",
    "# Display the roots\n",
    "print(\"Root 1:\", root1)\n",
    "print(\"Root 2:\", root2)\n",
    "print(\"Root 3:\", root3)\n"
   ]
  },
  {
   "cell_type": "markdown",
   "id": "93829e14-391a-40de-88b1-d8478054e603",
   "metadata": {},
   "source": [
    "Advanced Level:\n",
    "21. Create a program that calculates the income tax based on the user's income and tax brackets.\n"
   ]
  },
  {
   "cell_type": "code",
   "execution_count": 24,
   "id": "802b607d-267c-4c7c-9edc-3fefe6a19cc5",
   "metadata": {},
   "outputs": [
    {
     "name": "stdin",
     "output_type": "stream",
     "text": [
      "Enter you income: 100000\n"
     ]
    },
    {
     "name": "stdout",
     "output_type": "stream",
     "text": [
      "The tax on your income is: No tax\n"
     ]
    }
   ],
   "source": [
    "def income_tax(income):\n",
    "    if income >= 900000:\n",
    "        return income*0.15\n",
    "    elif income < 900000:\n",
    "        return \"No tax\"\n",
    "    elif income >= 1500000:\n",
    "        return income*0.2\n",
    "    else:\n",
    "        return \"Invalid input\"\n",
    "\n",
    "income = int(input(\"Enter you income:\"))\n",
    "\n",
    "print(\"The tax on your income is:\", income_tax(income))"
   ]
  },
  {
   "cell_type": "markdown",
   "id": "247cf831-47c0-4ea0-a1d0-73f07e5b930f",
   "metadata": {},
   "source": [
    "22. Write a program that simulates a rock-paper-scissors game against the computer.\n"
   ]
  },
  {
   "cell_type": "code",
   "execution_count": 25,
   "id": "d2216424-36ac-4d6f-ad88-26034fd6c651",
   "metadata": {},
   "outputs": [
    {
     "name": "stdout",
     "output_type": "stream",
     "text": [
      "\n",
      "Rock, Paper, Scissors Game\n",
      "1. Rock\n",
      "2. Paper\n",
      "3. Scissors\n",
      "4. Quit\n"
     ]
    },
    {
     "name": "stdin",
     "output_type": "stream",
     "text": [
      "Enter your choice (1/2/3/4):  2\n"
     ]
    },
    {
     "name": "stdout",
     "output_type": "stream",
     "text": [
      "You chose: paper\n",
      "Computer chose: paper\n",
      "It's a tie!\n",
      "\n",
      "Rock, Paper, Scissors Game\n",
      "1. Rock\n",
      "2. Paper\n",
      "3. Scissors\n",
      "4. Quit\n"
     ]
    },
    {
     "name": "stdin",
     "output_type": "stream",
     "text": [
      "Enter your choice (1/2/3/4):  3\n"
     ]
    },
    {
     "name": "stdout",
     "output_type": "stream",
     "text": [
      "You chose: scissors\n",
      "Computer chose: paper\n",
      "You win!\n",
      "\n",
      "Rock, Paper, Scissors Game\n",
      "1. Rock\n",
      "2. Paper\n",
      "3. Scissors\n",
      "4. Quit\n"
     ]
    },
    {
     "name": "stdin",
     "output_type": "stream",
     "text": [
      "Enter your choice (1/2/3/4):  4\n"
     ]
    },
    {
     "name": "stdout",
     "output_type": "stream",
     "text": [
      "Thanks for playing. Goodbye!\n"
     ]
    }
   ],
   "source": [
    "import random\n",
    "\n",
    "# Function to get the computer's choice\n",
    "def get_computer_choice():\n",
    "    choices = [\"rock\", \"paper\", \"scissors\"]\n",
    "    return random.choice(choices)\n",
    "\n",
    "# Function to determine the winner\n",
    "def determine_winner(player_choice, computer_choice):\n",
    "    if player_choice == computer_choice:\n",
    "        return \"It's a tie!\"\n",
    "    elif (\n",
    "        (player_choice == \"rock\" and computer_choice == \"scissors\")\n",
    "        or (player_choice == \"scissors\" and computer_choice == \"paper\")\n",
    "        or (player_choice == \"paper\" and computer_choice == \"rock\")\n",
    "    ):\n",
    "        return \"You win!\"\n",
    "    else:\n",
    "        return \"Computer wins!\"\n",
    "\n",
    "# Main game loop\n",
    "while True:\n",
    "    print(\"\\nRock, Paper, Scissors Game\")\n",
    "    print(\"1. Rock\")\n",
    "    print(\"2. Paper\")\n",
    "    print(\"3. Scissors\")\n",
    "    print(\"4. Quit\")\n",
    "    \n",
    "    player_choice = input(\"Enter your choice (1/2/3/4): \")\n",
    "    \n",
    "    if player_choice == '4':\n",
    "        print(\"Thanks for playing. Goodbye!\")\n",
    "        break\n",
    "    \n",
    "    if player_choice not in ('1', '2', '3'):\n",
    "        print(\"Invalid choice. Please select a valid option.\")\n",
    "        continue\n",
    "    \n",
    "    player_choice = int(player_choice)\n",
    "    player_choice -= 1  # Adjust to index 0, 1, 2\n",
    "    \n",
    "    choices = [\"rock\", \"paper\", \"scissors\"]\n",
    "    player_choice = choices[player_choice]\n",
    "    computer_choice = get_computer_choice()\n",
    "    \n",
    "    print(f\"You chose: {player_choice}\")\n",
    "    print(f\"Computer chose: {computer_choice}\")\n",
    "    \n",
    "    result = determine_winner(player_choice, computer_choice)\n",
    "    print(result)\n"
   ]
  },
  {
   "cell_type": "markdown",
   "id": "9c71c592-1810-4e5c-bbce-9f164b947242",
   "metadata": {},
   "source": [
    "23. Develop a program that generates a random password based on user preferences (length, complexity).\n"
   ]
  },
  {
   "cell_type": "code",
   "execution_count": 2,
   "id": "e805a53b-4ad9-4e01-bfb5-8249be975d54",
   "metadata": {},
   "outputs": [
    {
     "name": "stdout",
     "output_type": "stream",
     "text": [
      "Welcome to the Random Password Generator!\n"
     ]
    },
    {
     "name": "stdin",
     "output_type": "stream",
     "text": [
      "Enter the desired password length:  5\n",
      "Include lowercase letters? (yes/no):  yes\n",
      "Include uppercase letters? (yes/no):  yes\n",
      "Include numbers? (yes/no):  yes\n",
      "Include special characters? (yes/no):  yes\n"
     ]
    },
    {
     "name": "stdout",
     "output_type": "stream",
     "text": [
      "Your generated password is: C^*<X\n"
     ]
    },
    {
     "name": "stdin",
     "output_type": "stream",
     "text": [
      "Generate another password? (yes/no):  no\n"
     ]
    },
    {
     "name": "stdout",
     "output_type": "stream",
     "text": [
      "Thanks for using the Random Password Generator!\n"
     ]
    }
   ],
   "source": [
    "import random\n",
    "import string\n",
    "\n",
    "def generate_password(length, use_lowercase, use_uppercase, use_numbers, use_special_chars):\n",
    "    characters = \"\"\n",
    "\n",
    "    if use_lowercase:\n",
    "        characters += string.ascii_lowercase\n",
    "    if use_uppercase:\n",
    "        characters += string.ascii_uppercase\n",
    "    if use_numbers:\n",
    "        characters += string.digits\n",
    "    if use_special_chars:\n",
    "        characters += string.punctuation\n",
    "\n",
    "    if not characters:\n",
    "        print(\"Please select at least one character type.\")\n",
    "        return None\n",
    "\n",
    "    password = ''.join(random.choice(characters) for _ in range(length))\n",
    "    return password\n",
    "\n",
    "def main():\n",
    "    print(\"Welcome to the Random Password Generator!\")\n",
    "    \n",
    "    while True:\n",
    "        try:\n",
    "            length = int(input(\"Enter the desired password length: \"))\n",
    "        except ValueError:\n",
    "            print(\"Invalid input. Please enter a valid number.\")\n",
    "            continue\n",
    "        \n",
    "        use_lowercase = input(\"Include lowercase letters? (yes/no): \").lower() == \"yes\"\n",
    "        use_uppercase = input(\"Include uppercase letters? (yes/no): \").lower() == \"yes\"\n",
    "        use_numbers = input(\"Include numbers? (yes/no): \").lower() == \"yes\"\n",
    "        use_special_chars = input(\"Include special characters? (yes/no): \").lower() == \"yes\"\n",
    "\n",
    "        password = generate_password(length, use_lowercase, use_uppercase, use_numbers, use_special_chars)\n",
    "\n",
    "        if password:\n",
    "            print(\"Your generated password is:\", password)\n",
    "\n",
    "        play_again = input(\"Generate another password? (yes/no): \")\n",
    "        if play_again.lower() != \"yes\":\n",
    "            print(\"Thanks for using the Random Password Generator!\")\n",
    "            break\n",
    "\n",
    "if __name__ == \"__main__\":\n",
    "    main()\n"
   ]
  },
  {
   "cell_type": "markdown",
   "id": "d89a1df0-2cfb-4703-8a6c-1b30c99b7ade",
   "metadata": {},
   "source": [
    "24. Create a program that implements a simple text-based adventure game with branching scenarios.\n"
   ]
  },
  {
   "cell_type": "code",
   "execution_count": 1,
   "id": "ee427c4e-d814-456f-ba40-0bc30d0bfe6c",
   "metadata": {},
   "outputs": [
    {
     "name": "stdout",
     "output_type": "stream",
     "text": [
      "Welcome to the Guess the Number game!\n",
      "I'm thinking of a number between 1 and 20.\n"
     ]
    },
    {
     "name": "stdin",
     "output_type": "stream",
     "text": [
      "Take a guess:  3\n"
     ]
    },
    {
     "name": "stdout",
     "output_type": "stream",
     "text": [
      "Too low!\n"
     ]
    },
    {
     "name": "stdin",
     "output_type": "stream",
     "text": [
      "Take a guess:  8\n"
     ]
    },
    {
     "name": "stdout",
     "output_type": "stream",
     "text": [
      "Too high!\n"
     ]
    },
    {
     "name": "stdin",
     "output_type": "stream",
     "text": [
      "Take a guess:  5\n"
     ]
    },
    {
     "name": "stdout",
     "output_type": "stream",
     "text": [
      "Too low!\n",
      "Sorry, you've run out of attempts. The secret number was 6.\n"
     ]
    },
    {
     "name": "stdin",
     "output_type": "stream",
     "text": [
      "Do you want to play again? (yes/no):  yes\n"
     ]
    },
    {
     "name": "stdout",
     "output_type": "stream",
     "text": [
      "Welcome to the Guess the Number game!\n",
      "I'm thinking of a number between 1 and 20.\n"
     ]
    },
    {
     "name": "stdin",
     "output_type": "stream",
     "text": [
      "Take a guess:  5\n"
     ]
    },
    {
     "name": "stdout",
     "output_type": "stream",
     "text": [
      "Too low!\n"
     ]
    },
    {
     "name": "stdin",
     "output_type": "stream",
     "text": [
      "Take a guess:  6\n"
     ]
    },
    {
     "name": "stdout",
     "output_type": "stream",
     "text": [
      "Too low!\n"
     ]
    },
    {
     "name": "stdin",
     "output_type": "stream",
     "text": [
      "Take a guess:  9\n"
     ]
    },
    {
     "name": "stdout",
     "output_type": "stream",
     "text": [
      "Too high!\n",
      "Sorry, you've run out of attempts. The secret number was 7.\n"
     ]
    },
    {
     "name": "stdin",
     "output_type": "stream",
     "text": [
      "Do you want to play again? (yes/no):  yes\n"
     ]
    },
    {
     "name": "stdout",
     "output_type": "stream",
     "text": [
      "Welcome to the Guess the Number game!\n",
      "I'm thinking of a number between 1 and 20.\n"
     ]
    },
    {
     "name": "stdin",
     "output_type": "stream",
     "text": [
      "Take a guess:  5\n"
     ]
    },
    {
     "name": "stdout",
     "output_type": "stream",
     "text": [
      "Too low!\n"
     ]
    },
    {
     "name": "stdin",
     "output_type": "stream",
     "text": [
      "Take a guess:  8\n"
     ]
    },
    {
     "name": "stdout",
     "output_type": "stream",
     "text": [
      "Congratulations! You guessed the number (8) correctly!\n"
     ]
    },
    {
     "name": "stdin",
     "output_type": "stream",
     "text": [
      "Do you want to play again? (yes/no):  yes\n"
     ]
    },
    {
     "name": "stdout",
     "output_type": "stream",
     "text": [
      "Welcome to the Guess the Number game!\n",
      "I'm thinking of a number between 1 and 20.\n"
     ]
    },
    {
     "name": "stdin",
     "output_type": "stream",
     "text": [
      "Take a guess:  9\n"
     ]
    },
    {
     "name": "stdout",
     "output_type": "stream",
     "text": [
      "Congratulations! You guessed the number (9) correctly!\n"
     ]
    },
    {
     "name": "stdin",
     "output_type": "stream",
     "text": [
      "Do you want to play again? (yes/no):  yes\n"
     ]
    },
    {
     "name": "stdout",
     "output_type": "stream",
     "text": [
      "Welcome to the Guess the Number game!\n",
      "I'm thinking of a number between 1 and 20.\n"
     ]
    },
    {
     "name": "stdin",
     "output_type": "stream",
     "text": [
      "Take a guess:  10\n"
     ]
    },
    {
     "name": "stdout",
     "output_type": "stream",
     "text": [
      "Too high!\n"
     ]
    },
    {
     "name": "stdin",
     "output_type": "stream",
     "text": [
      "Take a guess:  9\n"
     ]
    },
    {
     "name": "stdout",
     "output_type": "stream",
     "text": [
      "Too high!\n"
     ]
    },
    {
     "name": "stdin",
     "output_type": "stream",
     "text": [
      "Take a guess:  5\n"
     ]
    },
    {
     "name": "stdout",
     "output_type": "stream",
     "text": [
      "Too high!\n",
      "Sorry, you've run out of attempts. The secret number was 1.\n"
     ]
    },
    {
     "name": "stdin",
     "output_type": "stream",
     "text": [
      "Do you want to play again? (yes/no):  yes\n"
     ]
    },
    {
     "name": "stdout",
     "output_type": "stream",
     "text": [
      "Welcome to the Guess the Number game!\n",
      "I'm thinking of a number between 1 and 20.\n"
     ]
    },
    {
     "name": "stdin",
     "output_type": "stream",
     "text": [
      "Take a guess:  1\n"
     ]
    },
    {
     "name": "stdout",
     "output_type": "stream",
     "text": [
      "Congratulations! You guessed the number (1) correctly!\n"
     ]
    },
    {
     "name": "stdin",
     "output_type": "stream",
     "text": [
      "Do you want to play again? (yes/no):  yes\n"
     ]
    },
    {
     "name": "stdout",
     "output_type": "stream",
     "text": [
      "Welcome to the Guess the Number game!\n",
      "I'm thinking of a number between 1 and 20.\n"
     ]
    },
    {
     "name": "stdin",
     "output_type": "stream",
     "text": [
      "Take a guess:  2\n"
     ]
    },
    {
     "name": "stdout",
     "output_type": "stream",
     "text": [
      "Too low!\n"
     ]
    },
    {
     "name": "stdin",
     "output_type": "stream",
     "text": [
      "Take a guess:  4\n"
     ]
    },
    {
     "name": "stdout",
     "output_type": "stream",
     "text": [
      "Too low!\n"
     ]
    },
    {
     "name": "stdin",
     "output_type": "stream",
     "text": [
      "Take a guess:  6\n"
     ]
    },
    {
     "name": "stdout",
     "output_type": "stream",
     "text": [
      "Too low!\n",
      "Sorry, you've run out of attempts. The secret number was 19.\n"
     ]
    },
    {
     "name": "stdin",
     "output_type": "stream",
     "text": [
      "Do you want to play again? (yes/no):  no\n"
     ]
    },
    {
     "name": "stdout",
     "output_type": "stream",
     "text": [
      "Thanks for playing!\n"
     ]
    }
   ],
   "source": [
    "import random\n",
    "\n",
    "def play_game():\n",
    "    print(\"Welcome to the Guess the Number game!\")\n",
    "    print(\"I'm thinking of a number between 1 and 20.\")\n",
    "    secret_number = random.randint(1, 20)\n",
    "    attempts = 0\n",
    "\n",
    "    while attempts < 3:\n",
    "        guess = input(\"Take a guess: \")\n",
    "\n",
    "        try:\n",
    "            guess = int(guess)\n",
    "        except ValueError:\n",
    "            print(\"Invalid input. Please enter a number.\")\n",
    "            continue\n",
    "\n",
    "        if guess < secret_number:\n",
    "            print(\"Too low!\")\n",
    "        elif guess > secret_number:\n",
    "            print(\"Too high!\")\n",
    "        else:\n",
    "            print(f\"Congratulations! You guessed the number ({secret_number}) correctly!\")\n",
    "            break\n",
    "\n",
    "        attempts += 1\n",
    "\n",
    "    if attempts == 3:\n",
    "        print(f\"Sorry, you've run out of attempts. The secret number was {secret_number}.\")\n",
    "\n",
    "    play_again = input(\"Do you want to play again? (yes/no): \")\n",
    "    if play_again.lower() == \"yes\":\n",
    "        play_game()\n",
    "    else:\n",
    "        print(\"Thanks for playing!\")\n",
    "\n",
    "if __name__ == \"__main__\":\n",
    "    play_game()\n"
   ]
  },
  {
   "cell_type": "markdown",
   "id": "f5ab2b4d-b39f-4eeb-aeb6-6b7b29bd9c01",
   "metadata": {},
   "source": [
    "25. Build a program that solves a linear equation for x, considering different cases.\n"
   ]
  },
  {
   "cell_type": "code",
   "execution_count": 63,
   "id": "83e313aa-21ba-403e-b36c-a4a50bd7e836",
   "metadata": {},
   "outputs": [
    {
     "name": "stdin",
     "output_type": "stream",
     "text": [
      "Enter coefficient a:  0\n",
      "Enter coefficient b:  1\n"
     ]
    },
    {
     "name": "stdout",
     "output_type": "stream",
     "text": [
      "No solution (equation is not valid)\n"
     ]
    }
   ],
   "source": [
    "# Function to solve a linear equation for x\n",
    "def solve_linear_equation(a, b):\n",
    "    if a == 0 and b == 0:\n",
    "        return \"Infinite solutions (any real number for x)\"\n",
    "    elif a == 0 and b!=0:\n",
    "        return \"No solution (equation is not valid)\"\n",
    "    else:\n",
    "        x = -b / a\n",
    "        return f\"The solution for x is: {x}\"\n",
    "\n",
    "# Input coefficients of the linear equation: ax + b = 0\n",
    "a = float(input(\"Enter coefficient a: \"))\n",
    "b = float(input(\"Enter coefficient b: \"))\n",
    "\n",
    "# Solve the linear equation\n",
    "solution = solve_linear_equation(a, b)\n",
    "\n",
    "# Display the result\n",
    "print(solution)\n"
   ]
  },
  {
   "cell_type": "markdown",
   "id": "781d3462-71d5-4f34-a5c9-eead207317c9",
   "metadata": {},
   "source": [
    "26. Write a program that simulates a basic quiz game with multiple-choice questions and scoring.\n"
   ]
  },
  {
   "cell_type": "code",
   "execution_count": 107,
   "id": "3a3b1495-549c-4a42-a693-5122db6ffb1b",
   "metadata": {},
   "outputs": [
    {
     "name": "stdout",
     "output_type": "stream",
     "text": [
      "What is the capital of France?\n",
      "A. London\n",
      "B. Berlin\n",
      "C. Paris\n",
      "D. Madrid\n"
     ]
    },
    {
     "name": "stdin",
     "output_type": "stream",
     "text": [
      "Enter the letter of your answer (A/B/C/D):  C\n"
     ]
    },
    {
     "name": "stdout",
     "output_type": "stream",
     "text": [
      "Correct!\n",
      "\n",
      "Which planet is known as the Red Planet?\n",
      "A. Earth\n",
      "B. Venus\n",
      "C. Mars\n",
      "D. Jupiter\n"
     ]
    },
    {
     "name": "stdin",
     "output_type": "stream",
     "text": [
      "Enter the letter of your answer (A/B/C/D):  B\n"
     ]
    },
    {
     "name": "stdout",
     "output_type": "stream",
     "text": [
      "Incorrect. The correct answer is: C \n",
      "\n",
      "What is 2 + 2?\n",
      "A. 3\n",
      "B. 4\n",
      "C. 5\n",
      "D. 6\n"
     ]
    },
    {
     "name": "stdin",
     "output_type": "stream",
     "text": [
      "Enter the letter of your answer (A/B/C/D):  B\n"
     ]
    },
    {
     "name": "stdout",
     "output_type": "stream",
     "text": [
      "Correct!\n",
      "\n",
      "Quiz completed! Your score: 2 out of 3\n"
     ]
    }
   ],
   "source": [
    "# Define a list of quiz questions and their answer choices\n",
    "questions = [\n",
    "    {\n",
    "        \"question\": \"What is the capital of France?\",\n",
    "        \"choices\": [\"A. London\", \"B. Berlin\", \"C. Paris\", \"D. Madrid\"],\n",
    "        \"correct_answer\": \"C\"\n",
    "    },\n",
    "    {\n",
    "        \"question\": \"Which planet is known as the Red Planet?\",\n",
    "        \"choices\": [\"A. Earth\", \"B. Venus\", \"C. Mars\", \"D. Jupiter\"],\n",
    "        \"correct_answer\": \"C\"\n",
    "    },\n",
    "    {\n",
    "        \"question\": \"What is 2 + 2?\",\n",
    "        \"choices\": [\"A. 3\", \"B. 4\", \"C. 5\", \"D. 6\"],\n",
    "        \"correct_answer\": \"B\"\n",
    "    }\n",
    "]\n",
    "\n",
    "# Initialize the score\n",
    "score = 0\n",
    "\n",
    "# Function to display a question and get the user's answer\n",
    "def ask_question(question_data):\n",
    "    print(question_data[\"question\"])\n",
    "    for choice in question_data[\"choices\"]:\n",
    "        print(choice)\n",
    "    user_answer = input(\"Enter the letter of your answer (A/B/C/D): \").upper()\n",
    "    return user_answer\n",
    "\n",
    "# Function to check the user's answer\n",
    "def check_answer(question_data, user_answer):\n",
    "    if user_answer == question_data[\"correct_answer\"]:\n",
    "        return True\n",
    "    else:\n",
    "        return False\n",
    "\n",
    "# Quiz game loop\n",
    "for question_data in questions:\n",
    "    user_answer = ask_question(question_data)\n",
    "    if check_answer(question_data, user_answer):\n",
    "        print(\"Correct!\\n\")\n",
    "        score += 1\n",
    "    else:\n",
    "        print(\"Incorrect. The correct answer is:\", question_data[\"correct_answer\"], \"\\n\")\n",
    "\n",
    "# Display the final score\n",
    "print(\"Quiz completed! Your score:\", score, \"out of\", len(questions))\n"
   ]
  },
  {
   "cell_type": "markdown",
   "id": "0cf1ed95-5b2a-4702-ab96-8df873514b6d",
   "metadata": {},
   "source": [
    "27. Develop a program that determines whether a given year is a prime number or not.\n"
   ]
  },
  {
   "cell_type": "code",
   "execution_count": 53,
   "id": "14d370a7-5932-4717-9076-c83a1013dc80",
   "metadata": {},
   "outputs": [
    {
     "name": "stdin",
     "output_type": "stream",
     "text": [
      "Enter the year you want to check for 2001\n"
     ]
    },
    {
     "name": "stdout",
     "output_type": "stream",
     "text": [
      "The given year 2001 is a not a leap year\n"
     ]
    }
   ],
   "source": [
    "def prime_year(year):\n",
    "    if year%4==0 and year%100!=0 or year%400==0:\n",
    "        return \"leap year\"\n",
    "    else:\n",
    "        return \"not a leap year\"\n",
    "\n",
    "year = int(input(\"Enter the year you want to check for\"))\n",
    "\n",
    "print(\"The given year {} is a {}\".format(year, prime_year(year)))"
   ]
  },
  {
   "cell_type": "markdown",
   "id": "c22c3fa2-3a8e-48b6-8d41-b9b5c30683f6",
   "metadata": {},
   "source": [
    "28. Create a program that sorts three numbers in ascending order using conditional statements.\n"
   ]
  },
  {
   "cell_type": "code",
   "execution_count": 49,
   "id": "ec35d641-0a17-4e2a-b6ea-ce925638dafa",
   "metadata": {},
   "outputs": [
    {
     "name": "stdin",
     "output_type": "stream",
     "text": [
      "Enter the first number:  4\n",
      "Enter the second number:  10\n",
      "Enter the third number:  19992\n"
     ]
    },
    {
     "name": "stdout",
     "output_type": "stream",
     "text": [
      "Sorted numbers in ascending order: (4.0, 10.0, 19992.0)\n"
     ]
    }
   ],
   "source": [
    "# Input three numbers from the user\n",
    "num1 = float(input(\"Enter the first number: \"))\n",
    "num2 = float(input(\"Enter the second number: \"))\n",
    "num3 = float(input(\"Enter the third number: \"))\n",
    "\n",
    "# Use nested if-else statements to sort the numbers\n",
    "if num1 <= num2:\n",
    "    if num2 <= num3:\n",
    "        sorted_nums = (num1, num2, num3)\n",
    "    else:\n",
    "        if num1 <= num3:\n",
    "            sorted_nums = (num1, num3, num2)\n",
    "        else:\n",
    "            sorted_nums = (num3, num1, num2)\n",
    "else:\n",
    "    if num1 <= num3:\n",
    "        sorted_nums = (num2, num1, num3)\n",
    "    else:\n",
    "        if num2 <= num3:\n",
    "            sorted_nums = (num2, num3, num1)\n",
    "        else:\n",
    "            sorted_nums = (num3, num2, num1)\n",
    "\n",
    "# Display the sorted numbers\n",
    "print(\"Sorted numbers in ascending order:\", sorted_nums)\n"
   ]
  },
  {
   "cell_type": "markdown",
   "id": "4c8c3b9c-524c-408e-88e3-bebe268b97be",
   "metadata": {},
   "source": [
    "29. Build a program that determines the roots of a quartic equation using numerical methods.\n"
   ]
  },
  {
   "cell_type": "code",
   "execution_count": 54,
   "id": "078b5fb1-a7d5-4565-8c97-510c91bac42d",
   "metadata": {},
   "outputs": [
    {
     "name": "stdout",
     "output_type": "stream",
     "text": [
      "The roots of quadratic equation are (6.0, -1.0)\n"
     ]
    }
   ],
   "source": [
    "def sq_root(a,b,c):\n",
    "    sqrt_deter = (b**2 - 4*a*c)**0.5\n",
    "    r1 = (-b+sqrt_deter)/2\n",
    "    r2 = (-b - sqrt_deter)/2\n",
    "    return r1,r2\n",
    "\n",
    "#taking coeeficients of quadratic eqn as input\n",
    "a,b,c = (1,-5,-6)\n",
    "\n",
    "print(\"The roots of quadratic equation are\", sq_root(a,b,c))"
   ]
  },
  {
   "cell_type": "markdown",
   "id": "1e63c0a0-1668-4873-ad74-6cf2d64f8a3a",
   "metadata": {},
   "source": [
    "30. Write a program that calculates the BMI (Body Mass Index) and provides health recommendations based on the user's input."
   ]
  },
  {
   "cell_type": "code",
   "execution_count": 59,
   "id": "b3e36307-82d0-40ad-ad96-ca5c391308c9",
   "metadata": {},
   "outputs": [
    {
     "name": "stdin",
     "output_type": "stream",
     "text": [
      "Enter your weight in kilograms:  80\n",
      "Enter your height in meters:  1.7\n"
     ]
    },
    {
     "name": "stdout",
     "output_type": "stream",
     "text": [
      "Your BMI is: 27.68\n",
      "You are overweight. Consider increasing physical activity and improving your diet.\n"
     ]
    }
   ],
   "source": [
    "# Function to calculate BMI\n",
    "def calculate_bmi(weight_kg, height_m):\n",
    "    return weight_kg / (height_m ** 2)\n",
    "\n",
    "# Function to provide health recommendations\n",
    "def provide_recommendations(bmi):\n",
    "    if bmi < 18.5:\n",
    "        return \"You are underweight. Consider consulting a dietitian.\"\n",
    "    elif 18.5 <= bmi < 24.9:\n",
    "        return \"Your BMI is within the healthy range. Keep up the good work!\"\n",
    "    elif 25 <= bmi < 29.9:\n",
    "        return \"You are overweight. Consider increasing physical activity and improving your diet.\"\n",
    "    else:\n",
    "        return \"You are obese. It's important to consult a healthcare professional for guidance.\"\n",
    "\n",
    "# Input weight in kilograms and height in meters\n",
    "weight_kg = float(input(\"Enter your weight in kilograms: \"))\n",
    "height_m = float(input(\"Enter your height in meters: \"))\n",
    "\n",
    "# Calculate BMI\n",
    "bmi = calculate_bmi(weight_kg, height_m)\n",
    "\n",
    "# Display BMI and health recommendations\n",
    "print(f\"Your BMI is: {bmi:.2f}\")\n",
    "recommendations = provide_recommendations(bmi)\n",
    "print(recommendations)\n"
   ]
  },
  {
   "cell_type": "markdown",
   "id": "8ef5ef12-2dbf-4692-a349-cecdaa5ff61b",
   "metadata": {},
   "source": [
    "Challenge Level:\n",
    "31. Create a program that validates a password based on complexity rules (length, characters, etc.).\n"
   ]
  },
  {
   "cell_type": "code",
   "execution_count": 106,
   "id": "ac6686d1-df4f-4ed8-98d6-3a93a9c35ed6",
   "metadata": {},
   "outputs": [
    {
     "name": "stdin",
     "output_type": "stream",
     "text": [
      "Enter a password:  Hi1234akldjhcnalk!2\n"
     ]
    },
    {
     "name": "stdout",
     "output_type": "stream",
     "text": [
      "Password is valid.\n"
     ]
    }
   ],
   "source": [
    "import re\n",
    "\n",
    "def is_valid_password(password):\n",
    "    # Check if the password meets the length requirement (at least 8 characters)\n",
    "    if len(password) < 8:\n",
    "        return False\n",
    "\n",
    "    # Check if the password contains at least one uppercase letter\n",
    "    if not any(char.isupper() for char in password):\n",
    "        return False\n",
    "\n",
    "    # Check if the password contains at least one lowercase letter\n",
    "    if not any(char.islower() for char in password):\n",
    "        return False\n",
    "\n",
    "    # Check if the password contains at least one digit\n",
    "    if not any(char.isdigit() for char in password):\n",
    "        return False\n",
    "\n",
    "    # Check if the password contains at least one special character (e.g., @, #, $, etc.)\n",
    "    if not re.search(r'[!@#$%^&*(),.?\":{}|<>]', password):\n",
    "        return False\n",
    "\n",
    "    # Check if there are no consecutive repeated characters (e.g., \"aa\" or \"11\")\n",
    "    for i in range(len(password) - 1):\n",
    "        if password[i] == password[i + 1]:\n",
    "            return False\n",
    "\n",
    "    # If all checks pass, the password is valid\n",
    "    return True\n",
    "\n",
    "# Input a password from the user\n",
    "password = input(\"Enter a password: \")\n",
    "\n",
    "# Validate the password\n",
    "if is_valid_password(password):\n",
    "    print(\"Password is valid.\")\n",
    "else:\n",
    "    print(\"Password is not valid. Please follow the complexity rules.\")\n"
   ]
  },
  {
   "cell_type": "markdown",
   "id": "eec92a64-8aaf-49ce-a586-669b78542af3",
   "metadata": {},
   "source": [
    "32. Develop a program that performs matrix addition and subtraction based on user input.\n"
   ]
  },
  {
   "cell_type": "code",
   "execution_count": 27,
   "id": "3634f710-f7da-40a0-85d8-f6801621746b",
   "metadata": {},
   "outputs": [
    {
     "name": "stdout",
     "output_type": "stream",
     "text": [
      "Welcome to Text-Based Tic-Tac-Toe!\n",
      "  |   |  \n",
      "---------\n",
      "  |   |  \n",
      "---------\n",
      "  |   |  \n",
      "---------\n"
     ]
    },
    {
     "name": "stdin",
     "output_type": "stream",
     "text": [
      "Enter your move (1-9):  1\n"
     ]
    },
    {
     "name": "stdout",
     "output_type": "stream",
     "text": [
      "X |   |  \n",
      "---------\n",
      "  |   | O\n",
      "---------\n",
      "  |   |  \n",
      "---------\n"
     ]
    },
    {
     "name": "stdin",
     "output_type": "stream",
     "text": [
      "Enter your move (1-9):  5\n"
     ]
    },
    {
     "name": "stdout",
     "output_type": "stream",
     "text": [
      "X |   | O\n",
      "---------\n",
      "  | X | O\n",
      "---------\n",
      "  |   |  \n",
      "---------\n"
     ]
    },
    {
     "name": "stdin",
     "output_type": "stream",
     "text": [
      "Enter your move (1-9):  9\n"
     ]
    },
    {
     "name": "stdout",
     "output_type": "stream",
     "text": [
      "X |   | O\n",
      "---------\n",
      "  | X | O\n",
      "---------\n",
      "  |   | X\n",
      "---------\n",
      "Congratulations! You win!\n"
     ]
    }
   ],
   "source": []
  },
  {
   "cell_type": "markdown",
   "id": "2dd2e86c-962e-4779-9033-1ce84681ca2a",
   "metadata": {},
   "source": [
    "33. Write a program that calculates the greatest common divisor (GCD) of two numbers using the Euclidean algorithm.\n"
   ]
  },
  {
   "cell_type": "code",
   "execution_count": 4,
   "id": "d211792c-dc79-4918-a99b-08527dc21266",
   "metadata": {},
   "outputs": [
    {
     "name": "stdin",
     "output_type": "stream",
     "text": [
      "Enter the first number 128\n",
      "Enter the second number 96\n"
     ]
    },
    {
     "name": "stdout",
     "output_type": "stream",
     "text": [
      "GCD of 128 and 96 is: 32\n"
     ]
    }
   ],
   "source": [
    "#function takes num1 and num2 as input and returns their gcd\n",
    "def gcd(num1, num2):\n",
    "    if num1 ==0:\n",
    "        return num2\n",
    "    elif num2 == 0:\n",
    "        return num1\n",
    "    else:\n",
    "        if num1<num2:\n",
    "            return gcd(num1,num2%num1)\n",
    "        else:\n",
    "            return gcd(num2, num1%num2)\n",
    "        \n",
    "#taking input from user\n",
    "num1 = int(input(\"Enter the first number\"))\n",
    "num2 = int(input(\"Enter the second number\"))\n",
    "\n",
    "#print the output\n",
    "print(\"GCD of {} and {} is: {}\".format(num1,num2,gcd(num1,num2)))"
   ]
  },
  {
   "cell_type": "markdown",
   "id": "b772c287-15ab-4b85-8cbe-7bc882367a63",
   "metadata": {},
   "source": [
    "34. Build a program that performs matrix multiplication using nested loops and conditional statements.\n"
   ]
  },
  {
   "cell_type": "code",
   "execution_count": 21,
   "id": "5c8625c9-f2e5-40a8-b08f-48c4bdece760",
   "metadata": {},
   "outputs": [
    {
     "name": "stdin",
     "output_type": "stream",
     "text": [
      "Enter the number of rows for the first matrix:  2\n",
      "Enter the number of columns for the first matrix:  2\n",
      "Enter the value at position (1,1) for the first matrix:  1\n",
      "Enter the value at position (1,2) for the first matrix:  1\n",
      "Enter the value at position (2,1) for the first matrix:  2\n",
      "Enter the value at position (2,2) for the first matrix:  2\n",
      "Enter the number of rows for the second matrix:  2\n",
      "Enter the number of columns for the second matrix:  2\n",
      "Enter the value at position (1,1) for the second matrix:  1\n",
      "Enter the value at position (1,2) for the second matrix:  2\n",
      "Enter the value at position (2,1) for the second matrix:  2\n",
      "Enter the value at position (2,2) for the second matrix:  1\n"
     ]
    },
    {
     "name": "stdout",
     "output_type": "stream",
     "text": [
      "\n",
      "Resultant matrix:\n",
      "3.0 3.0\n",
      "6.0 6.0\n"
     ]
    }
   ],
   "source": [
    "def matrix_multiply(matrix1, matrix2):\n",
    "    rows1 = len(matrix1)\n",
    "    cols1 = len(matrix1[0])\n",
    "    rows2 = len(matrix2)\n",
    "    cols2 = len(matrix2[0])\n",
    "\n",
    "    # Check if matrices can be multiplied\n",
    "    if cols1 != rows2:\n",
    "        print(\"Matrix multiplication is not possible. Number of columns in the first matrix must equal the number of rows in the second matrix.\")\n",
    "        return None\n",
    "\n",
    "    # Initialize the result matrix with zeros\n",
    "    result = [[0 for _ in range(cols2)] for _ in range(rows1)]\n",
    "\n",
    "    # Perform matrix multiplication\n",
    "    for i in range(rows1):\n",
    "        for j in range(cols2):\n",
    "            for k in range(cols1):\n",
    "                result[i][j] += matrix1[i][k] * matrix2[k][j]\n",
    "\n",
    "    return result\n",
    "\n",
    "def print_matrix(matrix):\n",
    "    for row in matrix:\n",
    "        print(\" \".join(map(str, row)))\n",
    "\n",
    "def main():\n",
    "    try:\n",
    "        rows1 = int(input(\"Enter the number of rows for the first matrix: \"))\n",
    "        cols1 = int(input(\"Enter the number of columns for the first matrix: \"))\n",
    "\n",
    "        matrix1 = []\n",
    "        for i in range(rows1):\n",
    "            row = []\n",
    "            for j in range(cols1):\n",
    "                value = float(input(f\"Enter the value at position ({i + 1},{j + 1}) for the first matrix: \"))\n",
    "                row.append(value)\n",
    "            matrix1.append(row)\n",
    "\n",
    "        rows2 = int(input(\"Enter the number of rows for the second matrix: \"))\n",
    "        cols2 = int(input(\"Enter the number of columns for the second matrix: \"))\n",
    "\n",
    "        matrix2 = []\n",
    "        for i in range(rows2):\n",
    "            row = []\n",
    "            for j in range(cols2):\n",
    "                value = float(input(f\"Enter the value at position ({i + 1},{j + 1}) for the second matrix: \"))\n",
    "                row.append(value)\n",
    "            matrix2.append(row)\n",
    "\n",
    "        result = matrix_multiply(matrix1, matrix2)\n",
    "\n",
    "        if result:\n",
    "            print(\"\\nResultant matrix:\")\n",
    "            print_matrix(result)\n",
    "    except ValueError:\n",
    "        print(\"Invalid input. Please enter valid numbers for matrix elements.\")\n",
    "\n",
    "if __name__ == \"__main__\":\n",
    "    main()\n"
   ]
  },
  {
   "cell_type": "markdown",
   "id": "31349b1c-a2de-4470-8164-e89fce1e0ff0",
   "metadata": {},
   "source": [
    "35. Create a program that simulates a basic text-based tic-tac-toe game against the computer.\n"
   ]
  },
  {
   "cell_type": "code",
   "execution_count": 28,
   "id": "7dd85f64-9744-4778-92be-c3c77c94f048",
   "metadata": {},
   "outputs": [
    {
     "name": "stdout",
     "output_type": "stream",
     "text": [
      "Welcome to Text-Based Tic-Tac-Toe!\n",
      "  |   |  \n",
      "---------\n",
      "  |   |  \n",
      "---------\n",
      "  |   |  \n",
      "---------\n"
     ]
    },
    {
     "name": "stdin",
     "output_type": "stream",
     "text": [
      "Enter your move (1-9):  1\n"
     ]
    },
    {
     "name": "stdout",
     "output_type": "stream",
     "text": [
      "X | O |  \n",
      "---------\n",
      "  |   |  \n",
      "---------\n",
      "  |   |  \n",
      "---------\n"
     ]
    },
    {
     "name": "stdin",
     "output_type": "stream",
     "text": [
      "Enter your move (1-9):  5\n"
     ]
    },
    {
     "name": "stdout",
     "output_type": "stream",
     "text": [
      "X | O |  \n",
      "---------\n",
      "  | X | O\n",
      "---------\n",
      "  |   |  \n",
      "---------\n"
     ]
    },
    {
     "name": "stdin",
     "output_type": "stream",
     "text": [
      "Enter your move (1-9):  9\n"
     ]
    },
    {
     "name": "stdout",
     "output_type": "stream",
     "text": [
      "X | O |  \n",
      "---------\n",
      "  | X | O\n",
      "---------\n",
      "  |   | X\n",
      "---------\n",
      "Congratulations! You win!\n"
     ]
    }
   ],
   "source": [
    "import random\n",
    "\n",
    "def print_board(board):\n",
    "    for row in board:\n",
    "        print(\" | \".join(row))\n",
    "        print(\"-\" * 9)\n",
    "\n",
    "def check_winner(board, player):\n",
    "    for row in board:\n",
    "        if all(cell == player for cell in row):\n",
    "            return True\n",
    "\n",
    "    for col in range(3):\n",
    "        if all(board[row][col] == player for row in range(3)):\n",
    "            return True\n",
    "\n",
    "    if all(board[i][i] == player for i in range(3)) or all(board[i][2 - i] == player for i in range(3)):\n",
    "        return True\n",
    "\n",
    "    return False\n",
    "\n",
    "def is_board_full(board):\n",
    "    return all(cell != \" \" for row in board for cell in row)\n",
    "\n",
    "def player_move(board):\n",
    "    while True:\n",
    "        try:\n",
    "            move = int(input(\"Enter your move (1-9): \"))\n",
    "            if 1 <= move <= 9:\n",
    "                row, col = divmod(move - 1, 3)\n",
    "                if board[row][col] == \" \":\n",
    "                    return row, col\n",
    "                else:\n",
    "                    print(\"That space is already taken. Try again.\")\n",
    "            else:\n",
    "                print(\"Invalid input. Enter a number between 1 and 9.\")\n",
    "        except ValueError:\n",
    "            print(\"Invalid input. Enter a number between 1 and 9.\")\n",
    "\n",
    "def computer_move(board):\n",
    "    empty_cells = [(row, col) for row in range(3) for col in range(3) if board[row][col] == \" \"]\n",
    "    return random.choice(empty_cells)\n",
    "\n",
    "def main():\n",
    "    board = [[\" \" for _ in range(3)] for _ in range(3)]\n",
    "    player_symbol = \"X\"\n",
    "    computer_symbol = \"O\"\n",
    "\n",
    "    print(\"Welcome to Text-Based Tic-Tac-Toe!\")\n",
    "\n",
    "    while True:\n",
    "        print_board(board)\n",
    "        player_row, player_col = player_move(board)\n",
    "        board[player_row][player_col] = player_symbol\n",
    "\n",
    "        if check_winner(board, player_symbol):\n",
    "            print_board(board)\n",
    "            print(\"Congratulations! You win!\")\n",
    "            break\n",
    "\n",
    "        if is_board_full(board):\n",
    "            print_board(board)\n",
    "            print(\"It's a tie!\")\n",
    "            break\n",
    "\n",
    "        computer_row, computer_col = computer_move(board)\n",
    "        board[computer_row][computer_col] = computer_symbol\n",
    "\n",
    "        if check_winner(board, computer_symbol):\n",
    "            print_board(board)\n",
    "            print(\"Computer wins! Better luck next time.\")\n",
    "            break\n",
    "\n",
    "        if is_board_full(board):\n",
    "            print_board(board)\n",
    "            print(\"It's a tie!\")\n",
    "            break\n",
    "\n",
    "if __name__ == \"__main__\":\n",
    "    main()\n",
    "\n"
   ]
  },
  {
   "cell_type": "markdown",
   "id": "5423a0a1-03af-4474-a5aa-ff34c13c9828",
   "metadata": {},
   "source": [
    "36. Write a program that generates Fibonacci numbers up to a specified term using iterative methods.\n"
   ]
  },
  {
   "cell_type": "code",
   "execution_count": 19,
   "id": "4ef5aa38-19d4-451b-ab46-4d489aedaab3",
   "metadata": {},
   "outputs": [
    {
     "name": "stdin",
     "output_type": "stream",
     "text": [
      "Enter the number till which you want fibonacci series 10\n"
     ]
    },
    {
     "name": "stdout",
     "output_type": "stream",
     "text": [
      "[0, 1, 1, 2, 3, 5, 8, 13, 21, 34, 55]\n"
     ]
    }
   ],
   "source": [
    "#function takes n as input and returns a list of fibonacci number\n",
    "def fibo_iter(n):\n",
    "    a,b = 0,1\n",
    "    l = []\n",
    "    l.append(0)\n",
    "    l.append(1)\n",
    "    for i in range(n-1):\n",
    "        a,b = b,a+b\n",
    "        l.append(b)\n",
    "    return l\n",
    "\n",
    "#taking input from user\n",
    "n = int(input(\"Enter the number till which you want fibonacci series\"))\n",
    "\n",
    "#printing the result\n",
    "print(fibo_iter(n))"
   ]
  },
  {
   "cell_type": "markdown",
   "id": "c4e81c60-bc14-43a6-bb37-18673b601c66",
   "metadata": {},
   "source": [
    "37. Develop a program that calculates the nth term of the Fibonacci sequence using memoization.\n"
   ]
  },
  {
   "cell_type": "code",
   "execution_count": 7,
   "id": "31cb73a2-64c7-4747-a574-ebc9ab08db51",
   "metadata": {},
   "outputs": [
    {
     "name": "stdin",
     "output_type": "stream",
     "text": [
      "Enter the value whose fibo you want 8\n"
     ]
    },
    {
     "name": "stdout",
     "output_type": "stream",
     "text": [
      "F(n) = 21\n"
     ]
    }
   ],
   "source": [
    "# Function to find the nth Fibonacci number\n",
    "def fib(n, lookup):\n",
    " \n",
    "    if n <= 1:\n",
    "        return n\n",
    " \n",
    "    # if the subproblem is seen for the first time\n",
    "    if n not in lookup:\n",
    "        lookup[n] = fib(n - 1, lookup) + fib(n - 2, lookup)\n",
    " \n",
    "    return lookup[n]\n",
    " \n",
    " \n",
    "\n",
    " \n",
    "n = int(input(\"Enter the value whose fibo you want\"))\n",
    "lookup = {}\n",
    " \n",
    "print('F(n) =', fib(n, lookup))"
   ]
  },
  {
   "cell_type": "markdown",
   "id": "14804154-5a11-4e0d-9baf-cadad4df922d",
   "metadata": {},
   "source": [
    "38. Create a program that generates a calendar for a given month and year using conditional statements.\n"
   ]
  },
  {
   "cell_type": "code",
   "execution_count": 9,
   "id": "6401507e-a911-4e3f-b15d-f9145aadc127",
   "metadata": {},
   "outputs": [
    {
     "name": "stdin",
     "output_type": "stream",
     "text": [
      "Enter the year (e.g., 2023):  2024\n",
      "Enter the month (1-12):  1\n"
     ]
    },
    {
     "name": "stdout",
     "output_type": "stream",
     "text": [
      "Calendar for 1/2024:\n",
      "    January 2024\n",
      "Mo Tu We Th Fr Sa Su\n",
      " 1  2  3  4  5  6  7\n",
      " 8  9 10 11 12 13 14\n",
      "15 16 17 18 19 20 21\n",
      "22 23 24 25 26 27 28\n",
      "29 30 31\n",
      "\n"
     ]
    }
   ],
   "source": [
    "import calendar\n",
    "\n",
    "def generate_calendar(year, month):\n",
    "    # Create a calendar object for the specified month and year\n",
    "    cal = calendar.month(year, month)\n",
    "\n",
    "    # Print the calendar\n",
    "    print(\"Calendar for {}/{}:\".format(month, year))\n",
    "    print(cal)\n",
    "\n",
    "\n",
    "try:\n",
    "    year = int(input(\"Enter the year (e.g., 2023): \"))\n",
    "    month = int(input(\"Enter the month (1-12): \"))\n",
    "\n",
    "    if 1 <= month <= 12:\n",
    "        generate_calendar(year, month)\n",
    "    else:\n",
    "        print(\"Invalid month. Please enter a number between 1 and 12.\")\n",
    "except ValueError:\n",
    "    print(\"Invalid input. Please enter valid year and month.\")\n"
   ]
  },
  {
   "cell_type": "markdown",
   "id": "e5092563-680b-4bd3-a86c-f4fdad7c1e3f",
   "metadata": {},
   "source": [
    "39. Build a program that simulates a basic text-based blackjack game against the computer.\n"
   ]
  },
  {
   "cell_type": "code",
   "execution_count": 25,
   "id": "c2aba103-076a-43d2-b2d1-6b28485a03d2",
   "metadata": {},
   "outputs": [
    {
     "name": "stdout",
     "output_type": "stream",
     "text": [
      "\n",
      "Your hand: ['4', '2'] Value: 6\n",
      "Dealer's hand: 7 Value: ?\n",
      "\n"
     ]
    },
    {
     "name": "stdin",
     "output_type": "stream",
     "text": [
      "Do you want to 'hit' or 'stand'?  hit\n"
     ]
    },
    {
     "name": "stdout",
     "output_type": "stream",
     "text": [
      "\n",
      "Your hand: ['4', '2', 'J'] Value: 16\n",
      "Dealer's hand: 7 Value: ?\n",
      "\n"
     ]
    },
    {
     "name": "stdin",
     "output_type": "stream",
     "text": [
      "Do you want to 'hit' or 'stand'?  hit\n"
     ]
    },
    {
     "name": "stdout",
     "output_type": "stream",
     "text": [
      "\n",
      "Your hand: ['4', '2', 'J', '3'] Value: 19\n",
      "Dealer's hand: 7 Value: ?\n",
      "\n"
     ]
    },
    {
     "name": "stdin",
     "output_type": "stream",
     "text": [
      "Do you want to 'hit' or 'stand'?  hit\n"
     ]
    },
    {
     "name": "stdout",
     "output_type": "stream",
     "text": [
      "\n",
      "Your hand: ['4', '2', 'J', '3', '8'] Value: 27\n",
      "Dealer's hand: 7 Value: ?\n",
      "\n",
      "Bust! You lose.\n"
     ]
    }
   ],
   "source": [
    "import random\n",
    "\n",
    "# Function to calculate the total value of a hand\n",
    "def calculate_hand_value(hand):\n",
    "    value = 0\n",
    "    num_aces = 0\n",
    "\n",
    "    for card in hand:\n",
    "        if card in ['J', 'Q', 'K']:\n",
    "            value += 10\n",
    "        elif card == 'A':\n",
    "            value += 11\n",
    "            num_aces += 1\n",
    "        else:\n",
    "            value += int(card)\n",
    "\n",
    "    while value > 21 and num_aces > 0:\n",
    "        value -= 10\n",
    "        num_aces -= 1\n",
    "\n",
    "    return value\n",
    "\n",
    "# Function to display the current status of the game\n",
    "def display_game(player_hand, dealer_hand):\n",
    "    print(\"\\nYour hand:\", player_hand, \"Value:\", calculate_hand_value(player_hand))\n",
    "    print(\"Dealer's hand:\", dealer_hand[0], \"Value: ?\\n\")\n",
    "\n",
    "# Function to determine the game outcome\n",
    "def determine_winner(player_hand, dealer_hand):\n",
    "    player_value = calculate_hand_value(player_hand)\n",
    "    dealer_value = calculate_hand_value(dealer_hand)\n",
    "\n",
    "    if player_value > 21:\n",
    "        return \"Dealer\"\n",
    "    elif dealer_value > 21:\n",
    "        return \"Player\"\n",
    "    elif player_value == dealer_value:\n",
    "        return \"Tie\"\n",
    "    elif player_value > dealer_value:\n",
    "        return \"Player\"\n",
    "    else:\n",
    "        return \"Dealer\"\n",
    "\n",
    "# Initialize the deck of cards\n",
    "suits = ['Hearts', 'Diamonds', 'Clubs', 'Spades']\n",
    "ranks = ['2', '3', '4', '5', '6', '7', '8', '9', '10', 'J', 'Q', 'K', 'A']\n",
    "\n",
    "deck = [rank for rank in ranks for _ in suits]\n",
    "\n",
    "# Shuffle the deck\n",
    "random.shuffle(deck)\n",
    "\n",
    "# Deal two initial cards to the player and the dealer\n",
    "player_hand = [deck.pop(), deck.pop()]\n",
    "dealer_hand = [deck.pop(), deck.pop()]\n",
    "\n",
    "# Main game loop\n",
    "while True:\n",
    "    display_game(player_hand, dealer_hand)\n",
    "\n",
    "    if calculate_hand_value(player_hand) == 21:\n",
    "        print(\"Blackjack! You win!\")\n",
    "        break\n",
    "\n",
    "    action = input(\"Do you want to 'hit' or 'stand'? \").lower()\n",
    "\n",
    "    if action == 'hit':\n",
    "        player_hand.append(deck.pop())\n",
    "        if calculate_hand_value(player_hand) > 21:\n",
    "            display_game(player_hand, dealer_hand)\n",
    "            print(\"Bust! You lose.\")\n",
    "            break\n",
    "    elif action == 'stand':\n",
    "        while calculate_hand_value(dealer_hand) < 17:\n",
    "            dealer_hand.append(deck.pop())\n",
    "        display_game(player_hand, dealer_hand)\n",
    "        winner = determine_winner(player_hand, dealer_hand)\n",
    "        print(f\"{winner} wins!\")\n",
    "        break\n",
    "    else:\n",
    "        print(\"Invalid input. Please enter 'hit' or 'stand'.\")\n",
    "\n",
    "    if len(deck) < 4:\n",
    "        print(\"Not enough cards in the deck. Game over.\")\n",
    "        break\n"
   ]
  },
  {
   "cell_type": "markdown",
   "id": "d73a94a3-d8a1-4a58-b3ce-2fc28a410c8d",
   "metadata": {},
   "source": [
    "40. Write a program that generates the prime factors of a given number using trial division."
   ]
  },
  {
   "cell_type": "code",
   "execution_count": 10,
   "id": "d3173087-7a98-4897-b605-ee3f82f9bc99",
   "metadata": {},
   "outputs": [
    {
     "name": "stdin",
     "output_type": "stream",
     "text": [
      "Enter a positive integer:  4\n"
     ]
    },
    {
     "name": "stdout",
     "output_type": "stream",
     "text": [
      "The prime factors of 4 are: 2, 2\n"
     ]
    }
   ],
   "source": [
    "def prime_factors(n):\n",
    "    factors = []\n",
    "    divisor = 2\n",
    "\n",
    "    while n > 1:\n",
    "        while n % divisor == 0:\n",
    "            factors.append(divisor)\n",
    "            n //= divisor\n",
    "        divisor += 1\n",
    "\n",
    "    return factors\n",
    "\n",
    "\n",
    "try:\n",
    "    num = int(input(\"Enter a positive integer: \"))\n",
    "    if num <= 0:\n",
    "        print(\"Please enter a positive integer.\")\n",
    "    else:\n",
    "        factors = prime_factors(num)\n",
    "        if len(factors) == 1:\n",
    "            print(f\"{num} is a prime number.\")\n",
    "        else:\n",
    "            print(f\"The prime factors of {num} are: {', '.join(map(str, factors))}\")\n",
    "except ValueError:\n",
    "    print(\"Invalid input. Please enter a valid positive integer.\")\n",
    "\n",
    "\n"
   ]
  },
  {
   "cell_type": "code",
   "execution_count": null,
   "id": "d03fd671-2ab3-4da3-b3c4-2c3f84972e67",
   "metadata": {},
   "outputs": [],
   "source": []
  }
 ],
 "metadata": {
  "kernelspec": {
   "display_name": "Python 3 (ipykernel)",
   "language": "python",
   "name": "python3"
  },
  "language_info": {
   "codemirror_mode": {
    "name": "ipython",
    "version": 3
   },
   "file_extension": ".py",
   "mimetype": "text/x-python",
   "name": "python",
   "nbconvert_exporter": "python",
   "pygments_lexer": "ipython3",
   "version": "3.10.8"
  }
 },
 "nbformat": 4,
 "nbformat_minor": 5
}
