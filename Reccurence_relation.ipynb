{
 "cells": [
  {
   "cell_type": "markdown",
   "id": "99ab0491-edcf-4e79-9318-4aa71f943815",
   "metadata": {},
   "source": [
    "1. Find the value of T(2) for the recurrence relation T(n) = 3T(n-1) + 12n, given that T(0)=5."
   ]
  },
  {
   "cell_type": "markdown",
   "id": "24beb890-20d3-4a2e-aa35-bb3c34c4e664",
   "metadata": {},
   "source": [
    "**Answer 1.**\n",
    "\n",
    " T(n) = 3T(n-1) + 12n \n",
    "\n",
    "Now, let's express \\( T(n) \\) in terms of smaller values and apply the initial condition \\( T(0) = 5 \\):\n",
    "\n",
    "\\\n",
    "\\begin{align*}\n",
    "T(2) &= 3T(1) + 12 \\times 2 \\\\\n",
    "&= 3(3T(0) + 12 \\times 1) + 12 \\times 2 \\\\\n",
    "&= 3(3 \\times 5 + 12) + 24 \\\\\n",
    "&= 3(15 + 12) + 24 \\\\\n",
    "&= 3 \\times 27 + 24 \\\\\n",
    "&= 81 + 24 \\\\\n",
    "&= 105\n",
    "\\end{align*}\n",
    "\n",
    "\n",
    "Therefore, the value of \\( T(2) \\) for the given recurrence relation and initial condition is \\( 105 \\)."
   ]
  },
  {
   "cell_type": "markdown",
   "id": "cb2106a5-bcae-4852-bb8d-92c33877d7fc",
   "metadata": {},
   "source": [
    "## 2. Given a reccurrence relation, solve it using the substitution method:\n",
    "\n"
   ]
  },
  {
   "cell_type": "markdown",
   "id": "1ddbc566-4ee0-4c64-9577-efb77f174784",
   "metadata": {},
   "source": [
    "### a. T(n) = T(n-1) + c"
   ]
  },
  {
   "cell_type": "markdown",
   "id": "c8384f5b-5c26-451f-bd89-74b93467af93",
   "metadata": {},
   "source": [
    "Answer 2(a).\n",
    "To solve the recurrence relation \\(T(n) = T(n-1) + c\\) using the substitution method, let's start by making an initial guess for the form of the solution. We assume that the solution can be expressed as \\(T(n) = An + B\\), where \\(A\\) and \\(B\\) are constants.\n",
    "\n",
    "Substitute this guess into the recurrence relation and solve for \\(A\\) and \\(B\\):\n",
    "\n",
    " T(n) = T(n-1) + c \n",
    "\n",
    " An + B = A(n-1) + B + c\n",
    "\n",
    "Now, let's simplify and solve for \\(A\\) and \\(B\\):\n",
    "\n",
    " An + B = An - A + B + c \n",
    "\n",
    " c = -A + c \n",
    "\n",
    " A = 0 \n",
    "\n",
    "This implies that \\(A\\) is 0. Now, substitute \\(A = 0\\) back into the original equation:\n",
    "\n",
    " T(n) = 0n + B \n",
    "\n",
    "So, the solution to the recurrence relation \\(T(n) = T(n-1) + c\\) is \\(T(n) = B\\).\n",
    "\n",
    "In summary, the solution is a constant value \\(B\\), which means that the recurrence relation represents a linear growth with a constant term.\n",
    "\n",
    "Which is O(n)"
   ]
  },
  {
   "cell_type": "markdown",
   "id": "706f0c93-75ff-48f0-b3e3-6764f965d097",
   "metadata": {},
   "source": [
    "### b. T(n) = 2T(n/2) + n\n"
   ]
  },
  {
   "cell_type": "markdown",
   "id": "07d61934-b7a3-4a7e-8317-6ef70e69df25",
   "metadata": {},
   "source": [
    "Answer 2(b)\n",
    "\n",
    "### Recurrence Relation: \\( T(n) = 2T(n/2) + n \\)\n",
    "\n",
    "To solve the recurrence relation using the substitution method, we assume that the solution can be expressed as \\( T(n) = an + b \\), where \\( a \\) and \\( b \\) are constants.\n",
    "\n",
    "Substitute this guess into the recurrence relation and solve for \\( a \\) and \\( b \\):\n",
    "\n",
    "\\[ T(n) = 2T(n/2) + n \\]\n",
    "\n",
    "\\[ an + b = 2(an + b) + n \\]\n",
    "\n",
    "Now, let's simplify and solve for \\( a \\) and \\( b \\):\n",
    "\n",
    "\\[ an + b = an + 2b + n \\]\n",
    "\n",
    "\\[ 0 = b \\]\n",
    "\n",
    "So, \\( b \\) is 0. Now, substitute \\( b = 0 \\) back into the original equation:\n",
    "\n",
    "\\[ T(n) = an \\]\n",
    "\n",
    "Now, let's use the initial condition to find the value of \\( a \\). If \\( T(1) = c \\), then:\n",
    "\n",
    "\\[ T(1) = a.1 = c \\]\n",
    "\n",
    "\\[ a = c \\]\n",
    "\n",
    "So, the solution to the recurrence relation \\( T(n) = 2T(n/2) + n \\) is \\( T(n) = cn \\), where \\( c \\) is a constant determined by the initial condition. This indicates linear growth with respect to \\( n \\).\n",
    "\n",
    "Which is O(n)"
   ]
  },
  {
   "cell_type": "markdown",
   "id": "2589a017-577a-43e3-8a5c-d99507a37f37",
   "metadata": {},
   "source": [
    "### c. T(n) = 2T(n/2) + c\n"
   ]
  },
  {
   "cell_type": "markdown",
   "id": "24e716bc-37cd-4917-a38f-353a82fd5e06",
   "metadata": {},
   "source": [
    "Answer 2(c).\n",
    "\n",
    "\n",
    "\n",
    "### Recurrence Relation: \\( T(n) = 2T(n/2) + c \\)\n",
    "\n",
    "To solve the recurrence relation using the substitution method, we assume that the solution can be expressed as \\( T(n) = an + b \\), where \\( a \\) and \\( b \\) are constants.\n",
    "\n",
    "Substitute this guess into the recurrence relation and solve for \\( a \\) and \\( b \\):\n",
    "\n",
    "\\[ T(n) = 2T(n/2) + c \\]\n",
    "\n",
    "\\[ an + b = 2.(an/2 + b) + c \\]\n",
    "\n",
    "Now, let's simplify and solve for \\( a \\) and \\( b \\):\n",
    "\n",
    "\\[ an + b = an + 2b + c \\]\n",
    "\n",
    "\\[ 0 = b + c \\]\n",
    "\n",
    "So, \\( b \\) is \\(-c\\). Now, substitute \\( b = -c \\) back into the original equation:\n",
    "\n",
    "\\[ T(n) = an - c \\]\n",
    "\n",
    "Now, let's use the initial condition to find the value of \\( a \\). If \\( T(1) = d \\), then:\n",
    "\n",
    "\\[ T(1) = a.1 - c = d \\]\n",
    "\n",
    "\\[ a = c + d \\]\n",
    "\n",
    "So, the solution to the recurrence relation \\( T(n) = 2T(n/2) + c \\) is \\( T(n) = (c + d).n - c \\), where \\( c \\) and \\( d \\) are constants determined by the initial condition. This indicates linear growth with respect to \\( n \\).\n",
    "Which is O(n)"
   ]
  },
  {
   "cell_type": "markdown",
   "id": "e612dc4f-0f57-4299-a09b-db0689bb6adf",
   "metadata": {},
   "source": [
    "### d. T(n) = T(n/2) + c"
   ]
  },
  {
   "cell_type": "markdown",
   "id": "575b6339-d75d-4ae7-9296-39541c7d0116",
   "metadata": {},
   "source": [
    "ANswer 2(d).\n",
    "\n",
    "### Recurrence Relation: \\( T(n) = T(n/2) + c \\)\n",
    "\n",
    "To solve the recurrence relation using the substitution method, we assume that the solution can be expressed as \\( T(n) = an + b \\), where \\( a \\) and \\( b \\) are constants.\n",
    "\n",
    "Substitute this guess into the recurrence relation and solve for \\( a \\) and \\( b \\):\n",
    "\n",
    "\\[ T(n) = T(n/2) + c \\]\n",
    "\n",
    "\\[ an + b = a(n/2) + b + c \\]\n",
    "\n",
    "Now, let's simplify and solve for \\( a \\) and \\( b \\):\n",
    "\n",
    "\\[ an + b = an/2 + b + c \\]\n",
    "\n",
    "\\[ 0 = b + c \\]\n",
    "\n",
    "So, \\( b \\) is \\(-c\\). Now, substitute \\( b = -c \\) back into the original equation:\n",
    "\n",
    "\\[ T(n) = an - c \\]\n",
    "\n",
    "Now, let's use the initial condition to find the value of \\( a \\). If \\( T(1) = d \\), then:\n",
    "\n",
    "\\[ T(1) = a.1 - c = d \\]\n",
    "\n",
    "\\[ a = c + d \\]\n",
    "\n",
    "So, the solution to the recurrence relation \\( T(n) = T(n/2) + c \\) is \\( T(n) = (c + d).n - c \\), where \\( c \\) and \\( d \\) are constants determined by the initial condition. This indicates linear growth with respect to \\( n \\).\n",
    "Which is O(n)"
   ]
  },
  {
   "cell_type": "markdown",
   "id": "47d331de-0750-4936-a3cd-0fef8b197ea6",
   "metadata": {},
   "source": [
    "## 3. Given a recurrence relation, solve it using the recursive tree approach:"
   ]
  },
  {
   "cell_type": "markdown",
   "id": "c991ef65-89d6-4ae8-8cdd-f816ff710723",
   "metadata": {},
   "source": [
    "\n",
    "### a. T(n) = 2T(n-1) +1\n"
   ]
  },
  {
   "cell_type": "markdown",
   "id": "b767acfe-bbbb-42bc-af50-cd0401178e84",
   "metadata": {},
   "source": [
    "Answer 3(a)\n",
    "\n",
    "### a. \\( T(n) = 2T(n-1) + 1 \\)\n",
    "\n",
    "In the recursive tree approach, we create a tree to represent the recursive calls. Each node in the tree corresponds to a subproblem, and the edges represent the recursive relation.\n",
    "\n",
    "```plaintext\n",
    "          T(n)\n",
    "         /   \\\n",
    "     T(n-1)   T(n-1)\n",
    "       / \\     / \\\n",
    "  T(n-2) T(n-2) ...\n",
    "```\n",
    "\n",
    "Now, let's analyze the depth of the tree. At each level, we decrease \\( n \\) by 1 until it reaches 0. Therefore, the depth of the tree is \\( n \\).\n",
    "\n",
    "The work done at each level is a constant (1 in this case), and there are \\( 2^i \\) nodes at level \\( i \\).\n",
    "\n",
    "The total work done is the sum of the work at each level:\n",
    "\n",
    "\\[ T(n) = 2^0 + 2^1 + 2^2 + ... + 2^n \\]\n",
    "\n",
    "Using the formula for the sum of a geometric series:\n",
    "\n",
    "\\[ T(n) = 2^{n+1} - 1 \\]\n",
    "\n",
    "So, the solution to the recurrence relation \\( T(n) = 2T(n-1) + 1 \\) is \\( T(n) = 2^{n+1} - 1 \\).\n",
    "\n"
   ]
  },
  {
   "cell_type": "markdown",
   "id": "7f9192a5-3f82-48b1-871b-24ed1aa2f5d8",
   "metadata": {},
   "source": [
    "### b. T(n) = 2T(n/2) + n"
   ]
  },
  {
   "cell_type": "markdown",
   "id": "6b9e4a59-426a-4948-9dff-d5c674ea64aa",
   "metadata": {},
   "source": [
    "Answer 3(b).\n",
    "\n",
    "\n",
    "log{2}n means 2 is in subscript\n",
    "\n",
    "### b. \\( T(n) = 2T(n/2) + n \\)\n",
    "\n",
    "In this case, the recursive tree looks different because each level decreases \\( n \\) by a factor of 2.\n",
    "\n",
    "```plaintext\n",
    "          T(n)\n",
    "         /   \\\n",
    "     T(n/2)  T(n/2)\n",
    "       / \\     / \\\n",
    "  T(n/4) T(n/4) ...\n",
    "```\n",
    "\n",
    "Again, let's analyze the depth of the tree. Since \\( n \\) is divided by 2 at each level, the depth is \\(log{2}(n) \\).\n",
    "\n",
    "The work done at each level is \\( n \\), and there are \\( 2^i \\) nodes at level \\( i \\).\n",
    "\n",
    "The total work done is the sum of the work at each level:\n",
    "\n",
    "\\[ T(n) = n.(log{2}(n) + 1) \\]\n",
    "\n",
    "\n",
    "\n",
    "So, the solution to the recurrence relation \\( T(n) = 2T(n/2) + n \\) is \\( T(n) = n.(log{2}(n) + 1) \\)."
   ]
  },
  {
   "cell_type": "code",
   "execution_count": null,
   "id": "2e083bea-deb1-4c14-9690-ff0943d10c82",
   "metadata": {},
   "outputs": [],
   "source": []
  }
 ],
 "metadata": {
  "kernelspec": {
   "display_name": "Python 3 (ipykernel)",
   "language": "python",
   "name": "python3"
  },
  "language_info": {
   "codemirror_mode": {
    "name": "ipython",
    "version": 3
   },
   "file_extension": ".py",
   "mimetype": "text/x-python",
   "name": "python",
   "nbconvert_exporter": "python",
   "pygments_lexer": "ipython3",
   "version": "3.10.8"
  }
 },
 "nbformat": 4,
 "nbformat_minor": 5
}
