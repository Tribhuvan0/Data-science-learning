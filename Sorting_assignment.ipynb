{
 "cells": [
  {
   "cell_type": "markdown",
   "id": "079a9916-436e-4092-be9f-781a35db0013",
   "metadata": {},
   "source": [
    "Problem 1.Given an array of n numbers, give an algorithm which gives the element appearing maximum\n",
    "number of times?\n",
    "\n"
   ]
  },
  {
   "cell_type": "code",
   "execution_count": 1,
   "id": "17a5bad3-4927-4e43-bf4d-03cb23970fba",
   "metadata": {},
   "outputs": [
    {
     "name": "stdout",
     "output_type": "stream",
     "text": [
      "Element appearing maximum number of times: 4\n"
     ]
    }
   ],
   "source": [
    "def find_max_frequency_element(arr):\n",
    "    # Create a dictionary to store the frequency of each element\n",
    "    frequency_map = {}\n",
    "\n",
    "    # Traverse the array and update the frequency map\n",
    "    for num in arr:\n",
    "        if num in frequency_map:\n",
    "            frequency_map[num] += 1\n",
    "        else:\n",
    "            frequency_map[num] = 1\n",
    "\n",
    "    # Find the element with the maximum frequency\n",
    "    max_frequency = 0\n",
    "    max_frequency_element = None\n",
    "\n",
    "    for key, value in frequency_map.items():\n",
    "        if value > max_frequency:\n",
    "            max_frequency = value\n",
    "            max_frequency_element = key\n",
    "\n",
    "    return max_frequency_element\n",
    "\n",
    "# Example usage:\n",
    "arr = [1, 2, 3, 4, 2, 2, 3, 1, 4, 4, 4]\n",
    "result = find_max_frequency_element(arr)\n",
    "print(\"Element appearing maximum number of times:\", result)\n"
   ]
  },
  {
   "cell_type": "markdown",
   "id": "32873850-8fae-41b2-a676-6b9406be3a4e",
   "metadata": {},
   "source": [
    "Problem 2 : We are given a list of n-1 integers and these integers are in the range of 1 to n . There are no\n",
    "duplicates in the list. One of the integers is missing in the list. Give an algorithm to find that element Ex:\n",
    "[1,2,4,6,3,7,8] 5 is the missing num.\n",
    "\n"
   ]
  },
  {
   "cell_type": "code",
   "execution_count": 2,
   "id": "7175a6aa-8a2b-4395-a52e-02b6dc66a8da",
   "metadata": {},
   "outputs": [
    {
     "name": "stdout",
     "output_type": "stream",
     "text": [
      "Missing element: 5\n"
     ]
    }
   ],
   "source": [
    "def find_missing_element(arr):\n",
    "    # Calculate the expected sum for the range [1, 2, ..., n+1]\n",
    "    n = len(arr) + 1\n",
    "    expected_sum = (n * (n + 1)) // 2\n",
    "    \n",
    "    # Calculate the actual sum of the elements in the array\n",
    "    actual_sum = sum(arr)\n",
    "    \n",
    "    # The missing element is the difference between the expected sum and the actual sum\n",
    "    missing_element = expected_sum - actual_sum\n",
    "    \n",
    "    return missing_element\n",
    "\n",
    "# Example usage:\n",
    "arr = [1, 2, 4, 6, 3, 7, 8]\n",
    "result = find_missing_element(arr)\n",
    "print(\"Missing element:\", result)\n"
   ]
  },
  {
   "cell_type": "markdown",
   "id": "c16763d7-59b9-4fa8-9464-046c588ae1da",
   "metadata": {},
   "source": [
    "Problem 3 : Given an array of n positive numbers. All numbers occurs even number of times except 1 which\n",
    "occurs odd number of times. Find that number in O(n) time and O(1) space. Ex: [1,2,3,2,3,1,3]. 3 is repeats odd\n",
    "times.\n",
    "\n"
   ]
  },
  {
   "cell_type": "code",
   "execution_count": 3,
   "id": "cd077611-1983-4d61-a4a2-210588739067",
   "metadata": {},
   "outputs": [
    {
     "name": "stdout",
     "output_type": "stream",
     "text": [
      "Number occurring odd number of times: 3\n"
     ]
    }
   ],
   "source": [
    "def find_odd_occurrence(arr):\n",
    "    result = 0\n",
    "    \n",
    "    # XOR all elements in the array\n",
    "    for num in arr:\n",
    "        result ^= num\n",
    "    \n",
    "    return result\n",
    "\n",
    "# Example usage:\n",
    "arr = [1, 2, 3, 2, 3, 1, 3]\n",
    "result = find_odd_occurrence(arr)\n",
    "print(\"Number occurring odd number of times:\", result)\n"
   ]
  },
  {
   "cell_type": "markdown",
   "id": "58f294bc-d585-416c-af8f-6b2e55ce4f3e",
   "metadata": {},
   "source": [
    "Problem 4 : Given an array of n elements. Find two elements in the array such that their sum is equal to given\n",
    "element K.\n",
    "\n"
   ]
  },
  {
   "cell_type": "code",
   "execution_count": 4,
   "id": "79bc4bb6-8a33-4181-857f-1125e65e3767",
   "metadata": {},
   "outputs": [
    {
     "name": "stdout",
     "output_type": "stream",
     "text": [
      "Pair with sum 9 found: (5, 4)\n"
     ]
    }
   ],
   "source": [
    "def find_pair_with_sum(arr, target_sum):\n",
    "    seen_elements = set()\n",
    "\n",
    "    for num in arr:\n",
    "        complement = target_sum - num\n",
    "\n",
    "        # Check if the complement is already in the set\n",
    "        if complement in seen_elements:\n",
    "            return num, complement\n",
    "\n",
    "        # Add the current element to the set\n",
    "        seen_elements.add(num)\n",
    "\n",
    "    # If no pair is found, return None\n",
    "    return None\n",
    "\n",
    "# Example usage:\n",
    "arr = [1, 2, 3, 4, 5, 6]\n",
    "target_sum = 9\n",
    "result = find_pair_with_sum(arr, target_sum)\n",
    "\n",
    "if result:\n",
    "    print(\"Pair with sum\", target_sum, \"found:\", result)\n",
    "else:\n",
    "    print(\"No pair with sum\", target_sum, \"found.\")\n"
   ]
  },
  {
   "cell_type": "markdown",
   "id": "065d1b71-47cb-4000-b898-88c24b8e0ead",
   "metadata": {},
   "source": [
    "Problem 5 : Given an array of both positive and negative numbers, find two numbers such that their sum is\n",
    "closest to 0. Ex: [ 1 ,60 ,-10, 70, -80,85]. Ans : -80,85.\n",
    "\n"
   ]
  },
  {
   "cell_type": "code",
   "execution_count": 5,
   "id": "14502742-45d4-4042-995a-bacad765ce12",
   "metadata": {},
   "outputs": [
    {
     "name": "stdout",
     "output_type": "stream",
     "text": [
      "Closest sum pair: (-80, 85)\n"
     ]
    }
   ],
   "source": [
    "def find_closest_sum_pair(arr):\n",
    "    arr.sort()\n",
    "\n",
    "    # Initialize variables to keep track of the closest sum and the pair\n",
    "    closest_sum = float('inf')\n",
    "    closest_pair = (None, None)\n",
    "\n",
    "    left, right = 0, len(arr) - 1\n",
    "\n",
    "    while left < right:\n",
    "        current_sum = arr[left] + arr[right]\n",
    "\n",
    "        # Check if the current pair has a closer sum to zero\n",
    "        if abs(current_sum) < abs(closest_sum):\n",
    "            closest_sum = current_sum\n",
    "            closest_pair = (arr[left], arr[right])\n",
    "\n",
    "        # Move pointers based on the sign of the current sum\n",
    "        if current_sum < 0:\n",
    "            left += 1\n",
    "        elif current_sum > 0:\n",
    "            right -= 1\n",
    "        else:\n",
    "            # If the sum is zero, we have found the closest pair\n",
    "            return closest_pair\n",
    "\n",
    "    return closest_pair\n",
    "\n",
    "# Example usage:\n",
    "arr = [1, 60, -10, 70, -80, 85]\n",
    "result = find_closest_sum_pair(arr)\n",
    "print(\"Closest sum pair:\", result)\n"
   ]
  },
  {
   "cell_type": "markdown",
   "id": "cdab31ae-91cc-4b48-ba88-7249ebac0cee",
   "metadata": {},
   "source": [
    "Problem 6 : Given an array of n elements . Find three elements such that their sum is equal to the given\n",
    "number.\n",
    "\n"
   ]
  },
  {
   "cell_type": "code",
   "execution_count": 6,
   "id": "b68103b6-de5d-46bc-a140-6261b41ec516",
   "metadata": {},
   "outputs": [
    {
     "name": "stdout",
     "output_type": "stream",
     "text": [
      "Three elements with sum 18 found: (1, 8, 9)\n"
     ]
    }
   ],
   "source": [
    "def find_three_elements_with_sum(arr, target_sum):\n",
    "    arr.sort()\n",
    "\n",
    "    for i in range(len(arr) - 2):\n",
    "        left = i + 1\n",
    "        right = len(arr) - 1\n",
    "\n",
    "        while left < right:\n",
    "            current_sum = arr[i] + arr[left] + arr[right]\n",
    "\n",
    "            if current_sum == target_sum:\n",
    "                return arr[i], arr[left], arr[right]\n",
    "            elif current_sum < target_sum:\n",
    "                left += 1\n",
    "            else:\n",
    "                right -= 1\n",
    "\n",
    "    return None\n",
    "\n",
    "# Example usage:\n",
    "arr = [1, 2, 3, 4, 5, 6, 7, 8, 9]\n",
    "target_sum = 18\n",
    "result = find_three_elements_with_sum(arr, target_sum)\n",
    "\n",
    "if result:\n",
    "    print(\"Three elements with sum\", target_sum, \"found:\", result)\n",
    "else:\n",
    "    print(\"No three elements with sum\", target_sum, \"found.\")\n"
   ]
  },
  {
   "cell_type": "markdown",
   "id": "cf90d7a6-d2a9-4a97-8ef3-9db579ceaef9",
   "metadata": {},
   "source": [
    "Problem 7 : Given an array of n elements . Find three elements i, j, k in the array such that\n",
    "i * i + j * j = k*k.\n",
    "\n"
   ]
  },
  {
   "cell_type": "code",
   "execution_count": 7,
   "id": "3fc727fd-e292-4721-b86d-8d2186ecfe8e",
   "metadata": {},
   "outputs": [
    {
     "name": "stdout",
     "output_type": "stream",
     "text": [
      "No triplet found.\n"
     ]
    }
   ],
   "source": [
    "def find_triplet_with_square_sum(arr):\n",
    "    arr.sort()\n",
    "\n",
    "    for i in range(len(arr) - 2):\n",
    "        left = i + 1\n",
    "        right = len(arr) - 1\n",
    "\n",
    "        while left < right:\n",
    "            a = arr[i]\n",
    "            b = arr[left]\n",
    "            c = arr[right]\n",
    "\n",
    "            # Check if the current triplet satisfies the condition\n",
    "            if a * a + b * b == c * c:\n",
    "                return a, b, c\n",
    "            elif a * a + b * b < c * c:\n",
    "                left += 1\n",
    "            else:\n",
    "                right -= 1\n",
    "\n",
    "    return None\n",
    "\n",
    "# Example usage:\n",
    "arr = [3, 1, 4, 6, 5]\n",
    "result = find_triplet_with_square_sum(arr)\n",
    "\n",
    "if result:\n",
    "    print(\"Triplet (i, j, k) found:\", result)\n",
    "else:\n",
    "    print(\"No triplet found.\")\n"
   ]
  },
  {
   "cell_type": "markdown",
   "id": "a45a94dd-7f36-4562-ad96-c9b7e2f68867",
   "metadata": {},
   "source": [
    "Problem 8 : An element is a majority if it appears more than n/2 times. Give an algorithm takes an array of n\n",
    "element as argument and identifies a majority (if it exists).\n",
    "\n"
   ]
  },
  {
   "cell_type": "code",
   "execution_count": 8,
   "id": "7d825848-d445-46db-97dc-26c4c6424dad",
   "metadata": {},
   "outputs": [
    {
     "name": "stdout",
     "output_type": "stream",
     "text": [
      "Majority element: 4\n",
      "Majority element: 4\n"
     ]
    }
   ],
   "source": [
    "def find_majority_element(arr):\n",
    "    candidate = None\n",
    "    count = 0\n",
    "\n",
    "    # Phase 1: Find a potential candidate\n",
    "    for num in arr:\n",
    "        if count == 0:\n",
    "            candidate = num\n",
    "        count += 1 if num == candidate else -1\n",
    "\n",
    "    # Phase 2: Verify if the candidate is a majority element\n",
    "    count = 0\n",
    "    for num in arr:\n",
    "        if num == candidate:\n",
    "            count += 1\n",
    "\n",
    "    if count > len(arr) // 2:\n",
    "        return candidate\n",
    "    else:\n",
    "        return None\n",
    "\n",
    "# Example usage:\n",
    "arr = [3, 3, 4, 2, 4, 4, 2, 4, 4]\n",
    "result = find_majority_element(arr)\n",
    "\n",
    "if result is not None:\n",
    "    print(\"Majority element:\", result)\n",
    "else:\n",
    "    print(\"No majority element found.\")\n",
    "\n",
    "def find_majority_element(arr):\n",
    "    candidate = None\n",
    "    count = 0\n",
    "\n",
    "    # Phase 1: Find a potential candidate\n",
    "    for num in arr:\n",
    "        if count == 0:\n",
    "            candidate = num\n",
    "        count += 1 if num == candidate else -1\n",
    "\n",
    "    # Phase 2: Verify if the candidate is a majority element\n",
    "    count = 0\n",
    "    for num in arr:\n",
    "        if num == candidate:\n",
    "            count += 1\n",
    "\n",
    "    if count > len(arr) // 2:\n",
    "        return candidate\n",
    "    else:\n",
    "        return None\n",
    "\n",
    "# Example usage:\n",
    "arr = [3, 3, 4, 2, 4, 4, 2, 4, 4]\n",
    "result = find_majority_element(arr)\n",
    "\n",
    "if result is not None:\n",
    "    print(\"Majority element:\", result)\n",
    "else:\n",
    "    print(\"No majority element found.\")\n"
   ]
  },
  {
   "cell_type": "markdown",
   "id": "a765af87-14ea-4734-bafa-9431ae47d960",
   "metadata": {},
   "source": [
    "Problem 9 : Given n × n matrix, and in each row all 1’s are followed by 0’s. Find the row with the maximum\n",
    "number of 0’s.\n",
    "\n"
   ]
  },
  {
   "cell_type": "code",
   "execution_count": 9,
   "id": "956d792d-b08f-409a-8a9d-985b32d586a1",
   "metadata": {},
   "outputs": [
    {
     "name": "stdout",
     "output_type": "stream",
     "text": [
      "Row with the maximum number of zeros: 2\n"
     ]
    }
   ],
   "source": [
    "def find_max_zero_row(matrix):\n",
    "    rows, cols = len(matrix), len(matrix[0])\n",
    "    max_zero_row = -1\n",
    "    max_zeros_count = -1\n",
    "\n",
    "    for i in range(rows):\n",
    "        left, right = 0, cols - 1\n",
    "        zeros_count = 0\n",
    "\n",
    "        while left <= right:\n",
    "            mid = (left + right) // 2\n",
    "\n",
    "            if matrix[i][mid] == 0:\n",
    "                zeros_count = cols - mid\n",
    "                right = mid - 1\n",
    "            else:\n",
    "                left = mid + 1\n",
    "\n",
    "        if zeros_count > max_zeros_count:\n",
    "            max_zeros_count = zeros_count\n",
    "            max_zero_row = i\n",
    "\n",
    "    return max_zero_row\n",
    "\n",
    "# Example usage:\n",
    "matrix = [\n",
    "    [1, 1, 1, 0],\n",
    "    [1, 1, 0, 0],\n",
    "    [1, 0, 0, 0],\n",
    "    [1, 1, 1, 1]\n",
    "]\n",
    "\n",
    "result = find_max_zero_row(matrix)\n",
    "print(\"Row with the maximum number of zeros:\", result)\n"
   ]
  },
  {
   "cell_type": "markdown",
   "id": "827af6be-1f93-4e6b-9cbe-a17279843d7f",
   "metadata": {},
   "source": [
    "Problem 10 : Sort an array of 0’s, 1’s and 2’s [or R’s, G’s and B’s]: Given an array A[] consisting of 0’s, 1’s and\n",
    "2’s, give an algorithm for sorting A[].The algorithm should put all 0’s first, then all 1’s and finally all 2’s at the\n",
    "end. Example Input = {0,1,1,0,1,2,1,2,0,0,0,1}, Output = {0,0,0,0,0,1,1,1,1,1,2,2}"
   ]
  },
  {
   "cell_type": "code",
   "execution_count": 10,
   "id": "151403a7-07c7-4b44-b130-c82ea10f4521",
   "metadata": {},
   "outputs": [
    {
     "name": "stdout",
     "output_type": "stream",
     "text": [
      "Sorted array: [0, 0, 0, 0, 0, 1, 1, 1, 1, 1, 2, 2]\n"
     ]
    }
   ],
   "source": [
    "def sort_colors(arr):\n",
    "    low, mid, high = 0, 0, len(arr) - 1\n",
    "\n",
    "    while mid <= high:\n",
    "        if arr[mid] == 0:\n",
    "            arr[low], arr[mid] = arr[mid], arr[low]\n",
    "            low += 1\n",
    "            mid += 1\n",
    "        elif arr[mid] == 1:\n",
    "            mid += 1\n",
    "        else:\n",
    "            arr[mid], arr[high] = arr[high], arr[mid]\n",
    "            high -= 1\n",
    "\n",
    "# Example usage:\n",
    "arr = [0, 1, 1, 0, 1, 2, 1, 2, 0, 0, 0, 1]\n",
    "sort_colors(arr)\n",
    "print(\"Sorted array:\", arr)\n"
   ]
  },
  {
   "cell_type": "code",
   "execution_count": null,
   "id": "c78923c6-8731-475e-9f42-fedfd6e6c235",
   "metadata": {},
   "outputs": [],
   "source": []
  }
 ],
 "metadata": {
  "kernelspec": {
   "display_name": "Python 3 (ipykernel)",
   "language": "python",
   "name": "python3"
  },
  "language_info": {
   "codemirror_mode": {
    "name": "ipython",
    "version": 3
   },
   "file_extension": ".py",
   "mimetype": "text/x-python",
   "name": "python",
   "nbconvert_exporter": "python",
   "pygments_lexer": "ipython3",
   "version": "3.10.8"
  }
 },
 "nbformat": 4,
 "nbformat_minor": 5
}
