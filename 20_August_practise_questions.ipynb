{
 "cells": [
  {
   "cell_type": "markdown",
   "id": "ad0de2f7-a583-42e7-99ff-aa80a1cd4e12",
   "metadata": {},
   "source": [
    "1. Write a program to reverse a string."
   ]
  },
  {
   "cell_type": "code",
   "execution_count": 13,
   "id": "321b3029-f161-4408-b982-529272b15022",
   "metadata": {},
   "outputs": [
    {
     "name": "stdin",
     "output_type": "stream",
     "text": [
      "Enter the string you want to reverse Hi how ar eyou\n"
     ]
    },
    {
     "name": "stdout",
     "output_type": "stream",
     "text": [
      "The reversed string is: uoye ra woh iH\n"
     ]
    }
   ],
   "source": [
    "#Using slicing reversing the string, returns reversed string\n",
    "def revString(string: str):\n",
    "    return string[::-1]\n",
    "\n",
    "# Take a string as input\n",
    "string = input(\"Enter the string you want to reverse\")\n",
    "\n",
    "# printing the reversed string\n",
    "print(\"The reversed string is: {}\".format(revString(string)))"
   ]
  },
  {
   "cell_type": "markdown",
   "id": "f2b7115b-81e1-46d4-8149-27962ac322ad",
   "metadata": {},
   "source": [
    "2. Check if a string is a palindrome."
   ]
  },
  {
   "cell_type": "code",
   "execution_count": 16,
   "id": "95246d66-6aa0-45c9-9346-3df78e5af0f5",
   "metadata": {},
   "outputs": [
    {
     "name": "stdin",
     "output_type": "stream",
     "text": [
      "Input the string you want to check for palindrome hello\n"
     ]
    },
    {
     "name": "stdout",
     "output_type": "stream",
     "text": [
      "Not a palindrome\n"
     ]
    }
   ],
   "source": [
    "#This function checks if sting is palindrome or not\n",
    "def checkPalindrome(string: str):\n",
    "    if (string.lower() == string[::-1].lower()):\n",
    "        return (\"It is a palindrome\")\n",
    "    else:\n",
    "         return (\"Not a palindrome\")\n",
    "        \n",
    "# Take a string as input    \n",
    "string = input(\"Input the string you want to check for palindrome\")\n",
    "\n",
    "#printing the result\n",
    "print(str(checkPalindrome(string)))"
   ]
  },
  {
   "cell_type": "markdown",
   "id": "7b5c4519-e9c4-4836-9afd-bad9cefbf1e5",
   "metadata": {},
   "source": [
    "3. Convert a string to uppercase."
   ]
  },
  {
   "cell_type": "code",
   "execution_count": 19,
   "id": "8d79ff44-8172-449a-97d5-8865df85e00c",
   "metadata": {},
   "outputs": [
    {
     "name": "stdin",
     "output_type": "stream",
     "text": [
      "Enter the string you want to convert to uppercase hi, how are you\n"
     ]
    },
    {
     "name": "stdout",
     "output_type": "stream",
     "text": [
      "The string in upper case is: HI, HOW ARE YOU\n"
     ]
    }
   ],
   "source": [
    "# function returns string in upper case\n",
    "def convertUpper(string: str):\n",
    "    return string.upper()\n",
    "\n",
    "# Take a string as input  \n",
    "string = input(\"Enter the string you want to convert to uppercase\")\n",
    "\n",
    "#print the result\n",
    "print(\"The string in upper case is: {}\".format(convertUpper(string)))"
   ]
  },
  {
   "cell_type": "markdown",
   "id": "55fb4d70-1497-4ea8-8f88-d44d957d770d",
   "metadata": {},
   "source": [
    "4. Convert a string to lowercase."
   ]
  },
  {
   "cell_type": "code",
   "execution_count": 21,
   "id": "d938963f-348a-4564-9d60-22f71be8a541",
   "metadata": {},
   "outputs": [
    {
     "name": "stdin",
     "output_type": "stream",
     "text": [
      "Enter the string you want to convert to uppercase Hi, how are You\n"
     ]
    },
    {
     "name": "stdout",
     "output_type": "stream",
     "text": [
      "The string in upper case is: hi, how are you\n"
     ]
    }
   ],
   "source": [
    "# function returns string in lower case\n",
    "def convertLower(string: str):\n",
    "    return string.lower()\n",
    "\n",
    "# Take a string as input  \n",
    "string = input(\"Enter the string you want to convert to uppercase\")\n",
    "\n",
    "#print the result\n",
    "print(\"The string in upper case is: {}\".format(convertLower(string)))"
   ]
  },
  {
   "cell_type": "markdown",
   "id": "d8186964-2a92-4066-aca2-48c4921f705d",
   "metadata": {},
   "source": [
    "5. Count the number of vowels in a string."
   ]
  },
  {
   "cell_type": "code",
   "execution_count": 33,
   "id": "71dd5e73-8fd5-4b70-812f-ab1fb2c71b07",
   "metadata": {},
   "outputs": [
    {
     "name": "stdin",
     "output_type": "stream",
     "text": [
      "Enter the string in which you want to count vowels Hi, how are you\n"
     ]
    },
    {
     "name": "stdout",
     "output_type": "stream",
     "text": [
      "Number of vowels in string are: 6\n"
     ]
    }
   ],
   "source": [
    "#It returns the count of the vowels in string\n",
    "def countVowels(string: str):\n",
    "    vowels = ('a','e','i','o','u')\n",
    "    c = 0\n",
    "    for x in string.lower():\n",
    "        if x in vowels:\n",
    "            c += 1\n",
    "    return c\n",
    "# Taking the string as input\n",
    "string = input(\"Enter the string in which you want to count vowels\")\n",
    "\n",
    "#Print the result\n",
    "print(\"Number of vowels in string are: {}\".format(countVowels(string)))"
   ]
  },
  {
   "cell_type": "markdown",
   "id": "c0822d72-1865-4f3b-bf1b-2577f3555442",
   "metadata": {},
   "source": [
    "6. Count the number of consonants in a string."
   ]
  },
  {
   "cell_type": "code",
   "execution_count": 34,
   "id": "cb7978f4-b7c7-4d90-9b6d-c66248383a4d",
   "metadata": {},
   "outputs": [
    {
     "name": "stdin",
     "output_type": "stream",
     "text": [
      "Enter the string in which you want to count vowels Hi, how are you\n"
     ]
    },
    {
     "name": "stdout",
     "output_type": "stream",
     "text": [
      "Number of vowels in string are: 9\n"
     ]
    }
   ],
   "source": [
    "#It returns the count of the consonants in string\n",
    "def countConsonants(string: str):\n",
    "    vowels = ('a','e','i','o','u')\n",
    "    c = 0\n",
    "    for x in string.lower():\n",
    "        if x not in vowels:\n",
    "            c += 1\n",
    "    return c\n",
    "# Taking the string as input\n",
    "string = input(\"Enter the string in which you want to count vowels\")\n",
    "\n",
    "#Print the result\n",
    "print(\"Number of vowels in string are: {}\".format(countConsonants(string)))"
   ]
  },
  {
   "cell_type": "markdown",
   "id": "d49da8dc-733e-4e42-91b4-6f8ad8288bb9",
   "metadata": {},
   "source": [
    "7. Remove all whitespaces from a string."
   ]
  },
  {
   "cell_type": "code",
   "execution_count": 36,
   "id": "3d23f0f7-893a-4f3c-9408-bb35ae9eb356",
   "metadata": {},
   "outputs": [
    {
     "name": "stdin",
     "output_type": "stream",
     "text": [
      "Enter the string from which you want to remove whitespaces hi, how   are you\n"
     ]
    },
    {
     "name": "stdout",
     "output_type": "stream",
     "text": [
      "The string after removing widespaces is: hi,howareyou\n"
     ]
    }
   ],
   "source": [
    "# function takes string as an argument and returns string withour widespace\n",
    "def removeWidespaces(string: str):\n",
    "    c = ''\n",
    "    for x in string:\n",
    "        if x != ' ':\n",
    "            c = c + x\n",
    "        else:\n",
    "            continue\n",
    "    return c\n",
    "\n",
    "#Take string as input\n",
    "string = input(\"Enter the string from which you want to remove whitespaces\")\n",
    "\n",
    "#printing the result\n",
    "print(\"The string after removing widespaces is: {}\".format(removeWidespaces(string)))"
   ]
  },
  {
   "cell_type": "markdown",
   "id": "6e223a57-79ab-4c23-8624-339f8043f7e2",
   "metadata": {},
   "source": [
    "8. Find the length of a string without using the `len()` function."
   ]
  },
  {
   "cell_type": "code",
   "execution_count": 37,
   "id": "988d73db-e129-4bf3-b4b9-0f932736ea75",
   "metadata": {},
   "outputs": [
    {
     "name": "stdin",
     "output_type": "stream",
     "text": [
      "Enter the string you want to calculate length Hi, how are you\n"
     ]
    },
    {
     "name": "stdout",
     "output_type": "stream",
     "text": [
      "The length of string is: 15\n"
     ]
    }
   ],
   "source": [
    "#function takes string as an argument and returns length of it\n",
    "def lenString(string: str):\n",
    "    c = 0\n",
    "    for x in string:\n",
    "        c += 1\n",
    "    return c\n",
    "\n",
    "#Taking string as input\n",
    "string = input(\"Enter the string you want to calculate length\")\n",
    "\n",
    "#printing the result\n",
    "print(\"The length of string is: {}\".format(lenString(string)))"
   ]
  },
  {
   "cell_type": "markdown",
   "id": "17f8e14f-7199-44cc-9439-85bccb6487b8",
   "metadata": {},
   "source": [
    "9. Check if a string contains a specific word."
   ]
  },
  {
   "cell_type": "code",
   "execution_count": 40,
   "id": "b157a6a7-108e-47b3-bb97-8af739475c1e",
   "metadata": {},
   "outputs": [
    {
     "name": "stdin",
     "output_type": "stream",
     "text": [
      "Enter the string you want to check for Hi, how are you\n",
      "Enter the word you want to check for how\n"
     ]
    },
    {
     "name": "stdout",
     "output_type": "stream",
     "text": [
      "It is True that word how is present in string: Hi, how are you\n"
     ]
    }
   ],
   "source": [
    "#function takes string and a word as an argument and returns if the word is present in string \n",
    "def isPresent(string: str, word: str):\n",
    "    if word in string:\n",
    "        return (True)\n",
    "    else:\n",
    "        return (False)\n",
    "    \n",
    "#Taking inputs from user\n",
    "string = input(\"Enter the string you want to check for\")\n",
    "word = input(\"Enter the word you want to check for\")\n",
    "\n",
    "#printing the result\n",
    "print(\"It is {} that word {} is present in string: {}\".format(isPresent(string,word), word, string))"
   ]
  },
  {
   "cell_type": "markdown",
   "id": "fec66b56-175a-4d76-9491-53a81e263eb9",
   "metadata": {},
   "source": [
    "10. Replace a word in a string with another word."
   ]
  },
  {
   "cell_type": "code",
   "execution_count": 42,
   "id": "fed829dc-e8be-4cf8-bcd5-4d1df6f5b097",
   "metadata": {},
   "outputs": [
    {
     "name": "stdin",
     "output_type": "stream",
     "text": [
      "Enter the string you want to replace a word Python is beautiful\n",
      "Enter the word you want to replace beautiful\n",
      "Enter the word you want to place awesome\n"
     ]
    },
    {
     "name": "stdout",
     "output_type": "stream",
     "text": [
      "The new string is: Python is awesome\n"
     ]
    }
   ],
   "source": [
    "#This function takes string, old word and new word as an argument and returns new string with replaced word\n",
    "def replaceWord(string: str, oldword: str, newword: str):\n",
    "    return string.replace(oldword, newword)\n",
    "\n",
    "#Taking string, the word to be replaced and newword as input from user\n",
    "string = input(\"Enter the string you want to replace a word\")\n",
    "oldword = input(\"Enter the word you want to replace\")\n",
    "newword = input(\"Enter the word you want to place\")\n",
    "\n",
    "#print the result\n",
    "print(\"The new string is: {}\".format(replaceWord(string, oldword, newword)))"
   ]
  },
  {
   "cell_type": "markdown",
   "id": "40c5cbc4-68bf-40d4-bf17-71a9037d2393",
   "metadata": {},
   "source": [
    "11. Count the occurrences of a word in a string."
   ]
  },
  {
   "cell_type": "code",
   "execution_count": 46,
   "id": "f1da40ee-c5d2-4432-a880-24deef9189de",
   "metadata": {},
   "outputs": [
    {
     "name": "stdin",
     "output_type": "stream",
     "text": [
      "Enter the string you want to check for hi, how are you how\n",
      "Enter the word you want to check for how\n"
     ]
    },
    {
     "name": "stdout",
     "output_type": "stream",
     "text": [
      "Word 'how' has occured 2 times in string\n"
     ]
    }
   ],
   "source": [
    "#It returns the number of times a word has occured in a string\n",
    "def countOccurence(string:str, word:str):\n",
    "    return string.count(word)\n",
    "\n",
    "#Taking input from user\n",
    "string = input(\"Enter the string you want to check for\")\n",
    "word = input(\"Enter the word you want to check for\")\n",
    "\n",
    "#print the result\n",
    "print(\"Word '{}' has occured {} times in string\".format(word, countOccurence(string, word)))"
   ]
  },
  {
   "cell_type": "markdown",
   "id": "566f71d2-49e8-40e2-a077-d3040922353a",
   "metadata": {},
   "source": [
    "12. Find the first occurrence of a word in a string."
   ]
  },
  {
   "cell_type": "code",
   "execution_count": 48,
   "id": "090dd917-91f7-44ac-8cf9-bd772eee0af5",
   "metadata": {},
   "outputs": [
    {
     "name": "stdin",
     "output_type": "stream",
     "text": [
      "Enter the string you want to check for Hi, how are you\n",
      "Enter the word you want to check for first occurence how\n"
     ]
    },
    {
     "name": "stdout",
     "output_type": "stream",
     "text": [
      "First occurence of  word 'how' is at index 4\n"
     ]
    }
   ],
   "source": [
    "#function takes string and word as argument and returns index of the word\n",
    "def firstOccurence(string:str, word:str):\n",
    "    return string.index(word)\n",
    "\n",
    "#taking input from user\n",
    "string = input(\"Enter the string you want to check for\")\n",
    "word = input(\"Enter the word you want to check for first occurence\")\n",
    "\n",
    "#printing the result\n",
    "print(\"First occurence of  word '{}' is at index {}\".format(word, firstOccurence(string, word)))"
   ]
  },
  {
   "cell_type": "markdown",
   "id": "b906f53d-22d8-463d-94a5-1e7a717ddf68",
   "metadata": {},
   "source": [
    "13. Find the last occurrence of a word in a string."
   ]
  },
  {
   "cell_type": "code",
   "execution_count": 51,
   "id": "ea76585b-b998-4684-b2dc-bd8deab078d7",
   "metadata": {},
   "outputs": [
    {
     "name": "stdin",
     "output_type": "stream",
     "text": [
      "Enter the string you want to check for Hi, how are you how\n",
      "Enter the word you want to check for first occurence how\n"
     ]
    },
    {
     "name": "stdout",
     "output_type": "stream",
     "text": [
      "Last occurence of  word 'how' is at index 16\n"
     ]
    }
   ],
   "source": [
    "#function takes string and word as argument and returns index of the word\n",
    "def lastOccurence(string:str, word:str):\n",
    "    return string.rindex(word)\n",
    "\n",
    "#taking input from user\n",
    "string = input(\"Enter the string you want to check for\")\n",
    "word = input(\"Enter the word you want to check for first occurence\")\n",
    "\n",
    "#printing the result\n",
    "print(\"Last occurence of  word '{}' is at index {}\".format(word, lastOccurence(string, word)))"
   ]
  },
  {
   "cell_type": "markdown",
   "id": "527b38d2-8407-4224-b6fc-d0bb3c200181",
   "metadata": {},
   "source": [
    "14. Split a string into a list of words."
   ]
  },
  {
   "cell_type": "code",
   "execution_count": 52,
   "id": "6235cafa-d0d0-4749-8c70-adbeb089fa79",
   "metadata": {},
   "outputs": [
    {
     "name": "stdin",
     "output_type": "stream",
     "text": [
      "Enter the string you want to check for Hi, how are you\n"
     ]
    },
    {
     "name": "stdout",
     "output_type": "stream",
     "text": [
      "The list of words is: ['Hi,', 'how', 'are', 'you']\n"
     ]
    }
   ],
   "source": [
    "#function takes string as input and returns a list of words\n",
    "def listWords(string:str):\n",
    "    return string.split()\n",
    "\n",
    "#Takes string as input\n",
    "string = input(\"Enter the string you want to check for\")\n",
    "\n",
    "#print the result\n",
    "print(\"The list of words is: {}\".format(listWords(string)))"
   ]
  },
  {
   "cell_type": "markdown",
   "id": "02c87ec8-98c4-4f7b-9e98-63009be2ec2e",
   "metadata": {},
   "source": [
    "15. Join a list of words into a string."
   ]
  },
  {
   "cell_type": "code",
   "execution_count": 53,
   "id": "eda431eb-9003-4fbd-9150-e0685c9dc3d6",
   "metadata": {},
   "outputs": [
    {
     "name": "stdin",
     "output_type": "stream",
     "text": [
      "Enter the string you want to check for Hi, how are you\n"
     ]
    },
    {
     "name": "stdout",
     "output_type": "stream",
     "text": [
      "The resultant string is: Hi, how are you\n"
     ]
    }
   ],
   "source": [
    "#function takes list as input and converts them to string\n",
    "def joinWord(lst: list):\n",
    "    return ' '.join(lst)\n",
    "\n",
    "#Takes input from user\n",
    "string = input(\"Enter the string you want to check for\")\n",
    "string = string.split()\n",
    "\n",
    "\n",
    "#prints the result\n",
    "print(\"The resultant string is: {}\".format(joinWord(string)))"
   ]
  },
  {
   "cell_type": "markdown",
   "id": "de9c85f3-c2b9-415b-90b2-4eed2b3e0894",
   "metadata": {},
   "source": [
    "16. Convert a string where words are separated by spaces to one where words\n",
    "are separated by underscores."
   ]
  },
  {
   "cell_type": "code",
   "execution_count": 2,
   "id": "6ce4bf3e-fa87-4ad1-8aff-62287a1ec164",
   "metadata": {},
   "outputs": [
    {
     "name": "stdin",
     "output_type": "stream",
     "text": [
      "Enter the string you want to replace spaces Hi, hohw are you\n"
     ]
    },
    {
     "name": "stdout",
     "output_type": "stream",
     "text": [
      "Hi,_hohw_are_you\n"
     ]
    }
   ],
   "source": [
    "#functioin takes string, old char and new char as argument\n",
    "def replace_char(string, oldchar, newchar):\n",
    "    return string.replace(oldchar, newchar)\n",
    "\n",
    "#String to be changed\n",
    "string = input(\"Enter the string you want to replace spaces\")\n",
    "\n",
    "#printing the final result\n",
    "print(replace_char(string, ' ','_'))"
   ]
  },
  {
   "cell_type": "markdown",
   "id": "14305122-464b-4065-b1c0-c7c0d9be6490",
   "metadata": {},
   "source": [
    "17. Check if a string starts with a specific word or phrase."
   ]
  },
  {
   "cell_type": "code",
   "execution_count": 6,
   "id": "c172af14-b33b-4a38-929f-91e1b4871d66",
   "metadata": {},
   "outputs": [
    {
     "name": "stdin",
     "output_type": "stream",
     "text": [
      "Enter the string you want to check for Hi how are you\n",
      "Enter the word you want to check for Hi\n"
     ]
    },
    {
     "name": "stdout",
     "output_type": "stream",
     "text": [
      "The given string: Hi how are you starts with the word: Hi -> True\n"
     ]
    }
   ],
   "source": [
    "# funtion takes string and word as argument and returns if string starts with word or not \n",
    "def start_with(string, word):\n",
    "    if(string.startswith(word)):\n",
    "        return True\n",
    "    else:\n",
    "        return False\n",
    "\n",
    "# Taking input from user\n",
    "string = input(\"Enter the string you want to check for\")\n",
    "word = input(\"Enter the word you want to check for\")\n",
    "\n",
    "#printing the final result\n",
    "print(\"The given string: {} starts with the word: {} -> {}\".format(string, word, start_with(string, word)))"
   ]
  },
  {
   "cell_type": "markdown",
   "id": "5df1c78c-546f-43aa-9982-f0fc853230c0",
   "metadata": {},
   "source": [
    "18. Check if a string ends with a specific word or phrase."
   ]
  },
  {
   "cell_type": "code",
   "execution_count": 7,
   "id": "7323c0bd-08b1-40f1-af13-41594fbb7328",
   "metadata": {},
   "outputs": [
    {
     "name": "stdin",
     "output_type": "stream",
     "text": [
      "Enter the string you want to check for Hi how are you\n",
      "Enter the word you want to check for you\n"
     ]
    },
    {
     "name": "stdout",
     "output_type": "stream",
     "text": [
      "The given string: Hi how are you ends with the word: you -> True\n"
     ]
    }
   ],
   "source": [
    "# funtion takes string and word as argument and returns if string starts with word or not\n",
    "def end_with(string, word):\n",
    "    if(string.endswith(word)):\n",
    "        return True\n",
    "    else:\n",
    "        return False\n",
    "\n",
    "# Taking input from user\n",
    "string = input(\"Enter the string you want to check for\")\n",
    "word = input(\"Enter the word you want to check for\")\n",
    "\n",
    "#printing the final result\n",
    "print(\"The given string: {} ends with the word: {} -> {}\".format(string, word, end_with(string, word)))"
   ]
  },
  {
   "cell_type": "markdown",
   "id": "4388e36c-b28e-4ff8-8bb5-354fdd8d2fc2",
   "metadata": {},
   "source": [
    "19. Convert a string to title case (e.g., \"hello world\" to \"Hello World\")."
   ]
  },
  {
   "cell_type": "code",
   "execution_count": 9,
   "id": "8c21f49a-bc32-483a-bec4-bb211d067ffd",
   "metadata": {},
   "outputs": [
    {
     "name": "stdin",
     "output_type": "stream",
     "text": [
      "Enter the string you want to convert Hi, how are you\n"
     ]
    },
    {
     "name": "stdout",
     "output_type": "stream",
     "text": [
      "The output string in title case is: Hi, How Are You\n"
     ]
    }
   ],
   "source": [
    "#function takes input as string and returns the stirng in title case\n",
    "def title_case(string):\n",
    "    return string.title()\n",
    "\n",
    "#taking input from user\n",
    "string = input(\"Enter the string you want to convert\")\n",
    "\n",
    "#printing the output\n",
    "print(\"The output string in title case is: {}\". format(title_case(string)))"
   ]
  },
  {
   "cell_type": "markdown",
   "id": "bde2971d-f305-4ecc-8a9a-573faeed4c09",
   "metadata": {},
   "source": [
    "20. Find the longest word in a string."
   ]
  },
  {
   "cell_type": "code",
   "execution_count": 11,
   "id": "89fa7de8-c5fe-4cda-830a-f901ee01331e",
   "metadata": {},
   "outputs": [
    {
     "name": "stdin",
     "output_type": "stream",
     "text": [
      "Enter the string you want to check for Hi, how are you bros\n"
     ]
    },
    {
     "name": "stdout",
     "output_type": "stream",
     "text": [
      "The longest word in string is: bros\n"
     ]
    }
   ],
   "source": [
    "#function takes string as input and retuns the longest word in stirng \n",
    "def long_str(string):\n",
    "    c = 0\n",
    "    word = ''\n",
    "    for x in string.split():\n",
    "        if len(x) > c:\n",
    "            c = len(x)\n",
    "            word = x\n",
    "        else:\n",
    "            continue\n",
    "    return word\n",
    "\n",
    "#taking input from user\n",
    "string = input(\"Enter the string you want to check for\")\n",
    "\n",
    "#printing th result\n",
    "print(\"The longest word in string is: {}\".format(long_str(string)))"
   ]
  },
  {
   "cell_type": "markdown",
   "id": "7fa60960-553f-43a8-9784-0a71a736387b",
   "metadata": {},
   "source": [
    "21. Find the shortest word in a string."
   ]
  },
  {
   "cell_type": "code",
   "execution_count": 13,
   "id": "f62cc6f2-4bcf-47c1-98af-ad93cbcf894d",
   "metadata": {},
   "outputs": [
    {
     "name": "stdin",
     "output_type": "stream",
     "text": [
      "Enter the string you want to check for Hi how are you\n"
     ]
    },
    {
     "name": "stdout",
     "output_type": "stream",
     "text": [
      "The shortest word in string is:Hi\n"
     ]
    }
   ],
   "source": [
    "#function takes string as input and returns the shortest word\n",
    "def short_str(string):\n",
    "    word = ''\n",
    "    c = 10000000000\n",
    "    for x in string.split():\n",
    "        if len(x) < c:\n",
    "            c = len(x)\n",
    "            word = x\n",
    "        else:\n",
    "            continue\n",
    "    return word\n",
    "\n",
    "#taking input from user\n",
    "string = input(\"Enter the string you want to check for\")\n",
    "\n",
    "#printing the result\n",
    "print(\"The shortest word in string is:{}\".format(short_str(string)))"
   ]
  },
  {
   "cell_type": "markdown",
   "id": "4be76a98-0f68-483a-a943-5b55fe074e39",
   "metadata": {},
   "source": [
    "22. Reverse the order of words in a string."
   ]
  },
  {
   "cell_type": "code",
   "execution_count": 14,
   "id": "821ba9e0-0997-483c-b4c9-6d7a3ce755f4",
   "metadata": {},
   "outputs": [
    {
     "name": "stdin",
     "output_type": "stream",
     "text": [
      "Enter the string you want to reverse Hi, how are you\n"
     ]
    },
    {
     "name": "stdout",
     "output_type": "stream",
     "text": [
      "The reversed string is: you are how Hi,\n"
     ]
    }
   ],
   "source": [
    "#a function takes string as input and retuns reversed string\n",
    "def rev_order(string):\n",
    "    a = string.split()[::-1]\n",
    "    a = \" \".join(a)\n",
    "    return a\n",
    "\n",
    "#taking input form user\n",
    "string = input(\"Enter the string you want to reverse\")\n",
    "\n",
    "#printing the output\n",
    "print(\"The reversed string is: {}\".format(rev_order(string)))"
   ]
  },
  {
   "cell_type": "markdown",
   "id": "b5221c0d-3648-48a3-8e43-ed353ef46264",
   "metadata": {},
   "source": [
    "23. Check if a string is alphanumeric."
   ]
  },
  {
   "cell_type": "code",
   "execution_count": 16,
   "id": "fc39183c-fb66-4f07-b6be-cbe4802c79d2",
   "metadata": {},
   "outputs": [
    {
     "name": "stdin",
     "output_type": "stream",
     "text": [
      "Enter the string you want to check 324h\n"
     ]
    },
    {
     "name": "stdout",
     "output_type": "stream",
     "text": [
      "The given string is alphanumeric : True\n"
     ]
    }
   ],
   "source": [
    "#function takes string as input and returns is it is alphanumeric\n",
    "def alpha_num(string):\n",
    "    if string.isalnum():\n",
    "        return True\n",
    "    else:\n",
    "        return False\n",
    "    \n",
    "   \n",
    "#taking in put from user\n",
    "string = input(\"Enter the string you want to check\")\n",
    "\n",
    "#printing the result\n",
    "print(\"The given string is alphanumeric : {}\".format(alpha_num(string)))"
   ]
  },
  {
   "cell_type": "markdown",
   "id": "2f5953fd-bc39-49c9-bcbf-179edb29b111",
   "metadata": {},
   "source": [
    "24. Extract all digits from a string."
   ]
  },
  {
   "cell_type": "code",
   "execution_count": 17,
   "id": "a4cdf45d-b7fb-4858-8957-fba833a7d411",
   "metadata": {},
   "outputs": [
    {
     "name": "stdin",
     "output_type": "stream",
     "text": [
      "Enter the string you want to extract digits from hi32 how34 132are 34y3o3u\n"
     ]
    },
    {
     "name": "stdout",
     "output_type": "stream",
     "text": [
      "The digits are: ['3', '2', '3', '4', '1', '3', '2', '3', '4', '3', '3']\n"
     ]
    }
   ],
   "source": [
    "# function takes string as input and returns list of digits as output\n",
    "def extract_dig(string):\n",
    "    l = []\n",
    "    for x in string:\n",
    "        if x.isdigit():\n",
    "            l.append(x)\n",
    "        else:\n",
    "            continue\n",
    "    return l\n",
    "\n",
    "#taking input form user\n",
    "string = input(\"Enter the string you want to extract digits from\")\n",
    "\n",
    "#printing the result\n",
    "print(\"The digits are: {}\".format(extract_dig(string)))"
   ]
  },
  {
   "cell_type": "markdown",
   "id": "9435a996-df2a-4474-a033-2f7bf3d6137b",
   "metadata": {},
   "source": [
    "25. Extract all alphabets from a string."
   ]
  },
  {
   "cell_type": "code",
   "execution_count": 18,
   "id": "7b3d11b1-d3ae-4580-85d5-bd6b99152ec0",
   "metadata": {},
   "outputs": [
    {
     "name": "stdin",
     "output_type": "stream",
     "text": [
      "Enter the string you want to extract alphabets from H2i h2o2w a4r9e 41y3o34u\n"
     ]
    },
    {
     "name": "stdout",
     "output_type": "stream",
     "text": [
      "The string is: Hi how are you\n"
     ]
    }
   ],
   "source": [
    "# function takes string as input and retuns the alphabets \n",
    "def extract_alpha(string):\n",
    "    c = ''\n",
    "    for x in string:\n",
    "        if x.isalpha() or x == ' ':\n",
    "            c = c+x\n",
    "        else:\n",
    "            continue\n",
    "    return c\n",
    "\n",
    "#taking input form user\n",
    "string = input(\"Enter the string you want to extract alphabets from\")\n",
    "\n",
    "#printing the result\n",
    "print(\"The string is: {}\".format(extract_alpha(string)))"
   ]
  },
  {
   "cell_type": "markdown",
   "id": "46c45556-714b-4eb5-b27b-685dbdf3b770",
   "metadata": {},
   "source": [
    "26. Count the number of uppercase letters in a string."
   ]
  },
  {
   "cell_type": "code",
   "execution_count": 19,
   "id": "ce8facc1-c390-4ffe-9b10-6830bef2b884",
   "metadata": {},
   "outputs": [
    {
     "name": "stdin",
     "output_type": "stream",
     "text": [
      "Enter the string you want to count uppercase letters Hi How Are yOU\n"
     ]
    },
    {
     "name": "stdout",
     "output_type": "stream",
     "text": [
      "No of Upper case letters in string is: 5\n"
     ]
    }
   ],
   "source": [
    "#funtion takes string as input and returns the count of uppercase letters\n",
    "def uppercase_letters(string):\n",
    "    c = 0\n",
    "    for x in range(len(string)):\n",
    "            if string[x].isupper():\n",
    "                c +=1\n",
    "    return c\n",
    "\n",
    "#taking input form user\n",
    "string = input(\"Enter the string you want to count uppercase letters\")\n",
    "\n",
    "#printing the result\n",
    "print(\"No of Upper case letters in string is: {}\".format(uppercase_letters(string)))"
   ]
  },
  {
   "cell_type": "markdown",
   "id": "72b751ce-a87d-497f-beab-932d17fceb18",
   "metadata": {},
   "source": [
    "27. Count the number of lowercase letters in a string."
   ]
  },
  {
   "cell_type": "code",
   "execution_count": 21,
   "id": "f8c23c52-c967-452f-abca-acc55d0b8a88",
   "metadata": {},
   "outputs": [
    {
     "name": "stdin",
     "output_type": "stream",
     "text": [
      "Enter the string you want to count lowercase letters Hi hOW Are you\n"
     ]
    },
    {
     "name": "stdout",
     "output_type": "stream",
     "text": [
      "No of Lower case letters in string is: 7\n"
     ]
    }
   ],
   "source": [
    "#funtion takes string as input and returns the count of lowercase letters\n",
    "def lowercase_letters(string):\n",
    "    c = 0\n",
    "    for x in range(len(string)):\n",
    "            if string[x].islower():\n",
    "                c +=1\n",
    "    return c\n",
    "\n",
    "#taking input form user\n",
    "string = input(\"Enter the string you want to count lowercase letters\")\n",
    "\n",
    "#printing the result\n",
    "print(\"No of Lower case letters in string is: {}\".format(lowercase_letters(string)))"
   ]
  },
  {
   "cell_type": "markdown",
   "id": "ef069448-554f-4e21-ae1b-abf71922942f",
   "metadata": {},
   "source": [
    "28. Swap the case of each character in a string."
   ]
  },
  {
   "cell_type": "code",
   "execution_count": 22,
   "id": "ebb560a3-a142-4c14-81cf-adad880a7a8f",
   "metadata": {},
   "outputs": [
    {
     "name": "stdin",
     "output_type": "stream",
     "text": [
      "Enter the string you want to swap case of Hi how are you\n"
     ]
    },
    {
     "name": "stdout",
     "output_type": "stream",
     "text": [
      "The swap case fo string is: hI HOW ARE YOU\n"
     ]
    }
   ],
   "source": [
    "#function takes string as input as swaps the case\n",
    "def swap_case(string):\n",
    "    a = ''\n",
    "    for x in range(len(string)):\n",
    "            if string[x].islower():\n",
    "               a = a + string[x].upper()\n",
    "            else:\n",
    "               a = a + string[x].lower()\n",
    "    return a\n",
    "\n",
    "#taking input from user\n",
    "string = input(\"Enter the string you want to swap case of\")\n",
    "\n",
    "#printing the result\n",
    "print(\"The swap case fo string is: {}\".format(swap_case(string)))"
   ]
  },
  {
   "cell_type": "markdown",
   "id": "11800fd3-27f2-4fde-914e-708ec5ce9a50",
   "metadata": {},
   "source": [
    "29. Remove a specific word from a string."
   ]
  },
  {
   "cell_type": "code",
   "execution_count": 24,
   "id": "1a36bd58-d3bd-4fa5-8afd-37087fee671f",
   "metadata": {},
   "outputs": [
    {
     "name": "stdin",
     "output_type": "stream",
     "text": [
      "Enter the string from which you want to remove the word Hi, how are you\n",
      "Enter the word you want to remove are\n"
     ]
    },
    {
     "name": "stdout",
     "output_type": "stream",
     "text": [
      "The new string is: Hi, how you\n"
     ]
    }
   ],
   "source": [
    "# function takes string as input and removes a specific word\n",
    "def rem_word(string):\n",
    "    l=[]\n",
    "    a = string.split()\n",
    "    for x in a:\n",
    "        if x != word:\n",
    "            l.append(x)\n",
    "        else:\n",
    "            continue\n",
    "    return (\" \".join(l))\n",
    "\n",
    "#taking input from user\n",
    "string = input(\"Enter the string from which you want to remove the word\")\n",
    "word = input(\"Enter the word you want to remove\")\n",
    "\n",
    "#printing the output\n",
    "print(\"The new string is: {}\".format(rem_word(string)))"
   ]
  },
  {
   "cell_type": "markdown",
   "id": "0bfcf612-e12a-44b4-ba86-7c101d7280b4",
   "metadata": {},
   "source": [
    "30. Check if a string is a valid email address."
   ]
  },
  {
   "cell_type": "code",
   "execution_count": 27,
   "id": "04c14c88-1c4b-45da-aea1-e66b36186515",
   "metadata": {},
   "outputs": [
    {
     "name": "stdin",
     "output_type": "stream",
     "text": [
      "Enter the email you want to validate krishnaik@ineuron.ai\n"
     ]
    },
    {
     "name": "stdout",
     "output_type": "stream",
     "text": [
      "The given mail is: Valid Mail\n"
     ]
    }
   ],
   "source": [
    "#importing regex module\n",
    "import regex as re\n",
    "\n",
    "#functino takes string and regex as input and check if the email is valid\n",
    "def valid_email(string, regex):\n",
    "    if re.fullmatch(regex,string):\n",
    "        return \"Valid Mail\"\n",
    "    else:\n",
    "        return \"Invalid email\"\n",
    "\n",
    "#taking input from user\n",
    "string = input(\"Enter the email you want to validate\")\n",
    "regex = r'\\b[A-Za-z0-9._%+-]+@[A-Za-z0-9.-]+\\.[A-Z|a-z]{2,7}\\b'\n",
    "\n",
    "#printng the output\n",
    "print(\"The given mail is: {}\".format(valid_email(string, regex)))"
   ]
  },
  {
   "cell_type": "markdown",
   "id": "72a7d311-b2c2-49cf-9adb-5ef414707291",
   "metadata": {},
   "source": [
    "31. Extract the username from an email address string.\n",
    "\n"
   ]
  },
  {
   "cell_type": "code",
   "execution_count": 28,
   "id": "c6ea006e-6716-4f1f-93bf-eb4de3a4bb80",
   "metadata": {},
   "outputs": [
    {
     "name": "stdin",
     "output_type": "stream",
     "text": [
      "Enter the email you want username from pwskills@gmail.com\n"
     ]
    },
    {
     "name": "stdout",
     "output_type": "stream",
     "text": [
      "The username is: pwskills\n"
     ]
    }
   ],
   "source": [
    "# function takes input as string and returns the username\n",
    "def extract_username(string):\n",
    "    return string.split('@')[0]\n",
    "\n",
    "#takig input from user\n",
    "string = input(\"Enter the email you want username from\")\n",
    "\n",
    "#printing the result\n",
    "print(\"The username is: {}\".format(extract_username(string)))"
   ]
  },
  {
   "cell_type": "markdown",
   "id": "b7c7f9c7-0d75-41be-86a3-a4c87a61d40d",
   "metadata": {},
   "source": [
    "32. Extract the domain name from an email address string."
   ]
  },
  {
   "cell_type": "code",
   "execution_count": 29,
   "id": "01e7befa-ff69-44e2-a888-62853bced561",
   "metadata": {},
   "outputs": [
    {
     "name": "stdin",
     "output_type": "stream",
     "text": [
      "Enter the email you want username from pwskills@gmail.com\n"
     ]
    },
    {
     "name": "stdout",
     "output_type": "stream",
     "text": [
      "The username is: gmail.com\n"
     ]
    }
   ],
   "source": [
    "# function takes input as string and returns the domainname\n",
    "def extract_domainname(string):\n",
    "    return string.split('@')[1]\n",
    "\n",
    "#takig input from user\n",
    "string = input(\"Enter the email you want username from\")\n",
    "\n",
    "#printing the result\n",
    "print(\"The username is: {}\".format(extract_domainname(string)))"
   ]
  },
  {
   "cell_type": "markdown",
   "id": "483db4a7-0732-4f8a-bf7a-4a31b3dfc4bc",
   "metadata": {},
   "source": [
    "33. Replace multiple spaces in a string with a single space."
   ]
  },
  {
   "cell_type": "code",
   "execution_count": 31,
   "id": "8b48fe69-7039-4a8e-bf3e-ac4c2d7c5209",
   "metadata": {},
   "outputs": [
    {
     "name": "stdin",
     "output_type": "stream",
     "text": [
      "Enter the stirng in which you want to remove extra spaces: Hi  how  are  you\n"
     ]
    },
    {
     "name": "stdout",
     "output_type": "stream",
     "text": [
      "The correct string is: Hi how are you \n"
     ]
    }
   ],
   "source": [
    "#function takes string as input and returns widespaces removed string\n",
    "def remove_spaces(string):\n",
    "    c = ''\n",
    "    for i in string.split():\n",
    "        if i != ' ':\n",
    "            c = c + i + \" \"\n",
    "        else:\n",
    "            continue\n",
    "    return c\n",
    "\n",
    "#taking input from user\n",
    "string = input(\"Enter the stirng in which you want to remove extra spaces:\")\n",
    "\n",
    "#printing the output\n",
    "print(\"The correct string is: {}\".format(remove_spaces(string)))"
   ]
  },
  {
   "cell_type": "markdown",
   "id": "b22e0d19-ac51-40ba-9d1a-bcfda0f188f6",
   "metadata": {},
   "source": [
    "34. Check if a string is a valid URL."
   ]
  },
  {
   "cell_type": "code",
   "execution_count": 11,
   "id": "3f967afa-0195-48e1-a23e-ed96fef26938",
   "metadata": {},
   "outputs": [
    {
     "name": "stdin",
     "output_type": "stream",
     "text": [
      "Enter the url you want to check: https://www.youtube.com/\n"
     ]
    },
    {
     "name": "stdout",
     "output_type": "stream",
     "text": [
      "Valid\n"
     ]
    }
   ],
   "source": [
    "import validators\n",
    "string = input(\"Enter the url you want to check:\")\n",
    "validation = validators.url(string)\n",
    "if validation:\n",
    "    print(\"Valid\")\n",
    "else:\n",
    "    print(\"Invalid\")"
   ]
  },
  {
   "cell_type": "markdown",
   "id": "75609947-9e6b-4b25-b7ca-c3f1fd4e077d",
   "metadata": {},
   "source": [
    "35. Extract the protocol (http or https) from a URL string."
   ]
  },
  {
   "cell_type": "code",
   "execution_count": 13,
   "id": "d0d752e7-b4c9-4ce0-902b-f36c7081cb1b",
   "metadata": {},
   "outputs": [
    {
     "name": "stdin",
     "output_type": "stream",
     "text": [
      "Enter the url you want protocol of https://www.youtube.com/\n"
     ]
    },
    {
     "name": "stdout",
     "output_type": "stream",
     "text": [
      "https\n"
     ]
    }
   ],
   "source": [
    "string = input(\"Enter the url you want protocol of\")\n",
    "print(string.split(':')[0])"
   ]
  },
  {
   "cell_type": "markdown",
   "id": "8c08a3a9-c424-4c85-8f90-f055b9830f19",
   "metadata": {},
   "source": [
    "\n",
    "36. Find the frequency of each character in a string."
   ]
  },
  {
   "cell_type": "code",
   "execution_count": 40,
   "id": "23ecd16a-7880-4301-82b1-c066b05985aa",
   "metadata": {},
   "outputs": [
    {
     "name": "stdin",
     "output_type": "stream",
     "text": [
      "Enter the string you want to count frequency for hi how are you\n"
     ]
    },
    {
     "name": "stdout",
     "output_type": "stream",
     "text": [
      "Character 'h': Count '2'\n",
      "Character 'i': Count '1'\n",
      "Character ' ': Count '3'\n",
      "Character 'o': Count '2'\n",
      "Character 'w': Count '1'\n",
      "Character 'a': Count '1'\n",
      "Character 'r': Count '1'\n",
      "Character 'e': Count '1'\n",
      "Character 'y': Count '1'\n",
      "Character 'u': Count '1'\n"
     ]
    }
   ],
   "source": [
    "string = input(\"Enter the string you want to count frequency for\")\n",
    "dicti = {}\n",
    "for i in string:\n",
    "    if i in dicti:\n",
    "        dicti[i] += 1\n",
    "    else:\n",
    "        dicti[i] = 1\n",
    "        \n",
    "for key, value in dicti.items():\n",
    "    print(f\"Character '{key}': Count '{value}'\".format(key,value))"
   ]
  },
  {
   "cell_type": "markdown",
   "id": "18ac3777-a733-4690-83e8-c388e132d7f7",
   "metadata": {},
   "source": [
    "37. Remove all punctuation from a string.\n"
   ]
  },
  {
   "cell_type": "code",
   "execution_count": 42,
   "id": "6c1f1373-bb6f-4cc9-a5b5-55ef0acf9ae8",
   "metadata": {},
   "outputs": [
    {
     "name": "stdin",
     "output_type": "stream",
     "text": [
      "Enter the string you want to remove punctuation from hi! how? are you\n"
     ]
    },
    {
     "name": "stdout",
     "output_type": "stream",
     "text": [
      "hi how are you\n"
     ]
    }
   ],
   "source": [
    "string = input(\"Enter the string you want to remove punctuation from\")\n",
    "punc = '''!()-[]{};:'\"\\,<>./?@#$%^&*_~'''\n",
    "for i in string:\n",
    "    if i in punc:\n",
    "        string = string.replace(i,\"\")\n",
    "print(string)"
   ]
  },
  {
   "cell_type": "markdown",
   "id": "786fa9b8-34e2-4900-a509-c58e921a71db",
   "metadata": {},
   "source": [
    "38. Check if a string contains only digits.\n"
   ]
  },
  {
   "cell_type": "code",
   "execution_count": 45,
   "id": "cb5ab235-f589-4f81-bdf5-74640ae5deda",
   "metadata": {},
   "outputs": [
    {
     "name": "stdin",
     "output_type": "stream",
     "text": [
      "Enter the string you want to check only for digits kjflwek2\n"
     ]
    },
    {
     "name": "stdout",
     "output_type": "stream",
     "text": [
      "False\n"
     ]
    }
   ],
   "source": [
    "string = input(\"Enter the string you want to check only for digits\")\n",
    "if string.isnumeric():\n",
    "    print(True)\n",
    "else:\n",
    "    print(False)"
   ]
  },
  {
   "cell_type": "markdown",
   "id": "5ae5a13a-5063-43a4-9df9-024ad1c0639b",
   "metadata": {},
   "source": [
    "39. Check if a string contains only alphabets.\n"
   ]
  },
  {
   "cell_type": "code",
   "execution_count": 47,
   "id": "35949662-db0c-41c7-a652-42a44be365a4",
   "metadata": {},
   "outputs": [
    {
     "name": "stdin",
     "output_type": "stream",
     "text": [
      "Enter the string you want to check only for alphabes hi 3 how are oyu\n"
     ]
    },
    {
     "name": "stdout",
     "output_type": "stream",
     "text": [
      "False\n"
     ]
    }
   ],
   "source": [
    "string = input(\"Enter the string you want to check only for alphabes\")\n",
    "if string.isalpha():\n",
    "    print(True)\n",
    "else:\n",
    "    print(False)"
   ]
  },
  {
   "cell_type": "markdown",
   "id": "ac90aeae-6a3f-420f-b7af-55d15dec544c",
   "metadata": {},
   "source": [
    "40. Convert a string to a list of characters.\n"
   ]
  },
  {
   "cell_type": "code",
   "execution_count": 49,
   "id": "bdffd4d0-859a-463b-b213-655a7f01b0d3",
   "metadata": {},
   "outputs": [
    {
     "name": "stdin",
     "output_type": "stream",
     "text": [
      "Enter the string you want to convert to list of characters Hi how are you\n"
     ]
    },
    {
     "data": {
      "text/plain": [
       "['H', 'i', ' ', 'h', 'o', 'w', ' ', 'a', 'r', 'e', ' ', 'y', 'o', 'u']"
      ]
     },
     "execution_count": 49,
     "metadata": {},
     "output_type": "execute_result"
    }
   ],
   "source": [
    "string = input(\"Enter the string you want to convert to list of characters\")\n",
    "[i for i in string]"
   ]
  },
  {
   "cell_type": "markdown",
   "id": "838daacd-74c6-4a15-9c99-78dff6314a8c",
   "metadata": {},
   "source": [
    "41. Check if two strings are anagrams."
   ]
  },
  {
   "cell_type": "code",
   "execution_count": 41,
   "id": "10dd6166-87bd-41f2-9a2c-7c15f421607a",
   "metadata": {},
   "outputs": [
    {
     "name": "stdin",
     "output_type": "stream",
     "text": [
      "Enter the string you want to check for anagrams hi bro how are you\n",
      "Enter the other string you want to check for anagrams hi how are you bro\n"
     ]
    },
    {
     "name": "stdout",
     "output_type": "stream",
     "text": [
      "True\n"
     ]
    }
   ],
   "source": [
    "string = input(\"Enter the string you want to check for anagrams\")\n",
    "string1 = input(\"Enter the other string you want to check for anagrams\")\n",
    "\n",
    "x = [string[i] for i in range(len(string))]\n",
    "x.sort()\n",
    "y = [string1[i] for i in range(len(string1))]\n",
    "y.sort()\n",
    "\n",
    "if(x==y):\n",
    "     print(True)\n",
    "else:\n",
    "     print(False)"
   ]
  },
  {
   "cell_type": "markdown",
   "id": "1d6bac80-88cf-49c3-8ca4-325d116a88df",
   "metadata": {},
   "source": [
    "42. Encode a string using a Caesar cipher.\n"
   ]
  },
  {
   "cell_type": "code",
   "execution_count": 19,
   "id": "862eb278-8653-4da9-bb6b-1f328378d8c2",
   "metadata": {},
   "outputs": [
    {
     "name": "stdin",
     "output_type": "stream",
     "text": [
      "Enter the string you want to convert to ceaser cipher CEASER cipher\n"
     ]
    },
    {
     "name": "stdout",
     "output_type": "stream",
     "text": [
      "FHDVHUrgmtliv\n"
     ]
    }
   ],
   "source": [
    "string = input(\"Enter the string you want to convert to ceaser cipher\")\n",
    "s = 3\n",
    "newstr = ''\n",
    "for i in range(len(string)):\n",
    "    char = string[i]\n",
    "    \n",
    "    if(char.isupper()):\n",
    "        newstr += chr((ord(char) + s -65)%26+65)\n",
    "    else:\n",
    "        newstr += chr((ord(char) + s - 96) % 26 + 97)  \n",
    "print(newstr)"
   ]
  },
  {
   "cell_type": "markdown",
   "id": "b48d07eb-48c9-418b-9193-1f320907028d",
   "metadata": {},
   "source": [
    "43. Decode a Caesar cipher encoded string."
   ]
  },
  {
   "cell_type": "code",
   "execution_count": 25,
   "id": "a07182a6-41e1-4fce-8e1e-0225d4482799",
   "metadata": {},
   "outputs": [
    {
     "name": "stdin",
     "output_type": "stream",
     "text": [
      "Enter the string you want to convert from ceaser cipher FHDVHUrgmtliv\n"
     ]
    },
    {
     "name": "stdout",
     "output_type": "stream",
     "text": [
      "FHDVHUosjqifs\n"
     ]
    }
   ],
   "source": [
    "string = input(\"Enter the string you want to convert from ceaser cipher\")\n",
    "alphabets = \"abcsefghijklmnopqrstuvwxyz\"\n",
    "dec_msg = \"\"\n",
    "s = 3\n",
    "\n",
    "for i in string:\n",
    "    if i in alphabets:\n",
    "        pos = alphabets.find(i)\n",
    "        new_pos = (pos - s)%26\n",
    "        new_char = alphabets[new_pos]\n",
    "        dec_msg += new_char\n",
    "    else:\n",
    "        dec_msg += i\n",
    "print(dec_msg)"
   ]
  },
  {
   "cell_type": "markdown",
   "id": "3f7ee826-19d0-4b90-8040-4f05cec17eb5",
   "metadata": {},
   "source": [
    "44. Find the most frequent word in a string."
   ]
  },
  {
   "cell_type": "code",
   "execution_count": 11,
   "id": "e8244cfd-7f2d-4627-b649-a9181f50359e",
   "metadata": {},
   "outputs": [
    {
     "name": "stdin",
     "output_type": "stream",
     "text": [
      "Enter the string you want to check most frequent character from hi how are you hi how are you hi\n"
     ]
    },
    {
     "name": "stdout",
     "output_type": "stream",
     "text": [
      "hi\n"
     ]
    }
   ],
   "source": [
    "from collections import Counter\n",
    "import regex as re\n",
    "string = input(\"Enter the string you want to check most frequent character from\")\n",
    "string = re.sub(r'[^\\w\\s]','',string)\n",
    "\n",
    "word_counter = Counter(string.split())\n",
    "print(word_counter.most_common(1)[0][0])"
   ]
  },
  {
   "cell_type": "markdown",
   "id": "be305e4c-d45f-4a35-96d6-cfc107bbdce6",
   "metadata": {},
   "source": [
    "45. Find all unique words in a string."
   ]
  },
  {
   "cell_type": "code",
   "execution_count": 26,
   "id": "0c54e8b0-fa4b-42ce-b0bf-73d36f8e0541",
   "metadata": {},
   "outputs": [
    {
     "name": "stdin",
     "output_type": "stream",
     "text": [
      "Enter the string you want to find most unique word in string hi how are you hi how are you hi ok\n"
     ]
    },
    {
     "name": "stdout",
     "output_type": "stream",
     "text": [
      "ok\n"
     ]
    }
   ],
   "source": [
    "from collections import Counter\n",
    "import regex as re\n",
    "string = input(\"Enter the string you want to find most unique word in string\")\n",
    "string = re.sub(r'[^\\w\\s]','',string)\n",
    "\n",
    "word_counter = Counter(string.split())\n",
    "for i in word_counter.most_common():\n",
    "    if(i[1] == 1):\n",
    "        print(i[0])"
   ]
  },
  {
   "cell_type": "markdown",
   "id": "5f97154b-d2b0-4ae2-909a-60824b9f1816",
   "metadata": {},
   "source": [
    "46. Count the number of syllables in a string."
   ]
  },
  {
   "cell_type": "code",
   "execution_count": 6,
   "id": "db0e4751-4d4e-472b-b5b3-9fc47be82eb6",
   "metadata": {},
   "outputs": [
    {
     "name": "stdin",
     "output_type": "stream",
     "text": [
      "Enter the string you want to check for syllable hello\n"
     ]
    },
    {
     "name": "stdout",
     "output_type": "stream",
     "text": [
      "Word is hello and syllable count is 2\n"
     ]
    }
   ],
   "source": [
    "import re\n",
    "\n",
    "def syllable(string):\n",
    "    string = re.findall(r'[aeiou]+',string, re.IGNORECASE)\n",
    "    return len(string)\n",
    "\n",
    "string = input(\"Enter the string you want to check for syllable\")\n",
    "print(f\"Word is {string} and syllable count is {syllable(string)}\")\n"
   ]
  },
  {
   "cell_type": "markdown",
   "id": "3833d181-f380-4361-b2ff-08b67cc90996",
   "metadata": {},
   "source": [
    "47. Check if a string contains any special characters.\n",
    "\n",
    "\n"
   ]
  },
  {
   "cell_type": "code",
   "execution_count": 47,
   "id": "fb0fd502-af73-49eb-aff8-5fa3457838ac",
   "metadata": {},
   "outputs": [
    {
     "name": "stdin",
     "output_type": "stream",
     "text": [
      "Enter the string for checking special characters Hello, world!\n"
     ]
    },
    {
     "name": "stdout",
     "output_type": "stream",
     "text": [
      "True\n"
     ]
    }
   ],
   "source": [
    "import re\n",
    "string = input(\"Enter the string for checking special characters\")\n",
    "pattern = re.compile(r'[!@#$%^&*()_+{}\\[\\]:;<>,.?~\\\\/]')\n",
    "print(bool(pattern.search(string)))"
   ]
  },
  {
   "cell_type": "markdown",
   "id": "89b461ca-97ad-4e5d-98ae-a8965b954860",
   "metadata": {},
   "source": [
    "48. Remove the nth word from a string."
   ]
  },
  {
   "cell_type": "code",
   "execution_count": 7,
   "id": "fc9ac72e-ce6c-495a-b8a0-07df11402e52",
   "metadata": {},
   "outputs": [
    {
     "name": "stdin",
     "output_type": "stream",
     "text": [
      "Enter the string for removing nth word hi how are you2\n",
      "Enter the postition whose word you want to remove 2\n"
     ]
    },
    {
     "name": "stdout",
     "output_type": "stream",
     "text": [
      "hi are you2\n"
     ]
    }
   ],
   "source": [
    "string = input(\"Enter the string for removing nth word\")\n",
    "n = int(input(\"Enter the postition whose word you want to remove\"))\n",
    "        \n",
    "a = string.split()\n",
    "a.pop(n-1)\n",
    "print(' '.join(a))\n"
   ]
  },
  {
   "cell_type": "markdown",
   "id": "72d1894b-b9d9-43ae-9e9b-0626c4c54ed6",
   "metadata": {},
   "source": [
    "49. Insert a word at the nth position in a string."
   ]
  },
  {
   "cell_type": "code",
   "execution_count": 1,
   "id": "b858fba7-e7cd-49fa-a139-98e8c81b1a20",
   "metadata": {},
   "outputs": [
    {
     "name": "stdin",
     "output_type": "stream",
     "text": [
      "Enter the string for inserting nth word hi how you\n",
      "Enter the postition whose word you want to insert 3\n",
      "Enter the word for inserting are\n"
     ]
    },
    {
     "name": "stdout",
     "output_type": "stream",
     "text": [
      "hi how are you\n"
     ]
    }
   ],
   "source": [
    "string = input(\"Enter the string for inserting nth word\")\n",
    "n = int(input(\"Enter the postition whose word you want to insert\"))\n",
    "word = input(\"Enter the word for inserting\")\n",
    "        \n",
    "a = string.split()\n",
    "a.insert(n-1, word)\n",
    "print(' '.join(a))\n"
   ]
  },
  {
   "cell_type": "markdown",
   "id": "87025389-85be-4a68-8a1d-3781d74ad407",
   "metadata": {},
   "source": [
    "50. Convert a CSV string to a list of lists."
   ]
  },
  {
   "cell_type": "code",
   "execution_count": 18,
   "id": "81a6fca5-f388-456f-8055-68e2b0b3cc0a",
   "metadata": {},
   "outputs": [
    {
     "name": "stdin",
     "output_type": "stream",
     "text": [
      "Enter the csv string Name, Age, Country\\nJohn, 25, USA\\nAlice, 30, Canada\\nBob, 22, UK\n"
     ]
    },
    {
     "name": "stdout",
     "output_type": "stream",
     "text": [
      "['Name', ' Age', ' Country\\\\nJohn', ' 25', ' USA\\\\nAlice', ' 30', ' Canada\\\\nBob', ' 22', ' UK']\n"
     ]
    }
   ],
   "source": [
    "string = input(\"Enter the csv string\")\n",
    "lines = string.split('\\n')\n",
    "result = []\n",
    "\n",
    "for line in lines:\n",
    "    field = line.split(',')\n",
    "    result.append(field)\n",
    "    \n",
    "\n",
    "for i in result:\n",
    "    print(i)"
   ]
  },
  {
   "cell_type": "markdown",
   "id": "01271e28-a215-4274-a203-7480e9aa0816",
   "metadata": {},
   "source": [
    "## List Based Practice Problem :"
   ]
  },
  {
   "cell_type": "markdown",
   "id": "2630f4d6-84d2-453b-b872-cb95be88eea7",
   "metadata": {},
   "source": [
    "1. Create a list with integers from 1 to 10.\n"
   ]
  },
  {
   "cell_type": "code",
   "execution_count": 19,
   "id": "5df3d4bb-b023-4253-837d-051eb586e7b8",
   "metadata": {},
   "outputs": [
    {
     "data": {
      "text/plain": [
       "[0, 1, 2, 3, 4, 5, 6, 7, 8, 9, 10]"
      ]
     },
     "execution_count": 19,
     "metadata": {},
     "output_type": "execute_result"
    }
   ],
   "source": [
    "[i for i in range(11)]"
   ]
  },
  {
   "cell_type": "markdown",
   "id": "18dbbe97-2ad2-4de7-9d94-ef09348efa0c",
   "metadata": {},
   "source": [
    "2. Find the length of a list without using the `len()` function.\n"
   ]
  },
  {
   "cell_type": "code",
   "execution_count": 27,
   "id": "51fff183-1508-4e5f-a870-8975be0575ab",
   "metadata": {},
   "outputs": [
    {
     "name": "stdout",
     "output_type": "stream",
     "text": [
      "The length of string is 5\n"
     ]
    }
   ],
   "source": [
    "def len_of_list(lists):\n",
    "    c = 0\n",
    "    for i in lists:\n",
    "        c += 1\n",
    "    return c\n",
    "lists = [1,2,3,4,5]\n",
    "print(f\"The length of string is {len_of_list(lists)}\")\n",
    "\n"
   ]
  },
  {
   "cell_type": "markdown",
   "id": "eb28c660-d2ba-494c-86b1-6cb5df3b88fc",
   "metadata": {},
   "source": [
    "3. Append an element to the end of a list.\n"
   ]
  },
  {
   "cell_type": "code",
   "execution_count": 29,
   "id": "be498866-77ab-4726-85a2-e2a40fbf7a04",
   "metadata": {},
   "outputs": [
    {
     "name": "stdout",
     "output_type": "stream",
     "text": [
      "[1, 2, 3, 4, 5, 6]\n"
     ]
    }
   ],
   "source": [
    "def append_to_end(lists,element):\n",
    "    lists.insert(len(lists),element)\n",
    "    return lists\n",
    "lists = [1,2,3,4,5]\n",
    "element = 6\n",
    "print(append_to_end(lists, element))"
   ]
  },
  {
   "cell_type": "markdown",
   "id": "5f224d79-b83f-4ebc-83e0-252aeb2bc126",
   "metadata": {},
   "source": [
    "4. Insert an element at a specific index in a list.\n"
   ]
  },
  {
   "cell_type": "code",
   "execution_count": 31,
   "id": "b8a201be-95fc-48eb-9f3c-935dc9108401",
   "metadata": {},
   "outputs": [
    {
     "name": "stdout",
     "output_type": "stream",
     "text": [
      "[1, 6, 2, 3, 4, 5]\n"
     ]
    }
   ],
   "source": [
    "def insert_at_specific(lists, element,pos):\n",
    "    lists.insert(pos, element)\n",
    "    return lists\n",
    "lists = [1,2,3,4,5]\n",
    "element = 6\n",
    "pos = 2\n",
    "print(insert_at_specific(lists,element,pos-1))"
   ]
  },
  {
   "cell_type": "markdown",
   "id": "8f19b468-ec3e-48a7-919d-b2466fd90afa",
   "metadata": {},
   "source": [
    "5. Remove an element from a list by its value."
   ]
  },
  {
   "cell_type": "code",
   "execution_count": 1,
   "id": "a824dc6b-deb4-4b4f-856f-f2c077c9be5a",
   "metadata": {},
   "outputs": [
    {
     "data": {
      "text/plain": [
       "[2, 3, 4, 5]"
      ]
     },
     "execution_count": 1,
     "metadata": {},
     "output_type": "execute_result"
    }
   ],
   "source": [
    "def remove_element_by_value(lists,val):\n",
    "    lists.remove(val)\n",
    "    return lists\n",
    "lists = [1,2,3,4,5]\n",
    "val = 1\n",
    "remove_element_by_value(lists,val)"
   ]
  },
  {
   "cell_type": "markdown",
   "id": "2020c1fd-d346-422c-b2e8-b3198ceb4fee",
   "metadata": {},
   "source": [
    "6. Remove an element from a list by its index."
   ]
  },
  {
   "cell_type": "code",
   "execution_count": 3,
   "id": "ba2c2fd9-a259-457d-9eca-ac98d065bc2d",
   "metadata": {},
   "outputs": [
    {
     "data": {
      "text/plain": [
       "[1, 2, 4, 5]"
      ]
     },
     "execution_count": 3,
     "metadata": {},
     "output_type": "execute_result"
    }
   ],
   "source": [
    "def remove_element_by_index(lists, index):\n",
    "    lists.pop(index)\n",
    "    return lists\n",
    "lists = [1,2,3,4,5]\n",
    "index = 1\n",
    "remove_element_by_index(lists,2)"
   ]
  },
  {
   "cell_type": "markdown",
   "id": "8ac57bfd-42d6-4c6b-bcdd-4a06a0594449",
   "metadata": {},
   "source": [
    "7. Check if an element exists in a list."
   ]
  },
  {
   "cell_type": "code",
   "execution_count": 4,
   "id": "ae012b0f-9b12-4500-abe7-03d901b33f04",
   "metadata": {},
   "outputs": [
    {
     "data": {
      "text/plain": [
       "True"
      ]
     },
     "execution_count": 4,
     "metadata": {},
     "output_type": "execute_result"
    }
   ],
   "source": [
    "def check_if_exists(lists, element):\n",
    "    if element in lists:\n",
    "        return True\n",
    "    else:\n",
    "        return False\n",
    "lists = [1,2,3,4,5]\n",
    "check_if_exists(lists,4)"
   ]
  },
  {
   "cell_type": "markdown",
   "id": "92333e62-a322-4864-8cb0-ed99e73f61dd",
   "metadata": {},
   "source": [
    "8. Find the index of the first occurrence of an element in a list."
   ]
  },
  {
   "cell_type": "code",
   "execution_count": 7,
   "id": "c5d8e720-f5bf-4f35-be22-eca99216f19b",
   "metadata": {},
   "outputs": [
    {
     "name": "stdout",
     "output_type": "stream",
     "text": [
      "The first occurence of 2 is at index 1\n"
     ]
    }
   ],
   "source": [
    "def return_first_occurence(lists, element):\n",
    "    return lists.index(element)\n",
    "lists = [1,2,3,4,5]\n",
    "element = 2\n",
    "print(f\"The first occurence of {element} is at index {return_first_occurence(lists,element)}\")"
   ]
  },
  {
   "cell_type": "markdown",
   "id": "e016d9ef-33a2-4af2-82d7-d2fae9b1dcda",
   "metadata": {},
   "source": [
    "9. Count the occurrences of an element in a list."
   ]
  },
  {
   "cell_type": "code",
   "execution_count": 13,
   "id": "53ef34b6-4d62-43d2-b5c2-c12c1fe87e45",
   "metadata": {},
   "outputs": [
    {
     "name": "stdout",
     "output_type": "stream",
     "text": [
      "The occurence of 2 is 3 times\n"
     ]
    }
   ],
   "source": [
    "def count_occurences(lists, element):\n",
    "    c = 0\n",
    "    for i in lists:\n",
    "        if i == element:\n",
    "            c += 1\n",
    "    return c\n",
    "lists = [1,2,3,4,5,2,2]\n",
    "element = 2\n",
    "print(f\"The occurence of {element} is {count_occurences(lists,element)} times\")"
   ]
  },
  {
   "cell_type": "markdown",
   "id": "913711df-0dab-4405-85f3-73e6e3cf5df2",
   "metadata": {},
   "source": [
    "10. Reverse the order of elements in a list."
   ]
  },
  {
   "cell_type": "code",
   "execution_count": 14,
   "id": "9571ee6a-cf00-49ac-a309-c51068bc5ea4",
   "metadata": {},
   "outputs": [
    {
     "name": "stdout",
     "output_type": "stream",
     "text": [
      "The reversed list is [5, 4, 3, 2, 1]\n"
     ]
    }
   ],
   "source": [
    "def rev_elements(lists):\n",
    "    return lists[::-1]\n",
    "lists = [1,2,3,4,5]\n",
    "print(f\"The reversed list is {rev_elements(lists)}\")"
   ]
  },
  {
   "cell_type": "markdown",
   "id": "3de6c0ac-2b06-492b-ab67-be15bc0859ed",
   "metadata": {},
   "source": [
    "11. Sort a list in ascending order.\n"
   ]
  },
  {
   "cell_type": "code",
   "execution_count": 15,
   "id": "105f5b4c-8233-4c5a-baa5-2c6ded73aa10",
   "metadata": {},
   "outputs": [
    {
     "name": "stdout",
     "output_type": "stream",
     "text": [
      "The list in sorted order is [5, 6, 7, 8, 9]\n"
     ]
    }
   ],
   "source": [
    "def sort_in_ascending(lists):\n",
    "    return sorted(lists)\n",
    "lists = [9,8,7,6,5]\n",
    "print(f\"The list in sorted order is {sort_in_ascending(lists)}\")"
   ]
  },
  {
   "cell_type": "markdown",
   "id": "15b2fef6-4865-4fc6-b8e1-b39306f2ed1f",
   "metadata": {},
   "source": [
    "12. Sort a list in descending order.\n"
   ]
  },
  {
   "cell_type": "code",
   "execution_count": 18,
   "id": "96a3fb53-3617-48e0-8d55-a1103fc1b339",
   "metadata": {},
   "outputs": [
    {
     "name": "stdout",
     "output_type": "stream",
     "text": [
      "The list in descending order is [5, 4, 3, 2, 1]\n"
     ]
    }
   ],
   "source": [
    "def sort_in_descending(lists):\n",
    "    return sorted(lists, reverse = True)\n",
    "lists = [1,2,3,4,5]\n",
    "print(f\"The list in descending order is {sort_in_descending(lists)}\")"
   ]
  },
  {
   "cell_type": "markdown",
   "id": "658120cc-c8b9-4ca4-ab9d-37d11d0b181c",
   "metadata": {},
   "source": [
    "13. Create a list of even numbers from 1 to 20.\n"
   ]
  },
  {
   "cell_type": "code",
   "execution_count": 21,
   "id": "06b6f469-e36c-420a-b3a6-223037f916b7",
   "metadata": {},
   "outputs": [
    {
     "data": {
      "text/plain": [
       "[2, 4, 6, 8, 10, 12, 14, 16, 18, 20]"
      ]
     },
     "execution_count": 21,
     "metadata": {},
     "output_type": "execute_result"
    }
   ],
   "source": [
    "[i for i in range(1,21) if i%2==0]"
   ]
  },
  {
   "cell_type": "markdown",
   "id": "d3f52e2c-b004-4baf-b541-41d1b0791935",
   "metadata": {},
   "source": [
    "\n",
    "14. Create a list of odd numbers from 1 to 20.\n",
    "\n"
   ]
  },
  {
   "cell_type": "code",
   "execution_count": 22,
   "id": "c3ff405b-3290-4d0c-acd3-6e4106d9f521",
   "metadata": {},
   "outputs": [
    {
     "data": {
      "text/plain": [
       "[1, 3, 5, 7, 9, 11, 13, 15, 17, 19]"
      ]
     },
     "execution_count": 22,
     "metadata": {},
     "output_type": "execute_result"
    }
   ],
   "source": [
    "[i for i in range(1,21) if i%2!=0]"
   ]
  },
  {
   "cell_type": "markdown",
   "id": "30958d5c-e664-423b-b774-b237661b8beb",
   "metadata": {},
   "source": [
    "15. Find the sum of all elements in a list.\n",
    "\n"
   ]
  },
  {
   "cell_type": "code",
   "execution_count": 25,
   "id": "79a423f8-5931-4522-a081-044a5d4952eb",
   "metadata": {},
   "outputs": [
    {
     "data": {
      "text/plain": [
       "100"
      ]
     },
     "execution_count": 25,
     "metadata": {},
     "output_type": "execute_result"
    }
   ],
   "source": [
    "lists = [i for i in range(1,21) if i%2!=0]\n",
    "reduce(lambda x,y: x+y, lists)"
   ]
  },
  {
   "cell_type": "markdown",
   "id": "bd5bf5f9-dca3-4c7d-887e-dd254cb2b66e",
   "metadata": {},
   "source": [
    "16. Find the maximum value in a list.\n",
    "\n"
   ]
  },
  {
   "cell_type": "code",
   "execution_count": 30,
   "id": "388d0473-8c88-442d-97e7-a51cb794d978",
   "metadata": {},
   "outputs": [
    {
     "data": {
      "text/plain": [
       "19"
      ]
     },
     "execution_count": 30,
     "metadata": {},
     "output_type": "execute_result"
    }
   ],
   "source": [
    "lists = [i for i in range(1,21) if i%2!=0]\n",
    "reduce(lambda x,y: x if x>y else y, lists)"
   ]
  },
  {
   "cell_type": "markdown",
   "id": "e52eb657-ab68-425f-8742-1f7612f129d3",
   "metadata": {},
   "source": [
    "17. Find the minimum value in a list.\n",
    "\n"
   ]
  },
  {
   "cell_type": "code",
   "execution_count": 31,
   "id": "e5af72c2-efed-4f94-98b8-d2381f4751d8",
   "metadata": {},
   "outputs": [
    {
     "data": {
      "text/plain": [
       "1"
      ]
     },
     "execution_count": 31,
     "metadata": {},
     "output_type": "execute_result"
    }
   ],
   "source": [
    "lists = [i for i in range(1,21) if i%2!=0]\n",
    "reduce(lambda x,y: x if x<y else y, lists)"
   ]
  },
  {
   "cell_type": "markdown",
   "id": "4182ec0f-cf00-4916-9664-c987fae58571",
   "metadata": {},
   "source": [
    "18. Create a list of squares of numbers from 1 to 10.\n"
   ]
  },
  {
   "cell_type": "code",
   "execution_count": 32,
   "id": "d88736d2-4b02-4b33-9977-926025421a7a",
   "metadata": {},
   "outputs": [
    {
     "data": {
      "text/plain": [
       "[1, 4, 9, 16, 25, 36, 49, 64, 81, 100]"
      ]
     },
     "execution_count": 32,
     "metadata": {},
     "output_type": "execute_result"
    }
   ],
   "source": [
    "[i*i for i in range(1,11)]"
   ]
  },
  {
   "cell_type": "markdown",
   "id": "f9cb02eb-fb27-4662-9a17-662648d68d99",
   "metadata": {},
   "source": [
    "19. Create a list of random numbers.\n",
    "\n"
   ]
  },
  {
   "cell_type": "code",
   "execution_count": 33,
   "id": "94d57bc5-c59c-490c-ae10-2eb49381f3ee",
   "metadata": {},
   "outputs": [
    {
     "name": "stdout",
     "output_type": "stream",
     "text": [
      "The random list is: [63, 9, 99, 24, 91, 99, 70, 72, 80, 77]\n"
     ]
    }
   ],
   "source": [
    "import random\n",
    "\n",
    "random_lists = [random.randint(1,100) for i in range(1,11)]\n",
    "\n",
    "print(f\"The random list is: {random_lists}\")"
   ]
  },
  {
   "cell_type": "markdown",
   "id": "c27303ea-af84-44ed-a18e-bf07b1b22362",
   "metadata": {},
   "source": [
    "20. Remove duplicates from a list."
   ]
  },
  {
   "cell_type": "code",
   "execution_count": 35,
   "id": "26e9b3bb-7cbf-4d66-8c3f-a5e77c26e673",
   "metadata": {},
   "outputs": [
    {
     "name": "stdout",
     "output_type": "stream",
     "text": [
      "The list with unique elements is [1, 2, 3, 4, 5, 6, 7]\n"
     ]
    }
   ],
   "source": [
    "lists = [1,1,2,3,3,4,4,5,6,7]\n",
    "\n",
    "unique_list = list(set(lists))\n",
    "print(f\"The list with unique elements is {unique_list}\")"
   ]
  },
  {
   "cell_type": "markdown",
   "id": "1322986d-dd18-43be-b52b-21388adaf707",
   "metadata": {},
   "source": [
    "21. Find the common elements between two lists.\n",
    "\n",
    "\n",
    "\n",
    "\n"
   ]
  },
  {
   "cell_type": "code",
   "execution_count": 36,
   "id": "88cd9329-a5f4-404a-8017-cd687bf69010",
   "metadata": {},
   "outputs": [
    {
     "name": "stdout",
     "output_type": "stream",
     "text": [
      "The common elements between two lists are: [2, 3, 4, 5]\n"
     ]
    }
   ],
   "source": [
    "list1 = [1,2,3,4,5]\n",
    "list2 = [2,3,4,5,6]\n",
    "lists = []\n",
    "\n",
    "for i in list1:\n",
    "    if i in list2:\n",
    "        lists.append(i)\n",
    "print(f\"The common elements between two lists are: {lists}\")"
   ]
  },
  {
   "cell_type": "markdown",
   "id": "00434c9b-9777-493e-aec0-b1511844801b",
   "metadata": {},
   "source": [
    "22. Find the difference between two lists."
   ]
  },
  {
   "cell_type": "code",
   "execution_count": 45,
   "id": "05dd9794-fd77-4291-b21e-2554e9aa4bbc",
   "metadata": {},
   "outputs": [
    {
     "name": "stdout",
     "output_type": "stream",
     "text": [
      "The difference between two lists is: [1]\n"
     ]
    }
   ],
   "source": [
    "list1 = [1,2,3,4,5]\n",
    "list2 = [2,3,4,5,6]\n",
    "\n",
    "lists = list(set(list1).difference(list2))\n",
    "\n",
    "print(f\"The difference between two lists is: {lists}\")"
   ]
  },
  {
   "cell_type": "markdown",
   "id": "eef8de98-b2b9-49ff-9ad4-a5784da2eb7c",
   "metadata": {},
   "source": [
    "23. Merge two lists."
   ]
  },
  {
   "cell_type": "code",
   "execution_count": 43,
   "id": "753bbf70-0bf2-4609-89d4-25d72ea85e2f",
   "metadata": {},
   "outputs": [
    {
     "name": "stdout",
     "output_type": "stream",
     "text": [
      "The combined list is: [1, 2, 3, 4, 5, 2, 3, 4, 5, 6]\n"
     ]
    }
   ],
   "source": [
    "list1 = [1,2,3,4,5]\n",
    "list2 = [2,3,4,5,6]\n",
    "\n",
    "list1.extend(list2)\n",
    "\n",
    "print(f\"The combined list is: {list1}\")"
   ]
  },
  {
   "cell_type": "markdown",
   "id": "3e89512b-6921-498f-9817-a39e7f917617",
   "metadata": {},
   "source": [
    "24. Multiply all elements in a list by 2.\n"
   ]
  },
  {
   "cell_type": "code",
   "execution_count": 46,
   "id": "cf196cfc-d2dc-4643-a0b6-5ad1be05de13",
   "metadata": {},
   "outputs": [
    {
     "name": "stdout",
     "output_type": "stream",
     "text": [
      "The multiplied list is: [2, 4, 6, 8, 10, 12, 14, 16]\n"
     ]
    }
   ],
   "source": [
    "lists = [1,2,3,4,5,6,7,8]\n",
    "multi_list = [i*2 for i in lists]\n",
    "print(f\"The multiplied list is: {multi_list}\")"
   ]
  },
  {
   "cell_type": "markdown",
   "id": "15c9ffcb-1a9a-4490-b62a-0d4e403cde6a",
   "metadata": {},
   "source": [
    "25. Filter out all even numbers from a list.\n"
   ]
  },
  {
   "cell_type": "code",
   "execution_count": 51,
   "id": "6d690afb-aef6-4e39-a001-6cf6334874f6",
   "metadata": {},
   "outputs": [
    {
     "name": "stdout",
     "output_type": "stream",
     "text": [
      "The even numbers among the given elements are: [2, 4, 6]\n"
     ]
    }
   ],
   "source": [
    "lists = [1,2,3,4,5,6,7]\n",
    "a = filter(lambda x: x%2==0, lists)\n",
    "print(f\"The even numbers among the given elements are: {list(a)}\")"
   ]
  },
  {
   "cell_type": "markdown",
   "id": "ad220331-4f13-4787-bb3d-352c5b877d5f",
   "metadata": {},
   "source": [
    "26. Convert a list of strings to a list of integers.\n"
   ]
  },
  {
   "cell_type": "code",
   "execution_count": 53,
   "id": "1e6a9c57-0c1e-490a-b9d9-b27933356205",
   "metadata": {},
   "outputs": [
    {
     "name": "stdout",
     "output_type": "stream",
     "text": [
      "The list of integers is: [1, 2, 3, 4, 5, 6]\n"
     ]
    }
   ],
   "source": [
    "lists = ['1','2','3','4','5','6']\n",
    "int_list = [int(x) for x in lists]\n",
    "print(f\"The list of integers is: {int_list}\")"
   ]
  },
  {
   "cell_type": "markdown",
   "id": "36c67d34-269c-4751-8d48-173dc10dad6d",
   "metadata": {},
   "source": [
    "27. Convert a list of integers to a list of strings.\n"
   ]
  },
  {
   "cell_type": "code",
   "execution_count": 54,
   "id": "1bc0c352-4aa6-491d-84c1-588c13ee150d",
   "metadata": {},
   "outputs": [
    {
     "name": "stdout",
     "output_type": "stream",
     "text": [
      "The list of strings is: ['1', '2', '3', '4', '5', '6']\n"
     ]
    }
   ],
   "source": [
    "lists = [1,2,3,4,5,6]\n",
    "str_list = [str(x) for x in lists]\n",
    "print(f\"The list of strings is: {str_list}\")"
   ]
  },
  {
   "cell_type": "markdown",
   "id": "08d67805-d769-4595-9429-c147c45ed5a5",
   "metadata": {},
   "source": [
    "28. Flatten a nested list.\n",
    "\n"
   ]
  },
  {
   "cell_type": "code",
   "execution_count": 7,
   "id": "fe1b6e8f-52b5-48e7-ad72-6036a69828e7",
   "metadata": {},
   "outputs": [
    {
     "data": {
      "text/plain": [
       "[1, 2, 3, 4, 5, 6, 7, 8, 9]"
      ]
     },
     "execution_count": 7,
     "metadata": {},
     "output_type": "execute_result"
    }
   ],
   "source": [
    "#flatten a lists of list into a single list\n",
    "lst3 = [[1,2,3],[4,5,6],[7,8,9]]\n",
    "[j for i in lst3 for j in i]"
   ]
  },
  {
   "cell_type": "markdown",
   "id": "45bdca64-f768-4d5a-9503-4f86c301fae4",
   "metadata": {},
   "source": [
    "29. Create a list of the first 10 Fibonacci numbers.\n",
    "\n"
   ]
  },
  {
   "cell_type": "code",
   "execution_count": 55,
   "id": "449944b2-627d-43ba-b638-43dccf1cb221",
   "metadata": {},
   "outputs": [
    {
     "name": "stdout",
     "output_type": "stream",
     "text": [
      "Fibonacci sequence:\n",
      "0\n",
      "1\n",
      "1\n",
      "2\n",
      "3\n",
      "5\n",
      "8\n",
      "13\n",
      "21\n",
      "34\n"
     ]
    }
   ],
   "source": [
    "def recur_fibo(n):\n",
    "   if n <= 1:\n",
    "       return n\n",
    "   else:\n",
    "       return(recur_fibo(n-1) + recur_fibo(n-2))\n",
    "\n",
    "nterms = 10\n",
    "\n",
    "# check if the number of terms is valid\n",
    "if nterms <= 0:\n",
    "   print(\"Plese enter a positive integer\")\n",
    "else:\n",
    "   print(\"Fibonacci sequence:\")\n",
    "   for i in range(nterms):\n",
    "       print(recur_fibo(i))"
   ]
  },
  {
   "cell_type": "markdown",
   "id": "e35c9de1-1100-46c5-a693-e5870b1d4810",
   "metadata": {},
   "source": [
    "30. Check if a list is sorted."
   ]
  },
  {
   "cell_type": "code",
   "execution_count": 65,
   "id": "148ca1fd-a950-4117-bc01-5d55ee5549db",
   "metadata": {},
   "outputs": [
    {
     "name": "stdout",
     "output_type": "stream",
     "text": [
      "Is List sorted: True\n"
     ]
    }
   ],
   "source": [
    "lists = [1,2,3,4,6]\n",
    "flag = True\n",
    "for i in range(len(lists)-1):\n",
    "    if(lists[i] > lists[i+1]):\n",
    "        flag = False\n",
    "    else:\n",
    "        continue\n",
    "        \n",
    "print(f\"Is List sorted: {flag}\")"
   ]
  },
  {
   "cell_type": "markdown",
   "id": "69675736-f0e8-479b-98fb-f049946887ef",
   "metadata": {},
   "source": [
    "31. Rotate a list to the left by `n` positions.\n",
    "\n",
    "\n",
    "\n",
    "\n",
    "\n",
    "\n",
    "\n",
    "\n"
   ]
  },
  {
   "cell_type": "code",
   "execution_count": 19,
   "id": "2989a9c2-77dd-4b27-8f23-a86066734418",
   "metadata": {},
   "outputs": [
    {
     "name": "stdout",
     "output_type": "stream",
     "text": [
      "[3, 4, 5, 1, 2]\n"
     ]
    }
   ],
   "source": [
    "def rotate_left(lists, pos):\n",
    "    rotated =  lists[pos:] + lists[:pos]\n",
    "    return rotated\n",
    "\n",
    "lists = [1,2,3,4,5]\n",
    "print(rotate_left(lists,2))\n",
    "        "
   ]
  },
  {
   "cell_type": "markdown",
   "id": "275a295a-381e-4078-a242-f9e04c463d1d",
   "metadata": {},
   "source": [
    "32. Rotate a list to the right by `n` positions."
   ]
  },
  {
   "cell_type": "code",
   "execution_count": 21,
   "id": "5669bf0d-db28-47db-9f7d-b539430007d2",
   "metadata": {},
   "outputs": [
    {
     "name": "stdout",
     "output_type": "stream",
     "text": [
      "[4, 5, 1, 2, 3]\n"
     ]
    }
   ],
   "source": [
    "def rotate_left(lists, pos):\n",
    "    rotated =  lists[-pos:] + lists[:-pos]\n",
    "    return (rotated)\n",
    "\n",
    "lists = [1,2,3,4,5]\n",
    "print(rotate_left(lists,2))\n",
    "        "
   ]
  },
  {
   "cell_type": "markdown",
   "id": "8be0bfa7-d78a-46ac-8934-617681000991",
   "metadata": {},
   "source": [
    "33. Create a list of prime numbers up to 50."
   ]
  },
  {
   "cell_type": "code",
   "execution_count": null,
   "id": "64a53d3f-ae4c-41f5-9a94-570458397309",
   "metadata": {},
   "outputs": [
    {
     "name": "stdout",
     "output_type": "stream",
     "text": [
      "[2, 3, 5, 7, 11, 13, 17, 19, 23, 29, 31, 37, 41, 43, 47]\n"
     ]
    }
   ],
   "source": [
    "def prime_numbers(n):\n",
    "    primes = []\n",
    "    for i in range(2, n + 1):\n",
    "        for j in range(2, int(i ** 0.5) + 1):\n",
    "            if i%j == 0:\n",
    "                break\n",
    "        else:\n",
    "            primes.append(i)\n",
    "    return primes\n",
    "\n",
    "prime_list = prime_numbers(50)\n",
    "print(prime_list)"
   ]
  },
  {
   "cell_type": "markdown",
   "id": "d753aa34-670b-4e92-946e-dc156fab768e",
   "metadata": {},
   "source": [
    "34. Split a list into chunks of size `n`."
   ]
  },
  {
   "cell_type": "code",
   "execution_count": 38,
   "id": "e80c97b3-18ee-411b-a613-706514e364c8",
   "metadata": {},
   "outputs": [
    {
     "name": "stdout",
     "output_type": "stream",
     "text": [
      "[1, 2, 3]\n",
      "[4, 5, 6]\n",
      "[7, 8, 9]\n"
     ]
    }
   ],
   "source": [
    "my_list = [1,2,3,4,5,6,7,8,9]\n",
    "step = 3\n",
    "for i in range(0,len(my_list),step):\n",
    "    x = i\n",
    "    print(my_list[x:x+step])"
   ]
  },
  {
   "cell_type": "markdown",
   "id": "e4eb15e2-1475-4635-8a08-5efbe99c9c94",
   "metadata": {},
   "source": [
    "35. Find the second largest number in a list."
   ]
  },
  {
   "cell_type": "code",
   "execution_count": 46,
   "id": "e2a65b33-81d8-4453-af47-5166af4f6c41",
   "metadata": {},
   "outputs": [
    {
     "name": "stdout",
     "output_type": "stream",
     "text": [
      "32\n"
     ]
    }
   ],
   "source": [
    "def largest_num(lists):\n",
    "    maxi = 0\n",
    "    for i in range(len(lists)):\n",
    "            if lists[i] > maxi:\n",
    "                maxi = lists[i]\n",
    "    return maxi\n",
    "lists = [11,32,23,34,15,26]\n",
    "lists.remove(largest_num(lists))\n",
    "print(largest_num(lists))"
   ]
  },
  {
   "cell_type": "markdown",
   "id": "3910ef65-7e93-4624-b0fd-b381b1c1c6f8",
   "metadata": {},
   "source": [
    "36. Replace every element in a list with its square."
   ]
  },
  {
   "cell_type": "code",
   "execution_count": 47,
   "id": "59b4f099-4ad4-465c-ad29-359cae982830",
   "metadata": {},
   "outputs": [
    {
     "data": {
      "text/plain": [
       "[1, 4, 9, 16, 25]"
      ]
     },
     "execution_count": 47,
     "metadata": {},
     "output_type": "execute_result"
    }
   ],
   "source": [
    "lists = [1,2,3,4,5]\n",
    "[x**2 for x in lists]"
   ]
  },
  {
   "cell_type": "markdown",
   "id": "d195ff02-d610-473f-a3d1-b5fe4b3ec5d3",
   "metadata": {},
   "source": [
    "37. Convert a list to a dictionary where list elements become keys and their indices become values."
   ]
  },
  {
   "cell_type": "code",
   "execution_count": 48,
   "id": "4d221774-ac22-40b2-807c-175fa4eae2c2",
   "metadata": {},
   "outputs": [
    {
     "name": "stdout",
     "output_type": "stream",
     "text": [
      "{1: 0, 2: 1, 3: 2, 4: 3, 5: 4}\n"
     ]
    }
   ],
   "source": [
    "lists = [1,2,3,4,5]\n",
    "dicti = {}\n",
    "for i in range(len(lists)):\n",
    "    dicti[lists[i]] = i\n",
    "print(dicti)"
   ]
  },
  {
   "cell_type": "markdown",
   "id": "57f01ca7-c580-42e8-86b3-62c8006675c3",
   "metadata": {},
   "source": [
    "38. Shuffle the elements of a list randomly."
   ]
  },
  {
   "cell_type": "code",
   "execution_count": 50,
   "id": "e2ddee33-2cfa-4001-a22b-3acf00bc2cf5",
   "metadata": {},
   "outputs": [
    {
     "name": "stdout",
     "output_type": "stream",
     "text": [
      "[4, 3, 5, 2, 1]\n"
     ]
    }
   ],
   "source": [
    "import random\n",
    "lists = [1,2,3,4,5]\n",
    "random.shuffle(lists)\n",
    "print(lists)"
   ]
  },
  {
   "cell_type": "markdown",
   "id": "beee4adb-57ae-4a82-89ba-da3ffe5e7508",
   "metadata": {},
   "source": [
    "39. Create a list of the first 10 factorial numbers.\n"
   ]
  },
  {
   "cell_type": "code",
   "execution_count": 53,
   "id": "53913d21-816f-4251-8024-81c76a54616c",
   "metadata": {},
   "outputs": [
    {
     "name": "stdout",
     "output_type": "stream",
     "text": [
      "The list of factorial of first 10 numbers is: [1, 1, 2, 6, 24, 120, 720, 5040, 40320, 362880]\n"
     ]
    }
   ],
   "source": [
    "def fact(n):\n",
    "    if n == 0 or n == 1:\n",
    "        return 1\n",
    "    else:\n",
    "        return n*fact(n-1)\n",
    "    \n",
    "a = [fact(i) for i in range(10)]\n",
    "print(f\"The list of factorial of first 10 numbers is: {a}\")"
   ]
  },
  {
   "cell_type": "markdown",
   "id": "9d95c57a-393e-4c13-b605-f64ad528469b",
   "metadata": {},
   "source": [
    "40. Check if two lists have at least one element in common."
   ]
  },
  {
   "cell_type": "code",
   "execution_count": 57,
   "id": "f214de2b-e1bb-47a6-aa43-6ae6a574519d",
   "metadata": {},
   "outputs": [
    {
     "name": "stdout",
     "output_type": "stream",
     "text": [
      "ELement is common\n"
     ]
    }
   ],
   "source": [
    "def common_element(list1, list2):\n",
    "    for item in list1:\n",
    "        if item in list2:\n",
    "            return True\n",
    "    return False\n",
    "list1 = [1,2,3,4,5]\n",
    "list2 = [4,6,7,8,9]\n",
    "\n",
    "if common_element(list1, list2):\n",
    "    print(\"ELement is common\")\n",
    "else:\n",
    "    print(\"No element common\")"
   ]
  },
  {
   "cell_type": "markdown",
   "id": "287d3228-e649-44e6-a337-920739ac5760",
   "metadata": {},
   "source": [
    "41. Remove all elements from a list.\n",
    "\n",
    "\n",
    "\n",
    "\n",
    "\n",
    "\n",
    "\n",
    "\n",
    "\n"
   ]
  },
  {
   "cell_type": "code",
   "execution_count": 61,
   "id": "2028fbae-040c-4b02-850f-58ba8ea4637e",
   "metadata": {},
   "outputs": [
    {
     "name": "stdout",
     "output_type": "stream",
     "text": [
      "[]\n"
     ]
    }
   ],
   "source": [
    "lists = [1,2,3,4,5]\n",
    "lists.clear()\n",
    "print(lists)"
   ]
  },
  {
   "cell_type": "markdown",
   "id": "ea539e6a-e36c-4048-a3ca-74a060ca6b8a",
   "metadata": {},
   "source": [
    "42. Replace negative numbers in a list with 0."
   ]
  },
  {
   "cell_type": "code",
   "execution_count": 63,
   "id": "6495e5ad-4758-48e0-9f23-e0fd869a3f7c",
   "metadata": {},
   "outputs": [
    {
     "name": "stdout",
     "output_type": "stream",
     "text": [
      "[1, 2, 3, 4, 5, 0, 0, 0]\n"
     ]
    }
   ],
   "source": [
    "lists = [1,2,3,4,5,-3,-4,-5]\n",
    "for i in range(len(lists)):\n",
    "    if lists[i] <0:\n",
    "        lists[i] = 0\n",
    "print(lists)\n"
   ]
  },
  {
   "cell_type": "markdown",
   "id": "c2043a60-0f79-495b-a01a-2338ea8d338e",
   "metadata": {},
   "source": [
    "43. Convert a string into a list of words."
   ]
  },
  {
   "cell_type": "code",
   "execution_count": 64,
   "id": "6147a657-84bd-486b-afd0-e5050f72d930",
   "metadata": {},
   "outputs": [
    {
     "name": "stdout",
     "output_type": "stream",
     "text": [
      "['Hi', 'how', 'are', 'you']\n"
     ]
    }
   ],
   "source": [
    "string = \"Hi how are you\"\n",
    "print(string.split())"
   ]
  },
  {
   "cell_type": "markdown",
   "id": "f2bd734a-2c25-46ed-a1df-70a1eb4001d7",
   "metadata": {},
   "source": [
    "44. Convert a list of words into a string."
   ]
  },
  {
   "cell_type": "code",
   "execution_count": 65,
   "id": "8dc3bafc-edc5-4231-a8e4-279156fd376e",
   "metadata": {},
   "outputs": [
    {
     "name": "stdout",
     "output_type": "stream",
     "text": [
      "Hi how are you\n"
     ]
    }
   ],
   "source": [
    "lists = ['Hi', 'how', 'are', 'you']\n",
    "print(' '.join(lists))"
   ]
  },
  {
   "cell_type": "markdown",
   "id": "3a45dee9-8393-4df9-8010-09ef2231204c",
   "metadata": {},
   "source": [
    "\n",
    "45. Create a list of the first `n` powers of 2."
   ]
  },
  {
   "cell_type": "code",
   "execution_count": 3,
   "id": "53c18f92-20a9-457d-94dc-3622c5624fea",
   "metadata": {},
   "outputs": [
    {
     "name": "stdin",
     "output_type": "stream",
     "text": [
      "Enter the number till when you want range 5\n"
     ]
    },
    {
     "data": {
      "text/plain": [
       "[1, 2, 4, 8, 16, 32]"
      ]
     },
     "execution_count": 3,
     "metadata": {},
     "output_type": "execute_result"
    }
   ],
   "source": [
    "num = int(input(\"Enter the number till when you want range\"))\n",
    "[2**i for i in range(num+1)]"
   ]
  },
  {
   "cell_type": "markdown",
   "id": "4f63752b-a4c3-4f1f-9826-6d5fd5c464fd",
   "metadata": {},
   "source": [
    "46. Find the longest string in a list of strings."
   ]
  },
  {
   "cell_type": "code",
   "execution_count": 7,
   "id": "57061aad-77f6-44cd-8c95-7851975973b8",
   "metadata": {},
   "outputs": [
    {
     "name": "stdout",
     "output_type": "stream",
     "text": [
      "is there everything okay\n"
     ]
    }
   ],
   "source": [
    "lists = [\"hi how are you\", \"are you okay\", \"is there everything okay\"]\n",
    "max = 0\n",
    "string = ''\n",
    "for i in lists:\n",
    "    if len(i) > max:\n",
    "        max = len(i)\n",
    "        string = i\n",
    "print(string)"
   ]
  },
  {
   "cell_type": "markdown",
   "id": "734644f8-1449-47c9-8d8f-5166541c5823",
   "metadata": {},
   "source": [
    "47. Find the shortest string in a list of strings."
   ]
  },
  {
   "cell_type": "code",
   "execution_count": 8,
   "id": "72539c5d-0341-43d1-ac12-d17ba1432f8c",
   "metadata": {},
   "outputs": [
    {
     "name": "stdout",
     "output_type": "stream",
     "text": [
      "are you okay\n"
     ]
    }
   ],
   "source": [
    "lists = [\"hi how are you\", \"are you okay\", \"is there everything okay\"]\n",
    "min = 1000000\n",
    "string = ''\n",
    "for i in lists:\n",
    "    if len(i) < min:\n",
    "        min = len(i)\n",
    "        string = i\n",
    "print(string)"
   ]
  },
  {
   "cell_type": "markdown",
   "id": "ba6758b3-9b4b-4225-9122-0d88b3612319",
   "metadata": {},
   "source": [
    "48. Create a list of the first `n` triangular numbers."
   ]
  },
  {
   "cell_type": "code",
   "execution_count": 11,
   "id": "5b016bae-34d4-461a-94ff-8ce83eb49361",
   "metadata": {},
   "outputs": [
    {
     "name": "stdin",
     "output_type": "stream",
     "text": [
      "Enter the number till which you want traingular numbers 5\n"
     ]
    },
    {
     "name": "stdout",
     "output_type": "stream",
     "text": [
      "[1, 3, 6, 10, 15]\n"
     ]
    }
   ],
   "source": [
    "num = int(input(\"Enter the number till which you want traingular numbers\"))\n",
    "a = [i*(i+1)//2 for i in range(1,num+1)]\n",
    "print(a)"
   ]
  },
  {
   "cell_type": "markdown",
   "id": "818ba8d1-36e2-4302-8697-1e9045bf964f",
   "metadata": {},
   "source": [
    "49. Check if a list contains another list as a subsequence."
   ]
  },
  {
   "cell_type": "code",
   "execution_count": 15,
   "id": "db2b2864-9f46-49b9-b32c-257b3be2643a",
   "metadata": {},
   "outputs": [
    {
     "name": "stdout",
     "output_type": "stream",
     "text": [
      "True\n"
     ]
    }
   ],
   "source": [
    "def check_sub(master_list,small_list):\n",
    "    len_small_list = len(small_list)\n",
    "    for i in range(len(master_list) - len_small_list + 1):\n",
    "        if master_list[i:i+len_small_list] == small_list:\n",
    "            return True\n",
    "    return False\n",
    "        \n",
    "master_list = [1,2,3,4,5,6]\n",
    "small_list = [4,5,6]\n",
    "print(check_sub(master_list,small_list))"
   ]
  },
  {
   "cell_type": "markdown",
   "id": "28727d31-5cfe-4d69-a212-36da96e217a9",
   "metadata": {},
   "source": [
    "50. Swap two elements in a list by their indices."
   ]
  },
  {
   "cell_type": "code",
   "execution_count": 13,
   "id": "4380b1af-f7c0-4261-a507-00ef93a70237",
   "metadata": {},
   "outputs": [
    {
     "name": "stdout",
     "output_type": "stream",
     "text": [
      "List after swapping elements: [1, 2, 3, 5, 4]\n"
     ]
    }
   ],
   "source": [
    "my_list = [1, 2, 3, 4, 5]\n",
    "\n",
    "# Indices of elements to swap\n",
    "index1 = 4\n",
    "index2 = 3\n",
    "\n",
    "# Swap the elements at the specified indices\n",
    "t = my_list[index1]\n",
    "my_list[index1] = my_list[index2]\n",
    "my_list[index2] = t\n",
    "\n",
    "# Print the list after swapping\n",
    "print(\"List after swapping elements:\", my_list)"
   ]
  },
  {
   "cell_type": "markdown",
   "id": "65339cba-a0c7-4d06-ac17-4bc9afc6462b",
   "metadata": {},
   "source": [
    "## Tuple"
   ]
  },
  {
   "cell_type": "markdown",
   "id": "7db13529-b612-4e31-960c-671b8e83d302",
   "metadata": {},
   "source": [
    "1. Create a tuple with integers from 1 to 5.\n"
   ]
  },
  {
   "cell_type": "code",
   "execution_count": 15,
   "id": "3ddd5ee5-9ef1-4545-ada3-19cc51fc89fd",
   "metadata": {},
   "outputs": [
    {
     "data": {
      "text/plain": [
       "(1, 2, 3, 4, 5)"
      ]
     },
     "execution_count": 15,
     "metadata": {},
     "output_type": "execute_result"
    }
   ],
   "source": [
    "t = (1,2,3,4,5)\n",
    "t"
   ]
  },
  {
   "cell_type": "markdown",
   "id": "7a622dfd-d730-4626-96e6-ab0a1a4b1aa7",
   "metadata": {},
   "source": [
    "2. Access the third element of a tuple.\n"
   ]
  },
  {
   "cell_type": "code",
   "execution_count": 16,
   "id": "9d342f2b-ed84-4d33-b024-e7a70a715cc2",
   "metadata": {},
   "outputs": [
    {
     "data": {
      "text/plain": [
       "3"
      ]
     },
     "execution_count": 16,
     "metadata": {},
     "output_type": "execute_result"
    }
   ],
   "source": [
    "t = (1,2,3,4,5)\n",
    "t[2]"
   ]
  },
  {
   "cell_type": "markdown",
   "id": "d234bd1c-b7ab-4062-8e52-7c3823b860dc",
   "metadata": {},
   "source": [
    "3. Find the length of a tuple without using the `len()` function.\n"
   ]
  },
  {
   "cell_type": "code",
   "execution_count": 17,
   "id": "4bfb513a-d554-4941-bd80-97ca8a50990f",
   "metadata": {},
   "outputs": [
    {
     "name": "stdout",
     "output_type": "stream",
     "text": [
      "The length of tuple is: 5\n"
     ]
    }
   ],
   "source": [
    "t = (1,2,3,4,5)\n",
    "c = 0\n",
    "for i in t:\n",
    "    c += 1\n",
    "print(f\"The length of tuple is: {c}\")"
   ]
  },
  {
   "cell_type": "markdown",
   "id": "f4e50605-2485-47a0-8c5b-b7f3131aad34",
   "metadata": {},
   "source": [
    "4. Count the occurrences of an element in a tuple.\n"
   ]
  },
  {
   "cell_type": "code",
   "execution_count": 19,
   "id": "b52d3e74-898a-4a06-99f5-e3d604bd8189",
   "metadata": {},
   "outputs": [
    {
     "name": "stdout",
     "output_type": "stream",
     "text": [
      "Element 7 is not in the tuple\n"
     ]
    }
   ],
   "source": [
    "element = 7\n",
    "t = (1,2,3,4,5)\n",
    "flag = 0\n",
    "for i in t:\n",
    "    if i == element:\n",
    "        flag += 1\n",
    "    else:\n",
    "        continue\n",
    "if flag:\n",
    "    print(f\"Element {element} is present in the tuple\")\n",
    "else:\n",
    "    print(f\"Element {element} is not in the tuple\")"
   ]
  },
  {
   "cell_type": "markdown",
   "id": "eed1866a-2526-4584-9f57-77f1fb00eb42",
   "metadata": {},
   "source": [
    "5. Find the index of the first occurrence of an element in a tuple.\n"
   ]
  },
  {
   "cell_type": "code",
   "execution_count": 20,
   "id": "55130491-472a-4c44-8183-d9d5f365307e",
   "metadata": {},
   "outputs": [
    {
     "name": "stdout",
     "output_type": "stream",
     "text": [
      "The first index of occurence is: 2\n"
     ]
    }
   ],
   "source": [
    "t = (1,2,3,4,5)\n",
    "element = 3\n",
    "print(f\"The first index of occurence is: {t.index(element)}\")"
   ]
  },
  {
   "cell_type": "markdown",
   "id": "f83ff37d-5873-4d74-be18-22ddc3d72b82",
   "metadata": {},
   "source": [
    "6. Check if an element exists in a tuple.\n"
   ]
  },
  {
   "cell_type": "code",
   "execution_count": 21,
   "id": "9e9024c6-1e77-4c28-b363-c59d0c7579c7",
   "metadata": {},
   "outputs": [
    {
     "name": "stdout",
     "output_type": "stream",
     "text": [
      "The element 2 is present in tuple\n"
     ]
    }
   ],
   "source": [
    "t = (1,2,3,4,5)\n",
    "element = 2\n",
    "if element in t:\n",
    "    print(f\"The element {element} is present in tuple\")"
   ]
  },
  {
   "cell_type": "markdown",
   "id": "10900a83-07e2-4e1b-a74e-c77480f0d3c2",
   "metadata": {},
   "source": [
    "7. Convert a tuple to a list.\n"
   ]
  },
  {
   "cell_type": "code",
   "execution_count": 22,
   "id": "c4b2255b-b8de-4bb2-a861-3e87e05ce4f2",
   "metadata": {},
   "outputs": [
    {
     "name": "stdout",
     "output_type": "stream",
     "text": [
      "[1, 2, 3, 4, 5]\n"
     ]
    }
   ],
   "source": [
    "t = (1,2,3,4,5)\n",
    "print(list(t))"
   ]
  },
  {
   "cell_type": "markdown",
   "id": "6bcc3ad7-def8-482e-b8b0-61b14d522368",
   "metadata": {},
   "source": [
    "8. Convert a list to a tuple.\n"
   ]
  },
  {
   "cell_type": "code",
   "execution_count": 29,
   "id": "3f283dfe-ffb3-42c4-8175-b581779ec8ba",
   "metadata": {},
   "outputs": [
    {
     "data": {
      "text/plain": [
       "(1, 2, 3, 4, 5)"
      ]
     },
     "execution_count": 29,
     "metadata": {},
     "output_type": "execute_result"
    }
   ],
   "source": [
    "lists = [1,2,3,4,5]\n",
    "tuple(lists)"
   ]
  },
  {
   "cell_type": "markdown",
   "id": "75046542-739c-4d61-b82a-ebc8242d8820",
   "metadata": {},
   "source": [
    "9. Unpack the elements of a tuple into variables.\n"
   ]
  },
  {
   "cell_type": "code",
   "execution_count": 26,
   "id": "04e99e8a-5bda-49ed-a0eb-2053e4853397",
   "metadata": {},
   "outputs": [
    {
     "name": "stdout",
     "output_type": "stream",
     "text": [
      "1 2 3\n"
     ]
    }
   ],
   "source": [
    "t = (1,2,3,4,5)\n",
    "a,b,c,d,e= t\n",
    "print(a,b,c)"
   ]
  },
  {
   "cell_type": "markdown",
   "id": "f7e5ff16-1920-4f54-8980-1056187c9542",
   "metadata": {},
   "source": [
    "10. Create a tuple of even numbers from 1 to 10."
   ]
  },
  {
   "cell_type": "code",
   "execution_count": 30,
   "id": "21377616-d5a5-4203-adc5-b286627bf01a",
   "metadata": {},
   "outputs": [
    {
     "data": {
      "text/plain": [
       "(0, 2, 4, 6, 8, 10)"
      ]
     },
     "execution_count": 30,
     "metadata": {},
     "output_type": "execute_result"
    }
   ],
   "source": [
    "a = tuple([i for i in range(11) if i%2==0])\n",
    "a"
   ]
  },
  {
   "cell_type": "markdown",
   "id": "e05884a5-7b19-46ba-b168-302277210ec8",
   "metadata": {},
   "source": [
    "11. Create a tuple of odd numbers from 1 to 10.\n",
    "\n",
    "\n",
    "\n",
    "\n",
    "\n",
    "\n",
    "\n",
    "\n"
   ]
  },
  {
   "cell_type": "code",
   "execution_count": 31,
   "id": "f5875f30-1e55-4a02-96c5-895d22af0954",
   "metadata": {},
   "outputs": [
    {
     "data": {
      "text/plain": [
       "(1, 3, 5, 7, 9)"
      ]
     },
     "execution_count": 31,
     "metadata": {},
     "output_type": "execute_result"
    }
   ],
   "source": [
    "a = tuple([i for i in range(11) if i%2!=0])\n",
    "a"
   ]
  },
  {
   "cell_type": "markdown",
   "id": "60526ac0-f435-420a-93d7-c286a88757b4",
   "metadata": {},
   "source": [
    "12. Concatenate two tuples."
   ]
  },
  {
   "cell_type": "code",
   "execution_count": 32,
   "id": "bf442574-8bb8-459a-b9e3-225b8554e489",
   "metadata": {},
   "outputs": [
    {
     "data": {
      "text/plain": [
       "(1, 2, 3, 4, 5, 6)"
      ]
     },
     "execution_count": 32,
     "metadata": {},
     "output_type": "execute_result"
    }
   ],
   "source": [
    "t1 = (1,2,3)\n",
    "t2 = (4,5,6)\n",
    "\n",
    "t = t1+t2\n",
    "t"
   ]
  },
  {
   "cell_type": "markdown",
   "id": "0b86496f-073c-4425-ae76-a0f130791699",
   "metadata": {},
   "source": [
    "13. Repeat a tuple three times."
   ]
  },
  {
   "cell_type": "code",
   "execution_count": 34,
   "id": "ff07844b-cbf1-4b0a-ab3a-2ac1bcd65fd2",
   "metadata": {},
   "outputs": [
    {
     "data": {
      "text/plain": [
       "(1, 2, 3, 1, 2, 3, 1, 2, 3)"
      ]
     },
     "execution_count": 34,
     "metadata": {},
     "output_type": "execute_result"
    }
   ],
   "source": [
    "t1 = (1,2,3)\n",
    "t = 3*t1\n",
    "t"
   ]
  },
  {
   "cell_type": "markdown",
   "id": "aeee0918-1d53-405b-9630-5a837df85c64",
   "metadata": {},
   "source": [
    "14. Check if a tuple is empty."
   ]
  },
  {
   "cell_type": "code",
   "execution_count": 38,
   "id": "91d9906f-2407-4e7e-a206-7bafacfc9886",
   "metadata": {},
   "outputs": [
    {
     "name": "stdout",
     "output_type": "stream",
     "text": [
      "Tuple is empty\n"
     ]
    }
   ],
   "source": [
    "t = ()\n",
    "if(len(t) == 0):\n",
    "    print(\"Tuple is empty\")\n",
    "else:\n",
    "    print(\"Not Empty\")"
   ]
  },
  {
   "cell_type": "markdown",
   "id": "30a492a7-cd87-452b-8362-7b6820e06517",
   "metadata": {},
   "source": [
    "15. Create a nested tuple."
   ]
  },
  {
   "cell_type": "code",
   "execution_count": 39,
   "id": "12bdce15-b3f3-4f95-9cb5-3f2e3944af48",
   "metadata": {},
   "outputs": [
    {
     "data": {
      "text/plain": [
       "((1, 2, 3), ('a', 'b', 'c'), (True, False))"
      ]
     },
     "execution_count": 39,
     "metadata": {},
     "output_type": "execute_result"
    }
   ],
   "source": [
    "t = ((1,2,3),('a','b','c'),(True,False))\n",
    "t"
   ]
  },
  {
   "cell_type": "markdown",
   "id": "2b9b5532-8398-4572-9bac-277f4a060995",
   "metadata": {},
   "source": [
    "16. Access the first element of a nested tuple."
   ]
  },
  {
   "cell_type": "code",
   "execution_count": 40,
   "id": "82ef6cde-c06e-48ad-8c88-31af8d9088db",
   "metadata": {},
   "outputs": [
    {
     "data": {
      "text/plain": [
       "(1, 2, 3)"
      ]
     },
     "execution_count": 40,
     "metadata": {},
     "output_type": "execute_result"
    }
   ],
   "source": [
    "t = ((1,2,3),('a','b','c'),(True,False))\n",
    "t[0]"
   ]
  },
  {
   "cell_type": "markdown",
   "id": "d2d6310f-89e0-412a-a409-ef0ec866ced6",
   "metadata": {},
   "source": [
    "17. Create a tuple with a single element."
   ]
  },
  {
   "cell_type": "code",
   "execution_count": 41,
   "id": "a2763648-5adc-429e-b8dc-14ff33cb227e",
   "metadata": {},
   "outputs": [
    {
     "data": {
      "text/plain": [
       "(1,)"
      ]
     },
     "execution_count": 41,
     "metadata": {},
     "output_type": "execute_result"
    }
   ],
   "source": [
    "t = (1,)\n",
    "t"
   ]
  },
  {
   "cell_type": "markdown",
   "id": "41a474b5-dfab-4d80-9926-2d2b3dbf0c22",
   "metadata": {},
   "source": [
    "18. Compare two tuples."
   ]
  },
  {
   "cell_type": "code",
   "execution_count": 45,
   "id": "7e92e751-e102-4cd7-9f24-1e13537121e3",
   "metadata": {},
   "outputs": [
    {
     "name": "stdout",
     "output_type": "stream",
     "text": [
      "Equal\n"
     ]
    }
   ],
   "source": [
    "t1 = (1,2,3)\n",
    "t2 = (1,2,3)\n",
    "if t1 == t2:\n",
    "    print(\"Equal\")\n",
    "else:\n",
    "    print(\"Unequal\")"
   ]
  },
  {
   "cell_type": "markdown",
   "id": "1bcd5e00-eb4a-4e6e-8b2a-1b80cd273d16",
   "metadata": {},
   "source": [
    "19. Delete a tuple."
   ]
  },
  {
   "cell_type": "code",
   "execution_count": 48,
   "id": "7f370132-efaf-4980-8e0c-bcd732436855",
   "metadata": {},
   "outputs": [],
   "source": [
    "t = (1,2,3)\n",
    "del t\n"
   ]
  },
  {
   "cell_type": "markdown",
   "id": "6d133a74-302e-4814-b6d1-c18e450ccc21",
   "metadata": {},
   "source": [
    "20. Slice a tuple."
   ]
  },
  {
   "cell_type": "code",
   "execution_count": 49,
   "id": "3867e6d2-e78e-4336-bb13-b6c87845c1ea",
   "metadata": {},
   "outputs": [
    {
     "data": {
      "text/plain": [
       "(3, 4, 5)"
      ]
     },
     "execution_count": 49,
     "metadata": {},
     "output_type": "execute_result"
    }
   ],
   "source": [
    "t = (1,2,3,4,5)\n",
    "t[2:]"
   ]
  },
  {
   "cell_type": "markdown",
   "id": "6d526cb0-25e6-49e8-a665-7f8a416eab28",
   "metadata": {},
   "source": [
    "21. Find the maximum value in a tuple.\n"
   ]
  },
  {
   "cell_type": "code",
   "execution_count": 2,
   "id": "e5bf38da-d918-4932-9654-e2dfe8f6afd4",
   "metadata": {},
   "outputs": [
    {
     "name": "stdout",
     "output_type": "stream",
     "text": [
      "5\n"
     ]
    }
   ],
   "source": [
    "t1 = (1,2,3,4,5)\n",
    "a = max(t1)\n",
    "print(a)"
   ]
  },
  {
   "cell_type": "markdown",
   "id": "22cadc35-14ad-442d-9635-baae4655d07b",
   "metadata": {},
   "source": [
    "22. Find the minimum value in a tuple.\n"
   ]
  },
  {
   "cell_type": "code",
   "execution_count": 3,
   "id": "838deb1f-1041-48d5-9eb9-6cfc684130d2",
   "metadata": {},
   "outputs": [
    {
     "name": "stdout",
     "output_type": "stream",
     "text": [
      "1\n"
     ]
    }
   ],
   "source": [
    "t1 = (1,2,3,4,5)\n",
    "a = min(t1)\n",
    "print(a)"
   ]
  },
  {
   "cell_type": "markdown",
   "id": "a882ae95-8e0d-4ca3-8283-5e6c670e8b34",
   "metadata": {},
   "source": [
    "23. Convert a string to a tuple of characters.\n"
   ]
  },
  {
   "cell_type": "code",
   "execution_count": 5,
   "id": "7945a2e5-b621-4e6e-aad8-cbd44456d267",
   "metadata": {},
   "outputs": [
    {
     "data": {
      "text/plain": [
       "('Hi', 'how', 'are', 'you')"
      ]
     },
     "execution_count": 5,
     "metadata": {},
     "output_type": "execute_result"
    }
   ],
   "source": [
    "string = \"Hi how are you\"\n",
    "a = tuple(string.split())\n",
    "a"
   ]
  },
  {
   "cell_type": "markdown",
   "id": "538feded-9eb3-4db5-88f6-eab515ca0821",
   "metadata": {},
   "source": [
    "24. Convert a tuple of characters to a string.\n"
   ]
  },
  {
   "cell_type": "code",
   "execution_count": 8,
   "id": "cfd2507d-9522-4602-922f-84af3c537eeb",
   "metadata": {},
   "outputs": [
    {
     "name": "stdout",
     "output_type": "stream",
     "text": [
      "Hi how are you\n"
     ]
    }
   ],
   "source": [
    "a =list(('Hi', 'how', 'are', 'you'))\n",
    "print(' '.join(a))"
   ]
  },
  {
   "cell_type": "markdown",
   "id": "96fc480c-9b31-4940-8905-17da3538c25a",
   "metadata": {},
   "source": [
    "25. Create a tuple from multiple data types.\n"
   ]
  },
  {
   "cell_type": "code",
   "execution_count": 9,
   "id": "37dc9400-fd19-4da0-8005-2b50cbc397ba",
   "metadata": {},
   "outputs": [
    {
     "data": {
      "text/plain": [
       "('a', 'b', 1, 2, 3, True, False)"
      ]
     },
     "execution_count": 9,
     "metadata": {},
     "output_type": "execute_result"
    }
   ],
   "source": [
    "a = ('a','b',1,2,3,True,False)\n",
    "a"
   ]
  },
  {
   "cell_type": "markdown",
   "id": "718d5691-cc12-4d29-8c53-4a8afb8ba013",
   "metadata": {},
   "source": [
    "26. Check if two tuples are identical.\n"
   ]
  },
  {
   "cell_type": "code",
   "execution_count": 12,
   "id": "bfd12c76-ea37-4f6f-a216-22b6487be8e9",
   "metadata": {},
   "outputs": [
    {
     "name": "stdout",
     "output_type": "stream",
     "text": [
      "tuple1 and tuple2 are identical: True\n",
      "tuple1 and tuple3 are identical: False\n"
     ]
    }
   ],
   "source": [
    "# Step 1: Create two tuples\n",
    "t1 = (1, 2, 3)\n",
    "t2 = (1, 2, 3)\n",
    "t3 = (4, 5, 6)\n",
    "\n",
    "# Step 2: Compare the tuples for identity using the equality operator\n",
    "identical1 = t1 == t2\n",
    "identical2 = t1 == t3\n",
    "\n",
    "# Step 3: Print the results\n",
    "print(\"tuple1 and tuple2 are identical:\", identical1)\n",
    "print(\"tuple1 and tuple3 are identical:\", identical2)"
   ]
  },
  {
   "cell_type": "markdown",
   "id": "8dc6c68e-adad-43f8-9717-dea3dd04c26c",
   "metadata": {},
   "source": [
    "27. Sort the elements of a tuple.\n"
   ]
  },
  {
   "cell_type": "code",
   "execution_count": 14,
   "id": "32d3ac4f-8177-423b-982f-d34bef84794d",
   "metadata": {},
   "outputs": [
    {
     "data": {
      "text/plain": [
       "(1, 2, 3, 5, 9, 9)"
      ]
     },
     "execution_count": 14,
     "metadata": {},
     "output_type": "execute_result"
    }
   ],
   "source": [
    "t = (3,2,5,9,1,9)\n",
    "sorted_t = tuple(sorted(t))\n",
    "sorted_t"
   ]
  },
  {
   "cell_type": "markdown",
   "id": "a175ab7f-1123-4900-84c8-52df13af9e07",
   "metadata": {},
   "source": [
    "28. Convert a tuple of integers to a tuple of strings.\n"
   ]
  },
  {
   "cell_type": "code",
   "execution_count": 16,
   "id": "db178cb0-c5f3-496a-a3dd-5e6779ecb765",
   "metadata": {},
   "outputs": [
    {
     "data": {
      "text/plain": [
       "('1', '2', '3', '4', '5')"
      ]
     },
     "execution_count": 16,
     "metadata": {},
     "output_type": "execute_result"
    }
   ],
   "source": [
    "t1 = (1,2,3,4,5)\n",
    "t2 = tuple(str(i) for i in t1)\n",
    "t2"
   ]
  },
  {
   "cell_type": "markdown",
   "id": "405237c0-f050-4647-a7a0-92443c504821",
   "metadata": {},
   "source": [
    "29. Convert a tuple of strings to a tuple of integers.\n"
   ]
  },
  {
   "cell_type": "code",
   "execution_count": 17,
   "id": "06406742-6dd6-4edc-a5d4-daa50b1775f5",
   "metadata": {},
   "outputs": [
    {
     "data": {
      "text/plain": [
       "(1, 2, 3, 4, 5)"
      ]
     },
     "execution_count": 17,
     "metadata": {},
     "output_type": "execute_result"
    }
   ],
   "source": [
    "t1 = ('1', '2', '3', '4', '5')\n",
    "t2 = tuple(int(i) for i in t1)\n",
    "t2"
   ]
  },
  {
   "cell_type": "markdown",
   "id": "b6a9a437-6a8f-4594-8fec-b3aa46bb4326",
   "metadata": {},
   "source": [
    "30. Merge two tuples."
   ]
  },
  {
   "cell_type": "code",
   "execution_count": 18,
   "id": "f00938c7-91b8-4820-a20a-a93e12849a52",
   "metadata": {},
   "outputs": [
    {
     "data": {
      "text/plain": [
       "(1, 2, 3, 4, 5, 9, 8, 7, 6, 5)"
      ]
     },
     "execution_count": 18,
     "metadata": {},
     "output_type": "execute_result"
    }
   ],
   "source": [
    "t1 = (1,2,3,4,5)\n",
    "t2 = (9,8,7,6,5)\n",
    "t = t1+t2\n",
    "t"
   ]
  },
  {
   "cell_type": "markdown",
   "id": "c59cd874-ff5e-4ee4-81d6-e0d454c6eee9",
   "metadata": {},
   "source": [
    "31. Flatten a nested tuple.\n"
   ]
  },
  {
   "cell_type": "code",
   "execution_count": 20,
   "id": "8b0a7b46-f150-469c-82f1-f5fb61565d2a",
   "metadata": {},
   "outputs": [
    {
     "data": {
      "text/plain": [
       "(1, 2, 3, 4, 5, 6, 7, 8, 9)"
      ]
     },
     "execution_count": 20,
     "metadata": {},
     "output_type": "execute_result"
    }
   ],
   "source": [
    "t1 = ((1,2,3),(4,5,6),(7,8,9))\n",
    "a = list(t1)\n",
    "tuple([j for i in t1 for j in i])"
   ]
  },
  {
   "cell_type": "markdown",
   "id": "e6a35785-56d7-4d64-8995-250ed6f8c55e",
   "metadata": {},
   "source": [
    "32. Create a tuple of the first 5 prime numbers.\n"
   ]
  },
  {
   "cell_type": "code",
   "execution_count": 4,
   "id": "3451a755-69c4-4965-97c0-a1d8a795f464",
   "metadata": {},
   "outputs": [
    {
     "name": "stdout",
     "output_type": "stream",
     "text": [
      "(2, 3, 5)\n"
     ]
    }
   ],
   "source": [
    "def prime_numbers(n):\n",
    "    primes = []\n",
    "    for i in range(2, n + 1):\n",
    "        for j in range(2, int(i ** 0.5) + 1):\n",
    "            if i%j == 0:\n",
    "                break\n",
    "        else:\n",
    "            primes.append(i)\n",
    "    return primes\n",
    "\n",
    "prime_list = prime_numbers(5)\n",
    "print(tuple(prime_list))"
   ]
  },
  {
   "cell_type": "markdown",
   "id": "bc4353f1-7a69-4202-8e12-e84f27583b5e",
   "metadata": {},
   "source": [
    "33. Check if a tuple is a palindrome.\n"
   ]
  },
  {
   "cell_type": "code",
   "execution_count": 7,
   "id": "32d9ad07-c66a-42fa-9694-458d7402d88e",
   "metadata": {},
   "outputs": [
    {
     "name": "stdout",
     "output_type": "stream",
     "text": [
      "It is palindrome\n"
     ]
    }
   ],
   "source": [
    "t1 = (1,2,3,4,5)\n",
    "t2 = (5,4,3,2,1)\n",
    "if t1 == t2[::-1]:\n",
    "    print(\"It is palindrome\")\n",
    "else:\n",
    "    print(\"Not a palindrome\")"
   ]
  },
  {
   "cell_type": "markdown",
   "id": "6dedd432-f611-433b-8f1a-6b7824d5e97d",
   "metadata": {},
   "source": [
    "34. Create a tuple of squares of numbers from 1 to 5.\n"
   ]
  },
  {
   "cell_type": "code",
   "execution_count": 8,
   "id": "a21e22ef-ef0e-45bc-916a-2535154501bf",
   "metadata": {},
   "outputs": [
    {
     "data": {
      "text/plain": [
       "(1, 4, 9, 16, 25)"
      ]
     },
     "execution_count": 8,
     "metadata": {},
     "output_type": "execute_result"
    }
   ],
   "source": [
    "a = tuple(x**2 for x in range(1,6))\n",
    "a"
   ]
  },
  {
   "cell_type": "markdown",
   "id": "dad7f6a6-b889-4363-bb67-09d0b000ab66",
   "metadata": {},
   "source": [
    "35. Filter out all even numbers from a tuple.\n"
   ]
  },
  {
   "cell_type": "code",
   "execution_count": 11,
   "id": "4ce608d9-f93d-4788-a92f-636e8f15510f",
   "metadata": {},
   "outputs": [
    {
     "name": "stdout",
     "output_type": "stream",
     "text": [
      "The even numbers are: (2, 4, 6)\n"
     ]
    }
   ],
   "source": [
    "t = (1,2,3,4,5,6,7)\n",
    "a = []\n",
    "for i in t:\n",
    "    if i%2==0:\n",
    "        a.append(i)\n",
    "print(f\"The even numbers are: {tuple(a)}\")"
   ]
  },
  {
   "cell_type": "markdown",
   "id": "2806652f-60d8-4d5f-ac7b-23744ee6d420",
   "metadata": {},
   "source": [
    "36. Multiply all elements in a tuple by 2."
   ]
  },
  {
   "cell_type": "code",
   "execution_count": 12,
   "id": "e3478540-0c86-4f9d-9d00-6fcc8accf46f",
   "metadata": {},
   "outputs": [
    {
     "name": "stdout",
     "output_type": "stream",
     "text": [
      "The even numbers are: (2, 4, 6, 8, 10, 12, 14)\n"
     ]
    }
   ],
   "source": [
    "t = (1,2,3,4,5,6,7)\n",
    "a = []\n",
    "for i in t:\n",
    "    a.append(2*i)\n",
    "print(f\"The even numbers are: {tuple(a)}\")"
   ]
  },
  {
   "cell_type": "markdown",
   "id": "8785cc71-af61-4887-94d8-cd6a8bc5b4c6",
   "metadata": {},
   "source": [
    "37. Create a tuple of random numbers.\n"
   ]
  },
  {
   "cell_type": "code",
   "execution_count": 14,
   "id": "49261410-a128-494b-8043-75c95b45a7fb",
   "metadata": {},
   "outputs": [
    {
     "data": {
      "text/plain": [
       "(13, 20, 44, 25, 33, 35, 49, 23, 7, 11, 29, 2, 24, 6)"
      ]
     },
     "execution_count": 14,
     "metadata": {},
     "output_type": "execute_result"
    }
   ],
   "source": [
    "import random\n",
    "a = tuple(random.randint(1,50) for i in range(1,15))\n",
    "a"
   ]
  },
  {
   "cell_type": "markdown",
   "id": "5dfa8b2f-8100-4b9f-a74c-2c7ea4829a87",
   "metadata": {},
   "source": [
    "38. Check if a tuple is sorted.\n"
   ]
  },
  {
   "cell_type": "code",
   "execution_count": 25,
   "id": "c14adcda-4339-448a-a70f-4047a9b1a6f4",
   "metadata": {},
   "outputs": [
    {
     "name": "stdout",
     "output_type": "stream",
     "text": [
      "Tuple is sorted\n"
     ]
    }
   ],
   "source": [
    "t = (1,2,3,4)\n",
    "flag = 0\n",
    "for i in range(len(t)-1):\n",
    "    if t[i] > t[i+1]:\n",
    "        flag += 1\n",
    "    \n",
    "if flag>0:\n",
    "    print(\"Tuple is unsorted\")\n",
    "else:\n",
    "    print(\"Tuple is sorted\")"
   ]
  },
  {
   "cell_type": "markdown",
   "id": "dbc2ce18-90b7-4e6f-9c0b-dfbd5f11d80f",
   "metadata": {},
   "source": [
    "39. Rotate a tuple to the left by `n` positions.\n"
   ]
  },
  {
   "cell_type": "code",
   "execution_count": 36,
   "id": "b3d43479-d940-42ed-8870-49d8d33aa82c",
   "metadata": {},
   "outputs": [
    {
     "name": "stdout",
     "output_type": "stream",
     "text": [
      "(3, 4, 5, 6, 7, 1, 2)\n"
     ]
    }
   ],
   "source": [
    "lists = [1,2,3,4,5,6,7]\n",
    "pos = 2\n",
    "lst = lists[pos:] +  lists[:pos]\n",
    "print(tuple(lst))"
   ]
  },
  {
   "cell_type": "markdown",
   "id": "104f42c0-e8c3-44c0-b42a-2be17da3ff5d",
   "metadata": {},
   "source": [
    "40. Rotate a tuple to the right by `n` positions."
   ]
  },
  {
   "cell_type": "code",
   "execution_count": 37,
   "id": "e4314617-383f-418c-a81b-6b655795f264",
   "metadata": {},
   "outputs": [
    {
     "name": "stdout",
     "output_type": "stream",
     "text": [
      "(6, 7, 1, 2, 3, 4, 5)\n"
     ]
    }
   ],
   "source": [
    "lists = [1,2,3,4,5,6,7]\n",
    "pos = 2\n",
    "lst = lists[-pos:] +  lists[:-pos]\n",
    "print(tuple(lst))"
   ]
  },
  {
   "cell_type": "markdown",
   "id": "680be090-2b59-4599-9e24-ba33259b7c20",
   "metadata": {},
   "source": [
    "41. Create a tuple of the first 5 Fibonacci numbers.\n"
   ]
  },
  {
   "cell_type": "code",
   "execution_count": 38,
   "id": "54d972d2-357e-40de-8654-3be4789ccc23",
   "metadata": {},
   "outputs": [
    {
     "name": "stdout",
     "output_type": "stream",
     "text": [
      "Fibonacci sequence:\n",
      "(0, 1, 1, 2, 3, 5, 8, 13, 21, 34)\n"
     ]
    }
   ],
   "source": [
    "def recur_fibo(n):\n",
    "   if n <= 1:\n",
    "       return n\n",
    "   else:\n",
    "       return(recur_fibo(n-1) + recur_fibo(n-2))\n",
    "\n",
    "nterms = 10\n",
    "a = []\n",
    "# check if the number of terms is valid\n",
    "if nterms <= 0:\n",
    "   print(\"Plese enter a positive integer\")\n",
    "else:\n",
    "   print(\"Fibonacci sequence:\")\n",
    "   for i in range(nterms):\n",
    "       a.append(recur_fibo(i))\n",
    "print(tuple(a))"
   ]
  },
  {
   "cell_type": "markdown",
   "id": "9b9a3590-2b0c-4ecf-af55-22d24a99bb00",
   "metadata": {},
   "source": [
    "42. Create a tuple from user input.\n"
   ]
  },
  {
   "cell_type": "code",
   "execution_count": 1,
   "id": "dd5fd863-b5fc-4f6e-8715-2bf922958c2c",
   "metadata": {},
   "outputs": [
    {
     "name": "stdin",
     "output_type": "stream",
     "text": [
      "Enter the values separated by commas 1,2,3,4,5,6\n"
     ]
    },
    {
     "name": "stdout",
     "output_type": "stream",
     "text": [
      "('1', '2', '3', '4', '5', '6')\n"
     ]
    }
   ],
   "source": [
    "string = input(\"Enter the values separated by commas\")\n",
    "a = tuple(string.split(','))\n",
    "print(a)"
   ]
  },
  {
   "cell_type": "markdown",
   "id": "fdd21a1b-4f75-400b-a8e6-44d191e8489f",
   "metadata": {},
   "source": [
    "43. Swap two elements in a tuple.\n"
   ]
  },
  {
   "cell_type": "code",
   "execution_count": 2,
   "id": "815e0986-7457-404b-8d58-bf54bfa6c5f3",
   "metadata": {},
   "outputs": [
    {
     "name": "stdout",
     "output_type": "stream",
     "text": [
      "[1, 3, 2, 4, 5]\n"
     ]
    }
   ],
   "source": [
    "def swap(lists, i1, i2):\n",
    "    temp = lists[i1]\n",
    "    lists[i1] = lists[i2]\n",
    "    lists[i2] = temp\n",
    "    return lists\n",
    "\n",
    "a = (1,2,3,4,5)\n",
    "a = list(a)\n",
    "print(swap(a,1,2))"
   ]
  },
  {
   "cell_type": "markdown",
   "id": "1f5859b1-6300-4924-b640-e8061406b4fd",
   "metadata": {},
   "source": [
    "44. Reverse the elements of a tuple.\n"
   ]
  },
  {
   "cell_type": "code",
   "execution_count": 3,
   "id": "fde94281-407a-46d7-baab-d43e8812efee",
   "metadata": {},
   "outputs": [
    {
     "name": "stdout",
     "output_type": "stream",
     "text": [
      "(5, 4, 3, 2, 1)\n"
     ]
    }
   ],
   "source": [
    "a = (1,2,3,4,5)\n",
    "print(a[::-1])"
   ]
  },
  {
   "cell_type": "markdown",
   "id": "83ebb701-787a-40ad-aeaa-f2f343b1c840",
   "metadata": {},
   "source": [
    "45. Create a tuple of the first `n` powers of 2.\n"
   ]
  },
  {
   "cell_type": "code",
   "execution_count": 5,
   "id": "57ae8ae5-bf42-4045-bf5d-bdf7bb93a1a9",
   "metadata": {},
   "outputs": [
    {
     "data": {
      "text/plain": [
       "(2, 4, 8, 16, 32, 64, 128, 256, 512, 1024)"
      ]
     },
     "execution_count": 5,
     "metadata": {},
     "output_type": "execute_result"
    }
   ],
   "source": [
    "n = 10\n",
    "a = tuple([2**x for x in range(1,n+1)])\n",
    "a"
   ]
  },
  {
   "cell_type": "markdown",
   "id": "a356342e-9274-459f-b51a-b493f41aa9d2",
   "metadata": {},
   "source": [
    "46. Find the longest string in a tuple of strings.\n"
   ]
  },
  {
   "cell_type": "code",
   "execution_count": 2,
   "id": "76a73814-5351-4a92-a2c7-e9b4c6d1eef8",
   "metadata": {},
   "outputs": [
    {
     "name": "stdout",
     "output_type": "stream",
     "text": [
      "Longest string: elephant\n"
     ]
    }
   ],
   "source": [
    "\n",
    "string_tuple = (\"cat\", \"doggo\", \"horse\", \"elephant\", \"donkey\")\n",
    "\n",
    "\n",
    "long_str = max(string_tuple, key=len)\n",
    "\n",
    "# Print the longest string\n",
    "print(\"Longest string:\", long_str)"
   ]
  },
  {
   "cell_type": "markdown",
   "id": "0c9fccb8-786b-4c45-b8dd-d7ba1105c9d3",
   "metadata": {},
   "source": [
    "47. Find the shortest string in a tuple of strings.\n"
   ]
  },
  {
   "cell_type": "code",
   "execution_count": 4,
   "id": "f7b0f003-f368-4150-b711-4180476c757d",
   "metadata": {},
   "outputs": [
    {
     "name": "stdout",
     "output_type": "stream",
     "text": [
      "Longest string: cat\n"
     ]
    }
   ],
   "source": [
    "\n",
    "string_tuple = (\"cat\", \"doggo\", \"horse\", \"elephant\", \"donkey\")\n",
    "\n",
    "\n",
    "short_str = min(string_tuple, key=len)\n",
    "\n",
    "# Print the longest string\n",
    "print(\"Longest string:\", short_str)"
   ]
  },
  {
   "cell_type": "markdown",
   "id": "a35577f1-1023-47fb-9242-47ce316fa146",
   "metadata": {},
   "source": [
    "48. Create a tuple of the first `n` triangular numbers.\n"
   ]
  },
  {
   "cell_type": "code",
   "execution_count": 7,
   "id": "ddac4be1-a37d-47dc-bcb8-eb4012ac13ca",
   "metadata": {},
   "outputs": [
    {
     "data": {
      "text/plain": [
       "(1, 3, 6, 10, 15, 21, 28, 36, 45, 55)"
      ]
     },
     "execution_count": 7,
     "metadata": {},
     "output_type": "execute_result"
    }
   ],
   "source": [
    "n = 10\n",
    "a = tuple([n*(n+1)//2 for n in range(1,n+1)])\n",
    "a"
   ]
  },
  {
   "cell_type": "markdown",
   "id": "2a31a36b-a137-4d37-b600-b9ccc1a7ce79",
   "metadata": {},
   "source": [
    "49. Check if a tuple contains another tuple as a subsequence.\n"
   ]
  },
  {
   "cell_type": "code",
   "execution_count": 4,
   "id": "ca31e377-55ad-4e6d-8d9b-f04602daa620",
   "metadata": {},
   "outputs": [
    {
     "name": "stdout",
     "output_type": "stream",
     "text": [
      "Main tuple (1, 2, 3, 4, 5, 6, 7) does not conains (3, 5) as subsequence\n"
     ]
    }
   ],
   "source": [
    "def had_subtuple(main_t,sub_t):\n",
    "    len_subt = len(sub_t)\n",
    "    for i in range(len(main_t) - len_subt + 1):\n",
    "        if main_t[i:i+len_subt] == sub_t:\n",
    "            return True\n",
    "    return False\n",
    "main_t = (1,2,3,4,5,6,7)\n",
    "sub_t = (3,5)\n",
    "\n",
    "if had_subtuple(main_t, sub_t):\n",
    "    print(f\"Main tuple {main_t} conains {sub_t} as subsequence\")\n",
    "else:\n",
    "    print(f\"Main tuple {main_t} does not conains {sub_t} as subsequence\")"
   ]
  },
  {
   "cell_type": "markdown",
   "id": "aa9f74d3-8360-4c07-a1fc-69a0d2e2e79a",
   "metadata": {},
   "source": [
    "50. Create a tuple of alternating 1s and 0s of length `n`."
   ]
  },
  {
   "cell_type": "code",
   "execution_count": 8,
   "id": "80651a7a-378c-4415-8bea-92dc2cf10289",
   "metadata": {},
   "outputs": [
    {
     "data": {
      "text/plain": [
       "(1, 0, 1, 0, 1, 0, 1, 0, 1, 0, 1, 0, 1, 0, 1)"
      ]
     },
     "execution_count": 8,
     "metadata": {},
     "output_type": "execute_result"
    }
   ],
   "source": [
    "n = 15\n",
    "a = tuple([i%2 for i in range(1,n+1)])\n",
    "a"
   ]
  },
  {
   "cell_type": "markdown",
   "id": "ba8bc4eb-0156-4e5a-b880-f15744c72c56",
   "metadata": {},
   "source": [
    "## Set"
   ]
  },
  {
   "cell_type": "markdown",
   "id": "f78ef7f6-dbc3-4ba9-80cf-492a116068c2",
   "metadata": {},
   "source": [
    "1. Create a set with integers from 1 to 5.\n"
   ]
  },
  {
   "cell_type": "code",
   "execution_count": 10,
   "id": "2411ca82-ebca-4754-9e2b-c0abfd822402",
   "metadata": {},
   "outputs": [
    {
     "data": {
      "text/plain": [
       "{1, 2, 3, 4, 5, 6, 7}"
      ]
     },
     "execution_count": 10,
     "metadata": {},
     "output_type": "execute_result"
    }
   ],
   "source": [
    "sets = set()\n",
    "sets.add(1)\n",
    "sets.add(2)\n",
    "sets.add(3)\n",
    "sets.add(4)\n",
    "sets.add(5)\n",
    "sets.add(6)\n",
    "sets.add(7)\n",
    "sets"
   ]
  },
  {
   "cell_type": "markdown",
   "id": "14a18363-08b9-46c4-af28-1a5605a9946e",
   "metadata": {},
   "source": [
    "2. Add an element to a set.\n",
    "\n"
   ]
  },
  {
   "cell_type": "code",
   "execution_count": 11,
   "id": "7a2282c1-5dd4-4a30-9d22-3dfc272bbeed",
   "metadata": {},
   "outputs": [
    {
     "data": {
      "text/plain": [
       "{1, 2, 3, 4, 5, 6, 7, 9}"
      ]
     },
     "execution_count": 11,
     "metadata": {},
     "output_type": "execute_result"
    }
   ],
   "source": [
    "a = {1, 2, 3, 4, 5, 6, 7}\n",
    "a.add(9)\n",
    "a"
   ]
  },
  {
   "cell_type": "markdown",
   "id": "1a221460-d7eb-473f-a7c6-76dc78ba697c",
   "metadata": {},
   "source": [
    "3. Remove an element from a set.\n",
    "\n"
   ]
  },
  {
   "cell_type": "code",
   "execution_count": 12,
   "id": "6251d0c8-0002-4dfc-ba0b-27c5266d0973",
   "metadata": {},
   "outputs": [
    {
     "data": {
      "text/plain": [
       "{1, 2, 4, 5, 6, 7}"
      ]
     },
     "execution_count": 12,
     "metadata": {},
     "output_type": "execute_result"
    }
   ],
   "source": [
    "a = {1, 2, 3, 4, 5, 6, 7}\n",
    "a.remove(3)\n",
    "a"
   ]
  },
  {
   "cell_type": "markdown",
   "id": "d4a3d12c-4193-4d18-ac15-09646389f049",
   "metadata": {},
   "source": [
    "4. Check if an element exists in a set.\n",
    "\n"
   ]
  },
  {
   "cell_type": "code",
   "execution_count": 2,
   "id": "b49f8523-c553-4214-8a52-72c3fd2ee6f8",
   "metadata": {},
   "outputs": [
    {
     "name": "stdout",
     "output_type": "stream",
     "text": [
      "Element is present\n"
     ]
    }
   ],
   "source": [
    "a = {1, 2, 3, 4, 5, 6, 7}\n",
    "i = 2\n",
    "if i in a:\n",
    "    print(\"Element is present\")"
   ]
  },
  {
   "cell_type": "markdown",
   "id": "bd8c1c36-0443-4486-a95a-45f0c4f8d2ac",
   "metadata": {},
   "source": [
    "5. Find the length of a set without using the `len()` function.\n"
   ]
  },
  {
   "cell_type": "code",
   "execution_count": 3,
   "id": "587cab97-9b71-4462-be68-fa0819b71d5d",
   "metadata": {},
   "outputs": [
    {
     "name": "stdout",
     "output_type": "stream",
     "text": [
      "The length of set is: 7\n"
     ]
    }
   ],
   "source": [
    "a = {1, 2, 3, 4, 5, 6, 7}\n",
    "c = 0\n",
    "for i in a:\n",
    "    c += 1\n",
    "print(f\"The length of set is: {c}\")"
   ]
  },
  {
   "cell_type": "markdown",
   "id": "9a04a681-b32c-402a-ac64-9e89b108065e",
   "metadata": {},
   "source": [
    "6. Clear all elements from a set.\n",
    "\n"
   ]
  },
  {
   "cell_type": "code",
   "execution_count": 4,
   "id": "88dcf2fb-aa31-455a-a512-7a2103d24454",
   "metadata": {},
   "outputs": [
    {
     "data": {
      "text/plain": [
       "set()"
      ]
     },
     "execution_count": 4,
     "metadata": {},
     "output_type": "execute_result"
    }
   ],
   "source": [
    "a = {1, 2, 3, 4, 5, 6, 7}\n",
    "a.clear()\n",
    "a"
   ]
  },
  {
   "cell_type": "markdown",
   "id": "8c892d42-a2a9-40b0-817d-abb277e4b17e",
   "metadata": {},
   "source": [
    "7. Create a set of even numbers from 1 to 10.\n",
    "\n"
   ]
  },
  {
   "cell_type": "code",
   "execution_count": 5,
   "id": "bd674443-2eef-4d59-b00d-8be984641a87",
   "metadata": {},
   "outputs": [
    {
     "name": "stdout",
     "output_type": "stream",
     "text": [
      "{2, 4, 6, 8, 10}\n"
     ]
    }
   ],
   "source": [
    "sets = set()\n",
    "for i in range(1,11):\n",
    "    if i%2==0:\n",
    "        sets.add(i)\n",
    "print(sets)"
   ]
  },
  {
   "cell_type": "markdown",
   "id": "1f1abaab-160d-497b-b06d-1ddd23c24f72",
   "metadata": {},
   "source": [
    "8. Create a set of odd numbers from 1 to 10.\n",
    "\n"
   ]
  },
  {
   "cell_type": "code",
   "execution_count": 6,
   "id": "446110f5-58a6-42fa-8bd9-fdcc9227df4a",
   "metadata": {},
   "outputs": [
    {
     "name": "stdout",
     "output_type": "stream",
     "text": [
      "{1, 3, 5, 7, 9}\n"
     ]
    }
   ],
   "source": [
    "sets = set()\n",
    "for i in range(1,11):\n",
    "    if i%2!=0:\n",
    "        sets.add(i)\n",
    "print(sets)"
   ]
  },
  {
   "cell_type": "markdown",
   "id": "ac584e58-1229-49c5-8723-bd24ea617c2c",
   "metadata": {},
   "source": [
    "9. Find the union of two sets.\n",
    "\n"
   ]
  },
  {
   "cell_type": "code",
   "execution_count": 7,
   "id": "dfaf5105-5a57-4dd5-92bf-afa8f4ee1ba1",
   "metadata": {},
   "outputs": [
    {
     "data": {
      "text/plain": [
       "{1, 2, 3, 4, 5, 6, 7, 8, 9}"
      ]
     },
     "execution_count": 7,
     "metadata": {},
     "output_type": "execute_result"
    }
   ],
   "source": [
    "a = {1, 2, 3, 4, 5, 6, 7}\n",
    "b = {1,9,8,4}\n",
    "a.union(b)"
   ]
  },
  {
   "cell_type": "markdown",
   "id": "5262b80d-9b9e-4f08-bb73-2698ca930541",
   "metadata": {},
   "source": [
    "10. Find the intersection of two sets."
   ]
  },
  {
   "cell_type": "code",
   "execution_count": 8,
   "id": "e96f6a55-39a7-46c4-acde-f198d4e00ae6",
   "metadata": {},
   "outputs": [
    {
     "data": {
      "text/plain": [
       "{1, 4}"
      ]
     },
     "execution_count": 8,
     "metadata": {},
     "output_type": "execute_result"
    }
   ],
   "source": [
    "a = {1, 2, 3, 4, 5, 6, 7}\n",
    "b = {1,9,8,4}\n",
    "a.intersection(b)"
   ]
  },
  {
   "cell_type": "markdown",
   "id": "afc298d0-45bf-4bb1-a9e2-67cc07500dcd",
   "metadata": {},
   "source": [
    "11. Find the difference between two sets.\n",
    "\n",
    "\n"
   ]
  },
  {
   "cell_type": "code",
   "execution_count": 1,
   "id": "e8ac906b-6715-4ac7-bb70-1025fc80dab8",
   "metadata": {},
   "outputs": [
    {
     "data": {
      "text/plain": [
       "{2, 3, 5, 6, 7}"
      ]
     },
     "execution_count": 1,
     "metadata": {},
     "output_type": "execute_result"
    }
   ],
   "source": [
    "a = {1, 2, 3, 4, 5, 6, 7}\n",
    "b = {1,9,8,4}\n",
    "a.difference(b)"
   ]
  },
  {
   "cell_type": "markdown",
   "id": "e3771a33-fb91-4865-b8f8-ed7674af8b0e",
   "metadata": {},
   "source": [
    "12. Check if a set is a subset of another set.\n",
    "\n"
   ]
  },
  {
   "cell_type": "code",
   "execution_count": 4,
   "id": "180bdc90-2aa4-44bb-8f7d-1456284f4992",
   "metadata": {},
   "outputs": [
    {
     "data": {
      "text/plain": [
       "False"
      ]
     },
     "execution_count": 4,
     "metadata": {},
     "output_type": "execute_result"
    }
   ],
   "source": [
    "a = {1, 2, 3, 4, 5, 6, 7}\n",
    "b = {1,9,8,4}\n",
    "a.issubset(b)"
   ]
  },
  {
   "cell_type": "markdown",
   "id": "b93e2573-03ac-4db0-a8a3-717a3e010c0f",
   "metadata": {},
   "source": [
    "13. Check if a set is a superset of another set.\n"
   ]
  },
  {
   "cell_type": "code",
   "execution_count": 5,
   "id": "ab36a801-bdc8-4d3e-bdb9-ee66bb7b666b",
   "metadata": {},
   "outputs": [
    {
     "data": {
      "text/plain": [
       "False"
      ]
     },
     "execution_count": 5,
     "metadata": {},
     "output_type": "execute_result"
    }
   ],
   "source": [
    "a = {1, 2, 3, 4, 5, 6, 7}\n",
    "b = {1,9,8,4}\n",
    "a.issuperset(b)"
   ]
  },
  {
   "cell_type": "markdown",
   "id": "574ed8b1-14ef-4cee-a4e4-7aec8d6ee4d7",
   "metadata": {},
   "source": [
    "14. Create a set from a list.\n",
    "\n"
   ]
  },
  {
   "cell_type": "code",
   "execution_count": 6,
   "id": "c57c037f-3a2d-4bb1-b690-914cce69463a",
   "metadata": {},
   "outputs": [
    {
     "data": {
      "text/plain": [
       "{1, 2, 3, 4, 5, 6}"
      ]
     },
     "execution_count": 6,
     "metadata": {},
     "output_type": "execute_result"
    }
   ],
   "source": [
    "a = [1,2,3,4,5,6]\n",
    "b = set(a)\n",
    "b"
   ]
  },
  {
   "cell_type": "markdown",
   "id": "5049a4f8-7ad5-412b-8f62-e620c1b1b294",
   "metadata": {},
   "source": [
    "15. Convert a set to a list.\n"
   ]
  },
  {
   "cell_type": "code",
   "execution_count": 7,
   "id": "d96eab40-bff9-48f0-b7ed-73cb1e77beed",
   "metadata": {},
   "outputs": [
    {
     "data": {
      "text/plain": [
       "[1, 2, 3, 4, 5, 6]"
      ]
     },
     "execution_count": 7,
     "metadata": {},
     "output_type": "execute_result"
    }
   ],
   "source": [
    "a = {1, 2, 3, 4, 5, 6}\n",
    "b = list(a)\n",
    "b"
   ]
  },
  {
   "cell_type": "markdown",
   "id": "e72f208a-9537-4cea-a05e-5082ea9b2f4c",
   "metadata": {},
   "source": [
    "16. Remove a random element from a set.\n"
   ]
  },
  {
   "cell_type": "code",
   "execution_count": 11,
   "id": "3a38aaff-3a91-48ea-a164-e9165525cbd4",
   "metadata": {},
   "outputs": [
    {
     "data": {
      "text/plain": [
       "{2, 3, 4, 5, 6}"
      ]
     },
     "execution_count": 11,
     "metadata": {},
     "output_type": "execute_result"
    }
   ],
   "source": [
    "a = {1, 2, 3, 4, 5, 6}\n",
    "a.pop()\n",
    "a"
   ]
  },
  {
   "cell_type": "markdown",
   "id": "1835756e-1b9a-4304-8e1e-55a89013b823",
   "metadata": {},
   "source": [
    "\n",
    "17. Pop an element from a set.\n"
   ]
  },
  {
   "cell_type": "code",
   "execution_count": 13,
   "id": "8b7a016c-df92-40ff-af0b-e0957766e54e",
   "metadata": {},
   "outputs": [
    {
     "name": "stdout",
     "output_type": "stream",
     "text": [
      "1\n"
     ]
    }
   ],
   "source": [
    "a = {1, 2, 3, 4, 5, 6}\n",
    "print(a.pop())\n"
   ]
  },
  {
   "cell_type": "markdown",
   "id": "0450de15-3827-43f6-ad0d-4044c7455212",
   "metadata": {},
   "source": [
    "18. Check if two sets have no elements in common.\n",
    "\n"
   ]
  },
  {
   "cell_type": "code",
   "execution_count": 14,
   "id": "07f995d3-4de9-4c90-8ad3-407db5eca626",
   "metadata": {},
   "outputs": [
    {
     "name": "stdout",
     "output_type": "stream",
     "text": [
      "Common element present\n"
     ]
    }
   ],
   "source": [
    "a = {1, 2, 3, 4, 5, 6, 7}\n",
    "b = {1,9,8,4}\n",
    "if (len(a.intersection(b)) == 0):\n",
    "    print(\"No element in common\")\n",
    "else:\n",
    "    print(\"Common element present\")"
   ]
  },
  {
   "cell_type": "markdown",
   "id": "679bee22-e2f5-4fd3-8424-764c668b0af5",
   "metadata": {},
   "source": [
    "19. Find the symmetric difference between two sets.\n"
   ]
  },
  {
   "cell_type": "code",
   "execution_count": 19,
   "id": "c0870912-cfdc-432c-a603-03afc90a5371",
   "metadata": {},
   "outputs": [
    {
     "name": "stdout",
     "output_type": "stream",
     "text": [
      "Symmetric difference is: {2, 3, 5, 6, 7, 8, 9}\n"
     ]
    }
   ],
   "source": [
    "a = {1, 2, 3, 4, 5, 6, 7}\n",
    "b = {1,9,8,4}\n",
    "print(f\"Symmetric difference is: {a^b}\")"
   ]
  },
  {
   "cell_type": "markdown",
   "id": "1b421326-54df-41af-8cb0-b4c5d6b11953",
   "metadata": {},
   "source": [
    "20. Update a set with elements from another set."
   ]
  },
  {
   "cell_type": "code",
   "execution_count": 15,
   "id": "fca8f377-7e15-42f9-bc0e-5292aaf529d0",
   "metadata": {},
   "outputs": [
    {
     "data": {
      "text/plain": [
       "{1, 2, 3, 4, 5, 6, 7, 8, 9}"
      ]
     },
     "execution_count": 15,
     "metadata": {},
     "output_type": "execute_result"
    }
   ],
   "source": [
    "a = {1, 2, 3, 4, 5, 6, 7}\n",
    "b = {1,9,8,4}\n",
    "a.update(b)\n",
    "a"
   ]
  },
  {
   "cell_type": "markdown",
   "id": "93ca19e6-6795-4447-8a7c-ec9beb399c99",
   "metadata": {},
   "source": [
    "21. Create a set of the first 5 prime numbers.\n"
   ]
  },
  {
   "cell_type": "code",
   "execution_count": 8,
   "id": "2392feb0-4ac2-433c-a1c1-549a71379ead",
   "metadata": {},
   "outputs": [
    {
     "name": "stdout",
     "output_type": "stream",
     "text": [
      "{2, 3, 5}\n"
     ]
    }
   ],
   "source": [
    "def prime_set(n):\n",
    "    sets = set()\n",
    "    for i in range(2,6):\n",
    "        for j in range(2,int(i**0.5)+1):\n",
    "            if i%j == 0:\n",
    "                break\n",
    "        else:\n",
    "            sets.add(i)\n",
    "    return sets\n",
    "print(prime_set(6))"
   ]
  },
  {
   "cell_type": "markdown",
   "id": "217788ec-e0c5-4ba6-9fe3-36b11671259d",
   "metadata": {},
   "source": [
    "22. Check if two sets are identical.\n",
    "\n"
   ]
  },
  {
   "cell_type": "code",
   "execution_count": 20,
   "id": "896a0b63-b23b-4d23-91af-fbbcaabcd51d",
   "metadata": {},
   "outputs": [
    {
     "name": "stdout",
     "output_type": "stream",
     "text": [
      "False\n"
     ]
    }
   ],
   "source": [
    "a = {1, 2, 3, 4, 5, 6, 7}\n",
    "b = {1,9,8,4}\n",
    "print(a==b)"
   ]
  },
  {
   "cell_type": "markdown",
   "id": "1052c10e-9be2-46a7-be51-93dd097bbbb1",
   "metadata": {},
   "source": [
    "23. Create a frozen set.\n",
    "\n"
   ]
  },
  {
   "cell_type": "code",
   "execution_count": 23,
   "id": "c52e1cdf-9f3c-487a-b25c-2883db53dd43",
   "metadata": {},
   "outputs": [
    {
     "name": "stdout",
     "output_type": "stream",
     "text": [
      "Frozen set: frozenset({1, 2, 3, 4, 5, 6, 7})\n"
     ]
    }
   ],
   "source": [
    "a = {1, 2, 3, 4, 5, 6, 7}\n",
    "print(f\"Frozen set: {frozenset(a)}\")"
   ]
  },
  {
   "cell_type": "markdown",
   "id": "df70101c-e729-4737-bde8-e7df89aa0d41",
   "metadata": {},
   "source": [
    "24. Check if a set is disjoint with another set.\n"
   ]
  },
  {
   "cell_type": "code",
   "execution_count": 24,
   "id": "54a66cf3-38bc-4470-9878-749d197eaaff",
   "metadata": {},
   "outputs": [
    {
     "data": {
      "text/plain": [
       "False"
      ]
     },
     "execution_count": 24,
     "metadata": {},
     "output_type": "execute_result"
    }
   ],
   "source": [
    "a = {1, 2, 3, 4, 5, 6, 7}\n",
    "b = {1,9,8,4}\n",
    "a.isdisjoint(b)"
   ]
  },
  {
   "cell_type": "markdown",
   "id": "57afb098-48f8-45f8-b688-f3872797757d",
   "metadata": {},
   "source": [
    "25. Create a set of squares of numbers from 1 to 5.\n"
   ]
  },
  {
   "cell_type": "code",
   "execution_count": 26,
   "id": "eddac5d2-95b8-4fc0-bdbf-fe2802133109",
   "metadata": {},
   "outputs": [
    {
     "name": "stdout",
     "output_type": "stream",
     "text": [
      "{0, 1, 4, 9, 16, 25}\n"
     ]
    }
   ],
   "source": [
    "n = 6\n",
    "def square(i):\n",
    "    return i**2\n",
    "sets = set()\n",
    "for i in range(n):\n",
    "    sets.add(square(i))\n",
    "print(sets)"
   ]
  },
  {
   "cell_type": "markdown",
   "id": "942cb4e4-896b-4246-82bf-84d986caeb4e",
   "metadata": {},
   "source": [
    "26. Filter out all even numbers from a set.\n",
    "\n"
   ]
  },
  {
   "cell_type": "code",
   "execution_count": 27,
   "id": "e4a61bb7-0f6e-418b-85f0-4384577060c3",
   "metadata": {},
   "outputs": [
    {
     "data": {
      "text/plain": [
       "{2, 4, 6}"
      ]
     },
     "execution_count": 27,
     "metadata": {},
     "output_type": "execute_result"
    }
   ],
   "source": [
    "a = {1, 2, 3, 4, 5, 6, 7}\n",
    "b = set()\n",
    "for i in a:\n",
    "    if i%2==0:\n",
    "        b.add(i)\n",
    "b"
   ]
  },
  {
   "cell_type": "markdown",
   "id": "78853a6f-d7a3-4fde-81d7-2f14646a576c",
   "metadata": {},
   "source": [
    "27. Multiply all elements in a set by 2.\n"
   ]
  },
  {
   "cell_type": "code",
   "execution_count": 28,
   "id": "3fbeb552-847f-4d90-bdba-0970e719e066",
   "metadata": {},
   "outputs": [
    {
     "data": {
      "text/plain": [
       "{1, 4, 9, 16, 25, 36, 49}"
      ]
     },
     "execution_count": 28,
     "metadata": {},
     "output_type": "execute_result"
    }
   ],
   "source": [
    "a = {1, 2, 3, 4, 5, 6, 7}\n",
    "b = set()\n",
    "for i in a:\n",
    "    b.add(i**2)\n",
    "b"
   ]
  },
  {
   "cell_type": "markdown",
   "id": "e0dca1d5-ae34-4914-a932-45d91b174112",
   "metadata": {},
   "source": [
    "28. Create a set of random numbers.\n",
    "\n"
   ]
  },
  {
   "cell_type": "code",
   "execution_count": 30,
   "id": "392de457-bf25-4466-aefd-be89e3f1bc85",
   "metadata": {},
   "outputs": [
    {
     "data": {
      "text/plain": [
       "{1, 13, 16, 56, 80, 86, 90, 97, 98}"
      ]
     },
     "execution_count": 30,
     "metadata": {},
     "output_type": "execute_result"
    }
   ],
   "source": [
    "import random\n",
    "a = set()\n",
    "for i in range(11):\n",
    "    k = random.randint(1,100)\n",
    "    a.add(k)\n",
    "a"
   ]
  },
  {
   "cell_type": "markdown",
   "id": "b1b9b6ed-6103-4587-aae7-75cc34373aaf",
   "metadata": {},
   "source": [
    "29. Check if a set is empty.\n"
   ]
  },
  {
   "cell_type": "code",
   "execution_count": 32,
   "id": "101b989c-91be-4af4-ac3c-c7bc047e1d80",
   "metadata": {},
   "outputs": [
    {
     "name": "stdout",
     "output_type": "stream",
     "text": [
      "The set is not empty\n"
     ]
    }
   ],
   "source": [
    "sets = {1,2,3,4}\n",
    "set1 = set()\n",
    "if not set:\n",
    "    print(\"The set is empty\")\n",
    "else:\n",
    "    print(\"The set is not empty\")"
   ]
  },
  {
   "cell_type": "markdown",
   "id": "a02a8c24-3eba-4119-9bbd-b76921ac2dd3",
   "metadata": {},
   "source": [
    "30. Create a nested set (hint: use frozenset)."
   ]
  },
  {
   "cell_type": "code",
   "execution_count": 1,
   "id": "fb009822-5242-4611-bea1-6718cf6f6bfc",
   "metadata": {},
   "outputs": [
    {
     "data": {
      "text/plain": [
       "{frozenset({1, 4, 8, 9}), frozenset({1, 2, 3, 4, 5, 6, 7})}"
      ]
     },
     "execution_count": 1,
     "metadata": {},
     "output_type": "execute_result"
    }
   ],
   "source": [
    "a = {1, 2, 3, 4, 5, 6, 7}\n",
    "b = {1,9,8,4}\n",
    "a = frozenset(a)\n",
    "b = frozenset(b)\n",
    "c = {a,b}\n",
    "c"
   ]
  },
  {
   "cell_type": "markdown",
   "id": "2bbd2eb9-2cf4-4f42-aabe-56392dd297a1",
   "metadata": {},
   "source": [
    "31. Remove an element from a set using the discard method.\n"
   ]
  },
  {
   "cell_type": "code",
   "execution_count": 4,
   "id": "4565b0ef-b9da-4ad0-992a-f578b2569222",
   "metadata": {},
   "outputs": [
    {
     "data": {
      "text/plain": [
       "{1, 3, 4, 5, 6, 7}"
      ]
     },
     "execution_count": 4,
     "metadata": {},
     "output_type": "execute_result"
    }
   ],
   "source": [
    "a = {1, 2, 3, 4, 5, 6, 7}\n",
    "a.discard(2)\n",
    "a"
   ]
  },
  {
   "cell_type": "markdown",
   "id": "b5a72b57-a13f-4920-b2bc-575d9d125733",
   "metadata": {},
   "source": [
    "32. Compare two sets.\n"
   ]
  },
  {
   "cell_type": "code",
   "execution_count": 9,
   "id": "0ad895a3-c9c9-44fc-9f47-ed4c0eaf1dd2",
   "metadata": {},
   "outputs": [
    {
     "name": "stdout",
     "output_type": "stream",
     "text": [
      "Set 1: {1, 2, 3, 4, 5}\n",
      "Set 2: {4, 5, 6, 7, 8}\n",
      "Is set1 a subset of set2? False\n",
      "Is set2 a subset of set1? False\n",
      "Intersection: {4, 5}\n",
      "Union: {1, 2, 3, 4, 5, 6, 7, 8}\n",
      "Elements in set1 but not in set2: {1, 2, 3}\n",
      "Elements in set2 but not in set1: {8, 6, 7}\n"
     ]
    }
   ],
   "source": [
    "set1 = {1, 2, 3, 4, 5}\n",
    "set2 = {4, 5, 6, 7, 8}\n",
    "\n",
    "is_subset = set1.issubset(set2)\n",
    "\n",
    "is_superset = set1.issuperset(set2)\n",
    "\n",
    "intersection = set1.intersection(set2)\n",
    "\n",
    "union = set1.union(set2)\n",
    "\n",
    "difference1 = set1.difference(set2)\n",
    "\n",
    "difference2 = set2.difference(set1)\n",
    "\n",
    "print(\"Set 1:\", set1)\n",
    "print(\"Set 2:\", set2)\n",
    "print(\"Is set1 a subset of set2?\", is_subset)\n",
    "print(\"Is set2 a subset of set1?\", is_superset)\n",
    "print(\"Intersection:\", intersection)\n",
    "print(\"Union:\", union)\n",
    "print(\"Elements in set1 but not in set2:\", difference1)\n",
    "print(\"Elements in set2 but not in set1:\", difference2)"
   ]
  },
  {
   "cell_type": "markdown",
   "id": "1184dbe0-51df-4617-8649-df8042acf332",
   "metadata": {},
   "source": [
    "33. Create a set from a string.\n"
   ]
  },
  {
   "cell_type": "code",
   "execution_count": 7,
   "id": "5e0756b2-c0e1-4615-b7a8-984cee7a940a",
   "metadata": {},
   "outputs": [
    {
     "name": "stdin",
     "output_type": "stream",
     "text": [
      "Enter the string hi how are you\n"
     ]
    },
    {
     "data": {
      "text/plain": [
       "{' ', 'a', 'e', 'h', 'i', 'o', 'r', 'u', 'w', 'y'}"
      ]
     },
     "execution_count": 7,
     "metadata": {},
     "output_type": "execute_result"
    }
   ],
   "source": [
    "string = input(\"Enter the string\")\n",
    "a = set(string)\n",
    "a"
   ]
  },
  {
   "cell_type": "markdown",
   "id": "f8aaa212-9bda-41ed-a526-45af41c9303d",
   "metadata": {},
   "source": [
    "34. Convert a set of strings to a set of integers.\n"
   ]
  },
  {
   "cell_type": "code",
   "execution_count": 9,
   "id": "0512050d-d049-4bea-8fd2-a05e5d3c1148",
   "metadata": {},
   "outputs": [
    {
     "data": {
      "text/plain": [
       "{1, 2, 3, 4, 5, 6, 7, 8, 9}"
      ]
     },
     "execution_count": 9,
     "metadata": {},
     "output_type": "execute_result"
    }
   ],
   "source": [
    "a = {'1', '2', '3', '4', '5', '6', '7', '8', '9'}\n",
    "b = set()\n",
    "for i in a:\n",
    "    b.add(int(i))\n",
    "b\n"
   ]
  },
  {
   "cell_type": "markdown",
   "id": "02ba40e5-a306-4d1c-8d40-5e902553c7fb",
   "metadata": {},
   "source": [
    "35. Convert a set of integers to a set of strings.\n"
   ]
  },
  {
   "cell_type": "code",
   "execution_count": 10,
   "id": "05eed251-129b-4b4e-9da2-4c569b167c0b",
   "metadata": {},
   "outputs": [
    {
     "data": {
      "text/plain": [
       "{'1', '2', '3', '4', '5', '6', '7', '8', '9'}"
      ]
     },
     "execution_count": 10,
     "metadata": {},
     "output_type": "execute_result"
    }
   ],
   "source": [
    "a = {1, 2, 3, 4, 5, 6, 7, 8, 9}\n",
    "b = set()\n",
    "for i in a:\n",
    "    b.add(str(i))\n",
    "b\n"
   ]
  },
  {
   "cell_type": "markdown",
   "id": "bb5e0b64-79ec-4fc3-9a20-23be5aee3e5a",
   "metadata": {},
   "source": [
    "36. Create a set from a tuple.\n"
   ]
  },
  {
   "cell_type": "code",
   "execution_count": 11,
   "id": "7c509cf2-6c3f-44aa-a072-0c27082f6348",
   "metadata": {},
   "outputs": [
    {
     "data": {
      "text/plain": [
       "{1, 2, 3, 4, 5, 6, 7, 8, 9}"
      ]
     },
     "execution_count": 11,
     "metadata": {},
     "output_type": "execute_result"
    }
   ],
   "source": [
    "a = (1, 2, 3, 4, 5, 6, 7, 8, 9)\n",
    "b = set(a)\n",
    "b\n"
   ]
  },
  {
   "cell_type": "markdown",
   "id": "5c53cb72-ac73-4e95-985a-f4acbdbdd44b",
   "metadata": {},
   "source": [
    "37. Convert a set to a tuple.\n"
   ]
  },
  {
   "cell_type": "code",
   "execution_count": 12,
   "id": "e49fa6da-d290-42e8-97c6-a596bc13879c",
   "metadata": {},
   "outputs": [
    {
     "data": {
      "text/plain": [
       "(1, 2, 3, 4, 5, 6, 7, 8, 9)"
      ]
     },
     "execution_count": 12,
     "metadata": {},
     "output_type": "execute_result"
    }
   ],
   "source": [
    "a = {1, 2, 3, 4, 5, 6, 7, 8, 9}\n",
    "b = tuple(a)\n",
    "b\n"
   ]
  },
  {
   "cell_type": "markdown",
   "id": "17352d82-0737-4526-a014-8f84a8b6e505",
   "metadata": {},
   "source": [
    "38. Find the maximum value in a set.\n",
    "\n"
   ]
  },
  {
   "cell_type": "code",
   "execution_count": 13,
   "id": "925fb8e8-7fcb-4c56-bb7b-49d57ac2f621",
   "metadata": {},
   "outputs": [
    {
     "data": {
      "text/plain": [
       "9"
      ]
     },
     "execution_count": 13,
     "metadata": {},
     "output_type": "execute_result"
    }
   ],
   "source": [
    "a = {1, 2, 3, 4, 5, 6, 7, 8, 9}\n",
    "b = max(a)\n",
    "b"
   ]
  },
  {
   "cell_type": "markdown",
   "id": "ec586a6f-cfcb-43f6-a9ec-d99e5ebd1f71",
   "metadata": {},
   "source": [
    "39. Find the minimum value in a set.\n",
    "\n"
   ]
  },
  {
   "cell_type": "code",
   "execution_count": 14,
   "id": "162a9b57-53f8-4b24-b246-2b215080aa00",
   "metadata": {},
   "outputs": [
    {
     "data": {
      "text/plain": [
       "1"
      ]
     },
     "execution_count": 14,
     "metadata": {},
     "output_type": "execute_result"
    }
   ],
   "source": [
    "a = {1, 2, 3, 4, 5, 6, 7, 8, 9}\n",
    "b = min(a)\n",
    "b"
   ]
  },
  {
   "cell_type": "markdown",
   "id": "5e23933f-4fe9-461d-a3c9-1e134fb16de6",
   "metadata": {},
   "source": [
    "40. Create a set from user input."
   ]
  },
  {
   "cell_type": "code",
   "execution_count": 3,
   "id": "f6643743-e2d6-4faa-bcea-e19f3c6423f6",
   "metadata": {},
   "outputs": [
    {
     "name": "stdout",
     "output_type": "stream",
     "text": [
      "Enter elements for the set :\n"
     ]
    },
    {
     "name": "stdin",
     "output_type": "stream",
     "text": [
      ">  1\n",
      ">  2\n",
      ">  3\n",
      ">  4\n",
      ">  done\n"
     ]
    },
    {
     "name": "stdout",
     "output_type": "stream",
     "text": [
      "Final set: {'1', '3', '4', '2'}\n"
     ]
    }
   ],
   "source": [
    "a = set()\n",
    "\n",
    "print(\"Enter elements for the set :\")\n",
    "while True:\n",
    "    in_user = input(\"> \")  \n",
    "\n",
    "    if in_user.lower() == 'done':\n",
    "        break  \n",
    "\n",
    "   \n",
    "    a.add(in_user)\n",
    "\n",
    "print(\"Final set:\", a)"
   ]
  },
  {
   "cell_type": "markdown",
   "id": "57140d00-e3ab-4d4b-bc8e-f81cfed2d582",
   "metadata": {},
   "source": [
    "41. Check if the intersection of two sets is empty.\n"
   ]
  },
  {
   "cell_type": "code",
   "execution_count": 20,
   "id": "522dd583-b0cd-449c-9816-c96edfae12cc",
   "metadata": {},
   "outputs": [
    {
     "name": "stdout",
     "output_type": "stream",
     "text": [
      "Not Empty\n"
     ]
    }
   ],
   "source": [
    "set1 = {1, 2, 3, 4, 5}\n",
    "set2 = {4, 5, 6, 7, 8}\n",
    "if (len(set1.intersection(set2))==0):\n",
    "    print(\"Empty\")\n",
    "else:\n",
    "    print(\"Not Empty\")"
   ]
  },
  {
   "cell_type": "markdown",
   "id": "ea3586fe-a730-43ba-99c0-8e53f8e62384",
   "metadata": {},
   "source": [
    "42. Create a set of the first 5 Fibonacci numbers."
   ]
  },
  {
   "cell_type": "code",
   "execution_count": 5,
   "id": "9eb4f2aa-0fc0-4a87-a7f7-7743543cf3f3",
   "metadata": {},
   "outputs": [
    {
     "name": "stdout",
     "output_type": "stream",
     "text": [
      "Set of the first 5 Fibonacci numbers: {0, 1, 2, 3, 5}\n"
     ]
    }
   ],
   "source": [
    "fibonacci_set = set()\n",
    "\n",
    "a, b = 0, 1\n",
    "\n",
    "for i in range(6):\n",
    "    fibonacci_set.add(a)\n",
    "\n",
    "    a, b = b, a + b\n",
    "\n",
    "\n",
    "print(\"Set of the first 5 Fibonacci numbers:\", fibonacci_set)"
   ]
  },
  {
   "cell_type": "markdown",
   "id": "c9a64b64-595b-4c4a-8fd9-5706e420bcf9",
   "metadata": {},
   "source": [
    "43. Remove duplicates from a list using sets.\n"
   ]
  },
  {
   "cell_type": "code",
   "execution_count": 21,
   "id": "77fd1fdc-fc2f-410e-b033-a6c0c60844da",
   "metadata": {},
   "outputs": [
    {
     "data": {
      "text/plain": [
       "{1, 2, 3, 4, 5, 6, 7}"
      ]
     },
     "execution_count": 21,
     "metadata": {},
     "output_type": "execute_result"
    }
   ],
   "source": [
    "lists = [1,2,3,3,4,4,5,6,7,7]\n",
    "a = set(lists)\n",
    "a"
   ]
  },
  {
   "cell_type": "markdown",
   "id": "e445f41e-a3c5-4267-8f6b-7106e14889b5",
   "metadata": {},
   "source": [
    "44. Check if two sets have the same elements, regardless of their count.\n"
   ]
  },
  {
   "cell_type": "code",
   "execution_count": 23,
   "id": "10b1f078-097f-45e1-8135-2822488f84e7",
   "metadata": {},
   "outputs": [
    {
     "name": "stdout",
     "output_type": "stream",
     "text": [
      "Equal sets\n"
     ]
    }
   ],
   "source": [
    "#To check equal sets they should have same elements and order is same\n",
    "set1 = {1, 2, 3, 4, 5}\n",
    "set2 = {4, 5, 3, 1, 2}\n",
    "set1 = sorted(set1)\n",
    "set2 = sorted(set2)\n",
    "if set1 == set2:\n",
    "    print(\"Equal sets\")\n",
    "else:\n",
    "    print(\"Unequal sets\")"
   ]
  },
  {
   "cell_type": "markdown",
   "id": "115ee1b5-6cf2-4b59-943e-547ec25bb3fa",
   "metadata": {},
   "source": [
    "45. Create a set of the first `n` powers of 2.\n"
   ]
  },
  {
   "cell_type": "code",
   "execution_count": 25,
   "id": "21e2d5c7-1917-4e54-b4b9-0a9937e7acd7",
   "metadata": {},
   "outputs": [
    {
     "data": {
      "text/plain": [
       "{0, 1, 4, 9, 16, 25, 36, 49, 64, 81, 100}"
      ]
     },
     "execution_count": 25,
     "metadata": {},
     "output_type": "execute_result"
    }
   ],
   "source": [
    "a = set()\n",
    "n = 10\n",
    "for i in range(n+1):\n",
    "    a.add(i**2)\n",
    "a"
   ]
  },
  {
   "cell_type": "markdown",
   "id": "3843428b-e81e-4b56-a29d-5dab33acc080",
   "metadata": {},
   "source": [
    "46. Find the common elements between a set and a list.\n",
    "\n"
   ]
  },
  {
   "cell_type": "code",
   "execution_count": 27,
   "id": "e7bc2955-2acd-4720-bfae-1dca377084c1",
   "metadata": {},
   "outputs": [
    {
     "data": {
      "text/plain": [
       "[2, 4, 5]"
      ]
     },
     "execution_count": 27,
     "metadata": {},
     "output_type": "execute_result"
    }
   ],
   "source": [
    "set1 = {1, 2, 3, 4, 5}\n",
    "list1 = [4, 5, 6,8,2]\n",
    "set2 = set(list1)\n",
    "list(set1.intersection(set2))"
   ]
  },
  {
   "cell_type": "markdown",
   "id": "db038dc2-dfd9-4fc6-982c-da1a2c671e7a",
   "metadata": {},
   "source": [
    "47. Create a set of the first `n` triangular numbers."
   ]
  },
  {
   "cell_type": "code",
   "execution_count": 30,
   "id": "4e308f64-a84e-4f40-a719-e2c4367b0c03",
   "metadata": {},
   "outputs": [
    {
     "data": {
      "text/plain": [
       "{1, 3, 6, 10, 15, 21, 28, 36, 45, 55}"
      ]
     },
     "execution_count": 30,
     "metadata": {},
     "output_type": "execute_result"
    }
   ],
   "source": [
    "a = set()\n",
    "n = 10\n",
    "for i in range(1,n+1):\n",
    "    a.add(int(i*(i+1)//2))\n",
    "a"
   ]
  },
  {
   "cell_type": "markdown",
   "id": "d82a2e89-3191-43f6-b612-9aade00546e6",
   "metadata": {},
   "source": [
    "48. Check if a set contains another set as a subset.\n",
    "\n"
   ]
  },
  {
   "cell_type": "code",
   "execution_count": 31,
   "id": "0ca6ad20-d461-46c7-8e3e-c6750d9e4fa3",
   "metadata": {},
   "outputs": [
    {
     "name": "stdout",
     "output_type": "stream",
     "text": [
      "set2 is a subset of set1\n"
     ]
    }
   ],
   "source": [
    "\n",
    "set1 = {1, 2, 3, 4, 5}\n",
    "set2 = {3, 4}\n",
    "\n",
    "\n",
    "is_subset = set2.issubset(set1)\n",
    "\n",
    "if is_subset:\n",
    "    print(\"set2 is a subset of set1\")\n",
    "else:\n",
    "    print(\"set2 is not a subset of set1\")"
   ]
  },
  {
   "cell_type": "markdown",
   "id": "b2602048-4698-4d79-b7cb-561f01f1be50",
   "metadata": {},
   "source": [
    "49. Create a set of alternating 1s and 0s of length `n`.\n"
   ]
  },
  {
   "cell_type": "code",
   "execution_count": 34,
   "id": "acb37d3c-16d0-49cc-b1e6-07e3df727480",
   "metadata": {},
   "outputs": [
    {
     "data": {
      "text/plain": [
       "{0, 1}"
      ]
     },
     "execution_count": 34,
     "metadata": {},
     "output_type": "execute_result"
    }
   ],
   "source": [
    "a = set()\n",
    "n = 10\n",
    "for i in range(n+1):\n",
    "    a.add(i%2)\n",
    "a"
   ]
  },
  {
   "cell_type": "markdown",
   "id": "a44d3fb7-7370-42e3-b7fd-1259270c1a2f",
   "metadata": {},
   "source": [
    "50. Merge multiple sets into one."
   ]
  },
  {
   "cell_type": "code",
   "execution_count": 35,
   "id": "20f2ad77-c950-4d8c-9697-a3e8cccbc838",
   "metadata": {},
   "outputs": [
    {
     "name": "stdout",
     "output_type": "stream",
     "text": [
      "Merged Set: {1, 2, 3, 4, 5, 6, 7}\n"
     ]
    }
   ],
   "source": [
    "set1 = {1, 2, 3}\n",
    "set2 = {3, 4, 5}\n",
    "set3 = {5, 6, 7}\n",
    "\n",
    "merged_set = set1.union(set2, set3)\n",
    "\n",
    "\n",
    "print(\"Merged Set:\", merged_set)"
   ]
  },
  {
   "cell_type": "markdown",
   "id": "9b12bd0f-d562-455b-9a83-4a0b54f53daf",
   "metadata": {},
   "source": []
  },
  {
   "cell_type": "code",
   "execution_count": null,
   "id": "07210485-93b9-46f9-bf2d-a1299c28336c",
   "metadata": {},
   "outputs": [],
   "source": []
  },
  {
   "cell_type": "markdown",
   "id": "d6a7901a-1612-40f2-8d35-62c9c94c699f",
   "metadata": {},
   "source": []
  },
  {
   "cell_type": "code",
   "execution_count": null,
   "id": "4e586848-0281-4c53-9869-721052a66ef9",
   "metadata": {},
   "outputs": [],
   "source": []
  },
  {
   "cell_type": "markdown",
   "id": "e65662b4-aede-4af6-8c67-173f6acb14c1",
   "metadata": {},
   "source": []
  },
  {
   "cell_type": "code",
   "execution_count": null,
   "id": "cf3ad695-1a9f-4cc8-a93e-c3835f0e3dae",
   "metadata": {},
   "outputs": [],
   "source": []
  },
  {
   "cell_type": "code",
   "execution_count": null,
   "id": "389e97aa-e38b-45fc-925a-31f2d741eefd",
   "metadata": {},
   "outputs": [],
   "source": []
  },
  {
   "cell_type": "code",
   "execution_count": null,
   "id": "76b9d8fa-d3c8-4c4c-bc80-1adf5bde51ef",
   "metadata": {},
   "outputs": [],
   "source": []
  },
  {
   "cell_type": "code",
   "execution_count": null,
   "id": "10c72b7e-4bcd-4e8b-a3aa-543dc861ef63",
   "metadata": {},
   "outputs": [],
   "source": []
  },
  {
   "cell_type": "code",
   "execution_count": null,
   "id": "ed9a2e09-7bc6-4929-9ae9-674d1736495d",
   "metadata": {},
   "outputs": [],
   "source": []
  }
 ],
 "metadata": {
  "kernelspec": {
   "display_name": "Python 3 (ipykernel)",
   "language": "python",
   "name": "python3"
  },
  "language_info": {
   "codemirror_mode": {
    "name": "ipython",
    "version": 3
   },
   "file_extension": ".py",
   "mimetype": "text/x-python",
   "name": "python",
   "nbconvert_exporter": "python",
   "pygments_lexer": "ipython3",
   "version": "3.10.8"
  }
 },
 "nbformat": 4,
 "nbformat_minor": 5
}
